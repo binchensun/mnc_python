{
 "cells": [
  {
   "cell_type": "code",
   "execution_count": 51,
   "metadata": {},
   "outputs": [
    {
     "name": "stderr",
     "output_type": "stream",
     "text": [
      "INFO:{\"mjd\": 59927.73149137398, \"proj\": \"dsa\", \"subsystem\": \"System\", \"app\": \"_\", \"version\": \"_\", \"module\": \"dsaStore\", \"function\": \"_check_host\", \"level\": \"info\", \"time\": \"2022-12-14T17:33:20.854704Z\", \"msg\": \"TODO: implement\"}\n",
      "INFO:{\"mjd\": 59927.731491559476, \"proj\": \"dsa\", \"subsystem\": \"System\", \"app\": \"_\", \"version\": \"_\", \"module\": \"dsaStore\", \"function\": \"_check_port\", \"level\": \"info\", \"time\": \"2022-12-14T17:33:20.870731Z\", \"msg\": \"TODO: implement\"}\n",
      "INFO:{\"mjd\": 59927.731491659826, \"proj\": \"dsa\", \"subsystem\": \"System\", \"app\": \"_\", \"version\": \"_\", \"module\": \"dsaStore\", \"function\": \"c-tor\", \"level\": \"info\", \"time\": \"2022-12-14T17:33:20.879404Z\", \"msg\": \"DsaStore created\"}\n"
     ]
    }
   ],
   "source": [
    "from astropy import time\n",
    "import numpy as np\n",
    "from IPython import display\n",
    "import pandas as pd\n",
    "import panel as pn\n",
    "pn.extension(\"tabulator\")\n",
    "import hvplot.pandas\n",
    "import holoviews as hv\n",
    "\n",
    "from lwautils import lwa_arx\n",
    "from lwautils import TimeoutException\n",
    "from lwa_antpos import reading, mapping\n",
    "from mnc import mcs, common, control\n",
    "import dsautils.cnf as cnf\n",
    "from dsautils import dsa_store\n",
    "from lwa_f import snap2_fengine, snap2_feng_etcd_client\n",
    "from lwa352_pipeline_control import Lwa352PipelineControl, Lwa352CorrelatorControl\n",
    "\n",
    "\n",
    "ls = dsa_store.DsaStore()"
   ]
  },
  {
   "cell_type": "markdown",
   "metadata": {},
   "source": [
    "## Set up"
   ]
  },
  {
   "cell_type": "code",
   "execution_count": 52,
   "metadata": {},
   "outputs": [
    {
     "name": "stdout",
     "output_type": "stream",
     "text": [
      "Loaded configuration for 8 x-engine host(s) running 4 pipeline(s) each\n",
      "Supported modes are: slow,beam1,beam2,beam3,beam4\n",
      "etcd server being used is: etcdv3service\n"
     ]
    }
   ],
   "source": [
    "con = control.Controller(\"/home/pipeline/proj/lwa-shell/mnc_python/config/lwa_config_calim.yaml\")"
   ]
  },
  {
   "cell_type": "code",
   "execution_count": 53,
   "metadata": {},
   "outputs": [],
   "source": [
    "dd_statuses = []"
   ]
  },
  {
   "cell_type": "markdown",
   "metadata": {},
   "source": [
    "## cnf"
   ]
  },
  {
   "cell_type": "code",
   "execution_count": 54,
   "metadata": {
    "scrolled": false
   },
   "outputs": [],
   "source": [
    "df_cnf_read = reading.read_antpos_etcd()\n",
    "df_cnf = df_cnf_read[['snap2_hostname', 'snap2_chassis', 'snap2_location', 'fmc', 'pola_digitizer_channel',\n",
    "                      'polb_digitizer_channel', 'arx_address', 'pola_arx_channel', 'polb_arx_channel',\n",
    "                      'pola_fee', 'polb_fee']]\n",
    "df_cnf_pane = pn.widgets.Tabulator(df_cnf, layout='fit_data_table', pagination='remote', page_size=20)"
   ]
  },
  {
   "cell_type": "markdown",
   "metadata": {},
   "source": [
    "## Build table functions"
   ]
  },
  {
   "cell_type": "code",
   "execution_count": 55,
   "metadata": {
    "scrolled": false
   },
   "outputs": [],
   "source": [
    "# arx table build function\n",
    "def build_a():\n",
    "    ma = lwa_arx.ARX()\n",
    "    arxcfg = []\n",
    "\n",
    "    adrs = con.conf['arx']['adrs']\n",
    "    for adr in adrs:\n",
    "        try:\n",
    "            dds = ma.get_all_chan_cfg(adr)\n",
    "        except:\n",
    "            continue\n",
    "        for ch, dd in enumerate(dds):\n",
    "            dd['adr-ch'] = f'{adr}-{ch}'\n",
    "            arxcfg.append(dd)\n",
    "        dd_astatus = {'name': f'arx{adr}', 'mp_age': 0, 'ready': dd['sig_on']}\n",
    "        dd_statuses.append(dd_astatus)\n",
    "\n",
    "    df_arx = pd.DataFrame.from_dict(arxcfg)\n",
    "    if any(df_arx):\n",
    "        df_arx.set_index('adr-ch', inplace=True)\n",
    "\n",
    "    df_a_pane = pn.widgets.Tabulator(df_arx, layout='fit_data_table', pagination='remote',\n",
    "                                     width=900, page_size=20)\n",
    "    return df_a_pane\n",
    "\n",
    "\n",
    "# f-engine table build function\n",
    "def build_f():\n",
    "    dd_fs = []\n",
    "    t_now = time.Time.now().unix\n",
    "    stats = con.status_fengine()\n",
    "\n",
    "    snap2names = con.conf['fengines']['snap2s_inuse']\n",
    "    for snap2name in snap2names:\n",
    "        snap2num = int(snap2name.lstrip('snap'))\n",
    "\n",
    "        t_now = time.Time.now().unix\n",
    "        if stats[snap2name] is None:\n",
    "            continue\n",
    "        else:\n",
    "            dd_fstatus = {'name': snap2name, 'age (s)': t_now-time.Time(stats[snap2name]['fpga']['timestamp']).unix,\n",
    "                          'ready': stats[snap2name]['fpga']['programmed']}\n",
    "\n",
    "        dd_statuses.append(dd_fstatus)\n",
    "\n",
    "        plot_fstats = None\n",
    "\n",
    "        dd_f = {'name': snap2name}\n",
    "        st = stats[snap2name]['fpga']\n",
    "        dd_f['age (s)'] = int(t_now-time.Time(st['timestamp']).unix)\n",
    "#    dd_f['is_connected'] = lwa_feng.is_connected()  # can SNAP be reached with ping on network?\n",
    "#    dd_f['is_polling'] = lwa_fe.is_polling()   # is monitor service checking on SNAP?\n",
    "        dd_f['programmed'] = st['programmed']\n",
    "        dd_f['firmware'] = st['flash_firmware']\n",
    "        \n",
    "\n",
    "        st = stats[snap2name]['sync']\n",
    "        dd_f['uptime_fpga_clks'] = st['uptime_fpga_clks']\n",
    "\n",
    "        st = stats[snap2name]['autocorr']\n",
    "        dd_f['autocorr_acc_len'] = st['acc_len']\n",
    "\n",
    "        st = stats[snap2name]['corr']\n",
    "        dd_f['corr_acc_len'] = st['acc_len']\n",
    "\n",
    "        st = stats[snap2name]['eqtvg']\n",
    "        dd_f['tvg_enabled'] = st['tvg_enabled']\n",
    "\n",
    "        st = stats[snap2name]['eq']\n",
    "        dd_f['clip_count'] = st['clip_count']\n",
    "\n",
    "        dd_fs.append(dd_f)\n",
    "\n",
    "    df_f = pd.DataFrame.from_dict(dd_fs)\n",
    "    if any(df_f):\n",
    "        df_f.set_index('name', inplace=True)\n",
    "        \n",
    "    df_f_pane = pn.widgets.Tabulator(df_f, layout='fit_data_table', pagination='remote',\n",
    "                                     width=900, page_size=20)\n",
    "\n",
    "    return df_f_pane\n",
    "\n",
    "\n",
    "# TODO: f-engine stats plot build function\n",
    "def build_fstats(snap2name):\n",
    "    st = stats[snap2name]['input']\n",
    "    pows = np.array([v for (k,v) in st.items() if 'pow' in k])\n",
    "    means = np.array([v for (k,v) in st.items() if 'mean' in k])\n",
    "    rms = np.array([v for (k,v) in st.items() if 'rms' in k])\n",
    "#    snap_input = [f'{snap2name}-{k.strip(\"rms\")}' for (k,v) in st.items() if 'rms' in k]\n",
    "    df_fstats = pd.DataFrame(data={'pows': pows, 'mean': means, 'snap': len(pows)*[f'{snap2name}']})\n",
    "    plot_fstats = df_fstats.hvplot.scatter('pows', 'mean', by='snap', width=500, title='F-engine stats')\n",
    "\n",
    "    return plot_fstats\n",
    "\n",
    "\n",
    "# x-engine table build function\n",
    "def build_x():\n",
    "    npipeline = con.conf['xengines']['nxpipeline']\n",
    "    dd_xs = []\n",
    "    t_now = time.Time.now().unix\n",
    "\n",
    "    xhosts = con.conf['xengines']['xhosts']\n",
    "    for host in xhosts:\n",
    "        for pipeline in range(npipeline):\n",
    "            lwa_x = Lwa352PipelineControl(pipeline_id=pipeline, etcdhost=common.ETCD_HOST, host=host)\n",
    "            st = lwa_x.corr.get_bifrost_status()\n",
    "            stats = st['stats']\n",
    "            t_now = time.Time.now().unix\n",
    "            name = f'{host}-{pipeline}'\n",
    "            dd_x = {'name': name}\n",
    "            dd_x['mp_age'] = t_now-st['time']\n",
    "            dd_x['state'] = stats['state']\n",
    "            if lwa_x.pipeline_is_up():\n",
    "#                dd_xstatus = {'name': name}\n",
    "#                dd_xstatus['age (s)'] = int(t_now-st['time'])\n",
    "                dd_x['gbps'] = st['gbps']\n",
    "\n",
    "                if len(stats) > 1:\n",
    "#                    dd_xstatus['ready'] = stats['state'] == 'running'\n",
    "                    if stats['state'] == 'running':\n",
    "                        dd_x['curr_sample'] = stats['curr_sample']\n",
    "#                dd_statuses.append(dd_xstatus)\n",
    "            else:\n",
    "                print(f'Pipeline for {host}:{pipeline} is not up')\n",
    "\n",
    "            dd_xs.append(dd_x)\n",
    "\n",
    "    df_x = pd.DataFrame.from_dict(dd_xs)\n",
    "    if any(df_x):\n",
    "        df_x.set_index('name', inplace=True)\n",
    "\n",
    "    df_x_pane = pn.widgets.Tabulator(df_x, layout='fit_data_table', pagination='remote',\n",
    "                                     width=900, page_size=20)\n",
    "\n",
    "    return df_x_pane\n",
    "\n",
    "\n",
    "# Data recorder table build function\n",
    "def build_dr():\n",
    "    dd_ds = []\n",
    "    t_now = time.Time.now().unix\n",
    "    data_baselines = None\n",
    "    data_spectra = None\n",
    "    \n",
    "    recorders = con.conf['dr']['recorders'].copy()\n",
    "    if 'drvs' in recorders:\n",
    "        recorders.remove('drvs')\n",
    "        for num in con.drvnums[::2]:  # one per pair\n",
    "            recorders.append('drvs'+str(num))\n",
    "\n",
    "    if 'drvf' in recorders:\n",
    "        recorders.remove('drvf')\n",
    "        for num in con.drvnums[::2]:  # one per pair\n",
    "            recorders.append('drvf'+str(num))\n",
    "\n",
    "    for drid in recorders:\n",
    "        lwa_dr = mcs.Client(drid)\n",
    "        summary = lwa_dr.read_monitor_point('summary')\n",
    "        if summary is None:\n",
    "            continue\n",
    "        t_mp = summary.timestamp\n",
    "        dd_dstatus = {'name': drid, 'age (s)': t_now-t_mp,\n",
    "                      'ready': summary.value == 'normal'}\n",
    "        dd_statuses.append(dd_dstatus)\n",
    "\n",
    "        rx_rate = None\n",
    "        rx_missing = None\n",
    "        pipeline_lag = None\n",
    "        if 'bifrost/rx_rate' in lwa_dr.list_monitor_points():\n",
    "            rx_rate = lwa_dr.read_monitor_point('bifrost/rx_rate').value\n",
    "            rx_missing = lwa_dr.read_monitor_point('bifrost/rx_missing').value\n",
    "            pipeline_lag = lwa_dr.read_monitor_point('bifrost/pipeline_lag').value\n",
    "            load_average1 = lwa_dr.read_monitor_point('system/load_average/one_minute').value\n",
    "            tbfree = lwa_dr.read_monitor_point('storage/active_disk_free').value/1e12\n",
    "            activedir = lwa_dr.read_monitor_point('storage/active_directory').value\n",
    "\n",
    "        infostring = lwa_dr.read_monitor_point('info').value + ', ' + lwa_dr.read_monitor_point('op-type').value\n",
    "\n",
    "        dd_d = {'name': f'{drid}', 'age (s)': int(t_now-t_mp), 'rx_rate': int(rx_rate), #'rx_miss': rx_missing,\n",
    "                'pipeline_lag': pipeline_lag, 'load_1m': load_average1,\n",
    "                'Disk free (TB)': tbfree, 'Active dir': activedir,\n",
    "                'info': infostring}\n",
    "        dd_ds.append(dd_d)\n",
    "    else:\n",
    "        lwa_dr = None\n",
    "        \n",
    "    df_d = pd.DataFrame.from_dict(dd_ds)\n",
    "    if any(df_d):\n",
    "        df_d.set_index('name', inplace=True)\n",
    "\n",
    "    df_d_pane = pn.widgets.Tabulator(df_d, layout='fit_data_table', pagination='remote',\n",
    "                                     width=900, page_size=20)\n",
    "\n",
    "    return df_d_pane\n",
    "\n",
    "\n",
    "def build_plot(antnum):\n",
    "    if isinstance(antnum, int) and antnum > 0:\n",
    "        plot_pane = pn.pane.JPG(f'/home/ubuntu/data/plots/{antnum:03}.jpg', width=900)\n",
    "    else:\n",
    "        plot_pane = None\n",
    "\n",
    "    return plot_pane\n",
    "\n",
    "\n",
    "def build_drvbl(drname):\n",
    "    if drname not in ['drvs'+str(num) for num in con.drvnums]:\n",
    "        pane_baselines = None\n",
    "    else:\n",
    "        cl = mcs.Client(drname)\n",
    "        data_baselines = cl.read_monitor_point('diagnostics/baselines').value\n",
    "        pane_baselines = pn.pane.PNG(display.Image(mcs.ImageMonitorPoint._decode_image_data(data_baselines)),\n",
    "                                     width=900)\n",
    "    return pane_baselines"
   ]
  },
  {
   "cell_type": "code",
   "execution_count": 56,
   "metadata": {},
   "outputs": [],
   "source": [
    "#df_arx_pane\n",
    "#df_f_pane\n",
    "#df_x_pane\n",
    "#df_d_pane\n",
    "# pane_baselines"
   ]
  },
  {
   "cell_type": "code",
   "execution_count": 57,
   "metadata": {},
   "outputs": [],
   "source": [
    "#df_status = pd.DataFrame.from_dict(dd_statuses)\n",
    "#df_status.set_index('name', inplace=True)"
   ]
  },
  {
   "cell_type": "markdown",
   "metadata": {},
   "source": [
    "## Build dashboard"
   ]
  },
  {
   "cell_type": "code",
   "execution_count": 58,
   "metadata": {},
   "outputs": [],
   "source": [
    "ant_filter = pn.widgets.IntInput(name='Select ant for f-eng summary plot',\n",
    "                                 placeholder='1,2,3,4,5,6,7,8,9,10,...,352')\n",
    "dr_filter = pn.widgets.TextInput(name='Select dr for baseline plot',\n",
    "                                 placeholder=','.join(['drvs'+str(num) for num in con.drvnums]))\n",
    "\n",
    "# TODO: make menu work\n",
    "#dr_filter = pn.widgets.MenuButton(items=['drvs'+str(num) for num in con.drvnums])\n",
    "\n",
    "pa = pn.param.ParamFunction(build_a, lazy=True)\n",
    "pf = pn.param.ParamFunction(build_f, lazy=True)\n",
    "px = pn.param.ParamFunction(build_x, lazy=True)\n",
    "pdr = pn.param.ParamFunction(build_dr, lazy=True)"
   ]
  },
  {
   "cell_type": "code",
   "execution_count": 59,
   "metadata": {},
   "outputs": [],
   "source": [
    "dashboard_title = pn.panel('## OVRO-LWA System Health Dashboard')\n",
    "tabs = pn.Tabs(#('Status', df_status_pane),\n",
    "               ('Cabling', df_cnf_pane),\n",
    "               ('ARX', pa),\n",
    "               ('F-engine', pf),\n",
    "               ('X-engine', px),\n",
    "               ('Data recorder', pdr), dynamic=True, active=4)\n",
    "\n",
    "header_f = pn.pane.Markdown('##Plots', width=500)\n",
    "plot_spec_pane = pn.Column(pn.Column(ant_filter), pn.panel(pn.bind(build_plot, ant_filter)), width=500)\n",
    "plot_dr_pane = pn.Column(pn.Column(dr_filter), pn.panel(pn.bind(build_drvbl, dr_filter)), width=500)\n",
    "mini_dashboard = pn.Column(dashboard_title, tabs, header_f, plot_spec_pane, plot_dr_pane, width=500)"
   ]
  },
  {
   "cell_type": "code",
   "execution_count": 61,
   "metadata": {
    "scrolled": false
   },
   "outputs": [
    {
     "data": {},
     "metadata": {},
     "output_type": "display_data"
    },
    {
     "data": {
      "application/vnd.holoviews_exec.v0+json": "",
      "text/html": [
       "<div id='2191'>\n",
       "\n",
       "\n",
       "\n",
       "\n",
       "\n",
       "  <div class=\"bk-root\" id=\"592cfced-e290-4152-bd67-9a5c6a0bd313\" data-root-id=\"2191\"></div>\n",
       "</div>\n",
       "<script type=\"application/javascript\">(function(root) {\n",
       "  function embed_document(root) {\n",
       "    var docs_json = {\"bac9c80a-0d46-46c3-862b-b2e193a65918\":{\"defs\":[{\"extends\":null,\"module\":null,\"name\":\"ReactiveHTML1\",\"overrides\":[],\"properties\":[]},{\"extends\":null,\"module\":null,\"name\":\"FlexBox1\",\"overrides\":[],\"properties\":[{\"default\":\"flex-start\",\"kind\":null,\"name\":\"align_content\"},{\"default\":\"flex-start\",\"kind\":null,\"name\":\"align_items\"},{\"default\":\"row\",\"kind\":null,\"name\":\"flex_direction\"},{\"default\":\"wrap\",\"kind\":null,\"name\":\"flex_wrap\"},{\"default\":\"flex-start\",\"kind\":null,\"name\":\"justify_content\"}]},{\"extends\":null,\"module\":null,\"name\":\"TemplateActions1\",\"overrides\":[],\"properties\":[{\"default\":0,\"kind\":null,\"name\":\"open_modal\"},{\"default\":0,\"kind\":null,\"name\":\"close_modal\"}]},{\"extends\":null,\"module\":null,\"name\":\"MaterialTemplateActions1\",\"overrides\":[],\"properties\":[{\"default\":0,\"kind\":null,\"name\":\"open_modal\"},{\"default\":0,\"kind\":null,\"name\":\"close_modal\"}]}],\"roots\":{\"references\":[{\"attributes\":{},\"id\":\"2211\",\"type\":\"NumberFormatter\"},{\"attributes\":{\"child\":{\"id\":\"2196\"},\"name\":\"ParamFunction01796\",\"title\":\"ARX\"},\"id\":\"2197\",\"type\":\"Panel\"},{\"attributes\":{\"margin\":[5,5,5,5],\"name\":\"Str01831\"},\"id\":\"2259\",\"type\":\"panel.models.markup.HTML\"},{\"attributes\":{\"margin\":[5,10,5,10],\"max_length\":5000,\"placeholder\":\"drvs7601,drvs7601,drvs7602,drvs7602,drvs7701,drvs7701,drvs7702,drvs7702,drvs7801,drvs7801,drvs7802,drvs7802,drvs7901,drvs7901,drvs7902,drvs7902,drvs8001,drvs8001,drvs8002,drvs8002,drvs8101,drvs8101,drvs8102,drvs8102,drvs8201,drvs8201,drvs8202,drvs8202,drvs8301,drvs8301,drvs8302,drvs8302\",\"title\":\"Select dr for baseline plot\"},\"id\":\"2257\",\"type\":\"TextInput\"},{\"attributes\":{},\"id\":\"2261\",\"type\":\"UnionRenderers\"},{\"attributes\":{\"child\":{\"id\":\"2198\"},\"name\":\"ParamFunction01801\",\"title\":\"F-engine\"},\"id\":\"2199\",\"type\":\"Panel\"},{\"attributes\":{\"margin\":[5,5,5,5],\"name\":\"ParamFunction01806\"},\"id\":\"2200\",\"type\":\"Spacer\"},{\"attributes\":{},\"id\":\"2237\",\"type\":\"StringEditor\"},{\"attributes\":{\"indices\":[]},\"id\":\"2204\",\"type\":\"Selection\"},{\"attributes\":{\"data\":{\"Active dir\":[\"/data01/beam01\",\"/data01/beam02\",\"/data02/beam03\",\"/data02/beam04\",\"/data01/slow\",\"/data01/slow\",\"/data02/slow\",\"/data02/slow\",\"/data03/slow\",\"/data03/slow\",\"/data04/slow\",\"/data04/slow\",\"/data05/slow\",\"/data05/slow\",\"/data06/slow\",\"/data06/slow\",\"/data07/slow\",\"/data07/slow\",\"/data08/slow\",\"/data08/slow\"],\"Disk free (TB)\":{\"__ndarray__\":\"YpJZ6lGPJkBfzjtIbo4mQOZW6PohfCdAp5YcZ4V7J0DbBUX8Do4mQNsFRfwOjiZAuhCXXqx6J0BYDmUWrnonQEVxYnxapydAXWtq87qnJ0D94JBswqcnQP3gkGzCpydAyAUpZel5J0Dnys3zSHknQCW6YIa5pydA67Pt1y6pJ0Dq/x3MGqgnQOMh7r26qCdAX8Q4CtenJ0D2rvurQqgnQA==\",\"dtype\":\"float64\",\"order\":\"little\",\"shape\":[20]},\"age (s)\":[53,29,37,18,22,22,58,61,12,16,51,53,45,51,42,18,42,59,21,23],\"info\":[\"System operating normally, idle\",\"System operating normally, idle\",\"System operating normally, idle\",\"System operating normally, idle\",\"System operating normally, recording\",\"System operating normally, recording\",\"System operating normally, recording\",\"System operating normally, recording\",\"System operating normally, recording\",\"System operating normally, recording\",\"System operating normally, recording\",\"System operating normally, recording\",\"System operating normally, recording\",\"System operating normally, recording\",\"System operating normally, recording\",\"System operating normally, recording\",\"System operating normally, recording\",\"System operating normally, recording\",\"System operating normally, recording\",\"System operating normally, recording\"],\"load_1m\":{\"__ndarray__\":\"AAAAAAAALkBmZmZmZmYvQB+F61G4HgVAKVyPwvUoBEAAAAAAAAAuQAAAAAAAAC5AKVyPwvUoBEApXI/C9SgEQGZmZmZm5ilAKVyPwvUoLEBSuB6F61ESQFK4HoXrURJAKVyPwvUo9D+PwvUoXI/yP2ZmZmZmZvY/PQrXo3A99j/2KFyPwvUdQEjhehSuRyBAmpmZmZmZ/T8UrkfhehQAQA==\",\"dtype\":\"float64\",\"order\":\"little\",\"shape\":[20]},\"name\":[\"dr1\",\"dr2\",\"dr3\",\"dr4\",\"drvs7601\",\"drvs7602\",\"drvs7701\",\"drvs7702\",\"drvs7801\",\"drvs7802\",\"drvs7901\",\"drvs7902\",\"drvs8001\",\"drvs8002\",\"drvs8101\",\"drvs8102\",\"drvs8201\",\"drvs8202\",\"drvs8301\",\"drvs8302\"],\"pipeline_lag\":{\"__ndarray__\":\"svM2NjsS+z/yRBDn4cQEQAq6vaQx+gVAorjjTX5LBEAn28AdqCtAQFDfMqfLOj9Ac6JdhZT/PkAXnMHfLwI/QKBOeXQjUD9AQN6rViYqQEAg09o0tis/QESJljyeHEBA/irAd5s1QEA1YJD0aT0/QKyQ8pNqjz9AeVxUi4g+P0BTQNr/ADFAQBL1gk9zij9A4+Ko3ERBP0DuXBjpRUE/QA==\",\"dtype\":\"float64\",\"order\":\"little\",\"shape\":[20]},\"rx_rate\":[53588701,48844429,48699217,48576025,37782296,37804832,37921894,37907776,32150050,36266775,37900444,37936691,37822074,37901083,37809245,37334890,37756350,37723873,38524680,37762450]},\"selected\":{\"id\":\"2204\"},\"selection_policy\":{\"id\":\"2261\"}},\"id\":\"2203\",\"type\":\"ColumnDataSource\"},{\"attributes\":{},\"id\":\"2232\",\"type\":\"NumberEditor\"},{\"attributes\":{\"columns\":[{\"id\":\"2208\"},{\"id\":\"2213\"},{\"id\":\"2218\"},{\"id\":\"2223\"},{\"id\":\"2228\"},{\"id\":\"2233\"},{\"id\":\"2238\"},{\"id\":\"2243\"}],\"configuration\":{\"columns\":[{\"field\":\"name\"},{\"field\":\"age (s)\"},{\"field\":\"rx_rate\"},{\"field\":\"pipeline_lag\"},{\"field\":\"load_1m\"},{\"field\":\"Disk free (TB)\"},{\"field\":\"Active dir\"},{\"field\":\"info\"}],\"dataTree\":false,\"selectable\":true},\"height\":630,\"indexes\":[\"name\"],\"layout\":\"fit_data_table\",\"margin\":[5,10,5,10],\"max_page\":1,\"name\":\"\",\"page\":1,\"page_size\":20,\"pagination\":\"remote\",\"selectable_rows\":null,\"source\":{\"id\":\"2203\"},\"width\":900},\"id\":\"2246\",\"type\":\"panel.models.tabulator.DataTabulator\"},{\"attributes\":{\"editor\":{\"id\":\"2232\"},\"field\":\"Disk free (TB)\",\"formatter\":{\"id\":\"2231\"},\"title\":\"Disk free (TB)\",\"width\":0},\"id\":\"2233\",\"type\":\"TableColumn\"},{\"attributes\":{\"child\":{\"id\":\"2200\"},\"name\":\"ParamFunction01806\",\"title\":\"X-engine\"},\"id\":\"2201\",\"type\":\"Panel\"},{\"attributes\":{},\"id\":\"2236\",\"type\":\"StringFormatter\"},{\"attributes\":{\"active\":4,\"margin\":[0,0,0,0],\"tabs\":[{\"id\":\"2195\"},{\"id\":\"2197\"},{\"id\":\"2199\"},{\"id\":\"2201\"},{\"id\":\"2248\"}]},\"id\":\"2193\",\"type\":\"Tabs\"},{\"attributes\":{\"children\":[{\"id\":\"2259\"}],\"margin\":[0,0,0,0],\"name\":\"Row01833\"},\"id\":\"2258\",\"type\":\"Row\"},{\"attributes\":{},\"id\":\"2217\",\"type\":\"IntEditor\"},{\"attributes\":{\"format\":\"0,0.0[00000]\"},\"id\":\"2221\",\"type\":\"NumberFormatter\"},{\"attributes\":{\"format\":\"0,0.0[00000]\"},\"id\":\"2231\",\"type\":\"NumberFormatter\"},{\"attributes\":{},\"id\":\"2241\",\"type\":\"StringFormatter\"},{\"attributes\":{\"css_classes\":[\"markdown\"],\"margin\":[5,5,5,5],\"name\":\"Markdown01819\",\"text\":\"&lt;h2&gt;Plots&lt;/h2&gt;\",\"width\":500},\"id\":\"2249\",\"type\":\"panel.models.markup.HTML\"},{\"attributes\":{\"editor\":{\"id\":\"2227\"},\"field\":\"load_1m\",\"formatter\":{\"id\":\"2226\"},\"title\":\"load_1m\",\"width\":0},\"id\":\"2228\",\"type\":\"TableColumn\"},{\"attributes\":{\"editor\":{\"id\":\"2217\"},\"field\":\"rx_rate\",\"formatter\":{\"id\":\"2216\"},\"title\":\"rx_rate\",\"width\":0},\"id\":\"2218\",\"type\":\"TableColumn\"},{\"attributes\":{\"children\":[{\"id\":\"2192\"},{\"id\":\"2193\"},{\"id\":\"2249\"},{\"id\":\"2250\"},{\"id\":\"2255\"}],\"margin\":[0,0,0,0],\"min_width\":500,\"name\":\"Column01835\",\"width\":500},\"id\":\"2191\",\"type\":\"Column\"},{\"attributes\":{},\"id\":\"2222\",\"type\":\"NumberEditor\"},{\"attributes\":{\"child\":{\"id\":\"2194\"},\"name\":\"\",\"title\":\"Cabling\"},\"id\":\"2195\",\"type\":\"Panel\"},{\"attributes\":{},\"id\":\"2207\",\"type\":\"CellEditor\"},{\"attributes\":{\"editor\":{\"id\":\"2222\"},\"field\":\"pipeline_lag\",\"formatter\":{\"id\":\"2221\"},\"title\":\"pipeline_lag\",\"width\":0},\"id\":\"2223\",\"type\":\"TableColumn\"},{\"attributes\":{\"editor\":{\"id\":\"2237\"},\"field\":\"Active dir\",\"formatter\":{\"id\":\"2236\"},\"title\":\"Active dir\",\"width\":0},\"id\":\"2238\",\"type\":\"TableColumn\"},{\"attributes\":{\"editor\":{\"id\":\"2242\"},\"field\":\"info\",\"formatter\":{\"id\":\"2241\"},\"title\":\"info\",\"width\":0},\"id\":\"2243\",\"type\":\"TableColumn\"},{\"attributes\":{},\"id\":\"2242\",\"type\":\"StringEditor\"},{\"attributes\":{\"client_comm_id\":\"d88d7ed630834150a75166d240aeb9d3\",\"comm_id\":\"8ce6b2957e794f9486ceb8851ebfa89e\",\"plot_id\":\"2191\"},\"id\":\"2266\",\"type\":\"panel.models.comm_manager.CommManager\"},{\"attributes\":{\"editor\":{\"id\":\"2212\"},\"field\":\"age (s)\",\"formatter\":{\"id\":\"2211\"},\"title\":\"age (s)\",\"width\":0},\"id\":\"2213\",\"type\":\"TableColumn\"},{\"attributes\":{\"format\":\"0,0.0[00000]\"},\"id\":\"2226\",\"type\":\"NumberFormatter\"},{\"attributes\":{\"children\":[{\"id\":\"2251\"},{\"id\":\"2253\"}],\"margin\":[0,0,0,0],\"min_width\":500,\"name\":\"Column01827\",\"width\":500},\"id\":\"2250\",\"type\":\"Column\"},{\"attributes\":{},\"id\":\"2205\",\"type\":\"StringFormatter\"},{\"attributes\":{\"margin\":[5,5,5,5],\"name\":\"ParamFunction01796\"},\"id\":\"2196\",\"type\":\"Spacer\"},{\"attributes\":{\"child\":{\"id\":\"2202\"},\"name\":\"ParamFunction01811\",\"title\":\"Data recorder\"},\"id\":\"2248\",\"type\":\"Panel\"},{\"attributes\":{\"children\":[{\"id\":\"2256\"},{\"id\":\"2258\"}],\"margin\":[0,0,0,0],\"min_width\":500,\"name\":\"Column01834\",\"width\":500},\"id\":\"2255\",\"type\":\"Column\"},{\"attributes\":{\"children\":[{\"id\":\"2252\"}],\"margin\":[0,0,0,0],\"name\":\"Column01821\"},\"id\":\"2251\",\"type\":\"Column\"},{\"attributes\":{},\"id\":\"2227\",\"type\":\"NumberEditor\"},{\"attributes\":{\"margin\":[5,5,5,5],\"name\":\"ParamFunction01801\"},\"id\":\"2198\",\"type\":\"Spacer\"},{\"attributes\":{\"css_classes\":[\"markdown\"],\"margin\":[5,5,5,5],\"name\":\"Markdown01816\",\"text\":\"&lt;h2&gt;OVRO-LWA System Health Dashboard&lt;/h2&gt;\"},\"id\":\"2192\",\"type\":\"panel.models.markup.HTML\"},{\"attributes\":{\"margin\":[5,10,5,10],\"mode\":\"int\",\"placeholder\":\"1,2,3,4,5,6,7,8,9,10,...,352\",\"title\":\"Select ant for f-eng summary plot\",\"value\":0,\"value_throttled\":0},\"id\":\"2252\",\"type\":\"Spinner\"},{\"attributes\":{},\"id\":\"2216\",\"type\":\"NumberFormatter\"},{\"attributes\":{\"editor\":{\"id\":\"2207\"},\"field\":\"name\",\"formatter\":{\"id\":\"2205\"},\"title\":\"name\",\"width\":0},\"id\":\"2208\",\"type\":\"TableColumn\"},{\"attributes\":{\"margin\":[5,10,5,10],\"name\":\"\"},\"id\":\"2194\",\"type\":\"Spacer\"},{\"attributes\":{\"margin\":[5,5,5,5],\"name\":\"Str01824\"},\"id\":\"2254\",\"type\":\"panel.models.markup.HTML\"},{\"attributes\":{},\"id\":\"2212\",\"type\":\"IntEditor\"},{\"attributes\":{\"children\":[{\"id\":\"2254\"}],\"margin\":[0,0,0,0],\"name\":\"Row01826\"},\"id\":\"2253\",\"type\":\"Row\"},{\"attributes\":{\"children\":[{\"id\":\"2257\"}],\"margin\":[0,0,0,0],\"name\":\"Column01828\"},\"id\":\"2256\",\"type\":\"Column\"},{\"attributes\":{\"children\":[{\"id\":\"2246\"}],\"margin\":[0,0,0,0],\"name\":\"Row01815\"},\"id\":\"2202\",\"type\":\"Row\"}],\"root_ids\":[\"2191\",\"2266\"]},\"title\":\"Bokeh Application\",\"version\":\"2.3.3\"}};\n",
       "    var render_items = [{\"docid\":\"bac9c80a-0d46-46c3-862b-b2e193a65918\",\"root_ids\":[\"2191\"],\"roots\":{\"2191\":\"592cfced-e290-4152-bd67-9a5c6a0bd313\"}}];\n",
       "    root.Bokeh.embed.embed_items_notebook(docs_json, render_items);\n",
       "  }\n",
       "  if (root.Bokeh !== undefined && root.Bokeh.Panel !== undefined && ( root['Tabulator'] !== undefined)) {\n",
       "    embed_document(root);\n",
       "  } else {\n",
       "    var attempts = 0;\n",
       "    var timer = setInterval(function(root) {\n",
       "      if (root.Bokeh !== undefined && root.Bokeh.Panel !== undefined && (root['Tabulator'] !== undefined)) {\n",
       "        clearInterval(timer);\n",
       "        embed_document(root);\n",
       "      } else if (document.readyState == \"complete\") {\n",
       "        attempts++;\n",
       "        if (attempts > 200) {\n",
       "          clearInterval(timer);\n",
       "          console.log(\"Bokeh: ERROR: Unable to run BokehJS code because BokehJS library is missing\");\n",
       "        }\n",
       "      }\n",
       "    }, 25, root)\n",
       "  }\n",
       "})(window);</script>"
      ],
      "text/plain": [
       "Column(width=500)\n",
       "    [0] Markdown(str)\n",
       "    [1] Tabs(active=4, dynamic=True)\n",
       "        [0] Tabulator(pagination='remote', value=         snap2_hostname  ...)\n",
       "        [1] ParamFunction(function, lazy=True)\n",
       "        [2] ParamFunction(function, lazy=True)\n",
       "        [3] ParamFunction(function, lazy=True)\n",
       "        [4] ParamFunction(function, lazy=True)\n",
       "    [2] Markdown(str, width=500)\n",
       "    [3] Column(width=500)\n",
       "        [0] Column\n",
       "            [0] IntInput(name='Select ant for f..., placeholder='1,2,3,4,5,6,7...)\n",
       "        [1] ParamFunction(function)\n",
       "    [4] Column(width=500)\n",
       "        [0] Column\n",
       "            [0] TextInput(name='Select dr for b..., placeholder='drvs7601,drvs7601,d...)\n",
       "        [1] ParamFunction(function)"
      ]
     },
     "execution_count": 61,
     "metadata": {
      "application/vnd.holoviews_exec.v0+json": {
       "id": "2191"
      }
     },
     "output_type": "execute_result"
    }
   ],
   "source": [
    "mini_dashboard.servable(title='OVRO-LWA dashboard')"
   ]
  },
  {
   "cell_type": "code",
   "execution_count": null,
   "metadata": {},
   "outputs": [],
   "source": []
  },
  {
   "cell_type": "code",
   "execution_count": null,
   "metadata": {},
   "outputs": [],
   "source": []
  }
 ],
 "metadata": {
  "kernelspec": {
   "display_name": "development",
   "language": "python",
   "name": "development"
  },
  "language_info": {
   "codemirror_mode": {
    "name": "ipython",
    "version": 3
   },
   "file_extension": ".py",
   "mimetype": "text/x-python",
   "name": "python",
   "nbconvert_exporter": "python",
   "pygments_lexer": "ipython3",
   "version": "3.6.13"
  }
 },
 "nbformat": 4,
 "nbformat_minor": 4
}
