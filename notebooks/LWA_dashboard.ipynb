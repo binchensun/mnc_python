{
 "cells": [
  {
   "cell_type": "code",
   "execution_count": null,
   "metadata": {},
   "outputs": [],
   "source": [
    "from astropy import time\n",
    "import numpy as np\n",
    "from IPython import display\n",
    "import pandas as pd\n",
    "import panel as pn\n",
    "pn.extension(\"tabulator\")\n",
    "import hvplot.pandas\n",
    "import holoviews as hv\n",
    "\n",
    "from lwautils import lwa_arx\n",
    "from lwautils import TimeoutException\n",
    "from lwa_antpos import reading, mapping\n",
    "from mnc import mcs, common, ezdr\n",
    "import dsautils.cnf as cnf\n",
    "from lwa_f import snap2_fengine, snap2_feng_etcd_client\n",
    "from lwa352_pipeline_control import Lwa352PipelineControl, Lwa352CorrelatorControl"
   ]
  },
  {
   "cell_type": "code",
   "execution_count": null,
   "metadata": {},
   "outputs": [],
   "source": [
    "# for debugging\n",
    "#import etcd3\n",
    "#from mnc.common import ETCD_HOST, ETCD_PORT\n",
    "#client = etcd3.client(host=ETCD_HOST, port=ETCD_PORT)\n",
    "#print(client.get('/mon/drvs2501/summary'))"
   ]
  },
  {
   "cell_type": "markdown",
   "metadata": {},
   "source": [
    "## Set up"
   ]
  },
  {
   "cell_type": "code",
   "execution_count": 85,
   "metadata": {},
   "outputs": [
    {
     "name": "stdout",
     "output_type": "stream",
     "text": [
      "Found 16 slow recorders: drvs2501 drvs2502 drvs2503 drvs2504 drvs2505 drvs2506 drvs2507 drvs2508 drvs7301 drvs7302 drvs7303 drvs7304 drvs7305 drvs7306 drvs7307 drvs7308\n",
      "Found 0 fast recorders: \n",
      "Found 0 power recorders: \n",
      "Found 0 voltage recorders: \n"
     ]
    }
   ],
   "source": [
    "cold_start = False\n",
    "program = False\n",
    "configure_x = False\n",
    "\n",
    "arxadrs = list(range(0, 46))\n",
    "snap2names = [f'snap{i:02}' for i in range(1, 12)]\n",
    "xhosts = [f'lxdlwagpu{i:02}' for i in range(1, 9)]\n",
    "npipeline = 4  # x-eng\n",
    "recorders = ['slow', 'fast', 'power', 'voltage']\n",
    "drids = []\n",
    "for recorder in recorders:\n",
    "    lwa_drc = ezdr.Lwa352RecorderControl(recorder)\n",
    "    drids += lwa_drc.ids\n",
    "\n",
    "# old way\n",
    "#drips = ['10.41.0.25', '10.41.0.41']  # data recorder (two ips for lxdlwagpu09)\n",
    "#dest_ip = list(sorted(drips*2))  # correlator -> data recorder (destination IPs)\n",
    "#dest_port = [10001+i//npipeline for i in range(npipeline*len(xhosts))]  # correlator -> data recorder (destination ports)\n",
    "#drroot = [f'drvs{ip.split(\".\")[-1]}' for ip in drips]  # data recorder root names\n",
    "#drids = [f'{drr}{dp-10000:02}' for dp in set(dest_port) for drr in drroot]  # data recorder ids"
   ]
  },
  {
   "cell_type": "code",
   "execution_count": null,
   "metadata": {},
   "outputs": [],
   "source": [
    "dd_statuses = []"
   ]
  },
  {
   "cell_type": "markdown",
   "metadata": {},
   "source": [
    "## cnf"
   ]
  },
  {
   "cell_type": "code",
   "execution_count": null,
   "metadata": {
    "scrolled": false
   },
   "outputs": [],
   "source": [
    "df_cnf_read = reading.read_antpos_etcd()\n",
    "df_cnf = df_cnf_read[['snap2_hostname', 'snap2_chassis', 'snap2_location', 'fmc', 'pola_digitizer_channel',\n",
    "                      'polb_digitizer_channel', 'arx_address', 'pola_arx_channel', 'polb_arx_channel',\n",
    "                      'pola_fee', 'polb_fee']]"
   ]
  },
  {
   "cell_type": "markdown",
   "metadata": {},
   "source": [
    "## ARX"
   ]
  },
  {
   "cell_type": "code",
   "execution_count": null,
   "metadata": {},
   "outputs": [],
   "source": [
    "ma = lwa_arx.ARX()\n",
    "arxcfg = []\n",
    "for adr in arxadrs:\n",
    "    try:\n",
    "        dds = ma.get_all_chan_cfg(adr)\n",
    "    except:\n",
    "        continue\n",
    "    for ch, dd in enumerate(dds):\n",
    "        dd['adr-ch'] = f'{adr}-{ch}'\n",
    "        arxcfg.append(dd)\n",
    "    dd_astatus = {'name': f'arx{adr}', 'mp_age': 0, 'ready': dd['sig_on']}\n",
    "    dd_statuses.append(dd_astatus)\n",
    "\n",
    "# for missing ARXs?\n",
    "#    dd_astatus = {'name': f'arx{adr}', 'mp_age': -1, 'ready': False}\n",
    "#    dd_statuses.append(dd_astatus)\n",
    "\n",
    "df_arx = pd.DataFrame.from_dict(arxcfg)\n",
    "if any(df_arx):\n",
    "    df_arx.set_index('adr-ch', inplace=True)\n"
   ]
  },
  {
   "cell_type": "code",
   "execution_count": 74,
   "metadata": {},
   "outputs": [],
   "source": [
    "#df_arx"
   ]
  },
  {
   "cell_type": "markdown",
   "metadata": {},
   "source": [
    "## F-engine"
   ]
  },
  {
   "cell_type": "code",
   "execution_count": null,
   "metadata": {
    "scrolled": true
   },
   "outputs": [],
   "source": [
    "if cold_start or program:\n",
    "    for snap2name in snap2names:\n",
    "        lwa_feng = snap2_fengine.Snap2Fengine(snap2name)\n",
    "        if program:\n",
    "            lwa_feng.program()\n",
    "        print(snap2name, lwa_feng.fpga.is_programmed())\n",
    "        lwa_feng.cold_start_from_config('/home/ubuntu/proj/lwa-shell/caltech-lwa/control_sw/config/lwa_corr_config.yaml') "
   ]
  },
  {
   "cell_type": "code",
   "execution_count": null,
   "metadata": {
    "scrolled": true
   },
   "outputs": [],
   "source": [
    "# mp update cadence < 1 min\n",
    "skipsnap = 'nope'\n",
    "dd_fs = []\n",
    "t_now = time.Time.now().unix\n",
    "\n",
    "for snap2name in snap2names:\n",
    "\n",
    "    # optional skip a snap\n",
    "    if skipsnap in snap2name:\n",
    "        continue\n",
    "\n",
    "    snap2num = int(snap2name.lstrip('snap'))\n",
    "    lwa_feng = snap2_fengine.Snap2Fengine(snap2name)\n",
    "    lwa_fe = snap2_feng_etcd_client.Snap2FengineEtcdClient(snap2name, snap2num)\n",
    "\n",
    "    st, fl = lwa_feng.fpga.get_status()\n",
    "    t_now = time.Time.now().unix\n",
    "\n",
    "    dd_fstatus = {'name': snap2name, 'mp_age': t_now-time.Time(st['timestamp']).unix,\n",
    "                  'ready': lwa_feng.is_connected() and st['programmed']}\n",
    "        \n",
    "    dd_statuses.append(dd_fstatus)\n",
    "\n",
    "    plot_fstats = None\n",
    "\n",
    "    dd_f = {'name': snap2name}\n",
    "\n",
    "    dd_f['is_connected'] = lwa_feng.is_connected()  # can SNAP be reached with ping on network?\n",
    "    dd_f['is_polling'] = lwa_fe.is_polling()   # is monitor service checking on SNAP?\n",
    "    dd_f['programmed'] = st['programmed']\n",
    "    dd_f['firmware'] = st['flash_firmware']\n",
    "        \n",
    "    dd_f['mp_age'] = t_now-time.Time(st['timestamp']).unix\n",
    "\n",
    "    if not lwa_feng.fpga.is_programmed():\n",
    "        dd_fs.append(dd_f)\n",
    "        continue\n",
    "\n",
    "    st, fl = lwa_feng.sync.get_status()\n",
    "    dd_f['uptime_fpga_clks'] = st['uptime_fpga_clks']\n",
    "\n",
    "    st, fl = lwa_feng.autocorr.get_status()\n",
    "    dd_f['autocorr_acc_len'] = st['acc_len']\n",
    "\n",
    "    st, fl = lwa_feng.corr.get_status()\n",
    "    dd_f['corr_acc_len'] = st['acc_len']\n",
    "\n",
    "    st, fl = lwa_feng.eqtvg.get_status()\n",
    "    dd_f['tvg_enabled'] = st['tvg_enabled']\n",
    "\n",
    "    st, fl = lwa_feng.eq.get_status()\n",
    "    dd_f['clip_count'] = st['clip_count']\n",
    "\n",
    "    dd_fs.append(dd_f)\n",
    "\n",
    "    st, fl = lwa_feng.input.get_status()\n",
    "    del lwa_feng\n",
    "    pows = np.array([v for (k,v) in st.items() if 'pow' in k])\n",
    "    means = np.array([v for (k,v) in st.items() if 'mean' in k])\n",
    "    rms = np.array([v for (k,v) in st.items() if 'rms' in k])\n",
    "#    snap_input = [f'{snap2name}-{k.strip(\"rms\")}' for (k,v) in st.items() if 'rms' in k]\n",
    "    df_fstats = pd.DataFrame(data={'pows': pows, 'mean': means, 'snap': len(pows)*[f'{snap2name}']})\n",
    "    plot_fstats = df_fstats.hvplot.scatter('pows', 'mean', by='snap', width=500, title='F-engine stats')\n",
    "\n",
    "df_f = pd.DataFrame.from_dict(dd_fs)\n",
    "if any(df_f):\n",
    "    df_f.set_index('name', inplace=True)"
   ]
  },
  {
   "cell_type": "code",
   "execution_count": null,
   "metadata": {},
   "outputs": [],
   "source": [
    "#df_f"
   ]
  },
  {
   "cell_type": "code",
   "execution_count": null,
   "metadata": {},
   "outputs": [],
   "source": [
    "#plot_fstats"
   ]
  },
  {
   "cell_type": "markdown",
   "metadata": {},
   "source": [
    "## X-engine"
   ]
  },
  {
   "cell_type": "code",
   "execution_count": null,
   "metadata": {},
   "outputs": [],
   "source": [
    "# This could be replaced with mnc/mcs.py code\n",
    "\n",
    "if configure_x:\n",
    "    p = Lwa352CorrelatorControl( ['lxdlwagpu0%d' % i for i in range(1,9) ], npipeline_per_host=4)\n",
    "    p.stop_pipelines()\n",
    "    p.start_pipelines()\n",
    "    if p.pipelines_are_up(verbose=True):\n",
    "        p.configure_corr(dest_ip=['10.41.0.25', '10.41.0.25', '10.41.0.41', '10.41.0.41'],\n",
    "                         dest_port=[10001+i//4 for i in range(32)] ) "
   ]
  },
  {
   "cell_type": "code",
   "execution_count": null,
   "metadata": {
    "scrolled": false
   },
   "outputs": [],
   "source": [
    "# mp update cadence of <10s\n",
    "\n",
    "dd_xs = []\n",
    "t_now = time.Time.now().unix\n",
    "for host in xhosts:\n",
    "    for pipeline in range(npipeline):\n",
    "        lwa_x = Lwa352PipelineControl(pipeline_id=pipeline, etcdhost=common.ETCD_HOST, host=host)\n",
    "        if lwa_x.pipeline_is_up():\n",
    "            st = lwa_x.corr.get_bifrost_status()\n",
    "            t_now = time.Time.now().unix\n",
    "            stats = st['stats']\n",
    "            name = f'{host}-{pipeline}'\n",
    "            dd_xstatus = {'name': name}\n",
    "            dd_x = {'name': name}\n",
    "            dd_x['gbps'] = st['gbps']\n",
    "            dd_x['mp_age'] = t_now-st['time']\n",
    "#            print(name, dd_x['mp_age'])\n",
    "            if len(stats) > 1:\n",
    "                dd_xstatus['ready'] = stats['state'] == 'running'\n",
    "                if stats['state'] == 'running':\n",
    "                    dd_x['curr_sample'] = stats['curr_sample']\n",
    "                    dd_x['state'] = stats['state']\n",
    "            dd_xs.append(dd_x)\n",
    "\n",
    "            dd_xstatus['mp_age'] = t_now-st['time']\n",
    "            dd_statuses.append(dd_xstatus)\n",
    "        else:\n",
    "            print(f'Pipeline for {host}:{pipeline} is not up')\n",
    "\n",
    "df_x = pd.DataFrame.from_dict(dd_xs)\n",
    "if any(df_x):\n",
    "    df_x.set_index('name', inplace=True)"
   ]
  },
  {
   "cell_type": "code",
   "execution_count": null,
   "metadata": {},
   "outputs": [],
   "source": [
    "#df_x"
   ]
  },
  {
   "cell_type": "markdown",
   "metadata": {},
   "source": [
    "## Data capture"
   ]
  },
  {
   "cell_type": "code",
   "execution_count": null,
   "metadata": {},
   "outputs": [],
   "source": [
    "dd_ds = []\n",
    "t_now = time.Time.now().unix\n",
    "data_baselines = None\n",
    "data_spectra = None\n",
    "for drid in drids:\n",
    "    lwa_dr = mcs.Client(drid)\n",
    "    if lwa_dr is not None and data_baselines is None:\n",
    "        try:\n",
    "            data_baselines = lwa_dr.read_monitor_point('diagnostics/baselines', id=drid).value\n",
    "            data_spectra = lwa_dr.read_monitor_point('diagnostics/spectra', id=drid).value\n",
    "            print('data_baselines and data_spectra set')\n",
    "        except AttributeError:\n",
    "            pass\n",
    "    summary = lwa_dr.read_monitor_point('summary')\n",
    "    if summary is None:\n",
    "        continue\n",
    "    t_mp = summary.timestamp\n",
    "    dd_dstatus = {'name': drid, 'mp_age': t_now-t_mp,\n",
    "                  'ready': summary.value == 'normal'}\n",
    "    dd_statuses.append(dd_dstatus)\n",
    "\n",
    "    # missing?\n",
    "#    rx_rate = lwa_dr.read_monitor_point('bifrost/rx_rate', id=drid).value\n",
    "#    rx_missing = lwa_dr.read_monitor_point('bifrost/rx_missing', id=drid).value\n",
    "    rx_rate = None\n",
    "    rx_missing = None\n",
    "    pipeline_lag = lwa_dr.read_monitor_point('bifrost/pipeline_lag', id=drid).value\n",
    "    dd_d = {'name': f'{drid}', 'rx_rate': rx_rate, 'rx_missing': rx_missing,\n",
    "            'pipeline_lag': pipeline_lag, 'summary': summary.value}\n",
    "    dd_ds.append(dd_d)\n",
    "else:\n",
    "    lwa_dr = None\n",
    "        \n",
    "df_d = pd.DataFrame.from_dict(dd_ds)\n",
    "if any(df_d):\n",
    "    df_d.set_index('name', inplace=True)"
   ]
  },
  {
   "cell_type": "code",
   "execution_count": 76,
   "metadata": {},
   "outputs": [],
   "source": [
    "#df_d"
   ]
  },
  {
   "cell_type": "code",
   "execution_count": null,
   "metadata": {},
   "outputs": [],
   "source": [
    "if data_baselines is not None:\n",
    "    pane_spectra = pn.pane.PNG(display.Image(mcs.ImageMonitorPoint._decode_image_data(data_spectra)), width=500)\n",
    "    pane_baselines = pn.pane.PNG(display.Image(mcs.ImageMonitorPoint._decode_image_data(data_baselines)), width=500)\n",
    "else:\n",
    "    pane_spectra = pn.pane.PNG()\n",
    "    pane_baselines = pn.pane.PNG()"
   ]
  },
  {
   "cell_type": "code",
   "execution_count": null,
   "metadata": {},
   "outputs": [],
   "source": [
    "df_status = pd.DataFrame.from_dict(dd_statuses)\n",
    "df_status.set_index('name', inplace=True)\n",
    "#df_x"
   ]
  },
  {
   "cell_type": "markdown",
   "metadata": {},
   "source": [
    "## Maybe add controls here"
   ]
  },
  {
   "cell_type": "code",
   "execution_count": null,
   "metadata": {
    "scrolled": true
   },
   "outputs": [],
   "source": [
    "# Test data recorder\n",
    "#from mnc.ezdr import Lwa352RecorderControl\n",
    "#rs = Lwa352RecorderControl('slow')\n",
    "#rs.start()\n",
    "#rs.stop()\n",
    "\n",
    "#from mnc.xengine_beamformer_control import *"
   ]
  },
  {
   "cell_type": "markdown",
   "metadata": {},
   "source": [
    "## Build dashboard"
   ]
  },
  {
   "cell_type": "code",
   "execution_count": null,
   "metadata": {},
   "outputs": [],
   "source": [
    "# coloring and filtering functions\n",
    "\n",
    "frequencies = np.linspace(0, 196/2, 4096//8, endpoint=False)  # get_new_corr does 8-channel average\n",
    "\n",
    "def filter_df(antpol):\n",
    "    \"\"\" Given ant-pol string input, plot the snap2 f-engine autocorr\n",
    "    \"\"\"\n",
    "\n",
    "#    return df_spec[colname].hvplot.line(title=f'autocorrelation spectrum', xlabel='channels', ylabel='amplitude')\n",
    "    if not antpol:\n",
    "        specs = {f'no ant': np.zeros(512), 'frequencies': frequencies}\n",
    "        df_spec = pd.DataFrame.from_dict(specs)\n",
    "        return df_spec.hvplot.line(x='frequencies', title=f'autocorrelation spectrum',\n",
    "                                   xlabel='frequencies', ylabel='amplitude')\n",
    "    numpol = antpol.upper().lstrip('LWA-')  # prep input\n",
    "    num = numpol[:-1]\n",
    "    pol = numpol[-1:]\n",
    "    snap2num, inp = mapping.antpol_to_digitizer(f'LWA-{num}', pol)\n",
    "    lwa_feng = snap2_fengine.Snap2Fengine(f'snap{snap2num:02}')\n",
    "    \n",
    "    spec = lwa_feng.corr.get_new_corr(inp, inp).real  # 8-channel average, normalized by accumulated time/chans\n",
    "    del lwa_feng\n",
    "    specs = {f'antpol {antpol}': spec, 'frequencies': frequencies}\n",
    "    df_spec = pd.DataFrame.from_dict(specs)\n",
    "    return df_spec.hvplot.line(x='frequencies', y=f'antpol {antpol}', title=f'autocorrelation spectrum',\n",
    "                               xlabel='frequencies', ylabel='amplitude')\n",
    "\n",
    "def color_bad(val):\n",
    "    \"\"\"\n",
    "    Colors text red if bad.\n",
    "    Made for status df, so False and mp_age > 100 are \"bad\"\n",
    "    \"\"\"\n",
    "    color = 'red' if (val is False or val > 100) else 'black'\n",
    "    return 'color: %s' % color\n",
    "\n",
    "#col_filter = pn.widgets.TextInput(placeholder='Enter a f-eng input for snap01')\n",
    "col_filter = pn.widgets.TextInput(placeholder='Plot f-eng for ant-pol name (e.g., 240a)')"
   ]
  },
  {
   "cell_type": "code",
   "execution_count": null,
   "metadata": {},
   "outputs": [],
   "source": [
    "tab = pn.widgets.Tabulator(df_status)"
   ]
  },
  {
   "cell_type": "code",
   "execution_count": null,
   "metadata": {},
   "outputs": [],
   "source": [
    "# using Tabulator\n",
    "df_status_pane = pn.widgets.Tabulator(df_status).style.applymap(color_bad)\n",
    "df_cnf_pane = pn.widgets.Tabulator(df_cnf, layout='fit_data_table', pagination='remote', page_size=20)\n",
    "df_f_pane = pn.widgets.Tabulator(df_f, layout='fit_data_table', pagination='remote', page_size=20)\n",
    "df_x_pane = pn.widgets.Tabulator(df_x, layout='fit_data_table', pagination='remote', page_size=20)\n",
    "df_arx_pane = pn.widgets.Tabulator(df_arx, layout='fit_data_table', pagination='remote', page_size=20)\n",
    "df_d_pane = pn.widgets.Tabulator(df_d, layout='fit_data_table', pagination='remote', page_size=20)\n",
    "\n",
    "#df_status_pane.add_filter(slider, 'mp_age')\n",
    "#df_status_pane_sel = pn.Column(slider, df_status_pane)"
   ]
  },
  {
   "cell_type": "code",
   "execution_count": null,
   "metadata": {},
   "outputs": [],
   "source": [
    "dashboard_title = pn.panel('## OVRO-LWA dashboard')\n",
    "header_table = pn.pane.Markdown('##Subsystem monitor points')\n",
    "tabs = pn.Tabs(('Cabling', df_cnf_pane),\n",
    "               ('ARX', df_arx_pane),\n",
    "               ('F-engine', df_f_pane),\n",
    "               ('X-engine', df_x_pane),\n",
    "               ('Data recorder', df_d_pane))\n",
    "header_f = pn.pane.Markdown('##F-engine plots')\n",
    "plot_spec_pane = pn.Row(pn.panel(pn.bind(filter_df, col_filter)), pn.Column(col_filter))\n",
    "header_dr = pn.pane.Markdown('##Data recorder plots')\n",
    "plot_dr = pn.Row(pane_spectra, pane_baselines)\n",
    "mini_dashboard = pn.Column(dashboard_title, df_status_pane, header_table, tabs, header_f,\n",
    "                           plot_fstats, plot_spec_pane, header_dr, plot_dr)"
   ]
  },
  {
   "cell_type": "code",
   "execution_count": null,
   "metadata": {
    "scrolled": false
   },
   "outputs": [],
   "source": [
    "mini_dashboard.servable(title='OVRO-LWA dashboard')"
   ]
  },
  {
   "cell_type": "code",
   "execution_count": null,
   "metadata": {},
   "outputs": [],
   "source": []
  }
 ],
 "metadata": {
  "kernelspec": {
   "display_name": "casa",
   "language": "python",
   "name": "myenv"
  },
  "language_info": {
   "codemirror_mode": {
    "name": "ipython",
    "version": 3
   },
   "file_extension": ".py",
   "mimetype": "text/x-python",
   "name": "python",
   "nbconvert_exporter": "python",
   "pygments_lexer": "ipython3",
   "version": "3.6.10"
  }
 },
 "nbformat": 4,
 "nbformat_minor": 4
}
