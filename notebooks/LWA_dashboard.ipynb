{
 "cells": [
  {
   "cell_type": "code",
   "execution_count": null,
   "metadata": {},
   "outputs": [],
   "source": [
    "from astropy import time\n",
    "import numpy as np\n",
    "from IPython import display\n",
    "import pandas as pd\n",
    "import panel as pn\n",
    "pn.extension(\"tabulator\")\n",
    "import hvplot.pandas\n",
    "import holoviews as hv\n",
    "\n",
    "from lwautils import lwa_arx\n",
    "from lwautils import TimeoutException\n",
    "from lwa_antpos import reading, mapping\n",
    "from mnc import mcs, common, control\n",
    "import dsautils.cnf as cnf\n",
    "from dsautils import dsa_store\n",
    "from lwa_f import snap2_fengine, snap2_feng_etcd_client\n",
    "from lwa352_pipeline_control import Lwa352PipelineControl, Lwa352CorrelatorControl"
   ]
  },
  {
   "cell_type": "code",
   "execution_count": null,
   "metadata": {},
   "outputs": [],
   "source": [
    "ls = dsa_store.DsaStore()"
   ]
  },
  {
   "cell_type": "markdown",
   "metadata": {},
   "source": [
    "## Set up"
   ]
  },
  {
   "cell_type": "code",
   "execution_count": null,
   "metadata": {},
   "outputs": [],
   "source": [
    "con = control.Controller(\"/home/ubuntu/proj/lwa-shell/mnc_python/config/lwa_config_calim.yaml\")\n",
    "\n",
    "adrs = con.conf['arx']['adrs']\n",
    "snap2names = con.conf['fengines']['snap2s_inuse']\n",
    "xhosts = con.conf['xengines']['xhosts']\n",
    "recorders = con.conf['dr']['recorders']"
   ]
  },
  {
   "cell_type": "code",
   "execution_count": null,
   "metadata": {},
   "outputs": [],
   "source": [
    "dd_statuses = []"
   ]
  },
  {
   "cell_type": "markdown",
   "metadata": {},
   "source": [
    "## cnf"
   ]
  },
  {
   "cell_type": "code",
   "execution_count": null,
   "metadata": {
    "scrolled": false
   },
   "outputs": [],
   "source": [
    "df_cnf_read = reading.read_antpos_etcd()\n",
    "df_cnf = df_cnf_read[['snap2_hostname', 'snap2_chassis', 'snap2_location', 'fmc', 'pola_digitizer_channel',\n",
    "                      'polb_digitizer_channel', 'arx_address', 'pola_arx_channel', 'polb_arx_channel',\n",
    "                      'pola_fee', 'polb_fee']]"
   ]
  },
  {
   "cell_type": "markdown",
   "metadata": {},
   "source": [
    "## ARX"
   ]
  },
  {
   "cell_type": "code",
   "execution_count": null,
   "metadata": {},
   "outputs": [],
   "source": [
    "ma = lwa_arx.ARX()\n",
    "arxcfg = []\n",
    "for adr in adrs:\n",
    "    try:\n",
    "        dds = ma.get_all_chan_cfg(adr)\n",
    "    except:\n",
    "        continue\n",
    "    for ch, dd in enumerate(dds):\n",
    "        dd['adr-ch'] = f'{adr}-{ch}'\n",
    "        arxcfg.append(dd)\n",
    "    dd_astatus = {'name': f'arx{adr}', 'mp_age': 0, 'ready': dd['sig_on']}\n",
    "    dd_statuses.append(dd_astatus)\n",
    "\n",
    "# for missing ARXs?\n",
    "#    dd_astatus = {'name': f'arx{adr}', 'mp_age': -1, 'ready': False}\n",
    "#    dd_statuses.append(dd_astatus)\n",
    "\n",
    "df_arx = pd.DataFrame.from_dict(arxcfg)\n",
    "if any(df_arx):\n",
    "    df_arx.set_index('adr-ch', inplace=True)\n"
   ]
  },
  {
   "cell_type": "code",
   "execution_count": null,
   "metadata": {
    "scrolled": false
   },
   "outputs": [],
   "source": [
    "#df_arx"
   ]
  },
  {
   "cell_type": "markdown",
   "metadata": {},
   "source": [
    "## Build table functions"
   ]
  },
  {
   "cell_type": "code",
   "execution_count": null,
   "metadata": {
    "scrolled": false
   },
   "outputs": [],
   "source": [
    "# f-engine table build function\n",
    "def build_f():\n",
    "    dd_fs = []\n",
    "    t_now = time.Time.now().unix\n",
    "    stats = con.status_fengine()\n",
    "\n",
    "    for snap2name in snap2names:\n",
    "        snap2num = int(snap2name.lstrip('snap'))\n",
    "#    lwa_feng = snap2_fengine.Snap2Fengine(snap2name)\n",
    "#    lwa_fe = snap2_feng_etcd_client.Snap2FengineEtcdClient(snap2name, snap2num)\n",
    "\n",
    "#    st, fl = lwa_feng.fpga.get_status()\n",
    "        t_now = time.Time.now().unix\n",
    "        if stats[snap2name] is None:\n",
    "            continue\n",
    "        else:\n",
    "            dd_fstatus = {'name': snap2name, 'mp_age': t_now-time.Time(stats[snap2name]['fpga']['timestamp']).unix,\n",
    "                          'ready': stats[snap2name]['fpga']['programmed']}\n",
    "#        dd_fstatus = None\n",
    "# is there a key for lwa_feng.is_connected()?\n",
    "\n",
    "        dd_statuses.append(dd_fstatus)\n",
    "\n",
    "        plot_fstats = None\n",
    "\n",
    "        dd_f = {'name': snap2name}\n",
    "        st = stats[snap2name]['fpga']\n",
    "#    dd_f['is_connected'] = lwa_feng.is_connected()  # can SNAP be reached with ping on network?\n",
    "#    dd_f['is_polling'] = lwa_fe.is_polling()   # is monitor service checking on SNAP?\n",
    "        dd_f['programmed'] = st['programmed']\n",
    "        dd_f['firmware'] = st['flash_firmware']\n",
    "        \n",
    "        dd_f['mp_age'] = t_now-time.Time(st['timestamp']).unix\n",
    "\n",
    "        st = stats[snap2name]['sync']\n",
    "        dd_f['uptime_fpga_clks'] = st['uptime_fpga_clks']\n",
    "\n",
    "        st = stats[snap2name]['autocorr']\n",
    "        dd_f['autocorr_acc_len'] = st['acc_len']\n",
    "\n",
    "        st = stats[snap2name]['corr']\n",
    "        dd_f['corr_acc_len'] = st['acc_len']\n",
    "\n",
    "        st = stats[snap2name]['eqtvg']\n",
    "        dd_f['tvg_enabled'] = st['tvg_enabled']\n",
    "\n",
    "        st = stats[snap2name]['eq']\n",
    "        dd_f['clip_count'] = st['clip_count']\n",
    "\n",
    "        dd_fs.append(dd_f)\n",
    "\n",
    "    df_f = pd.DataFrame.from_dict(dd_fs)\n",
    "    if any(df_f):\n",
    "        df_f.set_index('name', inplace=True)\n",
    "        \n",
    "    df_f_pane = pn.widgets.Tabulator(df_f, layout='fit_data_table', pagination='remote', page_size=20)\n",
    "    return df_f_pane\n",
    "\n",
    "# TODO: f-engine stats plot build function\n",
    "def build_fstats(snap2name):\n",
    "    st = stats[snap2name]['input']\n",
    "    pows = np.array([v for (k,v) in st.items() if 'pow' in k])\n",
    "    means = np.array([v for (k,v) in st.items() if 'mean' in k])\n",
    "    rms = np.array([v for (k,v) in st.items() if 'rms' in k])\n",
    "#    snap_input = [f'{snap2name}-{k.strip(\"rms\")}' for (k,v) in st.items() if 'rms' in k]\n",
    "    df_fstats = pd.DataFrame(data={'pows': pows, 'mean': means, 'snap': len(pows)*[f'{snap2name}']})\n",
    "    plot_fstats = df_fstats.hvplot.scatter('pows', 'mean', by='snap', width=500, title='F-engine stats')\n",
    "\n",
    "    return plot_fstats\n",
    "    \n",
    "# x-engine table build function\n",
    "def build_x():\n",
    "    npipeline = con.conf['xengines']['nxpipeline']\n",
    "    dd_xs = []\n",
    "    t_now = time.Time.now().unix\n",
    "    for host in xhosts:\n",
    "        for pipeline in range(npipeline):\n",
    "            lwa_x = Lwa352PipelineControl(pipeline_id=pipeline, etcdhost=common.ETCD_HOST, host=host)\n",
    "            if lwa_x.pipeline_is_up():\n",
    "                st = lwa_x.corr.get_bifrost_status()\n",
    "                t_now = time.Time.now().unix\n",
    "                stats = st['stats']\n",
    "                name = f'{host}-{pipeline}'\n",
    "                dd_xstatus = {'name': name}\n",
    "                dd_x = {'name': name}\n",
    "                dd_x['gbps'] = st['gbps']\n",
    "                dd_x['mp_age'] = t_now-st['time']\n",
    "\n",
    "                if len(stats) > 1:\n",
    "                    dd_xstatus['ready'] = stats['state'] == 'running'\n",
    "                    if stats['state'] == 'running':\n",
    "                        dd_x['curr_sample'] = stats['curr_sample']\n",
    "                        dd_x['state'] = stats['state']\n",
    "                dd_xs.append(dd_x)\n",
    "\n",
    "                dd_xstatus['mp_age'] = t_now-st['time']\n",
    "                dd_statuses.append(dd_xstatus)\n",
    "            else:\n",
    "                print(f'Pipeline for {host}:{pipeline} is not up')\n",
    "\n",
    "    df_x = pd.DataFrame.from_dict(dd_xs)\n",
    "    if any(df_x):\n",
    "        df_x.set_index('name', inplace=True)\n",
    "    df_x_pane = pn.widgets.Tabulator(df_x, layout='fit_data_table', pagination='remote', page_size=20)\n",
    "    return df_x_pane\n",
    "\n",
    "# Data recorder table build function\n",
    "def build_dr():\n",
    "    dd_ds = []\n",
    "    t_now = time.Time.now().unix\n",
    "    data_baselines = None\n",
    "    data_spectra = None\n",
    "    for drid in recorders:\n",
    "        lwa_dr = mcs.Client(drid)\n",
    "        summary = lwa_dr.read_monitor_point('summary')\n",
    "        if summary is None:\n",
    "            continue\n",
    "        t_mp = summary.timestamp\n",
    "        dd_dstatus = {'name': drid, 'mp_age': t_now-t_mp,\n",
    "                      'ready': summary.value == 'normal'}\n",
    "        dd_statuses.append(dd_dstatus)\n",
    "\n",
    "        rx_rate = None\n",
    "        rx_missing = None\n",
    "        pipeline_lag = None\n",
    "        if 'bifrost/rx_rate' in lwa_dr.list_monitor_points():\n",
    "            rx_rate = lwa_dr.read_monitor_point('bifrost/rx_rate').value\n",
    "            rx_missing = lwa_dr.read_monitor_point('bifrost/rx_missing').value\n",
    "            pipeline_lag = lwa_dr.read_monitor_point('bifrost/pipeline_lag').value\n",
    "\n",
    "        info = lwa_dr.read_monitor_point('info')\n",
    "\n",
    "        dd_d = {'name': f'{drid}', 'rx_rate': rx_rate, 'rx_missing': rx_missing,\n",
    "                'pipeline_lag': pipeline_lag, 'info': info.value}\n",
    "        dd_ds.append(dd_d)\n",
    "    else:\n",
    "        lwa_dr = None\n",
    "        \n",
    "    df_d = pd.DataFrame.from_dict(dd_ds)\n",
    "    if any(df_d):\n",
    "        df_d.set_index('name', inplace=True)\n",
    "    df_d_pane = pn.widgets.Tabulator(df_d, layout='fit_data_table', pagination='remote', page_size=20)\n",
    "    return df_d_pane"
   ]
  },
  {
   "cell_type": "code",
   "execution_count": null,
   "metadata": {},
   "outputs": [],
   "source": [
    "#df_f_pane\n",
    "#df_x_pane\n",
    "#df_d_pane"
   ]
  },
  {
   "cell_type": "code",
   "execution_count": null,
   "metadata": {},
   "outputs": [],
   "source": [
    "df_status = pd.DataFrame.from_dict(dd_statuses)\n",
    "df_status.set_index('name', inplace=True)"
   ]
  },
  {
   "cell_type": "markdown",
   "metadata": {},
   "source": [
    "## Build dashboard"
   ]
  },
  {
   "cell_type": "code",
   "execution_count": null,
   "metadata": {},
   "outputs": [],
   "source": [
    "# coloring and filtering functions\n",
    "\n",
    "frequencies = np.linspace(0, 196/2, 4096//8, endpoint=False)  # get_new_corr does 8-channel average\n",
    "\n",
    "def filter_df(antpol):\n",
    "    \"\"\" Given ant-pol string input, plot the snap2 f-engine autocorr\n",
    "    \"\"\"\n",
    "\n",
    "#    return df_spec[colname].hvplot.line(title=f'autocorrelation spectrum', xlabel='channels', ylabel='amplitude')\n",
    "    if not antpol:\n",
    "        specs = {f'no ant': np.zeros(512), 'frequencies': frequencies}\n",
    "        df_spec = pd.DataFrame.from_dict(specs)\n",
    "        return df_spec.hvplot.line(x='frequencies', title=f'autocorrelation spectrum',\n",
    "                                   xlabel='frequencies', ylabel='amplitude')\n",
    "    numpol = antpol.upper().lstrip('LWA-')  # prep input\n",
    "    num = numpol[:-1]\n",
    "    pol = numpol[-1:]\n",
    "    snap2num, inp = mapping.antpol_to_digitizer(f'LWA-{num}', pol)\n",
    "    lwa_feng = snap2_fengine.Snap2Fengine(f'snap{snap2num:02}')\n",
    "    \n",
    "    spec = lwa_feng.corr.get_new_corr(inp, inp).real  # 8-channel average, normalized by accumulated time/chans\n",
    "    del lwa_feng\n",
    "    specs = {f'antpol {antpol}': spec, 'frequencies': frequencies}\n",
    "    df_spec = pd.DataFrame.from_dict(specs)\n",
    "    return df_spec.hvplot.line(x='frequencies', y=f'antpol {antpol}', title=f'autocorrelation spectrum',\n",
    "                               xlabel='frequencies', ylabel='amplitude')\n",
    "\n",
    "def color_bad(val):\n",
    "    \"\"\"\n",
    "    Colors text red if bad.\n",
    "    Made for status df, so False and mp_age > 100 are \"bad\"\n",
    "    \"\"\"\n",
    "    color = 'red' if (val is False or val > 100) else 'black'\n",
    "    return 'color: %s' % color\n",
    "\n",
    "#col_filter = pn.widgets.TextInput(placeholder='Enter a f-eng input for snap01')\n",
    "col_filter = pn.widgets.TextInput(placeholder='Plot f-eng for ant-pol name (e.g., 240a)')"
   ]
  },
  {
   "cell_type": "code",
   "execution_count": null,
   "metadata": {},
   "outputs": [],
   "source": [
    "# using Tabulator\n",
    "df_status_pane = pn.widgets.Tabulator(df_status, layout='fit_data_table', pagination='remote', page_size=20)\n",
    "#.style.applymap(color_bad)\n",
    "df_cnf_pane = pn.widgets.Tabulator(df_cnf, layout='fit_data_table', pagination='remote', page_size=20)\n",
    "df_arx_pane = pn.widgets.Tabulator(df_arx, layout='fit_data_table', pagination='remote', page_size=20)\n",
    "\n",
    "#df_status_pane.add_filter(slider, 'mp_age')\n",
    "#df_status_pane_sel = pn.Column(slider, df_status_pane)"
   ]
  },
  {
   "cell_type": "code",
   "execution_count": null,
   "metadata": {},
   "outputs": [],
   "source": [
    "pf = pn.param.ParamFunction(build_f, lazy=True)\n",
    "px = pn.param.ParamFunction(build_x, lazy=True)\n",
    "pdr = pn.param.ParamFunction(build_dr, lazy=True)"
   ]
  },
  {
   "cell_type": "code",
   "execution_count": null,
   "metadata": {},
   "outputs": [],
   "source": [
    "dashboard_title = pn.panel('## OVRO-LWA dashboard')\n",
    "tabs = pn.Tabs(('Status', df_status_pane),\n",
    "               ('Cabling', df_cnf_pane),\n",
    "               ('ARX', df_arx_pane),\n",
    "               ('F-engine', pf),\n",
    "               ('X-engine', px),\n",
    "               ('Data recorder', pdr), dynamic=True, active=0)  # dynamic=True to speed things up?\n",
    "header_f = pn.pane.Markdown('##F-engine plots', width=1000)\n",
    "plot_spec_pane = pn.Column(pn.Column(col_filter), pn.panel(pn.bind(filter_df, col_filter)), width=1000)\n",
    "mini_dashboard = pn.Column(dashboard_title, tabs, header_f,\n",
    "                           plot_spec_pane, width=1000)"
   ]
  },
  {
   "cell_type": "code",
   "execution_count": null,
   "metadata": {
    "scrolled": false
   },
   "outputs": [],
   "source": [
    "mini_dashboard.servable(title='OVRO-LWA dashboard')"
   ]
  },
  {
   "cell_type": "code",
   "execution_count": null,
   "metadata": {},
   "outputs": [],
   "source": []
  }
 ],
 "metadata": {
  "kernelspec": {
   "display_name": "casa",
   "language": "python",
   "name": "myenv"
  },
  "language_info": {
   "codemirror_mode": {
    "name": "ipython",
    "version": 3
   },
   "file_extension": ".py",
   "mimetype": "text/x-python",
   "name": "python",
   "nbconvert_exporter": "python",
   "pygments_lexer": "ipython3",
   "version": "3.6.10"
  }
 },
 "nbformat": 4,
 "nbformat_minor": 4
}
