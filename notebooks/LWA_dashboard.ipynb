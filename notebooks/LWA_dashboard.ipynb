{
 "cells": [
  {
   "cell_type": "code",
   "execution_count": 3,
   "metadata": {},
   "outputs": [],
   "source": [
    "from astropy import time\n",
    "import numpy as np\n",
    "from IPython import display\n",
    "import pandas as pd\n",
    "import panel as pn\n",
    "pn.extension(\"tabulator\")\n",
    "import hvplot.pandas\n",
    "import holoviews as hv\n",
    "\n",
    "from lwautils import lwa_arx\n",
    "from lwautils import TimeoutException\n",
    "from lwa_antpos import reading, mapping\n",
    "from mnc import mcs, common, control\n",
    "import dsautils.cnf as cnf\n",
    "from dsautils import dsa_store\n",
    "from lwa_f import snap2_fengine, snap2_feng_etcd_client\n",
    "from lwa352_pipeline_control import Lwa352PipelineControl, Lwa352CorrelatorControl"
   ]
  },
  {
   "cell_type": "code",
   "execution_count": 65,
   "metadata": {},
   "outputs": [
    {
     "name": "stderr",
     "output_type": "stream",
     "text": [
      "INFO:{\"mjd\": 59914.96633951037, \"proj\": \"dsa\", \"subsystem\": \"System\", \"app\": \"_\", \"version\": \"_\", \"module\": \"dsaStore\", \"function\": \"_check_host\", \"level\": \"info\", \"time\": \"2022-12-01T23:11:31.733684Z\", \"msg\": \"TODO: implement\"}\n",
      "INFO:{\"mjd\": 59914.96633953665, \"proj\": \"dsa\", \"subsystem\": \"System\", \"app\": \"_\", \"version\": \"_\", \"module\": \"dsaStore\", \"function\": \"_check_port\", \"level\": \"info\", \"time\": \"2022-12-01T23:11:31.735961Z\", \"msg\": \"TODO: implement\"}\n",
      "INFO:{\"mjd\": 59914.96633955985, \"proj\": \"dsa\", \"subsystem\": \"System\", \"app\": \"_\", \"version\": \"_\", \"module\": \"dsaStore\", \"function\": \"c-tor\", \"level\": \"info\", \"time\": \"2022-12-01T23:11:31.737964Z\", \"msg\": \"DsaStore created\"}\n"
     ]
    }
   ],
   "source": [
    "ls = dsa_store.DsaStore()"
   ]
  },
  {
   "cell_type": "markdown",
   "metadata": {},
   "source": [
    "## Set up"
   ]
  },
  {
   "cell_type": "code",
   "execution_count": 64,
   "metadata": {},
   "outputs": [
    {
     "name": "stdout",
     "output_type": "stream",
     "text": [
      "Loaded configuration for 7 x-engine host(s) running 4 pipeline(s) each\n",
      "Supported modes are: slow,beam1,beam2,beam3,beam4,beam5,beam6,beam7,beam8\n",
      "etcd server being used is: etcdv3service\n"
     ]
    }
   ],
   "source": [
    "con = control.Controller(\"/home/ubuntu/proj/lwa-shell/mnc_python/config/lwa_config_calim.yaml\")\n",
    "\n",
    "adrs = con.conf['arx']['adrs']\n",
    "snap2names = con.conf['fengines']['snap2s_inuse']\n",
    "xhosts = con.conf['xengines']['xhosts']\n",
    "recorders = con.conf['dr']['recorders']"
   ]
  },
  {
   "cell_type": "code",
   "execution_count": 9,
   "metadata": {},
   "outputs": [],
   "source": [
    "dd_statuses = []"
   ]
  },
  {
   "cell_type": "markdown",
   "metadata": {},
   "source": [
    "## cnf"
   ]
  },
  {
   "cell_type": "code",
   "execution_count": 10,
   "metadata": {
    "scrolled": false
   },
   "outputs": [],
   "source": [
    "df_cnf_read = reading.read_antpos_etcd()\n",
    "df_cnf = df_cnf_read[['snap2_hostname', 'snap2_chassis', 'snap2_location', 'fmc', 'pola_digitizer_channel',\n",
    "                      'polb_digitizer_channel', 'arx_address', 'pola_arx_channel', 'polb_arx_channel',\n",
    "                      'pola_fee', 'polb_fee']]"
   ]
  },
  {
   "cell_type": "markdown",
   "metadata": {},
   "source": [
    "## ARX"
   ]
  },
  {
   "cell_type": "code",
   "execution_count": 11,
   "metadata": {},
   "outputs": [
    {
     "name": "stderr",
     "output_type": "stream",
     "text": [
      "INFO:{\"mjd\": 59914.93750435305, \"proj\": \"dsa\", \"subsystem\": \"System\", \"app\": \"_\", \"version\": \"_\", \"module\": \"dsaStore\", \"function\": \"_check_host\", \"level\": \"info\", \"time\": \"2022-12-01T22:30:00.376095Z\", \"msg\": \"TODO: implement\"}\n",
      "INFO:{\"mjd\": 59914.93750436962, \"proj\": \"dsa\", \"subsystem\": \"System\", \"app\": \"_\", \"version\": \"_\", \"module\": \"dsaStore\", \"function\": \"_check_port\", \"level\": \"info\", \"time\": \"2022-12-01T22:30:00.377528Z\", \"msg\": \"TODO: implement\"}\n",
      "INFO:{\"mjd\": 59914.93750438747, \"proj\": \"dsa\", \"subsystem\": \"System\", \"app\": \"_\", \"version\": \"_\", \"module\": \"dsaStore\", \"function\": \"c-tor\", \"level\": \"info\", \"time\": \"2022-12-01T22:30:00.379070Z\", \"msg\": \"DsaStore created\"}\n",
      "INFO:{\"mjd\": 59914.937504415546, \"proj\": \"dsa\", \"subsystem\": \"System\", \"app\": \"_\", \"version\": \"_\", \"module\": \"dsaStore\", \"function\": \"_check_host\", \"level\": \"info\", \"time\": \"2022-12-01T22:30:00.381496Z\", \"msg\": \"TODO: implement\"}\n",
      "INFO:{\"mjd\": 59914.937504428635, \"proj\": \"dsa\", \"subsystem\": \"System\", \"app\": \"_\", \"version\": \"_\", \"module\": \"dsaStore\", \"function\": \"_check_port\", \"level\": \"info\", \"time\": \"2022-12-01T22:30:00.382626Z\", \"msg\": \"TODO: implement\"}\n",
      "INFO:{\"mjd\": 59914.937504447036, \"proj\": \"dsa\", \"subsystem\": \"System\", \"app\": \"_\", \"version\": \"_\", \"module\": \"dsaStore\", \"function\": \"c-tor\", \"level\": \"info\", \"time\": \"2022-12-01T22:30:00.384217Z\", \"msg\": \"DsaStore created\"}\n",
      "INFO:{\"mjd\": 59914.93750446824, \"proj\": \"LWA\", \"subsystem\": \"cmd_rsp\", \"app\": \"_\", \"version\": \"_\", \"module\": \"CmdRsp\", \"function\": \"c-tor\", \"level\": \"info\", \"time\": \"2022-12-01T22:30:00.386051Z\", \"msg\": \"Created CmdRsp object\"}\n",
      "INFO:{\"mjd\": 59914.93750448375, \"proj\": \"lwa\", \"subsystem\": \"arx\", \"app\": \"_\", \"version\": \"_\", \"module\": \"Arx\", \"function\": \"c-tor\", \"level\": \"info\", \"time\": \"2022-12-01T22:30:00.387389Z\", \"msg\": \"Created Arx object\"}\n"
     ]
    },
    {
     "name": "stdout",
     "output_type": "stream",
     "text": [
      "/home/ubuntu/anaconda3/envs/casa/lib/python3.6/site-packages/lwautils/conf/etcdConfig.yml\n"
     ]
    }
   ],
   "source": [
    "ma = lwa_arx.ARX()\n",
    "arxcfg = []\n",
    "for adr in adrs:\n",
    "    try:\n",
    "        dds = ma.get_all_chan_cfg(adr)\n",
    "    except:\n",
    "        continue\n",
    "    for ch, dd in enumerate(dds):\n",
    "        dd['adr-ch'] = f'{adr}-{ch}'\n",
    "        arxcfg.append(dd)\n",
    "    dd_astatus = {'name': f'arx{adr}', 'mp_age': 0, 'ready': dd['sig_on']}\n",
    "    dd_statuses.append(dd_astatus)\n",
    "\n",
    "# for missing ARXs?\n",
    "#    dd_astatus = {'name': f'arx{adr}', 'mp_age': -1, 'ready': False}\n",
    "#    dd_statuses.append(dd_astatus)\n",
    "\n",
    "df_arx = pd.DataFrame.from_dict(arxcfg)\n",
    "if any(df_arx):\n",
    "    df_arx.set_index('adr-ch', inplace=True)\n"
   ]
  },
  {
   "cell_type": "code",
   "execution_count": 15,
   "metadata": {
    "scrolled": false
   },
   "outputs": [],
   "source": [
    "#df_arx"
   ]
  },
  {
   "cell_type": "markdown",
   "metadata": {},
   "source": [
    "## F-engine"
   ]
  },
  {
   "cell_type": "code",
   "execution_count": 75,
   "metadata": {},
   "outputs": [
    {
     "name": "stdout",
     "output_type": "stream",
     "text": [
      "2022-12-01 23:22:15,495 - lwa_f.blocks.block:snap02 - INFO - adc - Detected FMC ADC board on port 0\n",
      "2022-12-01 23:22:15,726 - lwa_f.blocks.block:snap02 - INFO - adc - Detected FMC ADC board on port 1\n"
     ]
    },
    {
     "name": "stderr",
     "output_type": "stream",
     "text": [
      "Triggering stats polling loop stop\n",
      "Triggering stats polling loop stop\n",
      "INFO:Triggering stats polling loop stop\n",
      "Trying to stop a non-existent command watch\n",
      "Trying to stop a non-existent command watch\n",
      "INFO:Trying to stop a non-existent command watch\n"
     ]
    }
   ],
   "source": [
    "lwa_fe = snap2_feng_etcd_client.Snap2FengineEtcdClient('snap02', 2)"
   ]
  },
  {
   "cell_type": "code",
   "execution_count": 77,
   "metadata": {},
   "outputs": [],
   "source": [
    "lwa_fe.poll_stats()"
   ]
  },
  {
   "cell_type": "code",
   "execution_count": 78,
   "metadata": {},
   "outputs": [],
   "source": [
    "dd = ls.get_dict(lwa_fe.mon_key)"
   ]
  },
  {
   "cell_type": "code",
   "execution_count": 94,
   "metadata": {},
   "outputs": [
    {
     "data": {
      "text/plain": [
       "['fpga',\n",
       " 'adc',\n",
       " 'sync',\n",
       " 'noise',\n",
       " 'input',\n",
       " 'delay',\n",
       " 'pfb',\n",
       " 'eq',\n",
       " 'eqtvg',\n",
       " 'reorder',\n",
       " 'packetizer',\n",
       " 'eth',\n",
       " 'autocorr',\n",
       " 'corr',\n",
       " 'powermon']"
      ]
     },
     "execution_count": 94,
     "metadata": {},
     "output_type": "execute_result"
    }
   ],
   "source": [
    "list(dd['flags'])"
   ]
  },
  {
   "cell_type": "code",
   "execution_count": 82,
   "metadata": {},
   "outputs": [
    {
     "data": {
      "text/plain": [
       "'2022-12-01T23:22:22.019648+00:00'"
      ]
     },
     "execution_count": 82,
     "metadata": {},
     "output_type": "execute_result"
    }
   ],
   "source": [
    "dd['time']"
   ]
  },
  {
   "cell_type": "code",
   "execution_count": 92,
   "metadata": {},
   "outputs": [
    {
     "data": {
      "text/plain": [
       "{'uptime_fpga_clks': 244972049661952,\n",
       " 'period_fpga_clks': 536870912,\n",
       " 'period_pps_fpga_clks': 4,\n",
       " 'period_variations': 0,\n",
       " 'ext_count': 456245,\n",
       " 'int_count': 456270}"
      ]
     },
     "execution_count": 92,
     "metadata": {},
     "output_type": "execute_result"
    }
   ],
   "source": [
    "dd['stats']['sync']"
   ]
  },
  {
   "cell_type": "code",
   "execution_count": 29,
   "metadata": {
    "scrolled": true
   },
   "outputs": [
    {
     "name": "stdout",
     "output_type": "stream",
     "text": [
      "2022-11-08 02:07:03,605 - lwa_f.blocks.block:snap01 - INFO - adc - Detected FMC ADC board on port 0\n",
      "2022-11-08 02:07:03,844 - lwa_f.blocks.block:snap01 - INFO - adc - Detected FMC ADC board on port 1\n",
      "2022-11-08 02:07:04,394 - lwa_f.blocks.block:snap01 - INFO - adc - Detected FMC ADC board on port 0\n",
      "2022-11-08 02:07:04,632 - lwa_f.blocks.block:snap01 - INFO - adc - Detected FMC ADC board on port 1\n",
      "2022-11-08 02:07:05,468 - lwa_f.blocks.block:snap02 - INFO - adc - Detected FMC ADC board on port 0\n",
      "2022-11-08 02:07:05,709 - lwa_f.blocks.block:snap02 - INFO - adc - Detected FMC ADC board on port 1\n",
      "2022-11-08 02:07:06,316 - lwa_f.blocks.block:snap02 - INFO - adc - Detected FMC ADC board on port 0\n",
      "2022-11-08 02:07:06,545 - lwa_f.blocks.block:snap02 - INFO - adc - Detected FMC ADC board on port 1\n"
     ]
    },
    {
     "name": "stderr",
     "output_type": "stream",
     "text": [
      "Triggering stats polling loop stop\n",
      "INFO:Triggering stats polling loop stop\n",
      "Trying to stop a non-existent command watch\n",
      "INFO:Trying to stop a non-existent command watch\n"
     ]
    },
    {
     "name": "stdout",
     "output_type": "stream",
     "text": [
      "2022-11-08 02:07:07,626 - lwa_f.blocks.block:snap03 - INFO - adc - Detected FMC ADC board on port 0\n",
      "2022-11-08 02:07:08,175 - lwa_f.blocks.block:snap03 - INFO - adc - Detected FMC ADC board on port 1\n",
      "2022-11-08 02:07:08,794 - lwa_f.blocks.block:snap03 - INFO - adc - Detected FMC ADC board on port 0\n",
      "2022-11-08 02:07:09,033 - lwa_f.blocks.block:snap03 - INFO - adc - Detected FMC ADC board on port 1\n"
     ]
    },
    {
     "name": "stderr",
     "output_type": "stream",
     "text": [
      "Triggering stats polling loop stop\n",
      "INFO:Triggering stats polling loop stop\n",
      "Trying to stop a non-existent command watch\n",
      "INFO:Trying to stop a non-existent command watch\n"
     ]
    },
    {
     "name": "stdout",
     "output_type": "stream",
     "text": [
      "2022-11-08 02:07:10,030 - lwa_f.blocks.block:snap04 - INFO - adc - Detected FMC ADC board on port 0\n",
      "2022-11-08 02:07:10,301 - lwa_f.blocks.block:snap04 - INFO - adc - Detected FMC ADC board on port 1\n",
      "2022-11-08 02:07:10,881 - lwa_f.blocks.block:snap04 - INFO - adc - Detected FMC ADC board on port 0\n",
      "2022-11-08 02:07:11,151 - lwa_f.blocks.block:snap04 - INFO - adc - Detected FMC ADC board on port 1\n"
     ]
    },
    {
     "name": "stderr",
     "output_type": "stream",
     "text": [
      "Triggering stats polling loop stop\n",
      "INFO:Triggering stats polling loop stop\n",
      "Trying to stop a non-existent command watch\n",
      "INFO:Trying to stop a non-existent command watch\n"
     ]
    },
    {
     "name": "stdout",
     "output_type": "stream",
     "text": [
      "2022-11-08 02:07:11,990 - lwa_f.blocks.block:snap05 - INFO - adc - Detected FMC ADC board on port 0\n",
      "2022-11-08 02:07:12,228 - lwa_f.blocks.block:snap05 - INFO - adc - Detected FMC ADC board on port 1\n",
      "2022-11-08 02:07:12,230 - lwa_f.blocks.block:snap05 - WARNING - powermon - Error while trying to initialize I2C objects\n",
      "2022-11-08 02:07:12,896 - lwa_f.blocks.block:snap05 - INFO - adc - Detected FMC ADC board on port 0\n",
      "2022-11-08 02:07:13,135 - lwa_f.blocks.block:snap05 - INFO - adc - Detected FMC ADC board on port 1\n"
     ]
    },
    {
     "name": "stderr",
     "output_type": "stream",
     "text": [
      "Triggering stats polling loop stop\n",
      "INFO:Triggering stats polling loop stop\n",
      "Trying to stop a non-existent command watch\n",
      "INFO:Trying to stop a non-existent command watch\n"
     ]
    },
    {
     "name": "stdout",
     "output_type": "stream",
     "text": [
      "2022-11-08 02:07:14,070 - lwa_f.blocks.block:snap06 - INFO - adc - Detected FMC ADC board on port 0\n",
      "2022-11-08 02:07:14,433 - lwa_f.blocks.block:snap06 - INFO - adc - Detected FMC ADC board on port 1\n",
      "2022-11-08 02:07:15,005 - lwa_f.blocks.block:snap06 - INFO - adc - Detected FMC ADC board on port 0\n",
      "2022-11-08 02:07:15,261 - lwa_f.blocks.block:snap06 - INFO - adc - Detected FMC ADC board on port 1\n"
     ]
    },
    {
     "name": "stderr",
     "output_type": "stream",
     "text": [
      "Triggering stats polling loop stop\n",
      "INFO:Triggering stats polling loop stop\n",
      "Trying to stop a non-existent command watch\n",
      "INFO:Trying to stop a non-existent command watch\n"
     ]
    },
    {
     "name": "stdout",
     "output_type": "stream",
     "text": [
      "2022-11-08 02:07:16,101 - lwa_f.blocks.block:snap07 - INFO - adc - Detected FMC ADC board on port 0\n",
      "2022-11-08 02:07:16,332 - lwa_f.blocks.block:snap07 - INFO - adc - Detected FMC ADC board on port 1\n",
      "2022-11-08 02:07:16,893 - lwa_f.blocks.block:snap07 - INFO - adc - Detected FMC ADC board on port 0\n",
      "2022-11-08 02:07:17,123 - lwa_f.blocks.block:snap07 - INFO - adc - Detected FMC ADC board on port 1\n"
     ]
    },
    {
     "name": "stderr",
     "output_type": "stream",
     "text": [
      "Triggering stats polling loop stop\n",
      "INFO:Triggering stats polling loop stop\n",
      "Trying to stop a non-existent command watch\n",
      "INFO:Trying to stop a non-existent command watch\n"
     ]
    },
    {
     "name": "stdout",
     "output_type": "stream",
     "text": [
      "2022-11-08 02:07:18,054 - lwa_f.blocks.block:snap08 - INFO - adc - Detected FMC ADC board on port 0\n",
      "2022-11-08 02:07:18,293 - lwa_f.blocks.block:snap08 - INFO - adc - Detected FMC ADC board on port 1\n",
      "2022-11-08 02:07:18,850 - lwa_f.blocks.block:snap08 - INFO - adc - Detected FMC ADC board on port 0\n",
      "2022-11-08 02:07:19,188 - lwa_f.blocks.block:snap08 - INFO - adc - Detected FMC ADC board on port 1\n"
     ]
    },
    {
     "name": "stderr",
     "output_type": "stream",
     "text": [
      "Triggering stats polling loop stop\n",
      "INFO:Triggering stats polling loop stop\n",
      "Trying to stop a non-existent command watch\n",
      "INFO:Trying to stop a non-existent command watch\n"
     ]
    },
    {
     "name": "stdout",
     "output_type": "stream",
     "text": [
      "2022-11-08 02:07:20,018 - lwa_f.blocks.block:snap09 - INFO - adc - Detected FMC ADC board on port 0\n",
      "2022-11-08 02:07:20,473 - lwa_f.blocks.block:snap09 - INFO - adc - Detected FMC ADC board on port 1\n",
      "2022-11-08 02:07:21,055 - lwa_f.blocks.block:snap09 - INFO - adc - Detected FMC ADC board on port 0\n",
      "2022-11-08 02:07:21,302 - lwa_f.blocks.block:snap09 - INFO - adc - Detected FMC ADC board on port 1\n"
     ]
    },
    {
     "name": "stderr",
     "output_type": "stream",
     "text": [
      "Triggering stats polling loop stop\n",
      "INFO:Triggering stats polling loop stop\n",
      "Trying to stop a non-existent command watch\n",
      "INFO:Trying to stop a non-existent command watch\n"
     ]
    },
    {
     "name": "stdout",
     "output_type": "stream",
     "text": [
      "2022-11-08 02:07:22,250 - lwa_f.blocks.block:snap10 - INFO - adc - Detected FMC ADC board on port 0\n",
      "2022-11-08 02:07:22,489 - lwa_f.blocks.block:snap10 - INFO - adc - Detected FMC ADC board on port 1\n",
      "2022-11-08 02:07:23,057 - lwa_f.blocks.block:snap10 - INFO - adc - Detected FMC ADC board on port 0\n",
      "2022-11-08 02:07:23,727 - lwa_f.blocks.block:snap10 - INFO - adc - Detected FMC ADC board on port 1\n"
     ]
    },
    {
     "name": "stderr",
     "output_type": "stream",
     "text": [
      "Triggering stats polling loop stop\n",
      "INFO:Triggering stats polling loop stop\n",
      "Trying to stop a non-existent command watch\n",
      "INFO:Trying to stop a non-existent command watch\n"
     ]
    },
    {
     "name": "stdout",
     "output_type": "stream",
     "text": [
      "2022-11-08 02:07:24,584 - lwa_f.blocks.block:snap11 - INFO - adc - Detected FMC ADC board on port 0\n",
      "2022-11-08 02:07:27,828 - lwa_f.blocks.block:snap11 - INFO - adc - Detected FMC ADC board on port 1\n",
      "2022-11-08 02:07:28,631 - lwa_f.blocks.block:snap11 - INFO - adc - Detected FMC ADC board on port 0\n",
      "2022-11-08 02:07:28,880 - lwa_f.blocks.block:snap11 - INFO - adc - Detected FMC ADC board on port 1\n"
     ]
    },
    {
     "name": "stderr",
     "output_type": "stream",
     "text": [
      "Triggering stats polling loop stop\n",
      "INFO:Triggering stats polling loop stop\n",
      "Trying to stop a non-existent command watch\n",
      "INFO:Trying to stop a non-existent command watch\n"
     ]
    }
   ],
   "source": [
    "# mp update cadence < 1 min\n",
    "skipsnap = 'nope'\n",
    "dd_fs = []\n",
    "t_now = time.Time.now().unix\n",
    "\n",
    "for snap2name in snap2names:\n",
    "\n",
    "    # optional skip a snap\n",
    "    if skipsnap in snap2name:\n",
    "        continue\n",
    "\n",
    "    snap2num = int(snap2name.lstrip('snap'))\n",
    "    lwa_feng = snap2_fengine.Snap2Fengine(snap2name)\n",
    "    lwa_fe = snap2_feng_etcd_client.Snap2FengineEtcdClient(snap2name, snap2num)\n",
    "\n",
    "    st, fl = lwa_feng.fpga.get_status()\n",
    "    t_now = time.Time.now().unix\n",
    "\n",
    "    dd_fstatus = {'name': snap2name, 'mp_age': t_now-time.Time(st['timestamp']).unix,\n",
    "                  'ready': lwa_feng.is_connected() and st['programmed']}\n",
    "        \n",
    "    dd_statuses.append(dd_fstatus)\n",
    "\n",
    "    plot_fstats = None\n",
    "\n",
    "    dd_f = {'name': snap2name}\n",
    "\n",
    "    dd_f['is_connected'] = lwa_feng.is_connected()  # can SNAP be reached with ping on network?\n",
    "    dd_f['is_polling'] = lwa_fe.is_polling()   # is monitor service checking on SNAP?\n",
    "    dd_f['programmed'] = st['programmed']\n",
    "    dd_f['firmware'] = st['flash_firmware']\n",
    "        \n",
    "    dd_f['mp_age'] = t_now-time.Time(st['timestamp']).unix\n",
    "\n",
    "    if not lwa_feng.fpga.is_programmed():\n",
    "        dd_fs.append(dd_f)\n",
    "        continue\n",
    "\n",
    "    st, fl = lwa_feng.sync.get_status()\n",
    "    dd_f['uptime_fpga_clks'] = st['uptime_fpga_clks']\n",
    "\n",
    "    st, fl = lwa_feng.autocorr.get_status()\n",
    "    dd_f['autocorr_acc_len'] = st['acc_len']\n",
    "\n",
    "    st, fl = lwa_feng.corr.get_status()\n",
    "    dd_f['corr_acc_len'] = st['acc_len']\n",
    "\n",
    "    st, fl = lwa_feng.eqtvg.get_status()\n",
    "    dd_f['tvg_enabled'] = st['tvg_enabled']\n",
    "\n",
    "    st, fl = lwa_feng.eq.get_status()\n",
    "    dd_f['clip_count'] = st['clip_count']\n",
    "\n",
    "    dd_fs.append(dd_f)\n",
    "\n",
    "    st, fl = lwa_feng.input.get_status()\n",
    "    del lwa_feng\n",
    "    pows = np.array([v for (k,v) in st.items() if 'pow' in k])\n",
    "    means = np.array([v for (k,v) in st.items() if 'mean' in k])\n",
    "    rms = np.array([v for (k,v) in st.items() if 'rms' in k])\n",
    "#    snap_input = [f'{snap2name}-{k.strip(\"rms\")}' for (k,v) in st.items() if 'rms' in k]\n",
    "    df_fstats = pd.DataFrame(data={'pows': pows, 'mean': means, 'snap': len(pows)*[f'{snap2name}']})\n",
    "    plot_fstats = df_fstats.hvplot.scatter('pows', 'mean', by='snap', width=500, title='F-engine stats')\n",
    "\n",
    "df_f = pd.DataFrame.from_dict(dd_fs)\n",
    "if any(df_f):\n",
    "    df_f.set_index('name', inplace=True)"
   ]
  },
  {
   "cell_type": "code",
   "execution_count": 31,
   "metadata": {},
   "outputs": [],
   "source": [
    "#df_f"
   ]
  },
  {
   "cell_type": "code",
   "execution_count": 33,
   "metadata": {},
   "outputs": [],
   "source": [
    "#plot_fstats"
   ]
  },
  {
   "cell_type": "markdown",
   "metadata": {},
   "source": [
    "## X-engine"
   ]
  },
  {
   "cell_type": "code",
   "execution_count": 34,
   "metadata": {},
   "outputs": [],
   "source": [
    "# This could be replaced with mnc/mcs.py code\n",
    "\n",
    "if configure_x:\n",
    "    p = Lwa352CorrelatorControl( ['lxdlwagpu0%d' % i for i in range(1,9) ], npipeline_per_host=4)\n",
    "    p.stop_pipelines()\n",
    "    p.start_pipelines()\n",
    "    if p.pipelines_are_up(verbose=True):\n",
    "        p.configure_corr(dest_ip=['10.41.0.25', '10.41.0.25', '10.41.0.41', '10.41.0.41'],\n",
    "                         dest_port=[10001+i//4 for i in range(32)] ) "
   ]
  },
  {
   "cell_type": "code",
   "execution_count": 42,
   "metadata": {
    "scrolled": false
   },
   "outputs": [],
   "source": [
    "# mp update cadence of <10s\n",
    "npipeline = con.conf['xengines']['nxpipeline']\n",
    "dd_xs = []\n",
    "t_now = time.Time.now().unix\n",
    "for host in xhosts:\n",
    "    for pipeline in range(npipeline):\n",
    "        lwa_x = Lwa352PipelineControl(pipeline_id=pipeline, etcdhost=common.ETCD_HOST, host=host)\n",
    "        if lwa_x.pipeline_is_up():\n",
    "            st = lwa_x.corr.get_bifrost_status()\n",
    "            t_now = time.Time.now().unix\n",
    "            stats = st['stats']\n",
    "            name = f'{host}-{pipeline}'\n",
    "            dd_xstatus = {'name': name}\n",
    "            dd_x = {'name': name}\n",
    "            dd_x['gbps'] = st['gbps']\n",
    "            dd_x['mp_age'] = t_now-st['time']\n",
    "#            print(name, dd_x['mp_age'])\n",
    "            if len(stats) > 1:\n",
    "                dd_xstatus['ready'] = stats['state'] == 'running'\n",
    "                if stats['state'] == 'running':\n",
    "                    dd_x['curr_sample'] = stats['curr_sample']\n",
    "                    dd_x['state'] = stats['state']\n",
    "            dd_xs.append(dd_x)\n",
    "\n",
    "            dd_xstatus['mp_age'] = t_now-st['time']\n",
    "            dd_statuses.append(dd_xstatus)\n",
    "        else:\n",
    "            print(f'Pipeline for {host}:{pipeline} is not up')\n",
    "\n",
    "df_x = pd.DataFrame.from_dict(dd_xs)\n",
    "if any(df_x):\n",
    "    df_x.set_index('name', inplace=True)"
   ]
  },
  {
   "cell_type": "code",
   "execution_count": 44,
   "metadata": {},
   "outputs": [],
   "source": [
    "#df_x"
   ]
  },
  {
   "cell_type": "markdown",
   "metadata": {},
   "source": [
    "## Data capture"
   ]
  },
  {
   "cell_type": "code",
   "execution_count": 59,
   "metadata": {},
   "outputs": [
    {
     "data": {
      "text/plain": [
       "<MonitorPoint timestamp='2022-11-08 02:12:30.279251', value='error',\n",
       "    unit=''>"
      ]
     },
     "execution_count": 59,
     "metadata": {},
     "output_type": "execute_result"
    }
   ],
   "source": [
    "con.drc.read_monitor_point('summary', id='drvs')"
   ]
  },
  {
   "cell_type": "code",
   "execution_count": 60,
   "metadata": {},
   "outputs": [
    {
     "name": "stdout",
     "output_type": "stream",
     "text": [
      "ERROR2: the JSON object must be str, bytes or bytearray, not 'NoneType'\n",
      "ERROR2: the JSON object must be str, bytes or bytearray, not 'NoneType'\n",
      "ERROR2: the JSON object must be str, bytes or bytearray, not 'NoneType'\n",
      "ERROR2: the JSON object must be str, bytes or bytearray, not 'NoneType'\n",
      "ERROR2: the JSON object must be str, bytes or bytearray, not 'NoneType'\n",
      "ERROR2: the JSON object must be str, bytes or bytearray, not 'NoneType'\n",
      "ERROR2: the JSON object must be str, bytes or bytearray, not 'NoneType'\n",
      "ERROR2: the JSON object must be str, bytes or bytearray, not 'NoneType'\n",
      "ERROR2: the JSON object must be str, bytes or bytearray, not 'NoneType'\n"
     ]
    }
   ],
   "source": [
    "dd_ds = []\n",
    "t_now = time.Time.now().unix\n",
    "data_baselines = None\n",
    "data_spectra = None\n",
    "for drid in recorders:\n",
    "    lwa_dr = mcs.Client(drid)\n",
    "    if lwa_dr is not None and data_baselines is None:\n",
    "        try:\n",
    "            data_baselines = lwa_dr.read_monitor_point('diagnostics/baselines', id=drid).value\n",
    "            data_spectra = lwa_dr.read_monitor_point('diagnostics/spectra', id=drid).value\n",
    "            print('data_baselines and data_spectra set')\n",
    "        except AttributeError:\n",
    "            pass\n",
    "    summary = lwa_dr.read_monitor_point('summary')\n",
    "    if summary is None:\n",
    "        continue\n",
    "    t_mp = summary.timestamp\n",
    "    dd_dstatus = {'name': drid, 'mp_age': t_now-t_mp,\n",
    "                  'ready': summary.value == 'normal'}\n",
    "    dd_statuses.append(dd_dstatus)\n",
    "\n",
    "    rx_rate = None\n",
    "    rx_missing = None\n",
    "#    pipeline_lag = lwa_dr.read_monitor_point('bifrost/pipeline_lag', id=drid).value\n",
    "    pipeline_lag = None\n",
    "    dd_d = {'name': f'{drid}', 'rx_rate': rx_rate, 'rx_missing': rx_missing,\n",
    "            'pipeline_lag': pipeline_lag, 'summary': summary.value}\n",
    "    dd_ds.append(dd_d)\n",
    "else:\n",
    "    lwa_dr = None\n",
    "        \n",
    "df_d = pd.DataFrame.from_dict(dd_ds)\n",
    "if any(df_d):\n",
    "    df_d.set_index('name', inplace=True)"
   ]
  },
  {
   "cell_type": "code",
   "execution_count": 62,
   "metadata": {},
   "outputs": [],
   "source": [
    "#df_d"
   ]
  },
  {
   "cell_type": "code",
   "execution_count": 63,
   "metadata": {},
   "outputs": [],
   "source": [
    "if data_baselines is not None:\n",
    "    pane_spectra = pn.pane.PNG(display.Image(mcs.ImageMonitorPoint._decode_image_data(data_spectra)), width=500)\n",
    "    pane_baselines = pn.pane.PNG(display.Image(mcs.ImageMonitorPoint._decode_image_data(data_baselines)), width=500)\n",
    "else:\n",
    "    pane_spectra = pn.pane.PNG()\n",
    "    pane_baselines = pn.pane.PNG()"
   ]
  },
  {
   "cell_type": "code",
   "execution_count": 66,
   "metadata": {},
   "outputs": [],
   "source": [
    "df_status = pd.DataFrame.from_dict(dd_statuses)\n",
    "df_status.set_index('name', inplace=True)\n",
    "#df_x"
   ]
  },
  {
   "cell_type": "markdown",
   "metadata": {},
   "source": [
    "## Maybe add controls here"
   ]
  },
  {
   "cell_type": "code",
   "execution_count": null,
   "metadata": {
    "scrolled": true
   },
   "outputs": [],
   "source": [
    "# Test data recorder\n",
    "#from mnc.ezdr import Lwa352RecorderControl\n",
    "#rs = Lwa352RecorderControl('slow')\n",
    "#rs.start()\n",
    "#rs.stop()\n",
    "\n",
    "#from mnc.xengine_beamformer_control import *"
   ]
  },
  {
   "cell_type": "markdown",
   "metadata": {},
   "source": [
    "## Build dashboard"
   ]
  },
  {
   "cell_type": "code",
   "execution_count": 67,
   "metadata": {},
   "outputs": [],
   "source": [
    "# coloring and filtering functions\n",
    "\n",
    "frequencies = np.linspace(0, 196/2, 4096//8, endpoint=False)  # get_new_corr does 8-channel average\n",
    "\n",
    "def filter_df(antpol):\n",
    "    \"\"\" Given ant-pol string input, plot the snap2 f-engine autocorr\n",
    "    \"\"\"\n",
    "\n",
    "#    return df_spec[colname].hvplot.line(title=f'autocorrelation spectrum', xlabel='channels', ylabel='amplitude')\n",
    "    if not antpol:\n",
    "        specs = {f'no ant': np.zeros(512), 'frequencies': frequencies}\n",
    "        df_spec = pd.DataFrame.from_dict(specs)\n",
    "        return df_spec.hvplot.line(x='frequencies', title=f'autocorrelation spectrum',\n",
    "                                   xlabel='frequencies', ylabel='amplitude')\n",
    "    numpol = antpol.upper().lstrip('LWA-')  # prep input\n",
    "    num = numpol[:-1]\n",
    "    pol = numpol[-1:]\n",
    "    snap2num, inp = mapping.antpol_to_digitizer(f'LWA-{num}', pol)\n",
    "    lwa_feng = snap2_fengine.Snap2Fengine(f'snap{snap2num:02}')\n",
    "    \n",
    "    spec = lwa_feng.corr.get_new_corr(inp, inp).real  # 8-channel average, normalized by accumulated time/chans\n",
    "    del lwa_feng\n",
    "    specs = {f'antpol {antpol}': spec, 'frequencies': frequencies}\n",
    "    df_spec = pd.DataFrame.from_dict(specs)\n",
    "    return df_spec.hvplot.line(x='frequencies', y=f'antpol {antpol}', title=f'autocorrelation spectrum',\n",
    "                               xlabel='frequencies', ylabel='amplitude')\n",
    "\n",
    "def color_bad(val):\n",
    "    \"\"\"\n",
    "    Colors text red if bad.\n",
    "    Made for status df, so False and mp_age > 100 are \"bad\"\n",
    "    \"\"\"\n",
    "    color = 'red' if (val is False or val > 100) else 'black'\n",
    "    return 'color: %s' % color\n",
    "\n",
    "#col_filter = pn.widgets.TextInput(placeholder='Enter a f-eng input for snap01')\n",
    "col_filter = pn.widgets.TextInput(placeholder='Plot f-eng for ant-pol name (e.g., 240a)')"
   ]
  },
  {
   "cell_type": "code",
   "execution_count": 68,
   "metadata": {},
   "outputs": [],
   "source": [
    "tab = pn.widgets.Tabulator(df_status)"
   ]
  },
  {
   "cell_type": "code",
   "execution_count": 70,
   "metadata": {},
   "outputs": [],
   "source": [
    "# using Tabulator\n",
    "df_status_pane = pn.widgets.Tabulator(df_status)#.style.applymap(color_bad)\n",
    "df_cnf_pane = pn.widgets.Tabulator(df_cnf, layout='fit_data_table', pagination='remote', page_size=20)\n",
    "df_f_pane = pn.widgets.Tabulator(df_f, layout='fit_data_table', pagination='remote', page_size=20)\n",
    "df_x_pane = pn.widgets.Tabulator(df_x, layout='fit_data_table', pagination='remote', page_size=20)\n",
    "df_arx_pane = pn.widgets.Tabulator(df_arx, layout='fit_data_table', pagination='remote', page_size=20)\n",
    "df_d_pane = pn.widgets.Tabulator(df_d, layout='fit_data_table', pagination='remote', page_size=20)\n",
    "\n",
    "#df_status_pane.add_filter(slider, 'mp_age')\n",
    "#df_status_pane_sel = pn.Column(slider, df_status_pane)"
   ]
  },
  {
   "cell_type": "code",
   "execution_count": 71,
   "metadata": {},
   "outputs": [],
   "source": [
    "dashboard_title = pn.panel('## OVRO-LWA dashboard')\n",
    "header_table = pn.pane.Markdown('##Subsystem monitor points')\n",
    "tabs = pn.Tabs(('Cabling', df_cnf_pane),\n",
    "               ('ARX', df_arx_pane),\n",
    "               ('F-engine', df_f_pane),\n",
    "               ('X-engine', df_x_pane),\n",
    "               ('Data recorder', df_d_pane))\n",
    "header_f = pn.pane.Markdown('##F-engine plots')\n",
    "plot_spec_pane = pn.Row(pn.panel(pn.bind(filter_df, col_filter)), pn.Column(col_filter))\n",
    "header_dr = pn.pane.Markdown('##Data recorder plots')\n",
    "plot_dr = pn.Row(pane_spectra, pane_baselines)\n",
    "mini_dashboard = pn.Column(dashboard_title, df_status_pane, header_table, tabs, header_f,\n",
    "                           plot_fstats, plot_spec_pane, header_dr, plot_dr)"
   ]
  },
  {
   "cell_type": "code",
   "execution_count": 72,
   "metadata": {
    "scrolled": false
   },
   "outputs": [
    {
     "data": {},
     "metadata": {},
     "output_type": "display_data"
    },
    {
     "data": {},
     "metadata": {},
     "output_type": "display_data"
    },
    {
     "data": {
      "application/vnd.holoviews_exec.v0+json": "",
      "text/html": [
       "<div id='1206'>\n",
       "\n",
       "\n",
       "\n",
       "\n",
       "\n",
       "  <div class=\"bk-root\" id=\"5b0a0036-57a8-4d80-884f-92710985b0cd\" data-root-id=\"1206\"></div>\n",
       "</div>\n",
       "<script type=\"application/javascript\">(function(root) {\n",
       "  function embed_document(root) {\n",
       "    var docs_json = {\"ef4c414a-0c95-4169-af15-2ca70888787a\":{\"defs\":[{\"extends\":null,\"module\":null,\"name\":\"ReactiveHTML1\",\"overrides\":[],\"properties\":[]},{\"extends\":null,\"module\":null,\"name\":\"FlexBox1\",\"overrides\":[],\"properties\":[{\"default\":\"flex-start\",\"kind\":null,\"name\":\"align_content\"},{\"default\":\"flex-start\",\"kind\":null,\"name\":\"align_items\"},{\"default\":\"row\",\"kind\":null,\"name\":\"flex_direction\"},{\"default\":\"wrap\",\"kind\":null,\"name\":\"flex_wrap\"},{\"default\":\"flex-start\",\"kind\":null,\"name\":\"justify_content\"}]},{\"extends\":null,\"module\":null,\"name\":\"TemplateActions1\",\"overrides\":[],\"properties\":[{\"default\":0,\"kind\":null,\"name\":\"open_modal\"},{\"default\":0,\"kind\":null,\"name\":\"close_modal\"}]},{\"extends\":null,\"module\":null,\"name\":\"MaterialTemplateActions1\",\"overrides\":[],\"properties\":[{\"default\":0,\"kind\":null,\"name\":\"open_modal\"},{\"default\":0,\"kind\":null,\"name\":\"close_modal\"}]}],\"roots\":{\"references\":[{\"attributes\":{\"editor\":{\"id\":\"1351\"},\"field\":\"is_polling\",\"formatter\":{\"id\":\"1350\"},\"title\":\"is_polling\",\"width\":0},\"id\":\"1352\",\"type\":\"TableColumn\"},{\"attributes\":{\"margin\":[0,0,0,0],\"tabs\":[{\"id\":\"1295\"},{\"id\":\"1336\"},{\"id\":\"1397\"},{\"id\":\"1428\"},{\"id\":\"1459\"}]},\"id\":\"1229\",\"type\":\"Tabs\"},{\"attributes\":{\"callback\":null,\"renderers\":[{\"id\":\"1506\"}],\"tags\":[\"hv_created\"],\"tooltips\":[[\"snap\",\"@{snap}\"],[\"pows\",\"@{pows}\"],[\"mean\",\"@{mean}\"]]},\"id\":\"1463\",\"type\":\"HoverTool\"},{\"attributes\":{},\"id\":\"1422\",\"type\":\"StringEditor\"},{\"attributes\":{},\"id\":\"1278\",\"type\":\"NumberFormatter\"},{\"attributes\":{\"line_alpha\":0.2,\"line_color\":\"#30a2da\",\"line_width\":2,\"x\":{\"field\":\"frequencies\"},\"y\":{\"field\":\"no ant\"}},\"id\":\"1651\",\"type\":\"Line\"},{\"attributes\":{\"editor\":{\"id\":\"1279\"},\"field\":\"polb_arx_channel\",\"formatter\":{\"id\":\"1278\"},\"title\":\"polb_arx_channel\",\"width\":0},\"id\":\"1280\",\"type\":\"TableColumn\"},{\"attributes\":{\"columns\":[{\"id\":\"1235\"},{\"id\":\"1240\"},{\"id\":\"1245\"},{\"id\":\"1250\"},{\"id\":\"1255\"},{\"id\":\"1260\"},{\"id\":\"1265\"},{\"id\":\"1270\"},{\"id\":\"1275\"},{\"id\":\"1280\"},{\"id\":\"1285\"},{\"id\":\"1290\"}],\"configuration\":{\"columns\":[{\"field\":\"antname\"},{\"field\":\"snap2_hostname\"},{\"field\":\"snap2_chassis\"},{\"field\":\"snap2_location\"},{\"field\":\"fmc\"},{\"field\":\"pola_digitizer_channel\"},{\"field\":\"polb_digitizer_channel\"},{\"field\":\"arx_address\"},{\"field\":\"pola_arx_channel\"},{\"field\":\"polb_arx_channel\"},{\"field\":\"pola_fee\"},{\"field\":\"polb_fee\"}],\"dataTree\":false,\"selectable\":true},\"height\":630,\"indexes\":[\"antname\"],\"layout\":\"fit_data_table\",\"margin\":[5,10,5,10],\"max_page\":19,\"name\":\"\",\"page\":1,\"page_size\":20,\"pagination\":\"remote\",\"selectable_rows\":null,\"source\":{\"id\":\"1230\"}},\"id\":\"1293\",\"type\":\"panel.models.tabulator.DataTabulator\"},{\"attributes\":{},\"id\":\"1351\",\"type\":\"CheckboxEditor\"},{\"attributes\":{\"format\":\"0,0.0[00000]\"},\"id\":\"1416\",\"type\":\"NumberFormatter\"},{\"attributes\":{\"margin\":[5,5,5,5],\"name\":\"PNG02738\",\"text\":\"<img></img>\"},\"id\":\"1685\",\"type\":\"panel.models.markup.HTML\"},{\"attributes\":{\"data_source\":{\"id\":\"1646\"},\"glyph\":{\"id\":\"1649\"},\"hover_glyph\":null,\"muted_glyph\":{\"id\":\"1651\"},\"nonselection_glyph\":{\"id\":\"1650\"},\"selection_glyph\":{\"id\":\"1654\"},\"view\":{\"id\":\"1653\"}},\"id\":\"1652\",\"type\":\"GlyphRenderer\"},{\"attributes\":{},\"id\":\"1289\",\"type\":\"IntEditor\"},{\"attributes\":{},\"id\":\"1421\",\"type\":\"StringFormatter\"},{\"attributes\":{\"editor\":{\"id\":\"1284\"},\"field\":\"pola_fee\",\"formatter\":{\"id\":\"1283\"},\"title\":\"pola_fee\",\"width\":0},\"id\":\"1285\",\"type\":\"TableColumn\"},{\"attributes\":{\"css_classes\":[\"markdown\"],\"margin\":[5,5,5,5],\"name\":\"Markdown02753\",\"text\":\"&lt;h2&gt;Subsystem monitor points&lt;/h2&gt;\"},\"id\":\"1228\",\"type\":\"panel.models.markup.HTML\"},{\"attributes\":{},\"id\":\"1350\",\"type\":\"StringFormatter\"},{\"attributes\":{\"source\":{\"id\":\"1646\"}},\"id\":\"1653\",\"type\":\"CDSView\"},{\"attributes\":{},\"id\":\"1304\",\"type\":\"StringFormatter\"},{\"attributes\":{\"editor\":{\"id\":\"1320\"},\"field\":\"first_atten\",\"formatter\":{\"id\":\"1319\"},\"title\":\"first_atten\",\"width\":0},\"id\":\"1321\",\"type\":\"TableColumn\"},{\"attributes\":{\"editor\":{\"id\":\"1366\"},\"field\":\"mp_age\",\"formatter\":{\"id\":\"1365\"},\"title\":\"mp_age\",\"width\":0},\"id\":\"1367\",\"type\":\"TableColumn\"},{\"attributes\":{},\"id\":\"1264\",\"type\":\"IntEditor\"},{\"attributes\":{},\"id\":\"1288\",\"type\":\"NumberFormatter\"},{\"attributes\":{\"format\":\"0,0.0[00000]\"},\"id\":\"1324\",\"type\":\"NumberFormatter\"},{\"attributes\":{\"margin\":[5,5,5,5],\"name\":\"PNG02740\",\"text\":\"<img></img>\"},\"id\":\"1686\",\"type\":\"panel.models.markup.HTML\"},{\"attributes\":{\"editor\":{\"id\":\"1417\"},\"field\":\"curr_sample\",\"formatter\":{\"id\":\"1416\"},\"title\":\"curr_sample\",\"width\":0},\"id\":\"1418\",\"type\":\"TableColumn\"},{\"attributes\":{},\"id\":\"1659\",\"type\":\"AllLabels\"},{\"attributes\":{\"editor\":{\"id\":\"1356\"},\"field\":\"programmed\",\"formatter\":{\"id\":\"1355\"},\"title\":\"programmed\",\"width\":0},\"id\":\"1357\",\"type\":\"TableColumn\"},{\"attributes\":{},\"id\":\"1309\",\"type\":\"StringFormatter\"},{\"attributes\":{\"editor\":{\"id\":\"1305\"},\"field\":\"sig_on\",\"formatter\":{\"id\":\"1304\"},\"title\":\"sig_on\",\"width\":0},\"id\":\"1306\",\"type\":\"TableColumn\"},{\"attributes\":{},\"id\":\"1320\",\"type\":\"NumberEditor\"},{\"attributes\":{\"children\":[{\"id\":\"1207\"},{\"id\":\"1226\"},{\"id\":\"1228\"},{\"id\":\"1229\"},{\"id\":\"1460\"},{\"id\":\"1464\"},{\"id\":\"1611\"},{\"id\":\"1683\"},{\"id\":\"1684\"}],\"margin\":[0,0,0,0],\"name\":\"Column02852\"},\"id\":\"1206\",\"type\":\"Column\"},{\"attributes\":{},\"id\":\"1700\",\"type\":\"UnionRenderers\"},{\"attributes\":{},\"id\":\"1356\",\"type\":\"CheckboxEditor\"},{\"attributes\":{},\"id\":\"1417\",\"type\":\"NumberEditor\"},{\"attributes\":{},\"id\":\"1657\",\"type\":\"BasicTickFormatter\"},{\"attributes\":{\"editor\":{\"id\":\"1234\"},\"field\":\"antname\",\"formatter\":{\"id\":\"1232\"},\"title\":\"antname\",\"width\":0},\"id\":\"1235\",\"type\":\"TableColumn\"},{\"attributes\":{\"line_color\":\"#30a2da\",\"line_width\":2,\"x\":{\"field\":\"frequencies\"},\"y\":{\"field\":\"no ant\"}},\"id\":\"1654\",\"type\":\"Line\"},{\"attributes\":{},\"id\":\"1305\",\"type\":\"CheckboxEditor\"},{\"attributes\":{},\"id\":\"1355\",\"type\":\"StringFormatter\"},{\"attributes\":{\"editor\":{\"id\":\"1433\"},\"field\":\"name\",\"formatter\":{\"id\":\"1431\"},\"title\":\"name\",\"width\":0},\"id\":\"1434\",\"type\":\"TableColumn\"},{\"attributes\":{\"children\":[{\"id\":\"1616\"}],\"margin\":[0,0,0,0],\"name\":\"Row02762\"},\"id\":\"1612\",\"type\":\"Row\"},{\"attributes\":{\"data\":{\"mean\":{\"__ndarray__\":\"AAAAAED16r8AAAAA4NrnvwAAAABwd/Y/AAAAAEDB/b8AAAAAwFf4PwAAAABwxPI/AAAAALCb/b8AAAAAIEP6PwAAAACwkQDAAAAAAADXxr8AAAAAKOgEwAAAAABAI+e/AAAAADBk+78AAAAAAJXCPwAAAACwm/G/AAAAAMBR/78AAAAAEPbyPwAAAADANtA/AAAAAAC9/D8AAAAAAABxvwAAAAAAQ9Y/AAAAAKAc7z8AAAAA8Fv9vwAAAACwA/G/AAAAADg0AMAAAAAAAA/cPwAAAABAZPU/AAAAAFhEFMAAAAAAsPwQwAAAAAAQdPE/AAAAAMh1CkAAAAAA6OYCwAAAAACAOv+/AAAAAGBG6D8AAAAAgAzCPwAAAADwrAbAAAAAAMA5+r8AAAAAAOzsPwAAAAAIEAFAAAAAAEAg5L8AAAAAyMkHwAAAAAAAcOQ/AAAAAJj3A8AAAAAAAAbvPwAAAACgyPO/AAAAAOCo/T8AAAAAALX/vwAAAABQaQDAAAAAAKD0EcAAAAAAgPTEvwAAAADgIuw/AAAAAKBR6z8AAAAAQCTZPwAAAAAAuOg/AAAAAAixBcAAAAAASDAHwAAAAADQegHAAAAAAABv7b8AAAAAoCD0vwAAAABQg/O/AAAAAIC84L8AAAAAAC+5PwAAAADILAtAAAAAAKDeC8A=\",\"dtype\":\"float64\",\"order\":\"little\",\"shape\":[64]},\"pows\":{\"__ndarray__\":\"AAAAwKDNpUAAAABS1++jQAAAACxjYJ5AAAAA1ALeo0AAAABgtp6ZQAAAACzNC5dAAAAArHG+n0AAAABwFnedQAAAADjpcZ5AAAAA6B/4mkAAAAC1vjGxQAAAAISBnqpAAAAA9vuQoUAAAACQ8BWdQAAAAERH1J1AAAAAIGsYnkAAAAAkX/ycQAAAAARynZtAAAAAKMl6nUAAAAAwKPOaQAAAAKi0Up9AAAAA7IumnUAAAAAqPCagQAAAAOSeNJ1AAAAAhCeqm0AAAACgF9KZQAAAAOjwbKBAAAAAsPGTmUAAAABcAmynQAAAALyPMZ1AAAAAHJHXnkAAAACc9Q2bQAAAAKiD/pxAAAAA5FxTnUAAAAB07hWbQAAAAKhunZtAAAAAuMLUnkAAAAAIcCieQAAAABSty5xAAAAAyEYHnkAAAAD0cuqcQAAAAFgSOZxAAAAAFgVnoEAAAAAAnTSdQAAAAHgaaJ5AAAAAWBHvmkAAAAAgO3OgQAAAACDWU51AAAAAEKXxnUAAAABcjWSeQAAAALxMIpxAAAAALHKRnEAAAAAAJvoiQAAAAADcwiVAAAAA+obEoUAAAABUEDWdQAAAAAAwmCRAAAAAAPC0HUAAAAAAnGMgQAAAAAAEfh5AAAAAAMCMIUAAAAAAVJYXQAAAAABbdDFAAAAAAEi7MkA=\",\"dtype\":\"float64\",\"order\":\"little\",\"shape\":[64]},\"snap\":[\"snap11\",\"snap11\",\"snap11\",\"snap11\",\"snap11\",\"snap11\",\"snap11\",\"snap11\",\"snap11\",\"snap11\",\"snap11\",\"snap11\",\"snap11\",\"snap11\",\"snap11\",\"snap11\",\"snap11\",\"snap11\",\"snap11\",\"snap11\",\"snap11\",\"snap11\",\"snap11\",\"snap11\",\"snap11\",\"snap11\",\"snap11\",\"snap11\",\"snap11\",\"snap11\",\"snap11\",\"snap11\",\"snap11\",\"snap11\",\"snap11\",\"snap11\",\"snap11\",\"snap11\",\"snap11\",\"snap11\",\"snap11\",\"snap11\",\"snap11\",\"snap11\",\"snap11\",\"snap11\",\"snap11\",\"snap11\",\"snap11\",\"snap11\",\"snap11\",\"snap11\",\"snap11\",\"snap11\",\"snap11\",\"snap11\",\"snap11\",\"snap11\",\"snap11\",\"snap11\",\"snap11\",\"snap11\",\"snap11\",\"snap11\"]},\"selected\":{\"id\":\"1501\"},\"selection_policy\":{\"id\":\"1516\"}},\"id\":\"1500\",\"type\":\"ColumnDataSource\"},{\"attributes\":{},\"id\":\"1346\",\"type\":\"CheckboxEditor\"},{\"attributes\":{\"editor\":{\"id\":\"1361\"},\"field\":\"firmware\",\"formatter\":{\"id\":\"1360\"},\"title\":\"firmware\",\"width\":0},\"id\":\"1362\",\"type\":\"TableColumn\"},{\"attributes\":{},\"id\":\"1623\",\"type\":\"LinearScale\"},{\"attributes\":{},\"id\":\"1234\",\"type\":\"CellEditor\"},{\"attributes\":{},\"id\":\"1660\",\"type\":\"BasicTickFormatter\"},{\"attributes\":{\"children\":[{\"id\":\"1612\"},{\"id\":\"1681\"}],\"margin\":[0,0,0,0],\"name\":\"Row02843\"},\"id\":\"1611\",\"type\":\"Row\"},{\"attributes\":{\"children\":[{\"id\":\"1685\"},{\"id\":\"1686\"}],\"margin\":[0,0,0,0],\"name\":\"Row02846\"},\"id\":\"1684\",\"type\":\"Row\"},{\"attributes\":{\"columns\":[{\"id\":\"1403\"},{\"id\":\"1408\"},{\"id\":\"1413\"},{\"id\":\"1418\"},{\"id\":\"1423\"}],\"configuration\":{\"columns\":[{\"field\":\"name\"},{\"field\":\"gbps\"},{\"field\":\"mp_age\"},{\"field\":\"curr_sample\"},{\"field\":\"state\"}],\"dataTree\":false,\"selectable\":true},\"height\":630,\"indexes\":[\"name\"],\"layout\":\"fit_data_table\",\"margin\":[5,10,5,10],\"max_page\":2,\"name\":\"\",\"page\":1,\"page_size\":20,\"pagination\":\"remote\",\"selectable_rows\":null,\"source\":{\"id\":\"1398\"}},\"id\":\"1426\",\"type\":\"panel.models.tabulator.DataTabulator\"},{\"attributes\":{\"fill_alpha\":{\"value\":0.2},\"fill_color\":{\"value\":\"#30a2da\"},\"line_alpha\":{\"value\":0.2},\"line_color\":{\"value\":\"#30a2da\"},\"size\":{\"value\":5.477225575051661},\"x\":{\"field\":\"pows\"},\"y\":{\"field\":\"mean\"}},\"id\":\"1505\",\"type\":\"Scatter\"},{\"attributes\":{},\"id\":\"1621\",\"type\":\"LinearScale\"},{\"attributes\":{},\"id\":\"1300\",\"type\":\"CellEditor\"},{\"attributes\":{\"child\":{\"id\":\"1334\"},\"name\":\"\",\"title\":\"ARX\"},\"id\":\"1336\",\"type\":\"Panel\"},{\"attributes\":{},\"id\":\"1437\",\"type\":\"StringFormatter\"},{\"attributes\":{},\"id\":\"1341\",\"type\":\"CellEditor\"},{\"attributes\":{\"indices\":[]},\"id\":\"1430\",\"type\":\"Selection\"},{\"attributes\":{\"editor\":{\"id\":\"1264\"},\"field\":\"polb_digitizer_channel\",\"formatter\":{\"id\":\"1263\"},\"title\":\"polb_digitizer_channel\",\"width\":0},\"id\":\"1265\",\"type\":\"TableColumn\"},{\"attributes\":{\"editor\":{\"id\":\"1300\"},\"field\":\"adr-ch\",\"formatter\":{\"id\":\"1298\"},\"title\":\"adr-ch\",\"width\":0},\"id\":\"1301\",\"type\":\"TableColumn\"},{\"attributes\":{\"text\":\"autocorrelation spectrum\",\"text_color\":\"black\",\"text_font_size\":\"12pt\"},\"id\":\"1617\",\"type\":\"Title\"},{\"attributes\":{\"below\":[{\"id\":\"1625\"}],\"center\":[{\"id\":\"1628\"},{\"id\":\"1632\"}],\"height\":300,\"left\":[{\"id\":\"1629\"}],\"margin\":[5,5,5,5],\"min_border_bottom\":10,\"min_border_left\":10,\"min_border_right\":10,\"min_border_top\":10,\"renderers\":[{\"id\":\"1652\"}],\"sizing_mode\":\"fixed\",\"title\":{\"id\":\"1617\"},\"toolbar\":{\"id\":\"1639\"},\"width\":700,\"x_range\":{\"id\":\"1613\"},\"x_scale\":{\"id\":\"1621\"},\"y_range\":{\"id\":\"1614\"},\"y_scale\":{\"id\":\"1623\"}},\"id\":\"1616\",\"subtype\":\"Figure\",\"type\":\"Plot\"},{\"attributes\":{\"editor\":{\"id\":\"1422\"},\"field\":\"state\",\"formatter\":{\"id\":\"1421\"},\"title\":\"state\",\"width\":0},\"id\":\"1423\",\"type\":\"TableColumn\"},{\"attributes\":{},\"id\":\"1339\",\"type\":\"StringFormatter\"},{\"attributes\":{},\"id\":\"1279\",\"type\":\"IntEditor\"},{\"attributes\":{},\"id\":\"1471\",\"type\":\"LinearScale\"},{\"attributes\":{\"editor\":{\"id\":\"1412\"},\"field\":\"mp_age\",\"formatter\":{\"id\":\"1411\"},\"title\":\"mp_age\",\"width\":0},\"id\":\"1413\",\"type\":\"TableColumn\"},{\"attributes\":{\"angle\":{\"value\":0.0},\"fill_alpha\":{\"value\":1.0},\"fill_color\":{\"value\":\"#30a2da\"},\"hatch_alpha\":{\"value\":1.0},\"hatch_color\":{\"value\":\"black\"},\"hatch_scale\":{\"value\":12.0},\"hatch_weight\":{\"value\":1.0},\"line_alpha\":{\"value\":1.0},\"line_cap\":{\"value\":\"butt\"},\"line_color\":{\"value\":\"#30a2da\"},\"line_dash\":{\"value\":[]},\"line_dash_offset\":{\"value\":0},\"line_join\":{\"value\":\"bevel\"},\"line_width\":{\"value\":1},\"marker\":{\"value\":\"circle\"},\"size\":{\"value\":5.477225575051661},\"x\":{\"field\":\"pows\"},\"y\":{\"field\":\"mean\"}},\"id\":\"1520\",\"type\":\"Scatter\"},{\"attributes\":{\"data\":{\"frequencies\":{\"__ndarray__\":\"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\",\"dtype\":\"float64\",\"order\":\"little\",\"shape\":[512]},\"no ant\":{\"__ndarray__\":\"AAAAAAAAAAAAAAAAAAAAAAAAAAAAAAAAAAAAAAAAAAAAAAAAAAAAAAAAAAAAAAAAAAAAAAAAAAAAAAAAAAAAAAAAAAAAAAAAAAAAAAAAAAAAAAAAAAAAAAAAAAAAAAAAAAAAAAAAAAAAAAAAAAAAAAAAAAAAAAAAAAAAAAAAAAAAAAAAAAAAAAAAAAAAAAAAAAAAAAAAAAAAAAAAAAAAAAAAAAAAAAAAAAAAAAAAAAAAAAAAAAAAAAAAAAAAAAAAAAAAAAAAAAAAAAAAAAAAAAAAAAAAAAAAAAAAAAAAAAAAAAAAAAAAAAAAAAAAAAAAAAAAAAAAAAAAAAAAAAAAAAAAAAAAAAAAAAAAAAAAAAAAAAAAAAAAAAAAAAAAAAAAAAAAAAAAAAAAAAAAAAAAAAAAAAAAAAAAAAAAAAAAAAAAAAAAAAAAAAAAAAAAAAAAAAAAAAAAAAAAAAAAAAAAAAAAAAAAAAAAAAAAAAAAAAAAAAAAAAAAAAAAAAAAAAAAAAAAAAAAAAAAAAAAAAAAAAAAAAAAAAAAAAAAAAAAAAAAAAAAAAAAAAAAAAAAAAAAAAAAAAAAAAAAAAAAAAAAAAAAAAAAAAAAAAAAAAAAAAAAAAAAAAAAAAAAAAAAAAAAAAAAAAAAAAAAAAAAAAAAAAAAAAAAAAAAAAAAAAAAAAAAAAAAAAAAAAAAAAAAAAAAAAAAAAAAAAAAAAAAAAAAAAAAAAAAAAAAAAAAAAAAAAAAAAAAAAAAAAAAAAAAAAAAAAAAAAAAAAAAAAAAAAAAAAAAAAAAAAAAAAAAAAAAAAAAAAAAAAAAAAAAAAAAAAAAAAAAAAAAAAAAAAAAAAAAAAAAAAAAAAAAAAAAAAAAAAAAAAAAAAAAAAAAAAAAAAAAAAAAAAAAAAAAAAAAAAAAAAAAAAAAAAAAAAAAAAAAAAAAAAAAAAAAAAAAAAAAAAAAAAAAAAAAAAAAAAAAAAAAAAAAAAAAAAAAAAAAAAAAAAAAAAAAAAAAAAAAAAAAAAAAAAAAAAAAAAAAAAAAAAAAAAAAAAAAAAAAAAAAAAAAAAAAAAAAAAAAAAAAAAAAAAAAAAAAAAAAAAAAAAAAAAAAAAAAAAAAAAAAAAAAAAAAAAAAAAAAAAAAAAAAAAAAAAAAAAAAAAAAAAAAAAAAAAAAAAAAAAAAAAAAAAAAAAAAAAAAAAAAAAAAAAAAAAAAAAAAAAAAAAAAAAAAAAAAAAAAAAAAAAAAAAAAAAAAAAAAAAAAAAAAAAAAAAAAAAAAAAAAAAAAAAAAAAAAAAAAAAAAAAAAAAAAAAAAAAAAAAAAAAAAAAAAAAAAAAAAAAAAAAAAAAAAAAAAAAAAAAAAAAAAAAAAAAAAAAAAAAAAAAAAAAAAAAAAAAAAAAAAAAAAAAAAAAAAAAAAAAAAAAAAAAAAAAAAAAAAAAAAAAAAAAAAAAAAAAAAAAAAAAAAAAAAAAAAAAAAAAAAAAAAAAAAAAAAAAAAAAAAAAAAAAAAAAAAAAAAAAAAAAAAAAAAAAAAAAAAAAAAAAAAAAAAAAAAAAAAAAAAAAAAAAAAAAAAAAAAAAAAAAAAAAAAAAAAAAAAAAAAAAAAAAAAAAAAAAAAAAAAAAAAAAAAAAAAAAAAAAAAAAAAAAAAAAAAAAAAAAAAAAAAAAAAAAAAAAAAAAAAAAAAAAAAAAAAAAAAAAAAAAAAAAAAAAAAAAAAAAAAAAAAAAAAAAAAAAAAAAAAAAAAAAAAAAAAAAAAAAAAAAAAAAAAAAAAAAAAAAAAAAAAAAAAAAAAAAAAAAAAAAAAAAAAAAAAAAAAAAAAAAAAAAAAAAAAAAAAAAAAAAAAAAAAAAAAAAAAAAAAAAAAAAAAAAAAAAAAAAAAAAAAAAAAAAAAAAAAAAAAAAAAAAAAAAAAAAAAAAAAAAAAAAAAAAAAAAAAAAAAAAAAAAAAAAAAAAAAAAAAAAAAAAAAAAAAAAAAAAAAAAAAAAAAAAAAAAAAAAAAAAAAAAAAAAAAAAAAAAAAAAAAAAAAAAAAAAAAAAAAAAAAAAAAAAAAAAAAAAAAAAAAAAAAAAAAAAAAAAAAAAAAAAAAAAAAAAAAAAAAAAAAAAAAAAAAAAAAAAAAAAAAAAAAAAAAAAAAAAAAAAAAAAAAAAAAAAAAAAAAAAAAAAAAAAAAAAAAAAAAAAAAAAAAAAAAAAAAAAAAAAAAAAAAAAAAAAAAAAAAAAAAAAAAAAAAAAAAAAAAAAAAAAAAAAAAAAAAAAAAAAAAAAAAAAAAAAAAAAAAAAAAAAAAAAAAAAAAAAAAAAAAAAAAAAAAAAAAAAAAAAAAAAAAAAAAAAAAAAAAAAAAAAAAAAAAAAAAAAAAAAAAAAAAAAAAAAAAAAAAAAAAAAAAAAAAAAAAAAAAAAAAAAAAAAAAAAAAAAAAAAAAAAAAAAAAAAAAAAAAAAAAAAAAAAAAAAAAAAAAAAAAAAAAAAAAAAAAAAAAAAAAAAAAAAAAAAAAAAAAAAAAAAAAAAAAAAAAAAAAAAAAAAAAAAAAAAAAAAAAAAAAAAAAAAAAAAAAAAAAAAAAAAAAAAAAAAAAAAAAAAAAAAAAAAAAAAAAAAAAAAAAAAAAAAAAAAAAAAAAAAAAAAAAAAAAAAAAAAAAAAAAAAAAAAAAAAAAAAAAAAAAAAAAAAAAAAAAAAAAAAAAAAAAAAAAAAAAAAAAAAAAAAAAAAAAAAAAAAAAAAAAAAAAAAAAAAAAAAAAAAAAAAAAAAAAAAAAAAAAAAAAAAAAAAAAAAAAAAAAAAAAAAAAAAAAAAAAAAAAAAAAAAAAAAAAAAAAAAAAAAAAAAAAAAAAAAAAAAAAAAAAAAAAAAAAAAAAAAAAAAAAAAAAAAAAAAAAAAAAAAAAAAAAAAAAAAAAAAAAAAAAAAAAAAAAAAAAAAAAAAAAAAAAAAAAAAAAAAAAAAAAAAAAAAAAAAAAAAAAAAAAAAAAAAAAAAAAAAAAAAAAAAAAAAAAAAAAAAAAAAAAAAAAAAAAAAAAAAAAAAAAAAAAAAAAAAAAAAAAAAAAAAAAAAAAAAAAAAAAAAAAAAAAAAAAAAAAAAAAAAAAAAAAAAAAAAAAAAAAAAAAAAAAAAAAAAAAAAAAAAAAAAAAAAAAAAAAAAAAAAAAAAAAAAAAAAAAAAAAAAAAAAAAAAAAAAAAAAAAAAAAAAAAAAAAAAAAAAAAAAAAAAAAAAAAAAAAAAAAAAAAAAAAAAAAAAAAAAAAAAAAAAAAAAAAAAAAAAAAAAAAAAAAAAAAAAAAAAAAAAAAAAAAAAAAAAAAAAAAAAAAAAAAAAAAAAAAAAAAAAAAAAAAAAAAAAAAAAAAAAAAAAAAAAAAAAAAAAAAAAAAAAAAAAAAAAAAAAAAAAAAAAAAAAAAAAAAAAAAAAAAAAAAAAAAAAAAAAAAAAAAAAAAAAAAAAAAAAAAAAAAAAAAAAAAAAAAAAAAAAAAAAAAAAAAAAAAAAAAAAAAAAAAAAAAAAAAAAAAAAAAAAAAAAAAAAAAAAAAAAAAAAAAAAAAAAAAAAAAAAAAAAAAAAAAAAAAAAAAAAAAAAAAAAAAAAAAAAAAAAAAAAAAAAAAAAAAAAAAAAAAAAAAAAAAAAAAAAAAAAAAAAAAAAAAAAAAAAAAAAAAAAAAAAAAAAAAAAAAAAAAAAAAAAAAAAAAAAAAAAAAAAAAAAAAAAAAAAAAAAAAAAAAAAAAAAAAAAAAAAAAAAAAAAAAAAAAAAAAAAAAAAAAAAAAAAAAAAAAAAAAAAAAAAAAAAAAAAAAAAAAAAAAAAAAAAAAAAAAAAAAAAAAAAAAAAAAAAAAAAAAAAAAAAAAAAAAAAAAAAAAAAAAAAAAAAAAAAAAAAAAAAAAAAAAAAAAAAAAAAAAAAAAAAAAAAAAAAAAAAAAAAAAAAAAAAAAAAAAAAAAAAAAAAAAAAAAAAAAAAAAAAAAAAAAAAAAAAAAAAAAAAAAAAAAAAAAAAAAAAAAAAAAAAAAAAAAAAAAAAAAAAAAAAAAAAAAAAAAAAAAAAAAAAAAAAAAAAAAAAAAAAAAAAAAAAAAAAAAAAAAAAAAAAAAAAAAAAAAAAAAAAAAAAAAAAAAAAAAAAAAAAAAAAAAAAAAAAAAAAAAAAAAAAAAAAAAAAAAAAAAAAAAAAAAAAAAAAAAAAAAAAAAAAAAAAAAAAAAAAAAAAAAAAAAAAAAAAAAAAAAAAAAAAAAAAAAAAAAAAAAAAAAAAAAAAAAAAAAAAAAAAAAAAAAAAAAAAAAAAAAAAAAAAAAAAAAAAAAAAAAAAAAAAAAAAAAAAAAAAAAAAAAAAAAAAAAAAAAAAAAAAAAAAAAAAAAAAAAAAAAAAAAAAAAAAAAAAAAAAAAAAAAAAAAAAAAAAAAAAAAAAAAAAAAAAAAAAAAAAAAAAAAAAAAAAAAAAAAAAAAAAAAAAAAAAAAAAAAAAAAAAAAAAAAAAAAAAAAAAAAAAAAAAAAAAAAAAAAAAAAAAAAAAAAAAAAAAAAAAAAAAAAAAAAAAAAAAAAAAAAAAAAAAAAAAAAAAAAAAAAAAAAAAAAAAAAAAAAAAAAAAAAAAAAAAAAAAAAAAAAAAAAAAAAAAAAAAAAAAAAAAAAAAAAAAAAAAAAAAAAAAAAAAAAAAAAAAAAAAAAAAAAAAAAAAAAAAAAAAAAAAAAAAAAAAAAAAAAAAAAAAAAAAAAAAAAAAAAAAAAAAAAAAAAAAAAAAAAAAAAAAAAAAAAAAAAAAAAAAAAAAAAAAAAAAAAAAAAAAAAAAAAAAAAAAAAAAAAAAAAAAAAAAAAAAAAAAAAAAAAAAAAAAAAAAAAAAAAAAAAAAAAAAAAAAAAAAAAAAAAAAAAAAAAAAAAAAAAAAAAAAAAAAAAAAAAAAAAAAAAAAAAAAAAAAAAAAAAAAAAAAAAAAAAAAAAAAAAAAAAAAAAAAAAAAAAAAAAAAAAAAAAAAAAAAAAAAAAAAAAAAAAAAAAAAAAAAAAAAAAAAAAAAAAAAAAAAAAAAAAAAAAAAAAAAAAAAAAAAAAAAAAAAAAAAAAAAAAAAAAAAAAAAAAAAAAAAAAAAAAAAAAAAAAAAAAAAAAAAAAAAAAAAAAAAAAAAAAAAAAAAAAAAAAAAAAAAAAAAAAAAAAAAAAAAAAAAAAAAAAAAAAAAAAAAAAAAAAAAAAAAAAAAAAAAAAAAAAAAAAAAAAAAAAAAAAAAAAAAAAAAAAAAAAAAAAAAAAAAAAAAAAAAAAAAAAAAAAAAAAAAAAAAAAAAAAAAAAAAAAAAAAAAAAAAAAAAAAAAAAAAAAAAAAAAAAAAAAAAAAAAAAAAAAAAAAAAAAAAAAAAAAAAAAAAAAAAAAAAAAAAAAAAAAAAAAAAAAAAAAAAAAAAAAAAAAAAAAAAAAAAAAAAAAAAAAAAAAAAAAAAAAAAAAAAAAAAAAAAAAAAAAAAAAAAAAAAAAAAAAAAAAAAAAAAAAAAAAAA==\",\"dtype\":\"float64\",\"order\":\"little\",\"shape\":[512]},\"no_ant\":{\"__ndarray__\":\"AAAAAAAAAAAAAAAAAAAAAAAAAAAAAAAAAAAAAAAAAAAAAAAAAAAAAAAAAAAAAAAAAAAAAAAAAAAAAAAAAAAAAAAAAAAAAAAAAAAAAAAAAAAAAAAAAAAAAAAAAAAAAAAAAAAAAAAAAAAAAAAAAAAAAAAAAAAAAAAAAAAAAAAAAAAAAAAAAAAAAAAAAAAAAAAAAAAAAAAAAAAAAAAAAAAAAAAAAAAAAAAAAAAAAAAAAAAAAAAAAAAAAAAAAAAAAAAAAAAAAAAAAAAAAAAAAAAAAAAAAAAAAAAAAAAAAAAAAAAAAAAAAAAAAAAAAAAAAAAAAAAAAAAAAAAAAAAAAAAAAAAAAAAAAAAAAAAAAAAAAAAAAAAAAAAAAAAAAAAAAAAAAAAAAAAAAAAAAAAAAAAAAAAAAAAAAAAAAAAAAAAAAAAAAAAAAAAAAAAAAAAAAAAAAAAAAAAAAAAAAAAAAAAAAAAAAAAAAAAAAAAAAAAAAAAAAAAAAAAAAAAAAAAAAAAAAAAAAAAAAAAAAAAAAAAAAAAAAAAAAAAAAAAAAAAAAAAAAAAAAAAAAAAAAAAAAAAAAAAAAAAAAAAAAAAAAAAAAAAAAAAAAAAAAAAAAAAAAAAAAAAAAAAAAAAAAAAAAAAAAAAAAAAAAAAAAAAAAAAAAAAAAAAAAAAAAAAAAAAAAAAAAAAAAAAAAAAAAAAAAAAAAAAAAAAAAAAAAAAAAAAAAAAAAAAAAAAAAAAAAAAAAAAAAAAAAAAAAAAAAAAAAAAAAAAAAAAAAAAAAAAAAAAAAAAAAAAAAAAAAAAAAAAAAAAAAAAAAAAAAAAAAAAAAAAAAAAAAAAAAAAAAAAAAAAAAAAAAAAAAAAAAAAAAAAAAAAAAAAAAAAAAAAAAAAAAAAAAAAAAAAAAAAAAAAAAAAAAAAAAAAAAAAAAAAAAAAAAAAAAAAAAAAAAAAAAAAAAAAAAAAAAAAAAAAAAAAAAAAAAAAAAAAAAAAAAAAAAAAAAAAAAAAAAAAAAAAAAAAAAAAAAAAAAAAAAAAAAAAAAAAAAAAAAAAAAAAAAAAAAAAAAAAAAAAAAAAAAAAAAAAAAAAAAAAAAAAAAAAAAAAAAAAAAAAAAAAAAAAAAAAAAAAAAAAAAAAAAAAAAAAAAAAAAAAAAAAAAAAAAAAAAAAAAAAAAAAAAAAAAAAAAAAAAAAAAAAAAAAAAAAAAAAAAAAAAAAAAAAAAAAAAAAAAAAAAAAAAAAAAAAAAAAAAAAAAAAAAAAAAAAAAAAAAAAAAAAAAAAAAAAAAAAAAAAAAAAAAAAAAAAAAAAAAAAAAAAAAAAAAAAAAAAAAAAAAAAAAAAAAAAAAAAAAAAAAAAAAAAAAAAAAAAAAAAAAAAAAAAAAAAAAAAAAAAAAAAAAAAAAAAAAAAAAAAAAAAAAAAAAAAAAAAAAAAAAAAAAAAAAAAAAAAAAAAAAAAAAAAAAAAAAAAAAAAAAAAAAAAAAAAAAAAAAAAAAAAAAAAAAAAAAAAAAAAAAAAAAAAAAAAAAAAAAAAAAAAAAAAAAAAAAAAAAAAAAAAAAAAAAAAAAAAAAAAAAAAAAAAAAAAAAAAAAAAAAAAAAAAAAAAAAAAAAAAAAAAAAAAAAAAAAAAAAAAAAAAAAAAAAAAAAAAAAAAAAAAAAAAAAAAAAAAAAAAAAAAAAAAAAAAAAAAAAAAAAAAAAAAAAAAAAAAAAAAAAAAAAAAAAAAAAAAAAAAAAAAAAAAAAAAAAAAAAAAAAAAAAAAAAAAAAAAAAAAAAAAAAAAAAAAAAAAAAAAAAAAAAAAAAAAAAAAAAAAAAAAAAAAAAAAAAAAAAAAAAAAAAAAAAAAAAAAAAAAAAAAAAAAAAAAAAAAAAAAAAAAAAAAAAAAAAAAAAAAAAAAAAAAAAAAAAAAAAAAAAAAAAAAAAAAAAAAAAAAAAAAAAAAAAAAAAAAAAAAAAAAAAAAAAAAAAAAAAAAAAAAAAAAAAAAAAAAAAAAAAAAAAAAAAAAAAAAAAAAAAAAAAAAAAAAAAAAAAAAAAAAAAAAAAAAAAAAAAAAAAAAAAAAAAAAAAAAAAAAAAAAAAAAAAAAAAAAAAAAAAAAAAAAAAAAAAAAAAAAAAAAAAAAAAAAAAAAAAAAAAAAAAAAAAAAAAAAAAAAAAAAAAAAAAAAAAAAAAAAAAAAAAAAAAAAAAAAAAAAAAAAAAAAAAAAAAAAAAAAAAAAAAAAAAAAAAAAAAAAAAAAAAAAAAAAAAAAAAAAAAAAAAAAAAAAAAAAAAAAAAAAAAAAAAAAAAAAAAAAAAAAAAAAAAAAAAAAAAAAAAAAAAAAAAAAAAAAAAAAAAAAAAAAAAAAAAAAAAAAAAAAAAAAAAAAAAAAAAAAAAAAAAAAAAAAAAAAAAAAAAAAAAAAAAAAAAAAAAAAAAAAAAAAAAAAAAAAAAAAAAAAAAAAAAAAAAAAAAAAAAAAAAAAAAAAAAAAAAAAAAAAAAAAAAAAAAAAAAAAAAAAAAAAAAAAAAAAAAAAAAAAAAAAAAAAAAAAAAAAAAAAAAAAAAAAAAAAAAAAAAAAAAAAAAAAAAAAAAAAAAAAAAAAAAAAAAAAAAAAAAAAAAAAAAAAAAAAAAAAAAAAAAAAAAAAAAAAAAAAAAAAAAAAAAAAAAAAAAAAAAAAAAAAAAAAAAAAAAAAAAAAAAAAAAAAAAAAAAAAAAAAAAAAAAAAAAAAAAAAAAAAAAAAAAAAAAAAAAAAAAAAAAAAAAAAAAAAAAAAAAAAAAAAAAAAAAAAAAAAAAAAAAAAAAAAAAAAAAAAAAAAAAAAAAAAAAAAAAAAAAAAAAAAAAAAAAAAAAAAAAAAAAAAAAAAAAAAAAAAAAAAAAAAAAAAAAAAAAAAAAAAAAAAAAAAAAAAAAAAAAAAAAAAAAAAAAAAAAAAAAAAAAAAAAAAAAAAAAAAAAAAAAAAAAAAAAAAAAAAAAAAAAAAAAAAAAAAAAAAAAAAAAAAAAAAAAAAAAAAAAAAAAAAAAAAAAAAAAAAAAAAAAAAAAAAAAAAAAAAAAAAAAAAAAAAAAAAAAAAAAAAAAAAAAAAAAAAAAAAAAAAAAAAAAAAAAAAAAAAAAAAAAAAAAAAAAAAAAAAAAAAAAAAAAAAAAAAAAAAAAAAAAAAAAAAAAAAAAAAAAAAAAAAAAAAAAAAAAAAAAAAAAAAAAAAAAAAAAAAAAAAAAAAAAAAAAAAAAAAAAAAAAAAAAAAAAAAAAAAAAAAAAAAAAAAAAAAAAAAAAAAAAAAAAAAAAAAAAAAAAAAAAAAAAAAAAAAAAAAAAAAAAAAAAAAAAAAAAAAAAAAAAAAAAAAAAAAAAAAAAAAAAAAAAAAAAAAAAAAAAAAAAAAAAAAAAAAAAAAAAAAAAAAAAAAAAAAAAAAAAAAAAAAAAAAAAAAAAAAAAAAAAAAAAAAAAAAAAAAAAAAAAAAAAAAAAAAAAAAAAAAAAAAAAAAAAAAAAAAAAAAAAAAAAAAAAAAAAAAAAAAAAAAAAAAAAAAAAAAAAAAAAAAAAAAAAAAAAAAAAAAAAAAAAAAAAAAAAAAAAAAAAAAAAAAAAAAAAAAAAAAAAAAAAAAAAAAAAAAAAAAAAAAAAAAAAAAAAAAAAAAAAAAAAAAAAAAAAAAAAAAAAAAAAAAAAAAAAAAAAAAAAAAAAAAAAAAAAAAAAAAAAAAAAAAAAAAAAAAAAAAAAAAAAAAAAAAAAAAAAAAAAAAAAAAAAAAAAAAAAAAAAAAAAAAAAAAAAAAAAAAAAAAAAAAAAAAAAAAAAAAAAAAAAAAAAAAAAAAAAAAAAAAAAAAAAAAAAAAAAAAAAAAAAAAAAAAAAAAAAAAAAAAAAAAAAAAAAAAAAAAAAAAAAAAAAAAAAAAAAAAAAAAAAAAAAAAAAAAAAAAAAAAAAAAAAAAAAAAAAAAAAAAAAAAAAAAAAAAAAAAAAAAAAAAAAAAAAAAAAAAAAAAAAAAAAAAAAAAAAAAAAAAAAAAAAAAAAAAAAAAAAAAAAAAAAAAAAAAAAAAAAAAAAAAAAAAAAAAAAAAAAAAAAAAAAAAAAAAAAAAAAAAAAAAAAAAAAAAAAAAAAAAAAAAAAAAAAAAAAAAAAAAAAAAAAAAAAAAAAAAAAAAAAAAAAAAAAAAAAAAAAAAAAAAAAAAAAAAAAAAAAAAAAAAAAAAAAAAAAAAAAAAAAAAAAAAAAAAAAAAAAAAAAAAAAAAAAAAAAAAAAAAAAAAAAAAAAAAAAAAAAAAAAAAAAAAAAAAAAAAAAAAAAAAAAAAAAAAAAAAAAAAAAAAAAAAAAAAAAAAAAAAAAAAAAAAAAAAAAAAAAAAAAAAAAAAAAAAAAAAAAAAAAAAAAAAAAAAAAAAAAAAAAAAAAAAAAAAAAAAAAAAAAAAAAAAAAAAAAAAAAAAAAAAAAAAAAAAAAAAAAAAAAAAAAAAAAAAAAAAAAAAAAAAAAAAAAAAAAAAAAAAAAAAAAAAAAAAAAAAAAAAAAAAAAAAAAAAAAAAAAAAAAAAAAAAAAAAAAAAAAAAAAAAAAAAAAAAAAAAAAAAAAAAAAAAAAAAAAAAAAAAAAAAAAAAAAAAAAAAAAAAAAAAAAAAAAAAAAAAAAAAAAAAAAAAAAAAAAAAAAAAAAAAAAAAAAAAAAAAAAAAAAAAAAAAAAAAAAAAAAAAAAAAAAAAAAAAAAAAAAAAAAAAAAAAAAAAAAAAAAAAAAAAAAAAAAAAAAAAAAAAAAAAAAAAAAAAAAAAAAAAAAAAAAAAAAAAAAAAAAAAAAAAAAAAAAAAAAAAAAAAAAAAAAAAAAAAAAAAAAAAAAAAAAAAAAAAAAAAAAAAAAAAAAAAAAAAAAAAAAAAAAAAAAAAAAAAAAAAAAAAAAAAAAAAAAAAAAAAAAAAAAAAAAAAAAAAAAAAAAAAAAAAAAAAAAAAAAAAAAAAAAAAAAAAAAAAAAAAAAAAAAAAAAAAAAAAAAAAAAAAAAAAAAAAAAAAAAAAAAAAAAAAAAAAAAAAAAAAAAAAAAAAAAAAAAAAAAAAAAAAAAAAAAAAAAAAAAAAAAAAAAAAAAAAAAAAAAAAAAAAAAAAAAAAAAAAAAAAAAAAAAAAAAAAAAAAAAAAAAAAAAAAAAAAAAAAAAAAAAAAAAAAAAAAAAAAAAAAAAAAAAAAAAAAAAAAAAAAAAAAAAAAAAAAAAAAAAAAAAAAAAAAAAAAAAAAAAAAAAAAAAAAAAAAAAAAAAAAAAAAAAAAAAAAAAAAAAAAAAAAAAAAAAAAAAAAAAAAAAAAAAAAAAAAAAAAAAAAAAAAAAAAAAAAAAAAAAAAAAAAAAAAAAAAAAAAAAAAAAAAAAAAAAAAAAAAAAAAAAAAAAAAAAAAAAAAAAAAAAAAAAAAAAAAAAAAAAAAAAAAAAAAAAAAAAAAAAAAAAAAAAAAAAAAAAAAAAAAAAAAAAAAAAAAAAAAAAAAAAAAAAAAAAAAAAAAAAAAAAAAAAA==\",\"dtype\":\"float64\",\"order\":\"little\",\"shape\":[512]}},\"selected\":{\"id\":\"1647\"},\"selection_policy\":{\"id\":\"1669\"}},\"id\":\"1646\",\"type\":\"ColumnDataSource\"},{\"attributes\":{},\"id\":\"1433\",\"type\":\"CellEditor\"},{\"attributes\":{\"fill_alpha\":{\"value\":0.1},\"fill_color\":{\"value\":\"#30a2da\"},\"line_alpha\":{\"value\":0.1},\"line_color\":{\"value\":\"#30a2da\"},\"size\":{\"value\":5.477225575051661},\"x\":{\"field\":\"pows\"},\"y\":{\"field\":\"mean\"}},\"id\":\"1504\",\"type\":\"Scatter\"},{\"attributes\":{},\"id\":\"1248\",\"type\":\"NumberFormatter\"},{\"attributes\":{},\"id\":\"1345\",\"type\":\"StringFormatter\"},{\"attributes\":{\"end\":4.243226623535156,\"reset_end\":4.243226623535156,\"reset_start\":-5.913102722167968,\"start\":-5.913102722167968,\"tags\":[[[\"mean\",\"mean\",null]]]},\"id\":\"1462\",\"type\":\"Range1d\"},{\"attributes\":{\"editor\":{\"id\":\"1341\"},\"field\":\"name\",\"formatter\":{\"id\":\"1339\"},\"title\":\"name\",\"width\":0},\"id\":\"1342\",\"type\":\"TableColumn\"},{\"attributes\":{},\"id\":\"1269\",\"type\":\"IntEditor\"},{\"attributes\":{},\"id\":\"1298\",\"type\":\"StringFormatter\"},{\"attributes\":{\"editor\":{\"id\":\"1269\"},\"field\":\"arx_address\",\"formatter\":{\"id\":\"1268\"},\"title\":\"arx_address\",\"width\":0},\"id\":\"1270\",\"type\":\"TableColumn\"},{\"attributes\":{\"child\":{\"id\":\"1395\"},\"name\":\"\",\"title\":\"F-engine\"},\"id\":\"1397\",\"type\":\"Panel\"},{\"attributes\":{},\"id\":\"1238\",\"type\":\"StringFormatter\"},{\"attributes\":{},\"id\":\"1253\",\"type\":\"NumberFormatter\"},{\"attributes\":{},\"id\":\"1268\",\"type\":\"NumberFormatter\"},{\"attributes\":{\"children\":[{\"id\":\"1682\"}],\"margin\":[0,0,0,0],\"name\":\"Column02842\"},\"id\":\"1681\",\"type\":\"Column\"},{\"attributes\":{\"editor\":{\"id\":\"1315\"},\"field\":\"narrow_hpf\",\"formatter\":{\"id\":\"1314\"},\"title\":\"narrow_hpf\",\"width\":0},\"id\":\"1316\",\"type\":\"TableColumn\"},{\"attributes\":{},\"id\":\"1273\",\"type\":\"NumberFormatter\"},{\"attributes\":{},\"id\":\"1263\",\"type\":\"NumberFormatter\"},{\"attributes\":{\"indices\":[]},\"id\":\"1231\",\"type\":\"Selection\"},{\"attributes\":{},\"id\":\"1254\",\"type\":\"IntEditor\"},{\"attributes\":{},\"id\":\"1315\",\"type\":\"CheckboxEditor\"},{\"attributes\":{\"indices\":[]},\"id\":\"1399\",\"type\":\"Selection\"},{\"attributes\":{\"end\":4665.4958380126955,\"reset_end\":4665.4958380126955,\"reset_start\":-257.85408386230466,\"start\":-257.85408386230466,\"tags\":[[[\"pows\",\"pows\",null]]]},\"id\":\"1461\",\"type\":\"Range1d\"},{\"attributes\":{},\"id\":\"1314\",\"type\":\"StringFormatter\"},{\"attributes\":{\"editor\":{\"id\":\"1289\"},\"field\":\"polb_fee\",\"formatter\":{\"id\":\"1288\"},\"title\":\"polb_fee\",\"width\":0},\"id\":\"1290\",\"type\":\"TableColumn\"},{\"attributes\":{\"callback\":null,\"renderers\":[{\"id\":\"1652\"}],\"tags\":[\"hv_created\"],\"tooltips\":[[\"frequencies\",\"@{frequencies}\"],[\"no ant\",\"@{no_ant}\"]]},\"id\":\"1615\",\"type\":\"HoverTool\"},{\"attributes\":{\"child\":{\"id\":\"1457\"},\"name\":\"\",\"title\":\"Data recorder\"},\"id\":\"1459\",\"type\":\"Panel\"},{\"attributes\":{\"editor\":{\"id\":\"1239\"},\"field\":\"snap2_hostname\",\"formatter\":{\"id\":\"1238\"},\"title\":\"snap2_hostname\",\"width\":0},\"id\":\"1240\",\"type\":\"TableColumn\"},{\"attributes\":{\"columns\":[{\"id\":\"1301\"},{\"id\":\"1306\"},{\"id\":\"1311\"},{\"id\":\"1316\"},{\"id\":\"1321\"},{\"id\":\"1326\"},{\"id\":\"1331\"}],\"configuration\":{\"columns\":[{\"field\":\"adr-ch\"},{\"field\":\"sig_on\"},{\"field\":\"narrow_lpf\"},{\"field\":\"narrow_hpf\"},{\"field\":\"first_atten\"},{\"field\":\"second_atten\"},{\"field\":\"dc_on\"}],\"dataTree\":false,\"selectable\":true},\"height\":630,\"indexes\":[\"adr-ch\"],\"layout\":\"fit_data_table\",\"margin\":[5,10,5,10],\"max_page\":26,\"name\":\"\",\"page\":1,\"page_size\":20,\"pagination\":\"remote\",\"selectable_rows\":null,\"source\":{\"id\":\"1296\"}},\"id\":\"1334\",\"type\":\"panel.models.tabulator.DataTabulator\"},{\"attributes\":{\"editor\":{\"id\":\"1310\"},\"field\":\"narrow_lpf\",\"formatter\":{\"id\":\"1309\"},\"title\":\"narrow_lpf\",\"width\":0},\"id\":\"1311\",\"type\":\"TableColumn\"},{\"attributes\":{\"editor\":{\"id\":\"1330\"},\"field\":\"dc_on\",\"formatter\":{\"id\":\"1329\"},\"title\":\"dc_on\",\"width\":0},\"id\":\"1331\",\"type\":\"TableColumn\"},{\"attributes\":{},\"id\":\"1310\",\"type\":\"CheckboxEditor\"},{\"attributes\":{\"end\":97.80859375,\"reset_end\":97.80859375,\"reset_start\":0.0,\"tags\":[[[\"frequencies\",\"frequencies\",null]]]},\"id\":\"1613\",\"type\":\"Range1d\"},{\"attributes\":{},\"id\":\"1243\",\"type\":\"NumberFormatter\"},{\"attributes\":{\"format\":\"0,0.0[00000]\"},\"id\":\"1319\",\"type\":\"NumberFormatter\"},{\"attributes\":{\"data\":{\"autocorr_acc_len\":[32768,32768,32768,32768,32768,32768,32768,32768,32768,32768,32768],\"clip_count\":[11202360817,7664769666,4882961643,6456793685,6216752306,10125084486,8410442020,14009546068,7218102591,8300515218,9953102758],\"corr_acc_len\":[1024,1024,1024,1024,1024,1024,1024,1024,1024,1024,1024],\"firmware\":[\"snap2_f_200msps_64i_4096c_2022-04-14_0450.fpg\",\"snap2_f_200msps_64i_4096c_2022-04-14_0450.fpg\",\"snap2_f_200msps_64i_4096c_2022-04-14_0450.fpg\",\"snap2_f_200msps_64i_4096c_2022-04-14_0450.fpg\",\"snap2_f_200msps_64i_4096c_2022-04-14_0450.fpg\",\"snap2_f_200msps_64i_4096c_2022-04-14_0450.fpg\",\"snap2_f_200msps_64i_4096c_2022-04-14_0450.fpg\",\"snap2_f_200msps_64i_4096c_2022-04-14_0450.fpg\",\"snap2_f_200msps_64i_4096c_2022-04-14_0450.fpg\",\"snap2_f_200msps_64i_4096c_2022-04-14_0450.fpg\",\"snap2_f_200msps_64i_4096c_2022-04-14_0450.fpg\"],\"is_connected\":[true,true,true,true,true,true,true,true,true,true,true],\"is_polling\":[false,false,false,false,false,false,false,false,false,false,false],\"mp_age\":{\"__ndarray__\":\"AAAAAIB7dz8AAAAAgDN7PwAAAACAjHw/AAAAAACQgD8AAAAAQO17PwAAAADArHc/AAAAAECEez8AAAAAgAV6PwAAAAAAYno/AAAAAAAwfT8AAAAAgJV/Pw==\",\"dtype\":\"float64\",\"order\":\"little\",\"shape\":[11]},\"name\":[\"snap01\",\"snap02\",\"snap03\",\"snap04\",\"snap05\",\"snap06\",\"snap07\",\"snap08\",\"snap09\",\"snap10\",\"snap11\"],\"programmed\":[true,true,true,true,true,true,true,true,true,true,true],\"tvg_enabled\":[false,false,false,false,false,false,false,false,false,false,false],\"uptime_fpga_clks\":[83992380440576,83902186127360,83854941487104,83824876716032,83803401879552,83794811944960,83820581748736,83816286781440,83811991814144,83743272337408,83786222010368]},\"selected\":{\"id\":\"1338\"},\"selection_policy\":{\"id\":\"1704\"}},\"id\":\"1337\",\"type\":\"ColumnDataSource\"},{\"attributes\":{\"indices\":[]},\"id\":\"1297\",\"type\":\"Selection\"},{\"attributes\":{},\"id\":\"1361\",\"type\":\"StringEditor\"},{\"attributes\":{},\"id\":\"1360\",\"type\":\"StringFormatter\"},{\"attributes\":{\"below\":[{\"id\":\"1473\"}],\"center\":[{\"id\":\"1476\"},{\"id\":\"1480\"}],\"height\":300,\"left\":[{\"id\":\"1477\"}],\"margin\":[5,5,5,5],\"min_border_bottom\":10,\"min_border_left\":10,\"min_border_right\":10,\"min_border_top\":10,\"renderers\":[{\"id\":\"1506\"}],\"right\":[{\"id\":\"1518\"}],\"sizing_mode\":\"fixed\",\"title\":{\"id\":\"1465\"},\"toolbar\":{\"id\":\"1487\"},\"width\":500,\"x_range\":{\"id\":\"1461\"},\"x_scale\":{\"id\":\"1469\"},\"y_range\":{\"id\":\"1462\"},\"y_scale\":{\"id\":\"1471\"}},\"id\":\"1464\",\"subtype\":\"Figure\",\"type\":\"Plot\"},{\"attributes\":{\"fill_color\":{\"value\":\"#30a2da\"},\"line_color\":{\"value\":\"#30a2da\"},\"size\":{\"value\":5.477225575051661},\"x\":{\"field\":\"pows\"},\"y\":{\"field\":\"mean\"}},\"id\":\"1503\",\"type\":\"Scatter\"},{\"attributes\":{\"editor\":{\"id\":\"1254\"},\"field\":\"fmc\",\"formatter\":{\"id\":\"1253\"},\"title\":\"fmc\",\"width\":0},\"id\":\"1255\",\"type\":\"TableColumn\"},{\"attributes\":{},\"id\":\"1495\",\"type\":\"AllLabels\"},{\"attributes\":{\"data\":{\"adr-ch\":[\"11-0\",\"11-1\",\"11-2\",\"11-3\",\"11-4\",\"11-5\",\"11-6\",\"11-7\",\"11-8\",\"11-9\",\"11-10\",\"11-11\",\"11-12\",\"11-13\",\"11-14\",\"11-15\",\"15-0\",\"15-1\",\"15-2\",\"15-3\"],\"dc_on\":[false,false,false,false,false,false,false,false,false,false,true,true,true,true,true,true,true,true,true,true],\"first_atten\":{\"__ndarray__\":\"AAAAAACAP0AAAAAAAIA/QAAAAAAAgD9AAAAAAACAP0AAAAAAAIA/QAAAAAAAgD9AAAAAAACAP0AAAAAAAIA/QAAAAAAAgD9AAAAAAACAP0AAAAAAAAAeQAAAAAAAAB5AAAAAAAAAHkAAAAAAAAAeQAAAAAAAAB5AAAAAAAAAHkAAAAAAAAAeQAAAAAAAAB5AAAAAAAAAHkAAAAAAAAAeQA==\",\"dtype\":\"float64\",\"order\":\"little\",\"shape\":[20]},\"narrow_hpf\":[true,true,true,true,true,true,true,true,true,true,true,true,true,true,true,true,true,true,true,true],\"narrow_lpf\":[false,false,false,false,false,false,false,false,false,false,false,false,false,false,false,false,false,false,false,false],\"second_atten\":{\"__ndarray__\":\"AAAAAACAP0AAAAAAAIA/QAAAAAAAgD9AAAAAAACAP0AAAAAAAIA/QAAAAAAAgD9AAAAAAACAP0AAAAAAAIA/QAAAAAAAgD9AAAAAAACAP0AAAAAAAAAoQAAAAAAAADBAAAAAAAAALkAAAAAAAAAwQAAAAAAAAC5AAAAAAAAAMEAAAAAAAAAiQAAAAAAAABxAAAAAAAAAFEAAAAAAAAAaQA==\",\"dtype\":\"float64\",\"order\":\"little\",\"shape\":[20]},\"sig_on\":[false,false,false,false,false,false,false,false,false,false,true,true,true,true,true,true,true,true,true,true]},\"selected\":{\"id\":\"1297\"},\"selection_policy\":{\"id\":\"1702\"}},\"id\":\"1296\",\"type\":\"ColumnDataSource\"},{\"attributes\":{},\"id\":\"1259\",\"type\":\"IntEditor\"},{\"attributes\":{},\"id\":\"1330\",\"type\":\"CheckboxEditor\"},{\"attributes\":{\"editor\":{\"id\":\"1222\"},\"field\":\"ready\",\"formatter\":{\"id\":\"1221\"},\"title\":\"ready\",\"width\":0},\"id\":\"1223\",\"type\":\"TableColumn\"},{\"attributes\":{\"editor\":{\"id\":\"1346\"},\"field\":\"is_connected\",\"formatter\":{\"id\":\"1345\"},\"title\":\"is_connected\",\"width\":0},\"id\":\"1347\",\"type\":\"TableColumn\"},{\"attributes\":{\"line_alpha\":0.1,\"line_color\":\"#30a2da\",\"line_width\":2,\"x\":{\"field\":\"frequencies\"},\"y\":{\"field\":\"no ant\"}},\"id\":\"1650\",\"type\":\"Line\"},{\"attributes\":{\"text\":\"F-engine stats\",\"text_color\":\"black\",\"text_font_size\":\"12pt\"},\"id\":\"1465\",\"type\":\"Title\"},{\"attributes\":{},\"id\":\"1688\",\"type\":\"UnionRenderers\"},{\"attributes\":{\"editor\":{\"id\":\"1244\"},\"field\":\"snap2_chassis\",\"formatter\":{\"id\":\"1243\"},\"title\":\"snap2_chassis\",\"width\":0},\"id\":\"1245\",\"type\":\"TableColumn\"},{\"attributes\":{},\"id\":\"1258\",\"type\":\"NumberFormatter\"},{\"attributes\":{},\"id\":\"1702\",\"type\":\"UnionRenderers\"},{\"attributes\":{},\"id\":\"1704\",\"type\":\"UnionRenderers\"},{\"attributes\":{\"line_color\":\"#30a2da\",\"line_width\":2,\"x\":{\"field\":\"frequencies\"},\"y\":{\"field\":\"no ant\"}},\"id\":\"1649\",\"type\":\"Line\"},{\"attributes\":{\"end\":1.2,\"reset_end\":1.2,\"reset_start\":-1.2,\"start\":-1.2,\"tags\":[[[\"no ant\",\"no ant\",null]]]},\"id\":\"1614\",\"type\":\"Range1d\"},{\"attributes\":{},\"id\":\"1366\",\"type\":\"NumberEditor\"},{\"attributes\":{\"data_source\":{\"id\":\"1500\"},\"glyph\":{\"id\":\"1503\"},\"hover_glyph\":null,\"muted_glyph\":{\"id\":\"1505\"},\"nonselection_glyph\":{\"id\":\"1504\"},\"selection_glyph\":{\"id\":\"1520\"},\"view\":{\"id\":\"1507\"}},\"id\":\"1506\",\"type\":\"GlyphRenderer\"},{\"attributes\":{},\"id\":\"1244\",\"type\":\"IntEditor\"},{\"attributes\":{},\"id\":\"1284\",\"type\":\"IntEditor\"},{\"attributes\":{},\"id\":\"1232\",\"type\":\"StringFormatter\"},{\"attributes\":{\"editor\":{\"id\":\"1325\"},\"field\":\"second_atten\",\"formatter\":{\"id\":\"1324\"},\"title\":\"second_atten\",\"width\":0},\"id\":\"1326\",\"type\":\"TableColumn\"},{\"attributes\":{},\"id\":\"1249\",\"type\":\"IntEditor\"},{\"attributes\":{\"editor\":{\"id\":\"1274\"},\"field\":\"pola_arx_channel\",\"formatter\":{\"id\":\"1273\"},\"title\":\"pola_arx_channel\",\"width\":0},\"id\":\"1275\",\"type\":\"TableColumn\"},{\"attributes\":{\"indices\":[]},\"id\":\"1338\",\"type\":\"Selection\"},{\"attributes\":{\"editor\":{\"id\":\"1249\"},\"field\":\"snap2_location\",\"formatter\":{\"id\":\"1248\"},\"title\":\"snap2_location\",\"width\":0},\"id\":\"1250\",\"type\":\"TableColumn\"},{\"attributes\":{\"editor\":{\"id\":\"1259\"},\"field\":\"pola_digitizer_channel\",\"formatter\":{\"id\":\"1258\"},\"title\":\"pola_digitizer_channel\",\"width\":0},\"id\":\"1260\",\"type\":\"TableColumn\"},{\"attributes\":{},\"id\":\"1431\",\"type\":\"StringFormatter\"},{\"attributes\":{},\"id\":\"1239\",\"type\":\"StringEditor\"},{\"attributes\":{},\"id\":\"1329\",\"type\":\"StringFormatter\"},{\"attributes\":{},\"id\":\"1706\",\"type\":\"UnionRenderers\"},{\"attributes\":{\"data\":{\"antname\":[\"LWA-000\",\"LWA-001\",\"LWA-002\",\"LWA-003\",\"LWA-004\",\"LWA-005\",\"LWA-006\",\"LWA-007\",\"LWA-008\",\"LWA-009\",\"LWA-010\",\"LWA-011\",\"LWA-012\",\"LWA-013\",\"LWA-014\",\"LWA-015\",\"LWA-016\",\"LWA-017\",\"LWA-018\",\"LWA-019\"],\"arx_address\":[-1,15,15,15,15,15,15,15,16,16,16,16,16,18,18,18,18,18,19,19],\"fmc\":[-1,0,0,0,0,0,0,0,0,0,0,0,0,0,0,0,0,0,0,0],\"pola_arx_channel\":[-1,3,5,7,9,11,13,15,7,1,3,5,9,9,11,13,7,15,1,3],\"pola_digitizer_channel\":[-1,0,2,4,6,8,10,12,20,14,16,18,22,2,4,6,0,8,10,12],\"pola_fee\":[-1,221,211,186,208,314,800,265,241,191,515,731,1475,486,733,548,721,631,791,218],\"polb_arx_channel\":[-1,4,6,8,10,12,14,16,8,2,4,6,10,10,12,14,8,16,2,4],\"polb_digitizer_channel\":[-1,1,3,5,7,9,11,13,21,15,17,19,23,3,5,7,1,9,11,13],\"polb_fee\":[-1,1343,1379,1357,1382,569,872,1363,1378,317,565,865,586,265,879,1567,855,368,930,1376],\"snap2_chassis\":[-1,1,1,1,1,1,1,1,1,1,1,1,1,1,1,1,1,1,1,1],\"snap2_hostname\":[\"\",\"snap03.sas.pvt\",\"snap03.sas.pvt\",\"snap03.sas.pvt\",\"snap03.sas.pvt\",\"snap03.sas.pvt\",\"snap03.sas.pvt\",\"snap03.sas.pvt\",\"snap03.sas.pvt\",\"snap03.sas.pvt\",\"snap03.sas.pvt\",\"snap03.sas.pvt\",\"snap03.sas.pvt\",\"snap04.sas.pvt\",\"snap04.sas.pvt\",\"snap04.sas.pvt\",\"snap04.sas.pvt\",\"snap04.sas.pvt\",\"snap04.sas.pvt\",\"snap04.sas.pvt\"],\"snap2_location\":[-1,3,3,3,3,3,3,3,3,3,3,3,3,4,4,4,4,4,4,4]},\"selected\":{\"id\":\"1231\"},\"selection_policy\":{\"id\":\"1700\"}},\"id\":\"1230\",\"type\":\"ColumnDataSource\"},{\"attributes\":{},\"id\":\"1412\",\"type\":\"NumberEditor\"},{\"attributes\":{},\"id\":\"1283\",\"type\":\"NumberFormatter\"},{\"attributes\":{},\"id\":\"1325\",\"type\":\"NumberEditor\"},{\"attributes\":{\"format\":\"0,0.0[00000]\"},\"id\":\"1365\",\"type\":\"NumberFormatter\"},{\"attributes\":{},\"id\":\"1708\",\"type\":\"UnionRenderers\"},{\"attributes\":{},\"id\":\"1469\",\"type\":\"LinearScale\"},{\"attributes\":{},\"id\":\"1274\",\"type\":\"IntEditor\"},{\"attributes\":{},\"id\":\"1485\",\"type\":\"ResetTool\"},{\"attributes\":{},\"id\":\"1499\",\"type\":\"BasicTickFormatter\"},{\"attributes\":{},\"id\":\"1385\",\"type\":\"StringFormatter\"},{\"attributes\":{},\"id\":\"1482\",\"type\":\"PanTool\"},{\"attributes\":{\"columns\":[{\"id\":\"1434\"},{\"id\":\"1439\"},{\"id\":\"1444\"},{\"id\":\"1449\"},{\"id\":\"1454\"}],\"configuration\":{\"columns\":[{\"field\":\"name\"},{\"field\":\"rx_rate\"},{\"field\":\"rx_missing\"},{\"field\":\"pipeline_lag\"},{\"field\":\"summary\"}],\"dataTree\":false,\"selectable\":true},\"height\":630,\"indexes\":[\"name\"],\"layout\":\"fit_data_table\",\"margin\":[5,10,5,10],\"max_page\":1,\"name\":\"\",\"page\":1,\"page_size\":20,\"pagination\":\"remote\",\"selectable_rows\":null,\"source\":{\"id\":\"1429\"}},\"id\":\"1457\",\"type\":\"panel.models.tabulator.DataTabulator\"},{\"attributes\":{\"axis_label\":\"mean\",\"formatter\":{\"id\":\"1499\"},\"major_label_policy\":{\"id\":\"1498\"},\"ticker\":{\"id\":\"1478\"}},\"id\":\"1477\",\"type\":\"LinearAxis\"},{\"attributes\":{},\"id\":\"1381\",\"type\":\"IntEditor\"},{\"attributes\":{},\"id\":\"1221\",\"type\":\"StringFormatter\"},{\"attributes\":{\"columns\":[{\"id\":\"1213\"},{\"id\":\"1218\"},{\"id\":\"1223\"}],\"configuration\":{\"columns\":[{\"field\":\"name\"},{\"field\":\"mp_age\"},{\"field\":\"ready\"}],\"dataTree\":false,\"selectable\":true},\"height\":2610,\"indexes\":[\"name\"],\"layout\":\"fit_data_table\",\"margin\":[5,10,5,10],\"name\":\"\",\"page\":1,\"page_size\":20,\"selectable_rows\":null,\"source\":{\"id\":\"1208\"}},\"id\":\"1226\",\"type\":\"panel.models.tabulator.DataTabulator\"},{\"attributes\":{\"editor\":{\"id\":\"1453\"},\"field\":\"summary\",\"formatter\":{\"id\":\"1452\"},\"title\":\"summary\",\"width\":0},\"id\":\"1454\",\"type\":\"TableColumn\"},{\"attributes\":{\"axis\":{\"id\":\"1625\"},\"grid_line_color\":null,\"ticker\":null},\"id\":\"1628\",\"type\":\"Grid\"},{\"attributes\":{\"active_multi\":null,\"tools\":[{\"id\":\"1463\"},{\"id\":\"1481\"},{\"id\":\"1482\"},{\"id\":\"1483\"},{\"id\":\"1484\"},{\"id\":\"1485\"}]},\"id\":\"1487\",\"type\":\"Toolbar\"},{\"attributes\":{},\"id\":\"1217\",\"type\":\"NumberEditor\"},{\"attributes\":{},\"id\":\"1453\",\"type\":\"StringEditor\"},{\"attributes\":{},\"id\":\"1498\",\"type\":\"AllLabels\"},{\"attributes\":{},\"id\":\"1452\",\"type\":\"StringFormatter\"},{\"attributes\":{\"data\":{\"mp_age\":{\"__ndarray__\":\"AAAAAAAAAAAAAAAAAAAAAAAAAAAAAAAAAAAAAAAAAAAAAAAAAAAAAAAAAAAAAAAAAAAAAAAAAAAAAAAAAAAAAAAAAAAAAAAAAAAAAAAAAAAAAAAAAAAAAAAAAAAAAAAAAAAAAAAAAAAAAAAAAAAAAAAAAAAAAAAAAAAAAAAAAAAAAAAAAAAAAAAAAAAAAAAAAAAAAAAAAAAAAAAAAAAAAAAAAAAAAAAAAAAAAAAAAAAAAAAAAAAAAAAAAAAAAAAAAAAAAAAAAAAAAAAAAAAAAAAAAAAAAAAAAAAAAAAAAAAAAAAAAAAAAAAAAAAAAAAAAAAAAAAAAAAAAAAAAAAAAAAAAACAe3c/AAAAAIAzez8AAAAAgIx8PwAAAAAAkIA/AAAAAEDtez8AAAAAwKx3PwAAAABAhHs/AAAAAIAFej8AAAAAAGJ6PwAAAAAAMH0/AAAAAICVfz8AAAAAe9D+PwAAAAC86f4/AAAAQPcP/z8AAACA9Sj/PwAAAEDwyvA/AAAAwNDW8D8AAADAB+TwPwAAAAD07PA/AAAAAAJh6T8AAACAl3bpPwAAAICFh+k/AAAAAPSb6T8AAAAAmk3kPwAAAIAhqeQ/AAAAgL7R5D8AAAAAj/TkPwAAAADg2+4/AAAAACUK7z8AAACASznvPwAAAMBYK/A/AAAAAAS33z8AAAAAO+zfPwAAAIC2I+A/AAAAAGtG4D8AAAAAZHncPwAAAADA2Nw/AAAAAA4v3T8AAAAA/XzdPwAAAMDywvo/AAAAwKfV+j8AAABA1/b6PwAAAEBJKPs/AAAAWMWEIEAAAAAA6HkgQAAAAMB6w/M/AAAAaNl9PkAAAABgp7skQAAAACAySztAAAAAYFm3HEAAAAAMZUg5QAAAAMDktxRAAAAANGZ9N0AAAACAeyULQA==\",\"dtype\":\"float64\",\"order\":\"little\",\"shape\":[86]},\"name\":[\"arx11\",\"arx15\",\"arx16\",\"arx17\",\"arx18\",\"arx19\",\"arx20\",\"arx21\",\"arx22\",\"arx23\",\"arx24\",\"arx25\",\"arx26\",\"arx27\",\"arx28\",\"arx29\",\"arx30\",\"arx31\",\"arx32\",\"arx33\",\"arx34\",\"arx35\",\"arx36\",\"arx37\",\"arx38\",\"arx39\",\"arx40\",\"arx41\",\"arx42\",\"arx43\",\"arx44\",\"arx45\",\"snap01\",\"snap02\",\"snap03\",\"snap04\",\"snap05\",\"snap06\",\"snap07\",\"snap08\",\"snap09\",\"snap10\",\"snap11\",\"lxdlwagpu01-0\",\"lxdlwagpu01-1\",\"lxdlwagpu01-2\",\"lxdlwagpu01-3\",\"lxdlwagpu02-0\",\"lxdlwagpu02-1\",\"lxdlwagpu02-2\",\"lxdlwagpu02-3\",\"lxdlwagpu03-0\",\"lxdlwagpu03-1\",\"lxdlwagpu03-2\",\"lxdlwagpu03-3\",\"lxdlwagpu04-0\",\"lxdlwagpu04-1\",\"lxdlwagpu04-2\",\"lxdlwagpu04-3\",\"lxdlwagpu05-0\",\"lxdlwagpu05-1\",\"lxdlwagpu05-2\",\"lxdlwagpu05-3\",\"lxdlwagpu06-0\",\"lxdlwagpu06-1\",\"lxdlwagpu06-2\",\"lxdlwagpu06-3\",\"lxdlwagpu07-0\",\"lxdlwagpu07-1\",\"lxdlwagpu07-2\",\"lxdlwagpu07-3\",\"lxdlwagpu08-0\",\"lxdlwagpu08-1\",\"lxdlwagpu08-2\",\"lxdlwagpu08-3\",\"drvs\",\"drvs\",\"drvs\",\"dr1\",\"dr2\",\"dr3\",\"dr4\",\"dr5\",\"dr6\",\"dr7\",\"dr8\"],\"ready\":[true,true,true,true,true,true,true,true,true,true,true,true,true,true,true,true,true,true,true,true,true,true,true,true,true,true,true,true,true,true,true,true,true,true,true,true,true,true,true,true,true,true,true,true,true,true,true,true,true,true,true,true,true,true,true,true,true,true,true,true,true,true,true,true,true,true,true,true,true,true,true,false,true,true,true,false,false,false,true,true,true,true,true,true,true,true]},\"selected\":{\"id\":\"1209\"},\"selection_policy\":{\"id\":\"1688\"}},\"id\":\"1208\",\"type\":\"ColumnDataSource\"},{\"attributes\":{\"axis_label\":\"pows\",\"formatter\":{\"id\":\"1496\"},\"major_label_policy\":{\"id\":\"1495\"},\"ticker\":{\"id\":\"1474\"}},\"id\":\"1473\",\"type\":\"LinearAxis\"},{\"attributes\":{},\"id\":\"1212\",\"type\":\"CellEditor\"},{\"attributes\":{},\"id\":\"1210\",\"type\":\"StringFormatter\"},{\"attributes\":{\"axis_label\":\"frequencies\",\"formatter\":{\"id\":\"1657\"},\"major_label_policy\":{\"id\":\"1656\"},\"ticker\":{\"id\":\"1626\"}},\"id\":\"1625\",\"type\":\"LinearAxis\"},{\"attributes\":{\"overlay\":{\"id\":\"1486\"}},\"id\":\"1484\",\"type\":\"BoxZoomTool\"},{\"attributes\":{},\"id\":\"1380\",\"type\":\"NumberFormatter\"},{\"attributes\":{\"css_classes\":[\"markdown\"],\"margin\":[5,5,5,5],\"name\":\"Markdown02751\",\"text\":\"&lt;h2&gt;OVRO-LWA dashboard&lt;/h2&gt;\"},\"id\":\"1207\",\"type\":\"panel.models.markup.HTML\"},{\"attributes\":{\"child\":{\"id\":\"1293\"},\"name\":\"\",\"title\":\"Cabling\"},\"id\":\"1295\",\"type\":\"Panel\"},{\"attributes\":{},\"id\":\"1669\",\"type\":\"UnionRenderers\"},{\"attributes\":{\"data\":{\"curr_sample\":{\"__ndarray__\":\"AHBX15IlwkIAcFfXkiXCQgBwV9eSJcJCAGBY15IlwkIAkILXkiXCQgCQgteSJcJCAJCC15IlwkIAcITXkiXCQgCwj9eSJcJCAJCR15IlwkIAkJHXkiXCQgCQkdeSJcJCABCZ15IlwkIAEJnXkiXCQgAQmdeSJcJCAPCa15IlwkIA8IvXkiXCQgDwi9eSJcJCAPCL15IlwkIA0I3XkiXCQg==\",\"dtype\":\"float64\",\"order\":\"little\",\"shape\":[20]},\"gbps\":{\"__ndarray__\":\"gkQtZzDtTEAcjle1rpxGQHWR0df/90ZAzUBahxF5RkCDAHYfklFLQARjTnVo4lFABvfjAjWuT0Dae96n2TNMQMiQTw4IFkhAgsmJaur1RkBRSGQcHURFQO/Z7bee5kVA2VWwKad2RUBbVk41ry9FQORzav58wkhATDeIW5QFR0DmnMIdESJNQCwpLecu609A7yCuY0ZFUEDQgicvMShQQA==\",\"dtype\":\"float64\",\"order\":\"little\",\"shape\":[20]},\"mp_age\":{\"__ndarray__\":\"AAAAAHvQ/j8AAAAAvOn+PwAAAED3D/8/AAAAgPUo/z8AAABA8MrwPwAAAMDQ1vA/AAAAwAfk8D8AAAAA9OzwPwAAAAACYek/AAAAgJd26T8AAACAhYfpPwAAAAD0m+k/AAAAAJpN5D8AAACAIankPwAAAIC+0eQ/AAAAAI/05D8AAAAA4NvuPwAAAAAlCu8/AAAAgEs57z8AAADAWCvwPw==\",\"dtype\":\"float64\",\"order\":\"little\",\"shape\":[20]},\"name\":[\"lxdlwagpu01-0\",\"lxdlwagpu01-1\",\"lxdlwagpu01-2\",\"lxdlwagpu01-3\",\"lxdlwagpu02-0\",\"lxdlwagpu02-1\",\"lxdlwagpu02-2\",\"lxdlwagpu02-3\",\"lxdlwagpu03-0\",\"lxdlwagpu03-1\",\"lxdlwagpu03-2\",\"lxdlwagpu03-3\",\"lxdlwagpu04-0\",\"lxdlwagpu04-1\",\"lxdlwagpu04-2\",\"lxdlwagpu04-3\",\"lxdlwagpu05-0\",\"lxdlwagpu05-1\",\"lxdlwagpu05-2\",\"lxdlwagpu05-3\"],\"state\":[\"running\",\"running\",\"running\",\"running\",\"running\",\"running\",\"running\",\"running\",\"running\",\"running\",\"running\",\"running\",\"running\",\"running\",\"running\",\"running\",\"running\",\"running\",\"running\",\"running\"]},\"selected\":{\"id\":\"1399\"},\"selection_policy\":{\"id\":\"1706\"}},\"id\":\"1398\",\"type\":\"ColumnDataSource\"},{\"attributes\":{\"columns\":[{\"id\":\"1342\"},{\"id\":\"1347\"},{\"id\":\"1352\"},{\"id\":\"1357\"},{\"id\":\"1362\"},{\"id\":\"1367\"},{\"id\":\"1372\"},{\"id\":\"1377\"},{\"id\":\"1382\"},{\"id\":\"1387\"},{\"id\":\"1392\"}],\"configuration\":{\"columns\":[{\"field\":\"name\"},{\"field\":\"is_connected\"},{\"field\":\"is_polling\"},{\"field\":\"programmed\"},{\"field\":\"firmware\"},{\"field\":\"mp_age\"},{\"field\":\"uptime_fpga_clks\"},{\"field\":\"autocorr_acc_len\"},{\"field\":\"corr_acc_len\"},{\"field\":\"tvg_enabled\"},{\"field\":\"clip_count\"}],\"dataTree\":false,\"selectable\":true},\"height\":630,\"indexes\":[\"name\"],\"layout\":\"fit_data_table\",\"margin\":[5,10,5,10],\"max_page\":1,\"name\":\"\",\"page\":1,\"page_size\":20,\"pagination\":\"remote\",\"selectable_rows\":null,\"source\":{\"id\":\"1337\"}},\"id\":\"1395\",\"type\":\"panel.models.tabulator.DataTabulator\"},{\"attributes\":{},\"id\":\"1376\",\"type\":\"IntEditor\"},{\"attributes\":{\"bottom_units\":\"screen\",\"fill_alpha\":0.5,\"fill_color\":\"lightgrey\",\"left_units\":\"screen\",\"level\":\"overlay\",\"line_alpha\":1.0,\"line_color\":\"black\",\"line_dash\":[4,4],\"line_width\":2,\"right_units\":\"screen\",\"syncable\":false,\"top_units\":\"screen\"},\"id\":\"1638\",\"type\":\"BoxAnnotation\"},{\"attributes\":{\"css_classes\":[\"markdown\"],\"margin\":[5,5,5,5],\"name\":\"Markdown02844\",\"text\":\"&lt;h2&gt;Data recorder plots&lt;/h2&gt;\"},\"id\":\"1683\",\"type\":\"panel.models.markup.HTML\"},{\"attributes\":{},\"id\":\"1478\",\"type\":\"BasicTicker\"},{\"attributes\":{\"editor\":{\"id\":\"1376\"},\"field\":\"autocorr_acc_len\",\"formatter\":{\"id\":\"1375\"},\"title\":\"autocorr_acc_len\",\"width\":0},\"id\":\"1377\",\"type\":\"TableColumn\"},{\"attributes\":{},\"id\":\"1447\",\"type\":\"StringFormatter\"},{\"attributes\":{},\"id\":\"1626\",\"type\":\"BasicTicker\"},{\"attributes\":{},\"id\":\"1496\",\"type\":\"BasicTickFormatter\"},{\"attributes\":{\"overlay\":{\"id\":\"1638\"}},\"id\":\"1636\",\"type\":\"BoxZoomTool\"},{\"attributes\":{\"editor\":{\"id\":\"1448\"},\"field\":\"pipeline_lag\",\"formatter\":{\"id\":\"1447\"},\"title\":\"pipeline_lag\",\"width\":0},\"id\":\"1449\",\"type\":\"TableColumn\"},{\"attributes\":{\"editor\":{\"id\":\"1381\"},\"field\":\"corr_acc_len\",\"formatter\":{\"id\":\"1380\"},\"title\":\"corr_acc_len\",\"width\":0},\"id\":\"1382\",\"type\":\"TableColumn\"},{\"attributes\":{\"label\":{\"value\":\"snap11\"},\"renderers\":[{\"id\":\"1506\"}]},\"id\":\"1519\",\"type\":\"LegendItem\"},{\"attributes\":{\"margin\":[5,10,5,10],\"max_length\":5000,\"placeholder\":\"Plot f-eng for ant-pol name (e.g., 240a)\"},\"id\":\"1682\",\"type\":\"TextInput\"},{\"attributes\":{\"editor\":{\"id\":\"1386\"},\"field\":\"tvg_enabled\",\"formatter\":{\"id\":\"1385\"},\"title\":\"tvg_enabled\",\"width\":0},\"id\":\"1387\",\"type\":\"TableColumn\"},{\"attributes\":{\"format\":\"0,0.0[00000]\"},\"id\":\"1411\",\"type\":\"NumberFormatter\"},{\"attributes\":{},\"id\":\"1443\",\"type\":\"StringEditor\"},{\"attributes\":{\"axis\":{\"id\":\"1473\"},\"grid_line_color\":null,\"ticker\":null},\"id\":\"1476\",\"type\":\"Grid\"},{\"attributes\":{\"active_multi\":null,\"tools\":[{\"id\":\"1615\"},{\"id\":\"1633\"},{\"id\":\"1634\"},{\"id\":\"1635\"},{\"id\":\"1636\"},{\"id\":\"1637\"}]},\"id\":\"1639\",\"type\":\"Toolbar\"},{\"attributes\":{},\"id\":\"1370\",\"type\":\"NumberFormatter\"},{\"attributes\":{},\"id\":\"1474\",\"type\":\"BasicTicker\"},{\"attributes\":{\"editor\":{\"id\":\"1407\"},\"field\":\"gbps\",\"formatter\":{\"id\":\"1406\"},\"title\":\"gbps\",\"width\":0},\"id\":\"1408\",\"type\":\"TableColumn\"},{\"attributes\":{},\"id\":\"1448\",\"type\":\"StringEditor\"},{\"attributes\":{\"editor\":{\"id\":\"1212\"},\"field\":\"name\",\"formatter\":{\"id\":\"1210\"},\"title\":\"name\",\"width\":0},\"id\":\"1213\",\"type\":\"TableColumn\"},{\"attributes\":{\"click_policy\":\"mute\",\"items\":[{\"id\":\"1519\"}],\"location\":[0,0],\"title\":\"snap\"},\"id\":\"1518\",\"type\":\"Legend\"},{\"attributes\":{},\"id\":\"1375\",\"type\":\"NumberFormatter\"},{\"attributes\":{\"axis\":{\"id\":\"1477\"},\"dimension\":1,\"grid_line_color\":null,\"ticker\":null},\"id\":\"1480\",\"type\":\"Grid\"},{\"attributes\":{\"indices\":[]},\"id\":\"1209\",\"type\":\"Selection\"},{\"attributes\":{},\"id\":\"1407\",\"type\":\"NumberEditor\"},{\"attributes\":{},\"id\":\"1483\",\"type\":\"WheelZoomTool\"},{\"attributes\":{},\"id\":\"1637\",\"type\":\"ResetTool\"},{\"attributes\":{\"editor\":{\"id\":\"1443\"},\"field\":\"rx_missing\",\"formatter\":{\"id\":\"1442\"},\"title\":\"rx_missing\",\"width\":0},\"id\":\"1444\",\"type\":\"TableColumn\"},{\"attributes\":{\"editor\":{\"id\":\"1371\"},\"field\":\"uptime_fpga_clks\",\"formatter\":{\"id\":\"1370\"},\"title\":\"uptime_fpga_clks\",\"width\":0},\"id\":\"1372\",\"type\":\"TableColumn\"},{\"attributes\":{\"format\":\"0,0.0[00000]\"},\"id\":\"1406\",\"type\":\"NumberFormatter\"},{\"attributes\":{},\"id\":\"1635\",\"type\":\"WheelZoomTool\"},{\"attributes\":{},\"id\":\"1222\",\"type\":\"CheckboxEditor\"},{\"attributes\":{},\"id\":\"1371\",\"type\":\"IntEditor\"},{\"attributes\":{},\"id\":\"1633\",\"type\":\"SaveTool\"},{\"attributes\":{\"editor\":{\"id\":\"1217\"},\"field\":\"mp_age\",\"formatter\":{\"id\":\"1216\"},\"title\":\"mp_age\",\"width\":0},\"id\":\"1218\",\"type\":\"TableColumn\"},{\"attributes\":{},\"id\":\"1442\",\"type\":\"StringFormatter\"},{\"attributes\":{},\"id\":\"1634\",\"type\":\"PanTool\"},{\"attributes\":{\"child\":{\"id\":\"1426\"},\"name\":\"\",\"title\":\"X-engine\"},\"id\":\"1428\",\"type\":\"Panel\"},{\"attributes\":{},\"id\":\"1390\",\"type\":\"NumberFormatter\"},{\"attributes\":{\"css_classes\":[\"markdown\"],\"margin\":[5,5,5,5],\"name\":\"Markdown02756\",\"text\":\"&lt;h2&gt;F-engine plots&lt;/h2&gt;\"},\"id\":\"1460\",\"type\":\"panel.models.markup.HTML\"},{\"attributes\":{},\"id\":\"1647\",\"type\":\"Selection\"},{\"attributes\":{\"editor\":{\"id\":\"1438\"},\"field\":\"rx_rate\",\"formatter\":{\"id\":\"1437\"},\"title\":\"rx_rate\",\"width\":0},\"id\":\"1439\",\"type\":\"TableColumn\"},{\"attributes\":{\"editor\":{\"id\":\"1391\"},\"field\":\"clip_count\",\"formatter\":{\"id\":\"1390\"},\"title\":\"clip_count\",\"width\":0},\"id\":\"1392\",\"type\":\"TableColumn\"},{\"attributes\":{},\"id\":\"1656\",\"type\":\"AllLabels\"},{\"attributes\":{},\"id\":\"1400\",\"type\":\"StringFormatter\"},{\"attributes\":{\"editor\":{\"id\":\"1402\"},\"field\":\"name\",\"formatter\":{\"id\":\"1400\"},\"title\":\"name\",\"width\":0},\"id\":\"1403\",\"type\":\"TableColumn\"},{\"attributes\":{\"client_comm_id\":\"4e97952f18864ce89d67c96a26077207\",\"comm_id\":\"57103b5ab85b42a98b83e119a1a016dc\",\"plot_id\":\"1206\"},\"id\":\"1783\",\"type\":\"panel.models.comm_manager.CommManager\"},{\"attributes\":{},\"id\":\"1391\",\"type\":\"IntEditor\"},{\"attributes\":{\"axis\":{\"id\":\"1629\"},\"dimension\":1,\"grid_line_color\":null,\"ticker\":null},\"id\":\"1632\",\"type\":\"Grid\"},{\"attributes\":{},\"id\":\"1402\",\"type\":\"CellEditor\"},{\"attributes\":{},\"id\":\"1438\",\"type\":\"StringEditor\"},{\"attributes\":{\"bottom_units\":\"screen\",\"fill_alpha\":0.5,\"fill_color\":\"lightgrey\",\"left_units\":\"screen\",\"level\":\"overlay\",\"line_alpha\":1.0,\"line_color\":\"black\",\"line_dash\":[4,4],\"line_width\":2,\"right_units\":\"screen\",\"syncable\":false,\"top_units\":\"screen\"},\"id\":\"1486\",\"type\":\"BoxAnnotation\"},{\"attributes\":{},\"id\":\"1386\",\"type\":\"CheckboxEditor\"},{\"attributes\":{},\"id\":\"1630\",\"type\":\"BasicTicker\"},{\"attributes\":{\"source\":{\"id\":\"1500\"}},\"id\":\"1507\",\"type\":\"CDSView\"},{\"attributes\":{\"data\":{\"name\":[\"drvs\",\"dr1\",\"dr2\",\"dr3\",\"dr4\",\"dr5\",\"dr6\",\"dr7\",\"dr8\"],\"pipeline_lag\":[\"NaN\",\"NaN\",\"NaN\",\"NaN\",\"NaN\",\"NaN\",\"NaN\",\"NaN\",\"NaN\"],\"rx_missing\":[\"NaN\",\"NaN\",\"NaN\",\"NaN\",\"NaN\",\"NaN\",\"NaN\",\"NaN\",\"NaN\"],\"rx_rate\":[\"NaN\",\"NaN\",\"NaN\",\"NaN\",\"NaN\",\"NaN\",\"NaN\",\"NaN\",\"NaN\"],\"summary\":[\"error\",\"normal\",\"normal\",\"normal\",\"normal\",\"normal\",\"normal\",\"normal\",\"normal\"]},\"selected\":{\"id\":\"1430\"},\"selection_policy\":{\"id\":\"1708\"}},\"id\":\"1429\",\"type\":\"ColumnDataSource\"},{\"attributes\":{\"axis_label\":\"amplitude\",\"formatter\":{\"id\":\"1660\"},\"major_label_policy\":{\"id\":\"1659\"},\"ticker\":{\"id\":\"1630\"}},\"id\":\"1629\",\"type\":\"LinearAxis\"},{\"attributes\":{},\"id\":\"1501\",\"type\":\"Selection\"},{\"attributes\":{\"format\":\"0,0.0[00000]\"},\"id\":\"1216\",\"type\":\"NumberFormatter\"},{\"attributes\":{},\"id\":\"1516\",\"type\":\"UnionRenderers\"},{\"attributes\":{},\"id\":\"1481\",\"type\":\"SaveTool\"}],\"root_ids\":[\"1206\",\"1783\"]},\"title\":\"Bokeh Application\",\"version\":\"2.3.2\"}};\n",
       "    var render_items = [{\"docid\":\"ef4c414a-0c95-4169-af15-2ca70888787a\",\"root_ids\":[\"1206\"],\"roots\":{\"1206\":\"5b0a0036-57a8-4d80-884f-92710985b0cd\"}}];\n",
       "    root.Bokeh.embed.embed_items_notebook(docs_json, render_items);\n",
       "  }\n",
       "  if (root.Bokeh !== undefined && root.Bokeh.Panel !== undefined && ( root['Tabulator'] !== undefined)) {\n",
       "    embed_document(root);\n",
       "  } else {\n",
       "    var attempts = 0;\n",
       "    var timer = setInterval(function(root) {\n",
       "      if (root.Bokeh !== undefined && root.Bokeh.Panel !== undefined && (root['Tabulator'] !== undefined)) {\n",
       "        clearInterval(timer);\n",
       "        embed_document(root);\n",
       "      } else if (document.readyState == \"complete\") {\n",
       "        attempts++;\n",
       "        if (attempts > 200) {\n",
       "          clearInterval(timer);\n",
       "          console.log(\"Bokeh: ERROR: Unable to run BokehJS code because BokehJS library is missing\");\n",
       "        }\n",
       "      }\n",
       "    }, 25, root)\n",
       "  }\n",
       "})(window);</script>"
      ],
      "text/plain": [
       "Column\n",
       "    [0] Markdown(str)\n",
       "    [1] Tabulator(value=          mp_age  ...)\n",
       "    [2] Markdown(str)\n",
       "    [3] Tabs\n",
       "        [0] Tabulator(pagination='remote', value=         snap2_hostname  ...)\n",
       "        [1] Tabulator(pagination='remote', value=        sig_on  ...)\n",
       "        [2] Tabulator(pagination='remote', value=        is_connected  ...)\n",
       "        [3] Tabulator(pagination='remote', value=              ...)\n",
       "        [4] Tabulator(pagination='remote', value=     rx_rate r...)\n",
       "    [4] Markdown(str)\n",
       "    [5] HoloViews(NdOverlay)\n",
       "    [6] Row\n",
       "        [0] ParamFunction(function)\n",
       "        [1] Column\n",
       "            [0] TextInput(placeholder='Plot f-eng for ant-pol na...)\n",
       "    [7] Markdown(str)\n",
       "    [8] Row\n",
       "        [0] PNG(None)\n",
       "        [1] PNG(None)"
      ]
     },
     "execution_count": 72,
     "metadata": {
      "application/vnd.holoviews_exec.v0+json": {
       "id": "1206"
      }
     },
     "output_type": "execute_result"
    }
   ],
   "source": [
    "mini_dashboard.servable(title='OVRO-LWA dashboard')"
   ]
  },
  {
   "cell_type": "code",
   "execution_count": null,
   "metadata": {},
   "outputs": [],
   "source": []
  }
 ],
 "metadata": {
  "kernelspec": {
   "display_name": "casa",
   "language": "python",
   "name": "myenv"
  },
  "language_info": {
   "codemirror_mode": {
    "name": "ipython",
    "version": 3
   },
   "file_extension": ".py",
   "mimetype": "text/x-python",
   "name": "python",
   "nbconvert_exporter": "python",
   "pygments_lexer": "ipython3",
   "version": "3.6.10"
  }
 },
 "nbformat": 4,
 "nbformat_minor": 4
}
