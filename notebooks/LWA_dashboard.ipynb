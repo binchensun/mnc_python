{
 "cells": [
  {
   "cell_type": "code",
   "execution_count": 68,
   "metadata": {},
   "outputs": [],
   "source": [
    "from astropy import time\n",
    "import numpy as np\n",
    "from IPython import display\n",
    "import pandas as pd\n",
    "import panel as pn\n",
    "pn.extension(\"tabulator\")\n",
    "import hvplot.pandas\n",
    "import holoviews as hv\n",
    "\n",
    "from lwautils import lwa_arx\n",
    "from lwautils import TimeoutException\n",
    "from lwa_antpos import reading, mapping\n",
    "from mnc import mcs, common, ezdr\n",
    "import dsautils.cnf as cnf\n",
    "from lwa_f import snap2_fengine, snap2_feng_etcd_client\n",
    "from lwa352_pipeline_control import Lwa352PipelineControl, Lwa352CorrelatorControl"
   ]
  },
  {
   "cell_type": "code",
   "execution_count": 69,
   "metadata": {},
   "outputs": [],
   "source": [
    "# for debugging\n",
    "#import etcd3\n",
    "#from mnc.common import ETCD_HOST, ETCD_PORT\n",
    "#client = etcd3.client(host=ETCD_HOST, port=ETCD_PORT)\n",
    "#print(client.get('/mon/drvs2501/summary'))"
   ]
  },
  {
   "cell_type": "markdown",
   "metadata": {},
   "source": [
    "## Set up"
   ]
  },
  {
   "cell_type": "code",
   "execution_count": 70,
   "metadata": {},
   "outputs": [
    {
     "name": "stdout",
     "output_type": "stream",
     "text": [
      "Found 0 slow recorders: \n"
     ]
    }
   ],
   "source": [
    "arxadrs = list(range(35, 46))  # currently installed\n",
    "snap2names = ['snap09', 'snap10', 'snap11']\n",
    "xhosts = [f'lxdlwagpu{i:02}' for i in range(1, 8)]\n",
    "npipeline = 4  # x-eng\n",
    "lwa_drc = ezdr.Lwa352RecorderControl('slow')\n",
    "drids = lwa_drc.ids\n",
    "\n",
    "# old way\n",
    "#drips = ['10.41.0.25', '10.41.0.41']  # data recorder (two ips for lxdlwagpu09)\n",
    "#dest_ip = list(sorted(drips*2))  # correlator -> data recorder (destination IPs)\n",
    "#dest_port = [10001+i//npipeline for i in range(npipeline*len(xhosts))]  # correlator -> data recorder (destination ports)\n",
    "#drroot = [f'drvs{ip.split(\".\")[-1]}' for ip in drips]  # data recorder root names\n",
    "#drids = [f'{drr}{dp-10000:02}' for dp in set(dest_port) for drr in drroot]  # data recorder ids"
   ]
  },
  {
   "cell_type": "code",
   "execution_count": 71,
   "metadata": {},
   "outputs": [],
   "source": [
    "dd_statuses = []"
   ]
  },
  {
   "cell_type": "markdown",
   "metadata": {},
   "source": [
    "## cnf"
   ]
  },
  {
   "cell_type": "code",
   "execution_count": 72,
   "metadata": {
    "scrolled": false
   },
   "outputs": [],
   "source": [
    "df_cnf_read = reading.read_antpos_etcd()\n",
    "df_cnf = df_cnf_read[['snap2_hostname', 'snap2_chassis', 'snap2_location', 'fmc', 'pola_digitizer_channel',\n",
    "                      'polb_digitizer_channel', 'arx_address', 'pola_arx_channel', 'polb_arx_channel',\n",
    "                      'pola_fee', 'polb_fee']]"
   ]
  },
  {
   "cell_type": "code",
   "execution_count": 73,
   "metadata": {
    "scrolled": true
   },
   "outputs": [],
   "source": [
    "#df_cnf"
   ]
  },
  {
   "cell_type": "markdown",
   "metadata": {},
   "source": [
    "## ARX"
   ]
  },
  {
   "cell_type": "code",
   "execution_count": 74,
   "metadata": {},
   "outputs": [
    {
     "name": "stdout",
     "output_type": "stream",
     "text": [
      "/home/ubuntu/anaconda3/envs/casa/lib/python3.6/site-packages/lwautils/conf/etcdConfig.yml\n",
      "ARX timed out\n"
     ]
    }
   ],
   "source": [
    "ma = lwa_arx.ARX()\n",
    "arxcfg = []\n",
    "try:\n",
    "    for adr in arxadrs:\n",
    "        dds = ma.get_all_chan_cfg(adr)\n",
    "        for ch, dd in enumerate(dds):\n",
    "            dd['adr-ch'] = f'{adr}-{ch}'\n",
    "            arxcfg.append(dd)\n",
    "        dd_astatus = {'name': f'arx{adr}', 'mp_age': 0, 'ready': dd['sig_on']}\n",
    "        dd_statuses.append(dd_astatus)\n",
    "except:\n",
    "    print('ARX timed out')\n",
    "    dd_astatus = {'name': f'arx{adr}', 'mp_age': -1, 'ready': False}\n",
    "    dd_statuses.append(dd_astatus)\n",
    "\n",
    "df_arx = pd.DataFrame.from_dict(arxcfg)\n",
    "if any(df_arx):\n",
    "    df_arx.set_index('adr-ch', inplace=True)\n"
   ]
  },
  {
   "cell_type": "code",
   "execution_count": 75,
   "metadata": {},
   "outputs": [],
   "source": [
    "#df_arx"
   ]
  },
  {
   "cell_type": "markdown",
   "metadata": {},
   "source": [
    "## F-engine"
   ]
  },
  {
   "cell_type": "code",
   "execution_count": 76,
   "metadata": {},
   "outputs": [
    {
     "name": "stdout",
     "output_type": "stream",
     "text": [
      "2021-12-01 18:16:27,193 - lwa_f.blocks.block:snap09 - WARNING -  - hostname (10.40.0.124) couldn't be turned into integer serial\n",
      "2021-12-01 18:16:27,361 - lwa_f.blocks.block:snap09 - INFO - adc - Detected FMC ADC board on port 0\n",
      "2021-12-01 18:16:27,565 - lwa_f.blocks.block:snap09 - INFO - adc - Detected FMC ADC board on port 1\n",
      "2021-12-01 18:16:27,855 - lwa_f.blocks.block:snap09 - WARNING -  - hostname (10.40.0.124) couldn't be turned into integer serial\n",
      "2021-12-01 18:16:28,061 - lwa_f.blocks.block:snap09 - INFO - adc - Detected FMC ADC board on port 0\n",
      "2021-12-01 18:16:28,265 - lwa_f.blocks.block:snap09 - INFO - adc - Detected FMC ADC board on port 1\n"
     ]
    },
    {
     "name": "stderr",
     "output_type": "stream",
     "text": [
      "Triggering stats polling loop stop\n",
      "Trying to stop a non-existent command watch\n"
     ]
    },
    {
     "name": "stdout",
     "output_type": "stream",
     "text": [
      "2021-12-01 18:16:28,730 - lwa_f.blocks.block:snap10 - WARNING -  - hostname (10.40.0.125) couldn't be turned into integer serial\n",
      "2021-12-01 18:16:28,913 - lwa_f.blocks.block:snap10 - INFO - adc - Detected FMC ADC board on port 0\n",
      "2021-12-01 18:16:29,095 - lwa_f.blocks.block:snap10 - INFO - adc - Detected FMC ADC board on port 1\n",
      "2021-12-01 18:16:29,376 - lwa_f.blocks.block:snap10 - WARNING -  - hostname (10.40.0.125) couldn't be turned into integer serial\n",
      "2021-12-01 18:16:29,560 - lwa_f.blocks.block:snap10 - INFO - adc - Detected FMC ADC board on port 0\n",
      "2021-12-01 18:16:29,744 - lwa_f.blocks.block:snap10 - INFO - adc - Detected FMC ADC board on port 1\n"
     ]
    },
    {
     "name": "stderr",
     "output_type": "stream",
     "text": [
      "Triggering stats polling loop stop\n",
      "Triggering stats polling loop stop\n",
      "Triggering stats polling loop stop\n",
      "Trying to stop a non-existent command watch\n",
      "Trying to stop a non-existent command watch\n",
      "Trying to stop a non-existent command watch\n"
     ]
    },
    {
     "name": "stdout",
     "output_type": "stream",
     "text": [
      "2021-12-01 18:16:30,206 - lwa_f.blocks.block:snap11 - WARNING -  - hostname (10.40.0.126) couldn't be turned into integer serial\n",
      "2021-12-01 18:16:30,382 - lwa_f.blocks.block:snap11 - INFO - adc - Detected FMC ADC board on port 0\n",
      "2021-12-01 18:16:30,558 - lwa_f.blocks.block:snap11 - INFO - adc - Detected FMC ADC board on port 1\n",
      "2021-12-01 18:16:30,837 - lwa_f.blocks.block:snap11 - WARNING -  - hostname (10.40.0.126) couldn't be turned into integer serial\n",
      "2021-12-01 18:16:31,014 - lwa_f.blocks.block:snap11 - INFO - adc - Detected FMC ADC board on port 0\n",
      "2021-12-01 18:16:31,191 - lwa_f.blocks.block:snap11 - INFO - adc - Detected FMC ADC board on port 1\n"
     ]
    },
    {
     "name": "stderr",
     "output_type": "stream",
     "text": [
      "Triggering stats polling loop stop\n",
      "Triggering stats polling loop stop\n",
      "Trying to stop a non-existent command watch\n",
      "Trying to stop a non-existent command watch\n"
     ]
    }
   ],
   "source": [
    "# mp update cadence < 1 min\n",
    "\n",
    "dd_fs = []\n",
    "t_now = time.Time.now().unix\n",
    "for snap2name in snap2names:\n",
    "    snap2num = int(snap2name.lstrip('snap'))\n",
    "    lwa_f = snap2_fengine.Snap2Fengine(snap2name)\n",
    "    lwa_fe = snap2_feng_etcd_client.Snap2FengineEtcdClient(snap2name, snap2num)\n",
    "\n",
    "    st, fl = lwa_f.fpga.get_status()\n",
    "    t_now = time.Time.now().unix\n",
    "\n",
    "    dd_fstatus = {'name': snap2name, 'mp_age': t_now-time.Time(st['timestamp']).unix,\n",
    "              'ready': lwa_f.is_connected() and st['programmed']}\n",
    "        \n",
    "    dd_statuses.append(dd_fstatus)\n",
    "\n",
    "    dd_f = {'name': snap2name}\n",
    "\n",
    "    dd_f['is_connected'] = lwa_f.is_connected()  # can SNAP be reached with ping on network?\n",
    "    dd_f['is_polling'] = lwa_fe.is_polling()   # is monitor service checking on SNAP?\n",
    "    dd_f['programmed'] = st['programmed']\n",
    "    dd_f['firmware'] = st['flash_firmware']\n",
    "        \n",
    "    dd_f['mp_age'] = t_now-time.Time(st['timestamp']).unix\n",
    "\n",
    "    st, fl = lwa_f.sync.get_status()\n",
    "    dd_f['uptime_fpga_clks'] = st['uptime_fpga_clks']\n",
    "\n",
    "    st, fl = lwa_f.autocorr.get_status()\n",
    "    dd_f['autocorr_acc_len'] = st['acc_len']\n",
    "\n",
    "    st, fl = lwa_f.corr.get_status()\n",
    "    dd_f['corr_acc_len'] = st['acc_len']\n",
    "\n",
    "    st, fl = lwa_f.eqtvg.get_status()\n",
    "    dd_f['tvg_enabled'] = st['tvg_enabled']\n",
    "\n",
    "    st, fl = lwa_f.eq.get_status()\n",
    "    dd_f['clip_count'] = st['clip_count']\n",
    "\n",
    "    dd_fs.append(dd_f)\n",
    "    \n",
    "    st, fl = lwa_f.input.get_status()\n",
    "    pows = np.array([v for (k,v) in st.items() if 'pow' in k])\n",
    "    means = np.array([v for (k,v) in st.items() if 'mean' in k])\n",
    "    rms = np.array([v for (k,v) in st.items() if 'rms' in k])\n",
    "#    snap_input = [f'{snap2name}-{k.strip(\"rms\")}' for (k,v) in st.items() if 'rms' in k]\n",
    "    df_fstats = pd.DataFrame(data={'pows': pows, 'mean': means, 'snap': len(pows)*[f'{snap2name}']})\n",
    "\n",
    "plot_fstats = df_fstats.hvplot.scatter('pows', 'mean', by='snap', width=500, title='F-engine stats')\n",
    "df_f = pd.DataFrame.from_dict(dd_fs)\n",
    "if any(df_f):\n",
    "    df_f.set_index('name', inplace=True)"
   ]
  },
  {
   "cell_type": "code",
   "execution_count": 77,
   "metadata": {},
   "outputs": [],
   "source": [
    "#df_f"
   ]
  },
  {
   "cell_type": "code",
   "execution_count": 78,
   "metadata": {},
   "outputs": [],
   "source": [
    "#plot_fstats"
   ]
  },
  {
   "cell_type": "markdown",
   "metadata": {},
   "source": [
    "## X-engine"
   ]
  },
  {
   "cell_type": "code",
   "execution_count": 79,
   "metadata": {
    "scrolled": true
   },
   "outputs": [
    {
     "name": "stdout",
     "output_type": "stream",
     "text": [
      "Pipeline for lxdlwagpu01:0 is not up\n",
      "Pipeline for lxdlwagpu01:1 is not up\n",
      "Pipeline for lxdlwagpu01:2 is not up\n",
      "Pipeline for lxdlwagpu01:3 is not up\n",
      "Pipeline for lxdlwagpu02:0 is not up\n",
      "Pipeline for lxdlwagpu02:1 is not up\n",
      "Pipeline for lxdlwagpu02:2 is not up\n",
      "Pipeline for lxdlwagpu02:3 is not up\n",
      "Pipeline for lxdlwagpu03:0 is not up\n",
      "Pipeline for lxdlwagpu03:1 is not up\n",
      "Pipeline for lxdlwagpu03:2 is not up\n",
      "Pipeline for lxdlwagpu03:3 is not up\n",
      "Pipeline for lxdlwagpu04:0 is not up\n",
      "Pipeline for lxdlwagpu04:1 is not up\n",
      "Pipeline for lxdlwagpu04:2 is not up\n",
      "Pipeline for lxdlwagpu04:3 is not up\n",
      "Pipeline for lxdlwagpu05:0 is not up\n",
      "Pipeline for lxdlwagpu05:1 is not up\n",
      "Pipeline for lxdlwagpu05:2 is not up\n",
      "Pipeline for lxdlwagpu05:3 is not up\n",
      "Pipeline for lxdlwagpu06:0 is not up\n",
      "Pipeline for lxdlwagpu06:1 is not up\n",
      "Pipeline for lxdlwagpu06:2 is not up\n",
      "Pipeline for lxdlwagpu06:3 is not up\n",
      "Pipeline for lxdlwagpu07:0 is not up\n",
      "Pipeline for lxdlwagpu07:1 is not up\n",
      "Pipeline for lxdlwagpu07:2 is not up\n",
      "Pipeline for lxdlwagpu07:3 is not up\n"
     ]
    }
   ],
   "source": [
    "# mp update cadence of <10s\n",
    "\n",
    "dd_xs = []\n",
    "t_now = time.Time.now().unix\n",
    "for host in xhosts:\n",
    "    for pipeline in range(npipeline):\n",
    "        lwa_x = Lwa352PipelineControl(pipeline_id=pipeline, etcdhost=common.ETCD_HOST, host=host)\n",
    "        if lwa_x.pipeline_is_up():\n",
    "            st = lwa_x.corr.get_bifrost_status()\n",
    "            t_now = time.Time.now().unix\n",
    "            stats = st['stats']\n",
    "            name = f'{host}-{pipeline}'\n",
    "            dd_xstatus = {'name': name}\n",
    "            dd_x = {'name': name}\n",
    "            dd_x['gbps'] = st['gbps']\n",
    "            dd_x['mp_age'] = t_now-st['time']\n",
    "#            print(name, dd_x['mp_age'])\n",
    "            if len(stats) > 1:\n",
    "                dd_x['curr_sample'] = stats['curr_sample']\n",
    "                dd_x['state'] = stats['state']\n",
    "                dd_xstatus['ready'] = stats['state'] == 'running'\n",
    "            dd_xs.append(dd_x)\n",
    "\n",
    "            dd_xstatus['mp_age'] = t_now-st['time']\n",
    "            dd_statuses.append(dd_xstatus)\n",
    "        else:\n",
    "            print(f'Pipeline for {host}:{pipeline} is not up')\n",
    "\n",
    "df_x = pd.DataFrame.from_dict(dd_xs)\n",
    "if any(df_x):\n",
    "    df_x.set_index('name', inplace=True)"
   ]
  },
  {
   "cell_type": "markdown",
   "metadata": {},
   "source": [
    "## Data capture"
   ]
  },
  {
   "cell_type": "code",
   "execution_count": 80,
   "metadata": {},
   "outputs": [],
   "source": [
    "dd_ds = []\n",
    "t_now = time.Time.now().unix\n",
    "data_baselines = None\n",
    "data_spectra = None\n",
    "for drid in drids:\n",
    "    lwa_dr = mcs.Client(drid)\n",
    "    if lwa_dr is not None and data_baselines is None:\n",
    "        data_baselines = lwa_dr.read_monitor_point('diagnostics/baselines', id=drid).value\n",
    "        data_spectra = lwa_dr.read_monitor_point('diagnostics/spectra', id=drid).value\n",
    "\n",
    "    summary = lwa_dr.read_monitor_point('summary')\n",
    "    if summary is None:\n",
    "        continue\n",
    "    t_mp = summary.timestamp\n",
    "    dd_dstatus = {'name': drid, 'mp_age': t_now-t_mp,\n",
    "                  'ready': summary.value == 'normal'}\n",
    "    dd_statuses.append(dd_dstatus)\n",
    "\n",
    "    rx_rate = lwa_dr.read_monitor_point('bifrost/rx_rate', id=drid).value or None\n",
    "    rx_missing = lwa_dr.read_monitor_point('bifrost/rx_missing', id=drid).value\n",
    "    pipeline_lag = lwa_dr.read_monitor_point('bifrost/pipeline_lag', id=drid).value\n",
    "    dd_d = {'name': f'{drid}', 'rx_rate': rx_rate, 'rx_missing': rx_missing,\n",
    "            'pipeline_lag': pipeline_lag, 'summary': summary.value}\n",
    "    dd_ds.append(dd_d)\n",
    "else:\n",
    "    lwa_dr = None\n",
    "        \n",
    "df_d = pd.DataFrame.from_dict(dd_ds)\n",
    "if any(df_d):\n",
    "    df_d.set_index('name', inplace=True)\n",
    "#df_d"
   ]
  },
  {
   "cell_type": "code",
   "execution_count": 81,
   "metadata": {},
   "outputs": [],
   "source": [
    "if data_baselines is not None:\n",
    "    pane_spectra = pn.pane.PNG(display.Image(mcs.ImageMonitorPoint._decode_image_data(data_spectra)), width=500)\n",
    "    pane_baselines = pn.pane.PNG(display.Image(mcs.ImageMonitorPoint._decode_image_data(data_baselines)), width=500)\n",
    "else:\n",
    "    pane_spectra = pn.pane.PNG()\n",
    "    pane_baselines = pn.pane.PNG()"
   ]
  },
  {
   "cell_type": "code",
   "execution_count": 82,
   "metadata": {},
   "outputs": [],
   "source": [
    "df_status = pd.DataFrame.from_dict(dd_statuses)\n",
    "df_status.set_index('name', inplace=True)\n",
    "#df_x"
   ]
  },
  {
   "cell_type": "code",
   "execution_count": 83,
   "metadata": {},
   "outputs": [],
   "source": [
    "lwa_dr"
   ]
  },
  {
   "cell_type": "markdown",
   "metadata": {},
   "source": [
    "## Build dashboard"
   ]
  },
  {
   "cell_type": "code",
   "execution_count": 84,
   "metadata": {},
   "outputs": [],
   "source": [
    "# coloring and filtering functions\n",
    "\n",
    "frequencies = np.linspace(0, 196/2, 4096//8, endpoint=False)  # get_new_corr does 8-channel average\n",
    "\n",
    "def filter_df(antpol):\n",
    "    \"\"\" Given ant-pol string input, plot the snap2 f-engine autocorr\n",
    "    \"\"\"\n",
    "\n",
    "#    return df_spec[colname].hvplot.line(title=f'autocorrelation spectrum', xlabel='channels', ylabel='amplitude')\n",
    "    if not antpol:\n",
    "        specs = {f'no ant': np.zeros(512), 'frequencies': frequencies}\n",
    "        df_spec = pd.DataFrame.from_dict(specs)\n",
    "        return df_spec.hvplot.line(x='frequencies', title=f'autocorrelation spectrum',\n",
    "                                   xlabel='frequencies', ylabel='amplitude')\n",
    "    \n",
    "    numpol = antpol.upper().lstrip('LWA-')  # prep input\n",
    "    num = numpol[:-1]\n",
    "    pol = numpol[-1:]\n",
    "    i = mapping.antpol_to_digitizer(f'LWA-{num}', pol)\n",
    "    \n",
    "    spec = lwa_f.corr.get_new_corr(int(i), int(i)).real  # 8-channel average, normalized by accumulated time/chans\n",
    "    specs = {f'ant {i}': spec, 'frequencies': frequencies}\n",
    "    df_spec = pd.DataFrame.from_dict(specs)\n",
    "    return df_spec.hvplot.line(x='frequencies', y=f'ant {i}', title=f'autocorrelation spectrum',\n",
    "                               xlabel='frequencies', ylabel='amplitude')\n",
    "\n",
    "def color_bad(val):\n",
    "    \"\"\"\n",
    "    Colors text red if bad.\n",
    "    Made for status df, so False and mp_age > 100 are \"bad\"\n",
    "    \"\"\"\n",
    "    color = 'red' if (val is False or val > 100) else 'black'\n",
    "    return 'color: %s' % color\n",
    "\n",
    "#col_filter = pn.widgets.TextInput(placeholder='Enter a f-eng input for snap01')\n",
    "col_filter = pn.widgets.TextInput(placeholder='Plot f-eng for ant-pol name (e.g., 240a)')"
   ]
  },
  {
   "cell_type": "code",
   "execution_count": 85,
   "metadata": {},
   "outputs": [],
   "source": [
    "# using Tabulator\n",
    "df_status_pane = pn.widgets.Tabulator(df_status).style.applymap(color_bad)\n",
    "df_cnf_pane = pn.widgets.Tabulator(df_cnf, layout='fit_data_table', pagination='remote', page_size=20)\n",
    "df_f_pane = pn.widgets.Tabulator(df_f, layout='fit_data_table', pagination='remote', page_size=20)\n",
    "df_x_pane = pn.widgets.Tabulator(df_x, layout='fit_data_table', pagination='remote', page_size=20)\n",
    "df_arx_pane = pn.widgets.Tabulator(df_arx, layout='fit_data_table', pagination='remote', page_size=20)\n",
    "df_d_pane = pn.widgets.Tabulator(df_d, layout='fit_data_table', pagination='remote', page_size=20)\n",
    "\n",
    "#df_status_pane.add_filter(slider, 'mp_age')\n",
    "#df_status_pane_sel = pn.Column(slider, df_status_pane)"
   ]
  },
  {
   "cell_type": "code",
   "execution_count": 86,
   "metadata": {},
   "outputs": [],
   "source": [
    "dashboard_title = pn.panel('## OVRO-LWA dashboard')\n",
    "header_table = pn.pane.Markdown('##Subsystem monitor points')\n",
    "tabs = pn.Tabs(('Cabling', df_cnf_pane),\n",
    "               ('ARX', df_arx_pane),\n",
    "               ('F-engine', df_f_pane),\n",
    "               ('X-engine', df_x_pane),\n",
    "               ('Data recorder', df_d_pane))\n",
    "header_f = pn.pane.Markdown('##F-engine plots')\n",
    "plot_spec_pane = pn.Row(pn.panel(pn.bind(filter_df, col_filter)), pn.Column(col_filter))\n",
    "header_dr = pn.pane.Markdown('##Data recorder plots')\n",
    "plot_dr = pn.Row(pane_spectra, pane_baselines)\n",
    "mini_dashboard = pn.Column(dashboard_title, df_status_pane, header_table, tabs, header_f,\n",
    "                           plot_fstats, plot_spec_pane, header_dr, plot_dr)"
   ]
  },
  {
   "cell_type": "code",
   "execution_count": 87,
   "metadata": {
    "scrolled": false
   },
   "outputs": [
    {
     "data": {
      "application/vnd.holoviews_exec.v0+json": "",
      "text/html": [
       "<div id='3072'>\n",
       "\n",
       "\n",
       "\n",
       "\n",
       "\n",
       "  <div class=\"bk-root\" id=\"42675ea8-46f4-4e87-ad29-be9f85cee392\" data-root-id=\"3072\"></div>\n",
       "</div>\n",
       "<script type=\"application/javascript\">(function(root) {\n",
       "  function embed_document(root) {\n",
       "    var docs_json = {\"2ee60a26-efe9-4d67-9dbc-8ca1509db0b7\":{\"defs\":[{\"extends\":null,\"module\":null,\"name\":\"ReactiveHTML1\",\"overrides\":[],\"properties\":[]},{\"extends\":null,\"module\":null,\"name\":\"FlexBox1\",\"overrides\":[],\"properties\":[{\"default\":\"flex-start\",\"kind\":null,\"name\":\"align_content\"},{\"default\":\"flex-start\",\"kind\":null,\"name\":\"align_items\"},{\"default\":\"row\",\"kind\":null,\"name\":\"flex_direction\"},{\"default\":\"wrap\",\"kind\":null,\"name\":\"flex_wrap\"},{\"default\":\"flex-start\",\"kind\":null,\"name\":\"justify_content\"}]},{\"extends\":null,\"module\":null,\"name\":\"TemplateActions1\",\"overrides\":[],\"properties\":[{\"default\":0,\"kind\":null,\"name\":\"open_modal\"},{\"default\":0,\"kind\":null,\"name\":\"close_modal\"}]},{\"extends\":null,\"module\":null,\"name\":\"MaterialTemplateActions1\",\"overrides\":[],\"properties\":[{\"default\":0,\"kind\":null,\"name\":\"open_modal\"},{\"default\":0,\"kind\":null,\"name\":\"close_modal\"}]}],\"roots\":{\"references\":[{\"attributes\":{\"children\":[{\"id\":\"3389\"},{\"id\":\"3458\"}],\"margin\":[0,0,0,0],\"name\":\"Row03283\"},\"id\":\"3388\",\"type\":\"Row\"},{\"attributes\":{\"format\":\"0,0.0[00000]\"},\"id\":\"3182\",\"type\":\"NumberFormatter\"},{\"attributes\":{},\"id\":\"3230\",\"type\":\"CellEditor\"},{\"attributes\":{\"end\":10.919755554199218,\"reset_end\":10.919755554199218,\"reset_start\":-6.427674865722656,\"start\":-6.427674865722656,\"tags\":[[[\"mean\",\"mean\",null]]]},\"id\":\"3239\",\"type\":\"Range1d\"},{\"attributes\":{},\"id\":\"3262\",\"type\":\"ResetTool\"},{\"attributes\":{},\"id\":\"3086\",\"type\":\"StringEditor\"},{\"attributes\":{},\"id\":\"3183\",\"type\":\"NumberEditor\"},{\"attributes\":{\"overlay\":{\"id\":\"3263\"}},\"id\":\"3261\",\"type\":\"BoxZoomTool\"},{\"attributes\":{\"end\":97.80859375,\"reset_end\":97.80859375,\"reset_start\":0.0,\"tags\":[[[\"frequencies\",\"frequencies\",null]]]},\"id\":\"3390\",\"type\":\"Range1d\"},{\"attributes\":{\"css_classes\":[\"markdown\"],\"margin\":[5,5,5,5],\"name\":\"Markdown03196\",\"text\":\"&lt;h2&gt;F-engine plots&lt;/h2&gt;\"},\"id\":\"3237\",\"type\":\"panel.models.markup.HTML\"},{\"attributes\":{\"columns\":[{\"id\":\"3231\"}],\"configuration\":{\"columns\":[{\"field\":\"index\"}],\"dataTree\":false,\"selectable\":true},\"height\":630,\"indexes\":[\"index\"],\"layout\":\"fit_data_table\",\"margin\":[5,10,5,10],\"name\":\"\",\"page\":1,\"page_size\":20,\"pagination\":\"remote\",\"selectable_rows\":null,\"source\":{\"id\":\"3226\"}},\"id\":\"3234\",\"type\":\"panel.models.tabulator.DataTabulator\"},{\"attributes\":{\"callback\":null,\"renderers\":[{\"id\":\"3283\"}],\"tags\":[\"hv_created\"],\"tooltips\":[[\"snap\",\"@{snap}\"],[\"pows\",\"@{pows}\"],[\"mean\",\"@{mean}\"]]},\"id\":\"3240\",\"type\":\"HoverTool\"},{\"attributes\":{\"editor\":{\"id\":\"3183\"},\"field\":\"mp_age\",\"formatter\":{\"id\":\"3182\"},\"title\":\"mp_age\",\"width\":0},\"id\":\"3184\",\"type\":\"TableColumn\"},{\"attributes\":{},\"id\":\"3260\",\"type\":\"WheelZoomTool\"},{\"attributes\":{},\"id\":\"3272\",\"type\":\"BasicTickFormatter\"},{\"attributes\":{},\"id\":\"3187\",\"type\":\"NumberFormatter\"},{\"attributes\":{\"end\":95.40256378173828,\"reset_end\":95.40256378173828,\"reset_start\":-5.2849337768554685,\"start\":-5.2849337768554685,\"tags\":[[[\"pows\",\"pows\",null]]]},\"id\":\"3238\",\"type\":\"Range1d\"},{\"attributes\":{},\"id\":\"3188\",\"type\":\"IntEditor\"},{\"attributes\":{\"editor\":{\"id\":\"3188\"},\"field\":\"uptime_fpga_clks\",\"formatter\":{\"id\":\"3187\"},\"title\":\"uptime_fpga_clks\",\"width\":0},\"id\":\"3189\",\"type\":\"TableColumn\"},{\"attributes\":{},\"id\":\"3276\",\"type\":\"AllLabels\"},{\"attributes\":{\"below\":[{\"id\":\"3250\"}],\"center\":[{\"id\":\"3253\"},{\"id\":\"3257\"}],\"height\":300,\"left\":[{\"id\":\"3254\"}],\"margin\":[5,5,5,5],\"min_border_bottom\":10,\"min_border_left\":10,\"min_border_right\":10,\"min_border_top\":10,\"renderers\":[{\"id\":\"3283\"}],\"right\":[{\"id\":\"3295\"}],\"sizing_mode\":\"fixed\",\"title\":{\"id\":\"3242\"},\"toolbar\":{\"id\":\"3264\"},\"width\":500,\"x_range\":{\"id\":\"3238\"},\"x_scale\":{\"id\":\"3246\"},\"y_range\":{\"id\":\"3239\"},\"y_scale\":{\"id\":\"3248\"}},\"id\":\"3241\",\"subtype\":\"Figure\",\"type\":\"Plot\"},{\"attributes\":{},\"id\":\"3192\",\"type\":\"NumberFormatter\"},{\"attributes\":{\"text\":\"F-engine stats\",\"text_color\":\"black\",\"text_font_size\":\"12pt\"},\"id\":\"3242\",\"type\":\"Title\"},{\"attributes\":{\"data\":{\"mean\":{\"__ndarray__\":\"AAAAAGDY7b8AAAAAAOrnvwAAAABwefg/AAAAANCT/r8AAAAAwGP2PwAAAAAwl/I/AAAAAADk/b8AAAAAUMj4PwAAAAAw5f2/AAAAAACaqL8AAAAASAMEwAAAAACg8uS/AAAAABAQ+b8AAAAAABOwPwAAAAAARfO/AAAAAJD4/b8AAAAAYCfzPwAAAAAgBOE/AAAAAGDr+z8AAAAAALCWPwAAAACAVc0/AAAAACCC8T8AAAAAgBf/vwAAAADgNOe/AAAAAEBl/78AAAAAAF/aPwAAAABg/fc/AAAAAJjHE8AAAAAAINYPwAAAAABAK/I/AAAAAFgBCkAAAAAAKOIBwAAAAABgiwDAAAAAAMBC7z8AAAAAAIuwvwAAAACQ3wbAAAAAADDe/L8AAAAAULzwPwAAAAA4jwNAAAAAAMAL5L8AAAAAYPgGwAAAAABAZNk/AAAAACBBBsAAAAAAoBTwPwAAAADQafG/AAAAAABcAEAAAAAAsGj+vwAAAABAyv+/AAAAAGBr6j8AAAAAgFnUPwAAAABAge0/AAAAAMDr1r8AAAAA8AL1vwAAAABAqu0/AAAAAMLyIkAAAAAAAAC0PwAAAABgDu8/AAAAAAAEsj8AAAAAQJrRvwAAAADAi/A/AAAAAKDtE8AAAAAAoPPzvwAAAADgWeq/AAAAAMAF8b8=\",\"dtype\":\"float64\",\"order\":\"little\",\"shape\":[64]},\"pows\":{\"__ndarray__\":\"AAAAAAz/HkAAAAAAyFoXQAAAAAAkwBxAAAAAANqJIkAAAAAA8LccQAAAAADE4xxAAAAAAOBbI0AAAAAANGYeQAAAAACiXiVAAAAAAPQ0HkAAAAAA1mEtQAAAAADUERVAAAAAADbSJEAAAAAArB4ZQAAAAAAEKCJAAAAAAArQI0AAAAAAhGohQAAAAABCMSFAAAAAADTkJUAAAAAACJEdQAAAAAB0zhhAAAAAABBfIkAAAAAAqHooQAAAAAAODCZAAAAAAKQYI0AAAAAA4McfQAAAAADwBSVAAAAAAPhBPkAAAAAAGt83QAAAAAB8ViBAAAAAAHGjMkAAAAAABjcqQAAAAADwAChAAAAAAGD0HkAAAAAA7NkaQAAAAABkki1AAAAAAJJ8I0AAAAAADB4bQAAAAABi1CdAAAAAACCUIEAAAAAAQN4tQAAAAACk6xNAAAAAAOAdKkAAAAAAGMIYQAAAAACc9B1AAAAAAGTQJkAAAAAATqAjQAAAAAAEJSZAAAAAAKxiHUAAAAAAAH0dQAAAAADAVx9AAAAAACZTIUAAAAAAsA//PwAAAACA1e0/AAAAwIyAVkAAAAAA6G4cQAAAAADgle8/AAAAAADquz8AAAAAQK/RPwAAAABAUfI/AAAAAILaOEAAAAAAwLH8PwAAAABgvOo/AAAAAGA18z8=\",\"dtype\":\"float64\",\"order\":\"little\",\"shape\":[64]},\"snap\":[\"snap11\",\"snap11\",\"snap11\",\"snap11\",\"snap11\",\"snap11\",\"snap11\",\"snap11\",\"snap11\",\"snap11\",\"snap11\",\"snap11\",\"snap11\",\"snap11\",\"snap11\",\"snap11\",\"snap11\",\"snap11\",\"snap11\",\"snap11\",\"snap11\",\"snap11\",\"snap11\",\"snap11\",\"snap11\",\"snap11\",\"snap11\",\"snap11\",\"snap11\",\"snap11\",\"snap11\",\"snap11\",\"snap11\",\"snap11\",\"snap11\",\"snap11\",\"snap11\",\"snap11\",\"snap11\",\"snap11\",\"snap11\",\"snap11\",\"snap11\",\"snap11\",\"snap11\",\"snap11\",\"snap11\",\"snap11\",\"snap11\",\"snap11\",\"snap11\",\"snap11\",\"snap11\",\"snap11\",\"snap11\",\"snap11\",\"snap11\",\"snap11\",\"snap11\",\"snap11\",\"snap11\",\"snap11\",\"snap11\",\"snap11\"]},\"selected\":{\"id\":\"3278\"},\"selection_policy\":{\"id\":\"3292\"}},\"id\":\"3277\",\"type\":\"ColumnDataSource\"},{\"attributes\":{},\"id\":\"3479\",\"type\":\"UnionRenderers\"},{\"attributes\":{},\"id\":\"3193\",\"type\":\"IntEditor\"},{\"attributes\":{},\"id\":\"3246\",\"type\":\"LinearScale\"},{\"attributes\":{},\"id\":\"3273\",\"type\":\"AllLabels\"},{\"attributes\":{\"editor\":{\"id\":\"3193\"},\"field\":\"autocorr_acc_len\",\"formatter\":{\"id\":\"3192\"},\"title\":\"autocorr_acc_len\",\"width\":0},\"id\":\"3194\",\"type\":\"TableColumn\"},{\"attributes\":{},\"id\":\"3275\",\"type\":\"BasicTickFormatter\"},{\"attributes\":{},\"id\":\"3085\",\"type\":\"StringFormatter\"},{\"attributes\":{},\"id\":\"3095\",\"type\":\"NumberFormatter\"},{\"attributes\":{},\"id\":\"3248\",\"type\":\"LinearScale\"},{\"attributes\":{},\"id\":\"3081\",\"type\":\"CellEditor\"},{\"attributes\":{},\"id\":\"3197\",\"type\":\"NumberFormatter\"},{\"attributes\":{\"axis_label\":\"pows\",\"formatter\":{\"id\":\"3272\"},\"major_label_policy\":{\"id\":\"3273\"},\"ticker\":{\"id\":\"3251\"}},\"id\":\"3250\",\"type\":\"LinearAxis\"},{\"attributes\":{},\"id\":\"3198\",\"type\":\"IntEditor\"},{\"attributes\":{},\"id\":\"3251\",\"type\":\"BasicTicker\"},{\"attributes\":{\"editor\":{\"id\":\"3198\"},\"field\":\"corr_acc_len\",\"formatter\":{\"id\":\"3197\"},\"title\":\"corr_acc_len\",\"width\":0},\"id\":\"3199\",\"type\":\"TableColumn\"},{\"attributes\":{\"axis\":{\"id\":\"3250\"},\"grid_line_color\":null,\"ticker\":null},\"id\":\"3253\",\"type\":\"Grid\"},{\"attributes\":{},\"id\":\"3079\",\"type\":\"StringFormatter\"},{\"attributes\":{\"css_classes\":[\"markdown\"],\"margin\":[5,5,5,5],\"name\":\"Markdown03284\",\"text\":\"&lt;h2&gt;Data recorder plots&lt;/h2&gt;\"},\"id\":\"3460\",\"type\":\"panel.models.markup.HTML\"},{\"attributes\":{\"css_classes\":[\"markdown\"],\"margin\":[5,5,5,5],\"name\":\"Markdown03191\",\"text\":\"&lt;h2&gt;OVRO-LWA dashboard&lt;/h2&gt;\"},\"id\":\"3073\",\"type\":\"panel.models.markup.HTML\"},{\"attributes\":{\"axis_label\":\"mean\",\"formatter\":{\"id\":\"3275\"},\"major_label_policy\":{\"id\":\"3276\"},\"ticker\":{\"id\":\"3255\"}},\"id\":\"3254\",\"type\":\"LinearAxis\"},{\"attributes\":{},\"id\":\"3202\",\"type\":\"StringFormatter\"},{\"attributes\":{\"editor\":{\"id\":\"3091\"},\"field\":\"snap2_chassis\",\"formatter\":{\"id\":\"3090\"},\"title\":\"snap2_chassis\",\"width\":0},\"id\":\"3092\",\"type\":\"TableColumn\"},{\"attributes\":{},\"id\":\"3255\",\"type\":\"BasicTicker\"},{\"attributes\":{\"indices\":[]},\"id\":\"3078\",\"type\":\"Selection\"},{\"attributes\":{},\"id\":\"3203\",\"type\":\"CheckboxEditor\"},{\"attributes\":{\"css_classes\":[\"markdown\"],\"margin\":[5,5,5,5],\"name\":\"Markdown03193\",\"text\":\"&lt;h2&gt;Subsystem monitor points&lt;/h2&gt;\"},\"id\":\"3075\",\"type\":\"panel.models.markup.HTML\"},{\"attributes\":{\"editor\":{\"id\":\"3086\"},\"field\":\"snap2_hostname\",\"formatter\":{\"id\":\"3085\"},\"title\":\"snap2_hostname\",\"width\":0},\"id\":\"3087\",\"type\":\"TableColumn\"},{\"attributes\":{\"editor\":{\"id\":\"3203\"},\"field\":\"tvg_enabled\",\"formatter\":{\"id\":\"3202\"},\"title\":\"tvg_enabled\",\"width\":0},\"id\":\"3204\",\"type\":\"TableColumn\"},{\"attributes\":{\"editor\":{\"id\":\"3081\"},\"field\":\"antname\",\"formatter\":{\"id\":\"3079\"},\"title\":\"antname\",\"width\":0},\"id\":\"3082\",\"type\":\"TableColumn\"},{\"attributes\":{\"axis\":{\"id\":\"3254\"},\"dimension\":1,\"grid_line_color\":null,\"ticker\":null},\"id\":\"3257\",\"type\":\"Grid\"},{\"attributes\":{\"children\":[{\"id\":\"3462\"},{\"id\":\"3463\"}],\"margin\":[0,0,0,0],\"name\":\"Row03286\"},\"id\":\"3461\",\"type\":\"Row\"},{\"attributes\":{},\"id\":\"3090\",\"type\":\"NumberFormatter\"},{\"attributes\":{},\"id\":\"3207\",\"type\":\"NumberFormatter\"},{\"attributes\":{\"margin\":[5,5,5,5],\"name\":\"PNG03180\",\"text\":\"<img></img>\"},\"id\":\"3462\",\"type\":\"panel.models.markup.HTML\"},{\"attributes\":{},\"id\":\"3208\",\"type\":\"IntEditor\"},{\"attributes\":{\"margin\":[5,5,5,5],\"name\":\"PNG03182\",\"text\":\"<img></img>\"},\"id\":\"3463\",\"type\":\"panel.models.markup.HTML\"},{\"attributes\":{},\"id\":\"3258\",\"type\":\"SaveTool\"},{\"attributes\":{\"editor\":{\"id\":\"3208\"},\"field\":\"clip_count\",\"formatter\":{\"id\":\"3207\"},\"title\":\"clip_count\",\"width\":0},\"id\":\"3209\",\"type\":\"TableColumn\"},{\"attributes\":{},\"id\":\"3259\",\"type\":\"PanTool\"},{\"attributes\":{},\"id\":\"3398\",\"type\":\"LinearScale\"},{\"attributes\":{\"angle\":{\"value\":0.0},\"fill_alpha\":{\"value\":1.0},\"fill_color\":{\"value\":\"#30a2da\"},\"hatch_alpha\":{\"value\":1.0},\"hatch_color\":{\"value\":\"black\"},\"hatch_scale\":{\"value\":12.0},\"hatch_weight\":{\"value\":1.0},\"line_alpha\":{\"value\":1.0},\"line_cap\":{\"value\":\"butt\"},\"line_color\":{\"value\":\"#30a2da\"},\"line_dash\":{\"value\":[]},\"line_dash_offset\":{\"value\":0},\"line_join\":{\"value\":\"bevel\"},\"line_width\":{\"value\":1},\"marker\":{\"value\":\"circle\"},\"size\":{\"value\":5.477225575051661},\"x\":{\"field\":\"pows\"},\"y\":{\"field\":\"mean\"}},\"id\":\"3297\",\"type\":\"Scatter\"},{\"attributes\":{\"axis_label\":\"frequencies\",\"formatter\":{\"id\":\"3433\"},\"major_label_policy\":{\"id\":\"3434\"},\"ticker\":{\"id\":\"3403\"}},\"id\":\"3402\",\"type\":\"LinearAxis\"},{\"attributes\":{\"children\":[{\"id\":\"3393\"}],\"margin\":[0,0,0,0],\"name\":\"Row03202\"},\"id\":\"3389\",\"type\":\"Row\"},{\"attributes\":{\"columns\":[{\"id\":\"3159\"},{\"id\":\"3164\"},{\"id\":\"3169\"},{\"id\":\"3174\"},{\"id\":\"3179\"},{\"id\":\"3184\"},{\"id\":\"3189\"},{\"id\":\"3194\"},{\"id\":\"3199\"},{\"id\":\"3204\"},{\"id\":\"3209\"}],\"configuration\":{\"columns\":[{\"field\":\"name\"},{\"field\":\"is_connected\"},{\"field\":\"is_polling\"},{\"field\":\"programmed\"},{\"field\":\"firmware\"},{\"field\":\"mp_age\"},{\"field\":\"uptime_fpga_clks\"},{\"field\":\"autocorr_acc_len\"},{\"field\":\"corr_acc_len\"},{\"field\":\"tvg_enabled\"},{\"field\":\"clip_count\"}],\"dataTree\":false,\"selectable\":true},\"height\":630,\"indexes\":[\"name\"],\"layout\":\"fit_data_table\",\"margin\":[5,10,5,10],\"max_page\":1,\"name\":\"\",\"page\":1,\"page_size\":20,\"pagination\":\"remote\",\"selectable_rows\":null,\"source\":{\"id\":\"3154\"}},\"id\":\"3212\",\"type\":\"panel.models.tabulator.DataTabulator\"},{\"attributes\":{\"data_source\":{\"id\":\"3277\"},\"glyph\":{\"id\":\"3280\"},\"hover_glyph\":null,\"muted_glyph\":{\"id\":\"3282\"},\"nonselection_glyph\":{\"id\":\"3281\"},\"selection_glyph\":{\"id\":\"3297\"},\"view\":{\"id\":\"3284\"}},\"id\":\"3283\",\"type\":\"GlyphRenderer\"},{\"attributes\":{\"active_multi\":null,\"tools\":[{\"id\":\"3240\"},{\"id\":\"3258\"},{\"id\":\"3259\"},{\"id\":\"3260\"},{\"id\":\"3261\"},{\"id\":\"3262\"}]},\"id\":\"3264\",\"type\":\"Toolbar\"},{\"attributes\":{\"data\":{\"index\":[]},\"selected\":{\"id\":\"3216\"},\"selection_policy\":{\"id\":\"3481\"}},\"id\":\"3215\",\"type\":\"ColumnDataSource\"},{\"attributes\":{\"child\":{\"id\":\"3234\"},\"name\":\"\",\"title\":\"Data recorder\"},\"id\":\"3236\",\"type\":\"Panel\"},{\"attributes\":{\"label\":{\"value\":\"snap11\"},\"renderers\":[{\"id\":\"3283\"}]},\"id\":\"3296\",\"type\":\"LegendItem\"},{\"attributes\":{\"axis\":{\"id\":\"3402\"},\"grid_line_color\":null,\"ticker\":null},\"id\":\"3405\",\"type\":\"Grid\"},{\"attributes\":{\"indices\":[]},\"id\":\"3216\",\"type\":\"Selection\"},{\"attributes\":{},\"id\":\"3217\",\"type\":\"StringFormatter\"},{\"attributes\":{\"bottom_units\":\"screen\",\"fill_alpha\":0.5,\"fill_color\":\"lightgrey\",\"left_units\":\"screen\",\"level\":\"overlay\",\"line_alpha\":1.0,\"line_color\":\"black\",\"line_dash\":[4,4],\"line_width\":2,\"right_units\":\"screen\",\"syncable\":false,\"top_units\":\"screen\"},\"id\":\"3263\",\"type\":\"BoxAnnotation\"},{\"attributes\":{},\"id\":\"3091\",\"type\":\"IntEditor\"},{\"attributes\":{\"editor\":{\"id\":\"3219\"},\"field\":\"index\",\"formatter\":{\"id\":\"3217\"},\"title\":\"index\",\"width\":0},\"id\":\"3220\",\"type\":\"TableColumn\"},{\"attributes\":{\"text\":\"autocorrelation spectrum\",\"text_color\":\"black\",\"text_font_size\":\"12pt\"},\"id\":\"3394\",\"type\":\"Title\"},{\"attributes\":{},\"id\":\"3219\",\"type\":\"CellEditor\"},{\"attributes\":{\"click_policy\":\"mute\",\"items\":[{\"id\":\"3296\"}],\"location\":[0,0],\"title\":\"snap\"},\"id\":\"3295\",\"type\":\"Legend\"},{\"attributes\":{},\"id\":\"3278\",\"type\":\"Selection\"},{\"attributes\":{\"columns\":[{\"id\":\"3220\"}],\"configuration\":{\"columns\":[{\"field\":\"index\"}],\"dataTree\":false,\"selectable\":true},\"height\":630,\"indexes\":[\"index\"],\"layout\":\"fit_data_table\",\"margin\":[5,10,5,10],\"name\":\"\",\"page\":1,\"page_size\":20,\"pagination\":\"remote\",\"selectable_rows\":null,\"source\":{\"id\":\"3215\"}},\"id\":\"3223\",\"type\":\"panel.models.tabulator.DataTabulator\"},{\"attributes\":{},\"id\":\"3292\",\"type\":\"UnionRenderers\"},{\"attributes\":{\"data\":{\"index\":[]},\"selected\":{\"id\":\"3227\"},\"selection_policy\":{\"id\":\"3483\"}},\"id\":\"3226\",\"type\":\"ColumnDataSource\"},{\"attributes\":{\"child\":{\"id\":\"3151\"},\"name\":\"\",\"title\":\"ARX\"},\"id\":\"3153\",\"type\":\"Panel\"},{\"attributes\":{\"margin\":[0,0,0,0],\"tabs\":[{\"id\":\"3142\"},{\"id\":\"3153\"},{\"id\":\"3214\"},{\"id\":\"3225\"},{\"id\":\"3236\"}]},\"id\":\"3076\",\"type\":\"Tabs\"},{\"attributes\":{\"data\":{\"antname\":[\"LWA-000\",\"LWA-001\",\"LWA-002\",\"LWA-003\",\"LWA-004\",\"LWA-005\",\"LWA-006\",\"LWA-007\",\"LWA-008\",\"LWA-009\",\"LWA-010\",\"LWA-011\",\"LWA-012\",\"LWA-013\",\"LWA-014\",\"LWA-015\",\"LWA-016\",\"LWA-017\",\"LWA-018\",\"LWA-019\"],\"arx_address\":[-1,-1,-1,-1,-1,-1,-1,-1,-1,-1,-1,-1,-1,-1,-1,-1,-1,-1,-1,-1],\"fmc\":[-1,0,0,0,0,0,0,0,0,0,0,0,0,0,0,0,0,0,0,0],\"pola_arx_channel\":[-1,3,5,7,9,11,13,15,7,1,3,5,9,9,11,13,7,15,1,3],\"pola_digitizer_channel\":[-1,0,2,4,6,8,10,12,20,14,16,18,22,2,4,6,0,8,10,12],\"pola_fee\":[-1,221,211,186,208,314,800,265,241,191,515,731,1475,486,733,548,721,631,791,218],\"polb_arx_channel\":[-1,4,6,8,10,12,14,16,8,2,4,6,10,10,12,14,8,16,2,4],\"polb_digitizer_channel\":[-1,1,3,5,7,9,11,13,21,15,17,19,23,3,5,7,1,9,11,13],\"polb_fee\":[-1,1343,1379,1357,1382,569,872,1363,1378,317,565,865,586,265,879,1567,855,368,930,1376],\"snap2_chassis\":[-1,1,1,1,1,1,1,1,1,1,1,1,1,1,1,1,1,1,1,1],\"snap2_hostname\":[\"\",\"snap03.sas.pvt\",\"snap03.sas.pvt\",\"snap03.sas.pvt\",\"snap03.sas.pvt\",\"snap03.sas.pvt\",\"snap03.sas.pvt\",\"snap03.sas.pvt\",\"snap03.sas.pvt\",\"snap03.sas.pvt\",\"snap03.sas.pvt\",\"snap03.sas.pvt\",\"snap03.sas.pvt\",\"snap04.sas.pvt\",\"snap04.sas.pvt\",\"snap04.sas.pvt\",\"snap04.sas.pvt\",\"snap04.sas.pvt\",\"snap04.sas.pvt\",\"snap04.sas.pvt\"],\"snap2_location\":[-1,3,3,3,3,3,3,3,3,3,3,3,3,4,4,4,4,4,4,4]},\"selected\":{\"id\":\"3078\"},\"selection_policy\":{\"id\":\"3475\"}},\"id\":\"3077\",\"type\":\"ColumnDataSource\"},{\"attributes\":{\"indices\":[]},\"id\":\"3227\",\"type\":\"Selection\"},{\"attributes\":{\"fill_alpha\":{\"value\":0.2},\"fill_color\":{\"value\":\"#30a2da\"},\"line_alpha\":{\"value\":0.2},\"line_color\":{\"value\":\"#30a2da\"},\"size\":{\"value\":5.477225575051661},\"x\":{\"field\":\"pows\"},\"y\":{\"field\":\"mean\"}},\"id\":\"3282\",\"type\":\"Scatter\"},{\"attributes\":{\"source\":{\"id\":\"3277\"}},\"id\":\"3284\",\"type\":\"CDSView\"},{\"attributes\":{},\"id\":\"3400\",\"type\":\"LinearScale\"},{\"attributes\":{\"fill_color\":{\"value\":\"#30a2da\"},\"line_color\":{\"value\":\"#30a2da\"},\"size\":{\"value\":5.477225575051661},\"x\":{\"field\":\"pows\"},\"y\":{\"field\":\"mean\"}},\"id\":\"3280\",\"type\":\"Scatter\"},{\"attributes\":{},\"id\":\"3228\",\"type\":\"StringFormatter\"},{\"attributes\":{},\"id\":\"3403\",\"type\":\"BasicTicker\"},{\"attributes\":{\"fill_alpha\":{\"value\":0.1},\"fill_color\":{\"value\":\"#30a2da\"},\"line_alpha\":{\"value\":0.1},\"line_color\":{\"value\":\"#30a2da\"},\"size\":{\"value\":5.477225575051661},\"x\":{\"field\":\"pows\"},\"y\":{\"field\":\"mean\"}},\"id\":\"3281\",\"type\":\"Scatter\"},{\"attributes\":{\"editor\":{\"id\":\"3230\"},\"field\":\"index\",\"formatter\":{\"id\":\"3228\"},\"title\":\"index\",\"width\":0},\"id\":\"3231\",\"type\":\"TableColumn\"},{\"attributes\":{\"below\":[{\"id\":\"3402\"}],\"center\":[{\"id\":\"3405\"},{\"id\":\"3409\"}],\"height\":300,\"left\":[{\"id\":\"3406\"}],\"margin\":[5,5,5,5],\"min_border_bottom\":10,\"min_border_left\":10,\"min_border_right\":10,\"min_border_top\":10,\"renderers\":[{\"id\":\"3429\"}],\"sizing_mode\":\"fixed\",\"title\":{\"id\":\"3394\"},\"toolbar\":{\"id\":\"3416\"},\"width\":700,\"x_range\":{\"id\":\"3390\"},\"x_scale\":{\"id\":\"3398\"},\"y_range\":{\"id\":\"3391\"},\"y_scale\":{\"id\":\"3400\"}},\"id\":\"3393\",\"subtype\":\"Figure\",\"type\":\"Plot\"},{\"attributes\":{\"editor\":{\"id\":\"3111\"},\"field\":\"polb_digitizer_channel\",\"formatter\":{\"id\":\"3110\"},\"title\":\"polb_digitizer_channel\",\"width\":0},\"id\":\"3112\",\"type\":\"TableColumn\"},{\"attributes\":{},\"id\":\"3096\",\"type\":\"IntEditor\"},{\"attributes\":{},\"id\":\"3115\",\"type\":\"NumberFormatter\"},{\"attributes\":{\"data\":{\"frequencies\":{\"__ndarray__\":\"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\",\"dtype\":\"float64\",\"order\":\"little\",\"shape\":[512]},\"no ant\":{\"__ndarray__\":\"AAAAAAAAAAAAAAAAAAAAAAAAAAAAAAAAAAAAAAAAAAAAAAAAAAAAAAAAAAAAAAAAAAAAAAAAAAAAAAAAAAAAAAAAAAAAAAAAAAAAAAAAAAAAAAAAAAAAAAAAAAAAAAAAAAAAAAAAAAAAAAAAAAAAAAAAAAAAAAAAAAAAAAAAAAAAAAAAAAAAAAAAAAAAAAAAAAAAAAAAAAAAAAAAAAAAAAAAAAAAAAAAAAAAAAAAAAAAAAAAAAAAAAAAAAAAAAAAAAAAAAAAAAAAAAAAAAAAAAAAAAAAAAAAAAAAAAAAAAAAAAAAAAAAAAAAAAAAAAAAAAAAAAAAAAAAAAAAAAAAAAAAAAAAAAAAAAAAAAAAAAAAAAAAAAAAAAAAAAAAAAAAAAAAAAAAAAAAAAAAAAAAAAAAAAAAAAAAAAAAAAAAAAAAAAAAAAAAAAAAAAAAAAAAAAAAAAAAAAAAAAAAAAAAAAAAAAAAAAAAAAAAAAAAAAAAAAAAAAAAAAAAAAAAAAAAAAAAAAAAAAAAAAAAAAAAAAAAAAAAAAAAAAAAAAAAAAAAAAAAAAAAAAAAAAAAAAAAAAAAAAAAAAAAAAAAAAAAAAAAAAAAAAAAAAAAAAAAAAAAAAAAAAAAAAAAAAAAAAAAAAAAAAAAAAAAAAAAAAAAAAAAAAAAAAAAAAAAAAAAAAAAAAAAAAAAAAAAAAAAAAAAAAAAAAAAAAAAAAAAAAAAAAAAAAAAAAAAAAAAAAAAAAAAAAAAAAAAAAAAAAAAAAAAAAAAAAAAAAAAAAAAAAAAAAAAAAAAAAAAAAAAAAAAAAAAAAAAAAAAAAAAAAAAAAAAAAAAAAAAAAAAAAAAAAAAAAAAAAAAAAAAAAAAAAAAAAAAAAAAAAAAAAAAAAAAAAAAAAAAAAAAAAAAAAAAAAAAAAAAAAAAAAAAAAAAAAAAAAAAAAAAAAAAAAAAAAAAAAAAAAAAAAAAAAAAAAAAAAAAAAAAAAAAAAAAAAAAAAAAAAAAAAAAAAAAAAAAAAAAAAAAAAAAAAAAAAAAAAAAAAAAAAAAAAAAAAAAAAAAAAAAAAAAAAAAAAAAAAAAAAAAAAAAAAAAAAAAAAAAAAAAAAAAAAAAAAAAAAAAAAAAAAAAAAAAAAAAAAAAAAAAAAAAAAAAAAAAAAAAAAAAAAAAAAAAAAAAAAAAAAAAAAAAAAAAAAAAAAAAAAAAAAAAAAAAAAAAAAAAAAAAAAAAAAAAAAAAAAAAAAAAAAAAAAAAAAAAAAAAAAAAAAAAAAAAAAAAAAAAAAAAAAAAAAAAAAAAAAAAAAAAAAAAAAAAAAAAAAAAAAAAAAAAAAAAAAAAAAAAAAAAAAAAAAAAAAAAAAAAAAAAAAAAAAAAAAAAAAAAAAAAAAAAAAAAAAAAAAAAAAAAAAAAAAAAAAAAAAAAAAAAAAAAAAAAAAAAAAAAAAAAAAAAAAAAAAAAAAAAAAAAAAAAAAAAAAAAAAAAAAAAAAAAAAAAAAAAAAAAAAAAAAAAAAAAAAAAAAAAAAAAAAAAAAAAAAAAAAAAAAAAAAAAAAAAAAAAAAAAAAAAAAAAAAAAAAAAAAAAAAAAAAAAAAAAAAAAAAAAAAAAAAAAAAAAAAAAAAAAAAAAAAAAAAAAAAAAAAAAAAAAAAAAAAAAAAAAAAAAAAAAAAAAAAAAAAAAAAAAAAAAAAAAAAAAAAAAAAAAAAAAAAAAAAAAAAAAAAAAAAAAAAAAAAAAAAAAAAAAAAAAAAAAAAAAAAAAAAAAAAAAAAAAAAAAAAAAAAAAAAAAAAAAAAAAAAAAAAAAAAAAAAAAAAAAAAAAAAAAAAAAAAAAAAAAAAAAAAAAAAAAAAAAAAAAAAAAAAAAAAAAAAAAAAAAAAAAAAAAAAAAAAAAAAAAAAAAAAAAAAAAAAAAAAAAAAAAAAAAAAAAAAAAAAAAAAAAAAAAAAAAAAAAAAAAAAAAAAAAAAAAAAAAAAAAAAAAAAAAAAAAAAAAAAAAAAAAAAAAAAAAAAAAAAAAAAAAAAAAAAAAAAAAAAAAAAAAAAAAAAAAAAAAAAAAAAAAAAAAAAAAAAAAAAAAAAAAAAAAAAAAAAAAAAAAAAAAAAAAAAAAAAAAAAAAAAAAAAAAAAAAAAAAAAAAAAAAAAAAAAAAAAAAAAAAAAAAAAAAAAAAAAAAAAAAAAAAAAAAAAAAAAAAAAAAAAAAAAAAAAAAAAAAAAAAAAAAAAAAAAAAAAAAAAAAAAAAAAAAAAAAAAAAAAAAAAAAAAAAAAAAAAAAAAAAAAAAAAAAAAAAAAAAAAAAAAAAAAAAAAAAAAAAAAAAAAAAAAAAAAAAAAAAAAAAAAAAAAAAAAAAAAAAAAAAAAAAAAAAAAAAAAAAAAAAAAAAAAAAAAAAAAAAAAAAAAAAAAAAAAAAAAAAAAAAAAAAAAAAAAAAAAAAAAAAAAAAAAAAAAAAAAAAAAAAAAAAAAAAAAAAAAAAAAAAAAAAAAAAAAAAAAAAAAAAAAAAAAAAAAAAAAAAAAAAAAAAAAAAAAAAAAAAAAAAAAAAAAAAAAAAAAAAAAAAAAAAAAAAAAAAAAAAAAAAAAAAAAAAAAAAAAAAAAAAAAAAAAAAAAAAAAAAAAAAAAAAAAAAAAAAAAAAAAAAAAAAAAAAAAAAAAAAAAAAAAAAAAAAAAAAAAAAAAAAAAAAAAAAAAAAAAAAAAAAAAAAAAAAAAAAAAAAAAAAAAAAAAAAAAAAAAAAAAAAAAAAAAAAAAAAAAAAAAAAAAAAAAAAAAAAAAAAAAAAAAAAAAAAAAAAAAAAAAAAAAAAAAAAAAAAAAAAAAAAAAAAAAAAAAAAAAAAAAAAAAAAAAAAAAAAAAAAAAAAAAAAAAAAAAAAAAAAAAAAAAAAAAAAAAAAAAAAAAAAAAAAAAAAAAAAAAAAAAAAAAAAAAAAAAAAAAAAAAAAAAAAAAAAAAAAAAAAAAAAAAAAAAAAAAAAAAAAAAAAAAAAAAAAAAAAAAAAAAAAAAAAAAAAAAAAAAAAAAAAAAAAAAAAAAAAAAAAAAAAAAAAAAAAAAAAAAAAAAAAAAAAAAAAAAAAAAAAAAAAAAAAAAAAAAAAAAAAAAAAAAAAAAAAAAAAAAAAAAAAAAAAAAAAAAAAAAAAAAAAAAAAAAAAAAAAAAAAAAAAAAAAAAAAAAAAAAAAAAAAAAAAAAAAAAAAAAAAAAAAAAAAAAAAAAAAAAAAAAAAAAAAAAAAAAAAAAAAAAAAAAAAAAAAAAAAAAAAAAAAAAAAAAAAAAAAAAAAAAAAAAAAAAAAAAAAAAAAAAAAAAAAAAAAAAAAAAAAAAAAAAAAAAAAAAAAAAAAAAAAAAAAAAAAAAAAAAAAAAAAAAAAAAAAAAAAAAAAAAAAAAAAAAAAAAAAAAAAAAAAAAAAAAAAAAAAAAAAAAAAAAAAAAAAAAAAAAAAAAAAAAAAAAAAAAAAAAAAAAAAAAAAAAAAAAAAAAAAAAAAAAAAAAAAAAAAAAAAAAAAAAAAAAAAAAAAAAAAAAAAAAAAAAAAAAAAAAAAAAAAAAAAAAAAAAAAAAAAAAAAAAAAAAAAAAAAAAAAAAAAAAAAAAAAAAAAAAAAAAAAAAAAAAAAAAAAAAAAAAAAAAAAAAAAAAAAAAAAAAAAAAAAAAAAAAAAAAAAAAAAAAAAAAAAAAAAAAAAAAAAAAAAAAAAAAAAAAAAAAAAAAAAAAAAAAAAAAAAAAAAAAAAAAAAAAAAAAAAAAAAAAAAAAAAAAAAAAAAAAAAAAAAAAAAAAAAAAAAAAAAAAAAAAAAAAAAAAAAAAAAAAAAAAAAAAAAAAAAAAAAAAAAAAAAAAAAAAAAAAAAAAAAAAAAAAAAAAAAAAAAAAAAAAAAAAAAAAAAAAAAAAAAAAAAAAAAAAAAAAAAAAAAAAAAAAAAAAAAAAAAAAAAAAAAAAAAAAAAAAAAAAAAAAAAAAAAAAAAAAAAAAAAAAAAAAAAAAAAAAAAAAAAAAAAAAAAAAAAAAAAAAAAAAAAAAAAAAAAAAAAAAAAAAAAAAAAAAAAAAAAAAAAAAAAAAAAAAAAAAAAAAAAAAAAAAAAAAAAAAAAAAAAAAAAAAAAAAAAAAAAAAAAAAAAAAAAAAAAAAAAAAAAAAAAAAAAAAAAAAAAAAAAAAAAAAAAAAAAAAAAAAAAAAAAAAAAAAAAAAAAAAAAAAAAAAAAAAAAAAAAAAAAAAAAAAAAAAAAAAAAAAAAAAAAAAAAAAAAAAAAAAAAAAAAAAAAAAAAAAAAAAAAAAAAAAAAAAAAAAAAAAAAAAAAAAAAAAAAAAAAAAAAAAAAAAAAAAAAAAAAAAAAAAAAAAAAAAAAAAAAAAAAAAAAAAAAAAAAAAAAAAAAAAAAAAAAAAAAAAAAAAAAAAAAAAAAAAAAAAAAAAAAAAAAAAAAAAAAAAAAAAAAAAAAAAAAAAAAAAAAAAAAAAAAAAAAAAAAAAAAAAAAAAAAAAAAAAAAAAAAAAAAAAAAAAAAAAAAAAAAAAAAAAAAAAAAAAAAAAAAAAAAAAAAAAAAAAAAAAAAAAAAAAAAAAAAAAAAAAAAAAAAAAAAAAAAAAAAAAAAAAAAAAAAAAAAAAAAAAAAAAAAAAAAAAAAAAAAAAAAAAAAAAAAAAAAAAAAAAAAAAAAAAAAAAAAAAAAAAAAAAAAAAAAAAAAAAAAAAAAAAAAAAAAAAAAAAAAAAAAAAAAAAAAAAAAAAAAAAAAAAAAAAAAAAAAAAAAAAAAAAAAAAAAAAAAAAAAAAAAAAAAAAAAAAAAAAAAAAAAAAAAAAAAAAAAAAAAAAAAAAAAAAAAAAAAAAAAAAAAAAAAAAAAAAAAAAAAAAAAAAAAAAAAAAAAAAAAAAAAAAAAAAAAAAAAAAAAAAAAAAAAAAAAAAAAAAAAAAAAAAAAAAAAAAAAAAAAAAAAAAAAAAAAAAAAAAAAAAAAAAAAAAAAAAAAAAAAAAAAAAAAAAAAAAAAAAAAAAAAAAAAAAAAAAAAAAAAAAAAAAAAAAAAAAAAAAAAAAAAAAAAAAAAAAAAAAAAAAAAAAAAAAAAAAAAAAAAAAAAAAAAAAAAAAAAAAAAAAAAAAAAAAAAAAAAAAAAAAAAAAAAAAAAAAAAAAAAAAAAAAAAAAAAAAAAAAAAAAAAAAAAAAAAAAAAAAAAAAAAAAAAAAAAAAAAAAAAAAAAAAAAAAAAAAAAAAAAAAAAAAAAAAAAAAAAAAAAAAAAAAAAAAAAAAAAAAAAAAAAAAAAAAAAAAAAAAAAAAAAAAAAAAAAAAAAAAAAAAAAAAAAAAAAAAAAAAAAAAAAAAAAAAAAAAAAAAAAAAAAAAAAAAAAAAAAAAAAAAAAAAAAAAAAAAAAAAAAAAAAAAAAAAAAAAAAAAAAAAAAAAAAAAAAAAAAAAAAAAAAAAAAAAAAAAAAAAAAAAAAAAAAAAAAAAAAAAAAAAAAAAAAAAAAAAAAAAAAAAAAAAAAAAAAAA==\",\"dtype\":\"float64\",\"order\":\"little\",\"shape\":[512]},\"no_ant\":{\"__ndarray__\":\"AAAAAAAAAAAAAAAAAAAAAAAAAAAAAAAAAAAAAAAAAAAAAAAAAAAAAAAAAAAAAAAAAAAAAAAAAAAAAAAAAAAAAAAAAAAAAAAAAAAAAAAAAAAAAAAAAAAAAAAAAAAAAAAAAAAAAAAAAAAAAAAAAAAAAAAAAAAAAAAAAAAAAAAAAAAAAAAAAAAAAAAAAAAAAAAAAAAAAAAAAAAAAAAAAAAAAAAAAAAAAAAAAAAAAAAAAAAAAAAAAAAAAAAAAAAAAAAAAAAAAAAAAAAAAAAAAAAAAAAAAAAAAAAAAAAAAAAAAAAAAAAAAAAAAAAAAAAAAAAAAAAAAAAAAAAAAAAAAAAAAAAAAAAAAAAAAAAAAAAAAAAAAAAAAAAAAAAAAAAAAAAAAAAAAAAAAAAAAAAAAAAAAAAAAAAAAAAAAAAAAAAAAAAAAAAAAAAAAAAAAAAAAAAAAAAAAAAAAAAAAAAAAAAAAAAAAAAAAAAAAAAAAAAAAAAAAAAAAAAAAAAAAAAAAAAAAAAAAAAAAAAAAAAAAAAAAAAAAAAAAAAAAAAAAAAAAAAAAAAAAAAAAAAAAAAAAAAAAAAAAAAAAAAAAAAAAAAAAAAAAAAAAAAAAAAAAAAAAAAAAAAAAAAAAAAAAAAAAAAAAAAAAAAAAAAAAAAAAAAAAAAAAAAAAAAAAAAAAAAAAAAAAAAAAAAAAAAAAAAAAAAAAAAAAAAAAAAAAAAAAAAAAAAAAAAAAAAAAAAAAAAAAAAAAAAAAAAAAAAAAAAAAAAAAAAAAAAAAAAAAAAAAAAAAAAAAAAAAAAAAAAAAAAAAAAAAAAAAAAAAAAAAAAAAAAAAAAAAAAAAAAAAAAAAAAAAAAAAAAAAAAAAAAAAAAAAAAAAAAAAAAAAAAAAAAAAAAAAAAAAAAAAAAAAAAAAAAAAAAAAAAAAAAAAAAAAAAAAAAAAAAAAAAAAAAAAAAAAAAAAAAAAAAAAAAAAAAAAAAAAAAAAAAAAAAAAAAAAAAAAAAAAAAAAAAAAAAAAAAAAAAAAAAAAAAAAAAAAAAAAAAAAAAAAAAAAAAAAAAAAAAAAAAAAAAAAAAAAAAAAAAAAAAAAAAAAAAAAAAAAAAAAAAAAAAAAAAAAAAAAAAAAAAAAAAAAAAAAAAAAAAAAAAAAAAAAAAAAAAAAAAAAAAAAAAAAAAAAAAAAAAAAAAAAAAAAAAAAAAAAAAAAAAAAAAAAAAAAAAAAAAAAAAAAAAAAAAAAAAAAAAAAAAAAAAAAAAAAAAAAAAAAAAAAAAAAAAAAAAAAAAAAAAAAAAAAAAAAAAAAAAAAAAAAAAAAAAAAAAAAAAAAAAAAAAAAAAAAAAAAAAAAAAAAAAAAAAAAAAAAAAAAAAAAAAAAAAAAAAAAAAAAAAAAAAAAAAAAAAAAAAAAAAAAAAAAAAAAAAAAAAAAAAAAAAAAAAAAAAAAAAAAAAAAAAAAAAAAAAAAAAAAAAAAAAAAAAAAAAAAAAAAAAAAAAAAAAAAAAAAAAAAAAAAAAAAAAAAAAAAAAAAAAAAAAAAAAAAAAAAAAAAAAAAAAAAAAAAAAAAAAAAAAAAAAAAAAAAAAAAAAAAAAAAAAAAAAAAAAAAAAAAAAAAAAAAAAAAAAAAAAAAAAAAAAAAAAAAAAAAAAAAAAAAAAAAAAAAAAAAAAAAAAAAAAAAAAAAAAAAAAAAAAAAAAAAAAAAAAAAAAAAAAAAAAAAAAAAAAAAAAAAAAAAAAAAAAAAAAAAAAAAAAAAAAAAAAAAAAAAAAAAAAAAAAAAAAAAAAAAAAAAAAAAAAAAAAAAAAAAAAAAAAAAAAAAAAAAAAAAAAAAAAAAAAAAAAAAAAAAAAAAAAAAAAAAAAAAAAAAAAAAAAAAAAAAAAAAAAAAAAAAAAAAAAAAAAAAAAAAAAAAAAAAAAAAAAAAAAAAAAAAAAAAAAAAAAAAAAAAAAAAAAAAAAAAAAAAAAAAAAAAAAAAAAAAAAAAAAAAAAAAAAAAAAAAAAAAAAAAAAAAAAAAAAAAAAAAAAAAAAAAAAAAAAAAAAAAAAAAAAAAAAAAAAAAAAAAAAAAAAAAAAAAAAAAAAAAAAAAAAAAAAAAAAAAAAAAAAAAAAAAAAAAAAAAAAAAAAAAAAAAAAAAAAAAAAAAAAAAAAAAAAAAAAAAAAAAAAAAAAAAAAAAAAAAAAAAAAAAAAAAAAAAAAAAAAAAAAAAAAAAAAAAAAAAAAAAAAAAAAAAAAAAAAAAAAAAAAAAAAAAAAAAAAAAAAAAAAAAAAAAAAAAAAAAAAAAAAAAAAAAAAAAAAAAAAAAAAAAAAAAAAAAAAAAAAAAAAAAAAAAAAAAAAAAAAAAAAAAAAAAAAAAAAAAAAAAAAAAAAAAAAAAAAAAAAAAAAAAAAAAAAAAAAAAAAAAAAAAAAAAAAAAAAAAAAAAAAAAAAAAAAAAAAAAAAAAAAAAAAAAAAAAAAAAAAAAAAAAAAAAAAAAAAAAAAAAAAAAAAAAAAAAAAAAAAAAAAAAAAAAAAAAAAAAAAAAAAAAAAAAAAAAAAAAAAAAAAAAAAAAAAAAAAAAAAAAAAAAAAAAAAAAAAAAAAAAAAAAAAAAAAAAAAAAAAAAAAAAAAAAAAAAAAAAAAAAAAAAAAAAAAAAAAAAAAAAAAAAAAAAAAAAAAAAAAAAAAAAAAAAAAAAAAAAAAAAAAAAAAAAAAAAAAAAAAAAAAAAAAAAAAAAAAAAAAAAAAAAAAAAAAAAAAAAAAAAAAAAAAAAAAAAAAAAAAAAAAAAAAAAAAAAAAAAAAAAAAAAAAAAAAAAAAAAAAAAAAAAAAAAAAAAAAAAAAAAAAAAAAAAAAAAAAAAAAAAAAAAAAAAAAAAAAAAAAAAAAAAAAAAAAAAAAAAAAAAAAAAAAAAAAAAAAAAAAAAAAAAAAAAAAAAAAAAAAAAAAAAAAAAAAAAAAAAAAAAAAAAAAAAAAAAAAAAAAAAAAAAAAAAAAAAAAAAAAAAAAAAAAAAAAAAAAAAAAAAAAAAAAAAAAAAAAAAAAAAAAAAAAAAAAAAAAAAAAAAAAAAAAAAAAAAAAAAAAAAAAAAAAAAAAAAAAAAAAAAAAAAAAAAAAAAAAAAAAAAAAAAAAAAAAAAAAAAAAAAAAAAAAAAAAAAAAAAAAAAAAAAAAAAAAAAAAAAAAAAAAAAAAAAAAAAAAAAAAAAAAAAAAAAAAAAAAAAAAAAAAAAAAAAAAAAAAAAAAAAAAAAAAAAAAAAAAAAAAAAAAAAAAAAAAAAAAAAAAAAAAAAAAAAAAAAAAAAAAAAAAAAAAAAAAAAAAAAAAAAAAAAAAAAAAAAAAAAAAAAAAAAAAAAAAAAAAAAAAAAAAAAAAAAAAAAAAAAAAAAAAAAAAAAAAAAAAAAAAAAAAAAAAAAAAAAAAAAAAAAAAAAAAAAAAAAAAAAAAAAAAAAAAAAAAAAAAAAAAAAAAAAAAAAAAAAAAAAAAAAAAAAAAAAAAAAAAAAAAAAAAAAAAAAAAAAAAAAAAAAAAAAAAAAAAAAAAAAAAAAAAAAAAAAAAAAAAAAAAAAAAAAAAAAAAAAAAAAAAAAAAAAAAAAAAAAAAAAAAAAAAAAAAAAAAAAAAAAAAAAAAAAAAAAAAAAAAAAAAAAAAAAAAAAAAAAAAAAAAAAAAAAAAAAAAAAAAAAAAAAAAAAAAAAAAAAAAAAAAAAAAAAAAAAAAAAAAAAAAAAAAAAAAAAAAAAAAAAAAAAAAAAAAAAAAAAAAAAAAAAAAAAAAAAAAAAAAAAAAAAAAAAAAAAAAAAAAAAAAAAAAAAAAAAAAAAAAAAAAAAAAAAAAAAAAAAAAAAAAAAAAAAAAAAAAAAAAAAAAAAAAAAAAAAAAAAAAAAAAAAAAAAAAAAAAAAAAAAAAAAAAAAAAAAAAAAAAAAAAAAAAAAAAAAAAAAAAAAAAAAAAAAAAAAAAAAAAAAAAAAAAAAAAAAAAAAAAAAAAAAAAAAAAAAAAAAAAAAAAAAAAAAAAAAAAAAAAAAAAAAAAAAAAAAAAAAAAAAAAAAAAAAAAAAAAAAAAAAAAAAAAAAAAAAAAAAAAAAAAAAAAAAAAAAAAAAAAAAAAAAAAAAAAAAAAAAAAAAAAAAAAAAAAAAAAAAAAAAAAAAAAAAAAAAAAAAAAAAAAAAAAAAAAAAAAAAAAAAAAAAAAAAAAAAAAAAAAAAAAAAAAAAAAAAAAAAAAAAAAAAAAAAAAAAAAAAAAAAAAAAAAAAAAAAAAAAAAAAAAAAAAAAAAAAAAAAAAAAAAAAAAAAAAAAAAAAAAAAAAAAAAAAAAAAAAAAAAAAAAAAAAAAAAAAAAAAAAAAAAAAAAAAAAAAAAAAAAAAAAAAAAAAAAAAAAAAAAAAAAAAAAAAAAAAAAAAAAAAAAAAAAAAAAAAAAAAAAAAAAAAAAAAAAAAAAAAAAAAAAAAAAAAAAAAAAAAAAAAAAAAAAAAAAAAAAAAAAAAAAAAAAAAAAAAAAAAAAAAAAAAAAAAAAAAAAAAAAAAAAAAAAAAAAAAAAAAAAAAAAAAAAAAAAAAAAAAAAAAAAAAAAAAAAAAAAAAAAAAAAAAAAAAAAAAAAAAAAAAAAAAAAAAAAAAAAAAAAAAAAAAAAAAAAAAAAAAAAAAAAAAAAAAAAAAAAAAAAAAAAAAAAAAAAAAAAAAAAAAAAAAAAAAAAAAAAAAAAAAAAAAAAAAAAAAAAAAAAAAAAAAAAAAAAAAAAAAAAAAAAAAAAAAAAAAAAAAAAAAAAAAAAAAAAAAAAAAAAAAAAAAAAAAAAAAAAAAAAAAAAAAAAAAAAAAAAAAAAAAAAAAAAAAAAAAAAAAAAAAAAAAAAAAAAAAAAAAAAAAAAAAAAAAAAAAAAAAAAAAAAAAAAAAAAAAAAAAAAAAAAAAAAAAAAAAAAAAAAAAAAAAAAAAAAAAAAAAAAAAAAAAAAAAAAAAAAAAAAAAAAAAAAAAAAAAAAAAAAAAAAAAAAAAAAAAAAAAAAAAAAAAAAAAAAAAAAAAAAAAAAAAAAAAAAAAAAAAAAAAAAAAAAAAAAAAAAAAAAAAAAAAAAAAAAAAAAAAAAAAAAAAAAAAAAAAAAAAAAAAAAAAAAAAAAAAAAAAAAAAAAAAAAAAAAAAAAAAAAAAAAAAAAAAAAAAAAAAAAAAAAAAAAAAAAAAAAAAAAAAAAAAAAAAAAAAAAAAAAAAAAAAAAAAAAAAAAAAAAAAAAAAAAAAAAAAAAAAAAAAAAAAAAAAAAAAAAAAAAAAAAAAAAAAAAAAAAAAAAAAAAAAAAAAAAAAAAAAAAAAAAAAAAAAAAAAAAAAAAAAAAAAAAAAAAAAAAAAAAAAAAAAAAAAAAAAAAAAAAAAAAAAAAAAAAAAAAAAAAAAAAAAAAAAAAAAAAAAAAAAAAAAAAAAAAAAAAAAAAAAAAAAAAAAAAAAAAAAAAAAAAAAAAAAAAAAAAAAAAAAAAAAAAAAAAAAAAAAAAAAAAAAAAAAA==\",\"dtype\":\"float64\",\"order\":\"little\",\"shape\":[512]}},\"selected\":{\"id\":\"3424\"},\"selection_policy\":{\"id\":\"3445\"}},\"id\":\"3423\",\"type\":\"ColumnDataSource\"},{\"attributes\":{\"children\":[{\"id\":\"3073\"},{\"id\":\"3074\"},{\"id\":\"3075\"},{\"id\":\"3076\"},{\"id\":\"3237\"},{\"id\":\"3241\"},{\"id\":\"3388\"},{\"id\":\"3460\"},{\"id\":\"3461\"}],\"margin\":[0,0,0,0],\"name\":\"Column03294\"},\"id\":\"3072\",\"type\":\"Column\"},{\"attributes\":{},\"id\":\"3126\",\"type\":\"IntEditor\"},{\"attributes\":{},\"id\":\"3100\",\"type\":\"NumberFormatter\"},{\"attributes\":{\"editor\":{\"id\":\"3096\"},\"field\":\"snap2_location\",\"formatter\":{\"id\":\"3095\"},\"title\":\"snap2_location\",\"width\":0},\"id\":\"3097\",\"type\":\"TableColumn\"},{\"attributes\":{\"bottom_units\":\"screen\",\"fill_alpha\":0.5,\"fill_color\":\"lightgrey\",\"left_units\":\"screen\",\"level\":\"overlay\",\"line_alpha\":1.0,\"line_color\":\"black\",\"line_dash\":[4,4],\"line_width\":2,\"right_units\":\"screen\",\"syncable\":false,\"top_units\":\"screen\"},\"id\":\"3415\",\"type\":\"BoxAnnotation\"},{\"attributes\":{\"editor\":{\"id\":\"3131\"},\"field\":\"pola_fee\",\"formatter\":{\"id\":\"3130\"},\"title\":\"pola_fee\",\"width\":0},\"id\":\"3132\",\"type\":\"TableColumn\"},{\"attributes\":{},\"id\":\"3437\",\"type\":\"AllLabels\"},{\"attributes\":{},\"id\":\"3121\",\"type\":\"IntEditor\"},{\"attributes\":{},\"id\":\"3135\",\"type\":\"NumberFormatter\"},{\"attributes\":{\"overlay\":{\"id\":\"3415\"}},\"id\":\"3413\",\"type\":\"BoxZoomTool\"},{\"attributes\":{\"editor\":{\"id\":\"3121\"},\"field\":\"pola_arx_channel\",\"formatter\":{\"id\":\"3120\"},\"title\":\"pola_arx_channel\",\"width\":0},\"id\":\"3122\",\"type\":\"TableColumn\"},{\"attributes\":{},\"id\":\"3136\",\"type\":\"IntEditor\"},{\"attributes\":{},\"id\":\"3410\",\"type\":\"SaveTool\"},{\"attributes\":{\"editor\":{\"id\":\"3136\"},\"field\":\"polb_fee\",\"formatter\":{\"id\":\"3135\"},\"title\":\"polb_fee\",\"width\":0},\"id\":\"3137\",\"type\":\"TableColumn\"},{\"attributes\":{},\"id\":\"3412\",\"type\":\"WheelZoomTool\"},{\"attributes\":{},\"id\":\"3475\",\"type\":\"UnionRenderers\"},{\"attributes\":{},\"id\":\"3120\",\"type\":\"NumberFormatter\"},{\"attributes\":{},\"id\":\"3411\",\"type\":\"PanTool\"},{\"attributes\":{\"columns\":[{\"id\":\"3082\"},{\"id\":\"3087\"},{\"id\":\"3092\"},{\"id\":\"3097\"},{\"id\":\"3102\"},{\"id\":\"3107\"},{\"id\":\"3112\"},{\"id\":\"3117\"},{\"id\":\"3122\"},{\"id\":\"3127\"},{\"id\":\"3132\"},{\"id\":\"3137\"}],\"configuration\":{\"columns\":[{\"field\":\"antname\"},{\"field\":\"snap2_hostname\"},{\"field\":\"snap2_chassis\"},{\"field\":\"snap2_location\"},{\"field\":\"fmc\"},{\"field\":\"pola_digitizer_channel\"},{\"field\":\"polb_digitizer_channel\"},{\"field\":\"arx_address\"},{\"field\":\"pola_arx_channel\"},{\"field\":\"polb_arx_channel\"},{\"field\":\"pola_fee\"},{\"field\":\"polb_fee\"}],\"dataTree\":false,\"selectable\":true},\"height\":630,\"indexes\":[\"antname\"],\"layout\":\"fit_data_table\",\"margin\":[5,10,5,10],\"max_page\":19,\"name\":\"\",\"page\":1,\"page_size\":20,\"pagination\":\"remote\",\"selectable_rows\":null,\"source\":{\"id\":\"3077\"}},\"id\":\"3140\",\"type\":\"panel.models.tabulator.DataTabulator\"},{\"attributes\":{\"editor\":{\"id\":\"3126\"},\"field\":\"polb_arx_channel\",\"formatter\":{\"id\":\"3125\"},\"title\":\"polb_arx_channel\",\"width\":0},\"id\":\"3127\",\"type\":\"TableColumn\"},{\"attributes\":{\"editor\":{\"id\":\"3106\"},\"field\":\"pola_digitizer_channel\",\"formatter\":{\"id\":\"3105\"},\"title\":\"pola_digitizer_channel\",\"width\":0},\"id\":\"3107\",\"type\":\"TableColumn\"},{\"attributes\":{},\"id\":\"3424\",\"type\":\"Selection\"},{\"attributes\":{},\"id\":\"3477\",\"type\":\"UnionRenderers\"},{\"attributes\":{\"data\":{\"index\":[]},\"selected\":{\"id\":\"3144\"},\"selection_policy\":{\"id\":\"3477\"}},\"id\":\"3143\",\"type\":\"ColumnDataSource\"},{\"attributes\":{\"child\":{\"id\":\"3140\"},\"name\":\"\",\"title\":\"Cabling\"},\"id\":\"3142\",\"type\":\"Panel\"},{\"attributes\":{},\"id\":\"3106\",\"type\":\"IntEditor\"},{\"attributes\":{\"indices\":[]},\"id\":\"3144\",\"type\":\"Selection\"},{\"attributes\":{\"indices\":[]},\"id\":\"3155\",\"type\":\"Selection\"},{\"attributes\":{},\"id\":\"3125\",\"type\":\"NumberFormatter\"},{\"attributes\":{\"margin\":[5,5,5,5],\"name\":\"HTML03287\",\"text\":\"&lt;style  type=&quot;text/css&quot; &gt;\\n#T_d7d8ddfe_52d2_11ec_8889_3cecef6fa944row0_col0,#T_d7d8ddfe_52d2_11ec_8889_3cecef6fa944row1_col0,#T_d7d8ddfe_52d2_11ec_8889_3cecef6fa944row1_col1,#T_d7d8ddfe_52d2_11ec_8889_3cecef6fa944row2_col0,#T_d7d8ddfe_52d2_11ec_8889_3cecef6fa944row2_col1,#T_d7d8ddfe_52d2_11ec_8889_3cecef6fa944row3_col0,#T_d7d8ddfe_52d2_11ec_8889_3cecef6fa944row3_col1{\\n            color:  black;\\n        }#T_d7d8ddfe_52d2_11ec_8889_3cecef6fa944row0_col1{\\n            color:  red;\\n        }&lt;/style&gt;&lt;table id=&quot;T_d7d8ddfe_52d2_11ec_8889_3cecef6fa944&quot; &gt;&lt;thead&gt;    &lt;tr&gt;        &lt;th class=&quot;blank level0&quot; &gt;&lt;/th&gt;        &lt;th class=&quot;col_heading level0 col0&quot; &gt;mp_age&lt;/th&gt;        &lt;th class=&quot;col_heading level0 col1&quot; &gt;ready&lt;/th&gt;    &lt;/tr&gt;    &lt;tr&gt;        &lt;th class=&quot;index_name level0&quot; &gt;name&lt;/th&gt;        &lt;th class=&quot;blank&quot; &gt;&lt;/th&gt;        &lt;th class=&quot;blank&quot; &gt;&lt;/th&gt;    &lt;/tr&gt;&lt;/thead&gt;&lt;tbody&gt;\\n                &lt;tr&gt;\\n                        &lt;th id=&quot;T_d7d8ddfe_52d2_11ec_8889_3cecef6fa944level0_row0&quot; class=&quot;row_heading level0 row0&quot; &gt;arx35&lt;/th&gt;\\n                        &lt;td id=&quot;T_d7d8ddfe_52d2_11ec_8889_3cecef6fa944row0_col0&quot; class=&quot;data row0 col0&quot; &gt;-1.000000&lt;/td&gt;\\n                        &lt;td id=&quot;T_d7d8ddfe_52d2_11ec_8889_3cecef6fa944row0_col1&quot; class=&quot;data row0 col1&quot; &gt;False&lt;/td&gt;\\n            &lt;/tr&gt;\\n            &lt;tr&gt;\\n                        &lt;th id=&quot;T_d7d8ddfe_52d2_11ec_8889_3cecef6fa944level0_row1&quot; class=&quot;row_heading level0 row1&quot; &gt;snap09&lt;/th&gt;\\n                        &lt;td id=&quot;T_d7d8ddfe_52d2_11ec_8889_3cecef6fa944row1_col0&quot; class=&quot;data row1 col0&quot; &gt;0.003851&lt;/td&gt;\\n                        &lt;td id=&quot;T_d7d8ddfe_52d2_11ec_8889_3cecef6fa944row1_col1&quot; class=&quot;data row1 col1&quot; &gt;True&lt;/td&gt;\\n            &lt;/tr&gt;\\n            &lt;tr&gt;\\n                        &lt;th id=&quot;T_d7d8ddfe_52d2_11ec_8889_3cecef6fa944level0_row2&quot; class=&quot;row_heading level0 row2&quot; &gt;snap10&lt;/th&gt;\\n                        &lt;td id=&quot;T_d7d8ddfe_52d2_11ec_8889_3cecef6fa944row2_col0&quot; class=&quot;data row2 col0&quot; &gt;0.003773&lt;/td&gt;\\n                        &lt;td id=&quot;T_d7d8ddfe_52d2_11ec_8889_3cecef6fa944row2_col1&quot; class=&quot;data row2 col1&quot; &gt;True&lt;/td&gt;\\n            &lt;/tr&gt;\\n            &lt;tr&gt;\\n                        &lt;th id=&quot;T_d7d8ddfe_52d2_11ec_8889_3cecef6fa944level0_row3&quot; class=&quot;row_heading level0 row3&quot; &gt;snap11&lt;/th&gt;\\n                        &lt;td id=&quot;T_d7d8ddfe_52d2_11ec_8889_3cecef6fa944row3_col0&quot; class=&quot;data row3 col0&quot; &gt;0.003710&lt;/td&gt;\\n                        &lt;td id=&quot;T_d7d8ddfe_52d2_11ec_8889_3cecef6fa944row3_col1&quot; class=&quot;data row3 col1&quot; &gt;True&lt;/td&gt;\\n            &lt;/tr&gt;\\n    &lt;/tbody&gt;&lt;/table&gt;\"},\"id\":\"3074\",\"type\":\"panel.models.markup.HTML\"},{\"attributes\":{\"margin\":[5,10,5,10],\"max_length\":5000,\"placeholder\":\"Plot f-eng for ant-pol name (e.g., 240a)\"},\"id\":\"3459\",\"type\":\"TextInput\"},{\"attributes\":{\"editor\":{\"id\":\"3163\"},\"field\":\"is_connected\",\"formatter\":{\"id\":\"3162\"},\"title\":\"is_connected\",\"width\":0},\"id\":\"3164\",\"type\":\"TableColumn\"},{\"attributes\":{},\"id\":\"3145\",\"type\":\"StringFormatter\"},{\"attributes\":{},\"id\":\"3445\",\"type\":\"UnionRenderers\"},{\"attributes\":{\"client_comm_id\":\"f669221625404eae90aaa4a19dad8470\",\"comm_id\":\"db3920e81e324d218de27abcf8062423\",\"plot_id\":\"3072\"},\"id\":\"3554\",\"type\":\"panel.models.comm_manager.CommManager\"},{\"attributes\":{\"editor\":{\"id\":\"3147\"},\"field\":\"index\",\"formatter\":{\"id\":\"3145\"},\"title\":\"index\",\"width\":0},\"id\":\"3148\",\"type\":\"TableColumn\"},{\"attributes\":{},\"id\":\"3436\",\"type\":\"BasicTickFormatter\"},{\"attributes\":{},\"id\":\"3434\",\"type\":\"AllLabels\"},{\"attributes\":{},\"id\":\"3116\",\"type\":\"IntEditor\"},{\"attributes\":{},\"id\":\"3147\",\"type\":\"CellEditor\"},{\"attributes\":{\"line_color\":\"#30a2da\",\"line_width\":2,\"x\":{\"field\":\"frequencies\"},\"y\":{\"field\":\"no ant\"}},\"id\":\"3431\",\"type\":\"Line\"},{\"attributes\":{},\"id\":\"3163\",\"type\":\"CheckboxEditor\"},{\"attributes\":{},\"id\":\"3433\",\"type\":\"BasicTickFormatter\"},{\"attributes\":{\"columns\":[{\"id\":\"3148\"}],\"configuration\":{\"columns\":[{\"field\":\"index\"}],\"dataTree\":false,\"selectable\":true},\"height\":630,\"indexes\":[\"index\"],\"layout\":\"fit_data_table\",\"margin\":[5,10,5,10],\"name\":\"\",\"page\":1,\"page_size\":20,\"pagination\":\"remote\",\"selectable_rows\":null,\"source\":{\"id\":\"3143\"}},\"id\":\"3151\",\"type\":\"panel.models.tabulator.DataTabulator\"},{\"attributes\":{\"data\":{\"autocorr_acc_len\":[32768,32768,32768],\"clip_count\":[8130564715,3174658631,5247465194],\"corr_acc_len\":[1024,1024,1024],\"firmware\":[\"snap2_f_200msps_64i_4096c_2021-09-17_1321.fpg\",\"snap2_f_200msps_64i_4096c_2021-09-17_1321.fpg\",\"snap2_f_200msps_64i_4096c_2021-09-17_1321.fpg\"],\"is_connected\":[true,true,true],\"is_polling\":[false,false,false],\"mp_age\":{\"__ndarray__\":\"AAAAAACMbz8AAAAAgOhuPwAAAACAZG4/\",\"dtype\":\"float64\",\"order\":\"little\",\"shape\":[3]},\"name\":[\"snap09\",\"snap10\",\"snap11\"],\"programmed\":[true,true,true],\"tvg_enabled\":[false,false,false],\"uptime_fpga_clks\":[202765406044160,202739636240384,202726751338496]},\"selected\":{\"id\":\"3155\"},\"selection_policy\":{\"id\":\"3479\"}},\"id\":\"3154\",\"type\":\"ColumnDataSource\"},{\"attributes\":{\"line_color\":\"#30a2da\",\"line_width\":2,\"x\":{\"field\":\"frequencies\"},\"y\":{\"field\":\"no ant\"}},\"id\":\"3426\",\"type\":\"Line\"},{\"attributes\":{\"end\":1.2,\"reset_end\":1.2,\"reset_start\":-1.2,\"start\":-1.2,\"tags\":[[[\"no ant\",\"no ant\",null]]]},\"id\":\"3391\",\"type\":\"Range1d\"},{\"attributes\":{\"child\":{\"id\":\"3223\"},\"name\":\"\",\"title\":\"X-engine\"},\"id\":\"3225\",\"type\":\"Panel\"},{\"attributes\":{},\"id\":\"3105\",\"type\":\"NumberFormatter\"},{\"attributes\":{},\"id\":\"3414\",\"type\":\"ResetTool\"},{\"attributes\":{\"callback\":null,\"renderers\":[{\"id\":\"3429\"}],\"tags\":[\"hv_created\"],\"tooltips\":[[\"frequencies\",\"@{frequencies}\"],[\"no ant\",\"@{no_ant}\"]]},\"id\":\"3392\",\"type\":\"HoverTool\"},{\"attributes\":{\"child\":{\"id\":\"3212\"},\"name\":\"\",\"title\":\"F-engine\"},\"id\":\"3214\",\"type\":\"Panel\"},{\"attributes\":{},\"id\":\"3156\",\"type\":\"StringFormatter\"},{\"attributes\":{\"active_multi\":null,\"tools\":[{\"id\":\"3392\"},{\"id\":\"3410\"},{\"id\":\"3411\"},{\"id\":\"3412\"},{\"id\":\"3413\"},{\"id\":\"3414\"}]},\"id\":\"3416\",\"type\":\"Toolbar\"},{\"attributes\":{\"editor\":{\"id\":\"3158\"},\"field\":\"name\",\"formatter\":{\"id\":\"3156\"},\"title\":\"name\",\"width\":0},\"id\":\"3159\",\"type\":\"TableColumn\"},{\"attributes\":{\"axis_label\":\"amplitude\",\"formatter\":{\"id\":\"3436\"},\"major_label_policy\":{\"id\":\"3437\"},\"ticker\":{\"id\":\"3407\"}},\"id\":\"3406\",\"type\":\"LinearAxis\"},{\"attributes\":{},\"id\":\"3110\",\"type\":\"NumberFormatter\"},{\"attributes\":{},\"id\":\"3131\",\"type\":\"IntEditor\"},{\"attributes\":{},\"id\":\"3158\",\"type\":\"CellEditor\"},{\"attributes\":{\"children\":[{\"id\":\"3459\"}],\"margin\":[0,0,0,0],\"name\":\"Column03282\"},\"id\":\"3458\",\"type\":\"Column\"},{\"attributes\":{\"editor\":{\"id\":\"3116\"},\"field\":\"arx_address\",\"formatter\":{\"id\":\"3115\"},\"title\":\"arx_address\",\"width\":0},\"id\":\"3117\",\"type\":\"TableColumn\"},{\"attributes\":{},\"id\":\"3162\",\"type\":\"StringFormatter\"},{\"attributes\":{},\"id\":\"3167\",\"type\":\"StringFormatter\"},{\"attributes\":{},\"id\":\"3111\",\"type\":\"IntEditor\"},{\"attributes\":{},\"id\":\"3168\",\"type\":\"CheckboxEditor\"},{\"attributes\":{\"line_alpha\":0.2,\"line_color\":\"#30a2da\",\"line_width\":2,\"x\":{\"field\":\"frequencies\"},\"y\":{\"field\":\"no ant\"}},\"id\":\"3428\",\"type\":\"Line\"},{\"attributes\":{},\"id\":\"3130\",\"type\":\"NumberFormatter\"},{\"attributes\":{\"source\":{\"id\":\"3423\"}},\"id\":\"3430\",\"type\":\"CDSView\"},{\"attributes\":{\"editor\":{\"id\":\"3168\"},\"field\":\"is_polling\",\"formatter\":{\"id\":\"3167\"},\"title\":\"is_polling\",\"width\":0},\"id\":\"3169\",\"type\":\"TableColumn\"},{\"attributes\":{\"line_alpha\":0.1,\"line_color\":\"#30a2da\",\"line_width\":2,\"x\":{\"field\":\"frequencies\"},\"y\":{\"field\":\"no ant\"}},\"id\":\"3427\",\"type\":\"Line\"},{\"attributes\":{},\"id\":\"3481\",\"type\":\"UnionRenderers\"},{\"attributes\":{\"data_source\":{\"id\":\"3423\"},\"glyph\":{\"id\":\"3426\"},\"hover_glyph\":null,\"muted_glyph\":{\"id\":\"3428\"},\"nonselection_glyph\":{\"id\":\"3427\"},\"selection_glyph\":{\"id\":\"3431\"},\"view\":{\"id\":\"3430\"}},\"id\":\"3429\",\"type\":\"GlyphRenderer\"},{\"attributes\":{},\"id\":\"3172\",\"type\":\"StringFormatter\"},{\"attributes\":{},\"id\":\"3483\",\"type\":\"UnionRenderers\"},{\"attributes\":{\"axis\":{\"id\":\"3406\"},\"dimension\":1,\"grid_line_color\":null,\"ticker\":null},\"id\":\"3409\",\"type\":\"Grid\"},{\"attributes\":{},\"id\":\"3173\",\"type\":\"CheckboxEditor\"},{\"attributes\":{},\"id\":\"3407\",\"type\":\"BasicTicker\"},{\"attributes\":{\"editor\":{\"id\":\"3173\"},\"field\":\"programmed\",\"formatter\":{\"id\":\"3172\"},\"title\":\"programmed\",\"width\":0},\"id\":\"3174\",\"type\":\"TableColumn\"},{\"attributes\":{},\"id\":\"3101\",\"type\":\"IntEditor\"},{\"attributes\":{},\"id\":\"3177\",\"type\":\"StringFormatter\"},{\"attributes\":{\"editor\":{\"id\":\"3101\"},\"field\":\"fmc\",\"formatter\":{\"id\":\"3100\"},\"title\":\"fmc\",\"width\":0},\"id\":\"3102\",\"type\":\"TableColumn\"},{\"attributes\":{},\"id\":\"3178\",\"type\":\"StringEditor\"},{\"attributes\":{\"editor\":{\"id\":\"3178\"},\"field\":\"firmware\",\"formatter\":{\"id\":\"3177\"},\"title\":\"firmware\",\"width\":0},\"id\":\"3179\",\"type\":\"TableColumn\"}],\"root_ids\":[\"3072\",\"3554\"]},\"title\":\"Bokeh Application\",\"version\":\"2.3.2\"}};\n",
       "    var render_items = [{\"docid\":\"2ee60a26-efe9-4d67-9dbc-8ca1509db0b7\",\"root_ids\":[\"3072\"],\"roots\":{\"3072\":\"42675ea8-46f4-4e87-ad29-be9f85cee392\"}}];\n",
       "    root.Bokeh.embed.embed_items_notebook(docs_json, render_items);\n",
       "  }\n",
       "  if (root.Bokeh !== undefined && root.Bokeh.Panel !== undefined && ( root['Tabulator'] !== undefined)) {\n",
       "    embed_document(root);\n",
       "  } else {\n",
       "    var attempts = 0;\n",
       "    var timer = setInterval(function(root) {\n",
       "      if (root.Bokeh !== undefined && root.Bokeh.Panel !== undefined && (root['Tabulator'] !== undefined)) {\n",
       "        clearInterval(timer);\n",
       "        embed_document(root);\n",
       "      } else if (document.readyState == \"complete\") {\n",
       "        attempts++;\n",
       "        if (attempts > 200) {\n",
       "          clearInterval(timer);\n",
       "          console.log(\"Bokeh: ERROR: Unable to run BokehJS code because BokehJS library is missing\");\n",
       "        }\n",
       "      }\n",
       "    }, 25, root)\n",
       "  }\n",
       "})(window);</script>"
      ],
      "text/plain": [
       "Column\n",
       "    [0] Markdown(str)\n",
       "    [1] HTML(Styler)\n",
       "    [2] Markdown(str)\n",
       "    [3] Tabs\n",
       "        [0] Tabulator(pagination='remote', value=         snap2_hostname  ...)\n",
       "        [1] Tabulator(pagination='remote', value=Empty DataFrame\n",
       "Columns: [...)\n",
       "        [2] Tabulator(pagination='remote', value=        is_connected  ...)\n",
       "        [3] Tabulator(pagination='remote', value=Empty DataFrame\n",
       "Columns: [...)\n",
       "        [4] Tabulator(pagination='remote', value=Empty DataFrame\n",
       "Columns: [...)\n",
       "    [4] Markdown(str)\n",
       "    [5] HoloViews(NdOverlay)\n",
       "    [6] Row\n",
       "        [0] ParamFunction(function)\n",
       "        [1] Column\n",
       "            [0] TextInput(placeholder='Plot f-eng for ant-pol na...)\n",
       "    [7] Markdown(str)\n",
       "    [8] Row\n",
       "        [0] PNG(None)\n",
       "        [1] PNG(None)"
      ]
     },
     "execution_count": 87,
     "metadata": {
      "application/vnd.holoviews_exec.v0+json": {
       "id": "3072"
      }
     },
     "output_type": "execute_result"
    }
   ],
   "source": [
    "mini_dashboard.servable(title='OVRO-LWA dashboard')"
   ]
  },
  {
   "cell_type": "code",
   "execution_count": null,
   "metadata": {},
   "outputs": [],
   "source": []
  }
 ],
 "metadata": {
  "kernelspec": {
   "display_name": "Python 3",
   "language": "python",
   "name": "python3"
  },
  "language_info": {
   "codemirror_mode": {
    "name": "ipython",
    "version": 3
   },
   "file_extension": ".py",
   "mimetype": "text/x-python",
   "name": "python",
   "nbconvert_exporter": "python",
   "pygments_lexer": "ipython3",
   "version": "3.6.10"
  }
 },
 "nbformat": 4,
 "nbformat_minor": 4
}
