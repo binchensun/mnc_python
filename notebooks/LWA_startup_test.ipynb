{
 "cells": [
  {
   "cell_type": "markdown",
   "metadata": {},
   "source": [
    "# Starting and testing OVRO-LWA"
   ]
  },
  {
   "cell_type": "markdown",
   "metadata": {},
   "source": [
    "### Setup\n",
    "\n",
    "1. Use dashboard to confirm that services are up for etcd, bifrost pipelines, and data capture.\n",
    "2. Identify server names for snap2, gpu, and data capture.\n",
    "3. Set list of server names in notebook.\n",
    "4. Execute cells\n",
    "\n",
    "\n",
    "### F-eng\n",
    "* Repo https://github.com/realtimeradio/caltech-lwa\n",
    "* python install \"control_sw\"\n",
    "\n",
    "### X-eng\n",
    "* Repo https://github.com/realtimeradio/caltech-bifrost-dsp\n",
    "* python install \"pipeline-control\"\n",
    "\n",
    "### mnc\n",
    "* Repo https://github.com/ovro-lwa/mnc_python\n",
    "* python install \"mnc_python\""
   ]
  },
  {
   "cell_type": "code",
   "execution_count": 7,
   "metadata": {},
   "outputs": [],
   "source": [
    "snap2names = ['snap01']  # f-eng\n",
    "feng_config = '/home/ubuntu/proj/lwa-shell/caltech-lwa/control_sw/config/lwa_corr_config.yaml'  # f-eng and x-eng\n",
    "xhosts = ['lxdlwagpu02']  # x-eng\n",
    "npipeline = 4  # x-eng\n",
    "drips = ['10.41.0.25', '10.41.0.41']  # data recorder (two ips for lxdlwagpu09)\n",
    "dest_ip = list(sorted(drips*2))  # correlator -> data recorder (destination IPs)\n",
    "dest_port = [10001+i//npipeline for i in range(npipeline*len(xhosts))]  # correlator -> data recorder (destination ports)\n",
    "drroot = [f'drvs{ip.split(\".\")[-1]}' for ip in drips]  # data recorder root names\n",
    "drids = [f'{drr}{dp-10000:02}' for dp in set(dest_port) for drr in drroot]  # data recorder ids"
   ]
  },
  {
   "cell_type": "code",
   "execution_count": 8,
   "metadata": {},
   "outputs": [
    {
     "name": "stdout",
     "output_type": "stream",
     "text": [
      "['snap01'] ['lxdlwagpu02'] ['10.41.0.25', '10.41.0.41'] ['10.41.0.25', '10.41.0.25', '10.41.0.41', '10.41.0.41'] [10001, 10001, 10001, 10001] ['drvs2501', 'drvs4101']\n"
     ]
    }
   ],
   "source": [
    "print(snap2names, xhosts, drips, dest_ip, dest_port, drids)"
   ]
  },
  {
   "cell_type": "code",
   "execution_count": 9,
   "metadata": {},
   "outputs": [],
   "source": [
    "from lwa_f import snap2_fengine\n",
    "from lwa352_pipeline_control import Lwa352CorrelatorControl\n",
    "from mnc import mcs, common, ezdr"
   ]
  },
  {
   "cell_type": "code",
   "execution_count": 10,
   "metadata": {
    "scrolled": false
   },
   "outputs": [
    {
     "name": "stdout",
     "output_type": "stream",
     "text": [
      "2022-03-30 18:38:37,781 - lwa_f.blocks.block:snap01 - WARNING -  - hostname (10.40.0.157) couldn't be turned into integer serial\n",
      "2022-03-30 18:38:38,495 - lwa_f.blocks.block:snap01 - ERROR - adc - Failed to check ADC control register on fmc 0\n",
      "2022-03-30 18:38:39,210 - lwa_f.blocks.block:snap01 - ERROR - adc - Failed to check ADC control register on fmc 1\n",
      "2022-03-30 18:38:39,211 - lwa_f.blocks.block:snap01 - WARNING - eth - Couldn't find Ethernet core. Will retry later\n",
      "2022-03-30 18:38:39,213 - lwa_f.blocks.block:snap01 - WARNING - powermon - Couldn't initialize because I2C interface not found. Will try again later\n",
      "2022-03-30 18:38:39,214 - lwa_f.snap2_fengine:snap01 - INFO - Trying to configure output with config file /home/ubuntu/proj/lwa-shell/caltech-lwa/control_sw/config/lwa_corr_config.yaml\n",
      "2022-03-30 18:38:39,232 - lwa_f.snap2_fengine:snap01 - INFO - Loading existing firmware to snap01\n",
      "File in flash is:  gpio_pins3_2021-02-07_2206.fpg\n",
      "2022-03-30 18:38:58,656 - lwa_f.snap2_fengine:snap01 - INFO - Loaded gpio_pins3_2021-02-07_2206.fpg\n",
      "2022-03-30 18:38:58,819 - lwa_f.blocks.block:snap01 - WARNING -  - hostname (10.40.0.157) couldn't be turned into integer serial\n",
      "2022-03-30 18:38:59,534 - lwa_f.blocks.block:snap01 - ERROR - adc - Failed to check ADC control register on fmc 0\n",
      "2022-03-30 18:39:00,248 - lwa_f.blocks.block:snap01 - ERROR - adc - Failed to check ADC control register on fmc 1\n",
      "2022-03-30 18:39:00,250 - lwa_f.blocks.block:snap01 - WARNING - eth - Couldn't find Ethernet core. Will retry later\n",
      "2022-03-30 18:39:00,252 - lwa_f.blocks.block:snap01 - WARNING - powermon - Couldn't initialize because I2C interface not found. Will try again later\n",
      "2022-03-30 18:39:00,253 - lwa_f.blocks.block:snap01 - INFO - adc - Retrying ADC connections\n",
      "2022-03-30 18:39:00,967 - lwa_f.blocks.block:snap01 - ERROR - adc - Failed to check ADC control register on fmc 0\n",
      "2022-03-30 18:39:01,682 - lwa_f.blocks.block:snap01 - ERROR - adc - Failed to check ADC control register on fmc 1\n",
      "2022-03-30 18:39:01,683 - lwa_f.blocks.block:snap01 - ERROR - adc - No ADCs found! Giving up intialization\n",
      "2022-03-30 18:39:02,399 - lwa_f.blocks.block:snap01 - ERROR - sync - Tried to read register ctrl which doesn't exist!\n",
      "2022-03-30 18:39:03,116 - lwa_f.blocks.block:snap01 - ERROR - sync - Tried to read register tt_mask which doesn't exist!\n",
      "\u001b[31m2022-03-30 18:39:03.11 ERROR snap01 transport_tapcp.py:528 - Device sync_ctrl not found\u001b[0m\n",
      "2022-03-30 18:39:03,121 - lwa_f.blocks.block:snap01 - ERROR - sync - Tried to read register ctrl which doesn't exist!\n"
     ]
    },
    {
     "ename": "RuntimeError",
     "evalue": "Failed to read size 1 from register sync_ctrl at offset 0",
     "output_type": "error",
     "traceback": [
      "\u001b[0;31m---------------------------------------------------------------------------\u001b[0m",
      "\u001b[0;31mRuntimeError\u001b[0m                              Traceback (most recent call last)",
      "\u001b[0;32m<ipython-input-10-2182f927a212>\u001b[0m in \u001b[0;36m<module>\u001b[0;34m\u001b[0m\n\u001b[1;32m      1\u001b[0m \u001b[0;32mfor\u001b[0m \u001b[0msnap2name\u001b[0m \u001b[0;32min\u001b[0m \u001b[0msnap2names\u001b[0m\u001b[0;34m:\u001b[0m\u001b[0;34m\u001b[0m\u001b[0;34m\u001b[0m\u001b[0m\n\u001b[1;32m      2\u001b[0m     \u001b[0mlwa_f\u001b[0m \u001b[0;34m=\u001b[0m \u001b[0msnap2_fengine\u001b[0m\u001b[0;34m.\u001b[0m\u001b[0mSnap2Fengine\u001b[0m\u001b[0;34m(\u001b[0m\u001b[0msnap2name\u001b[0m\u001b[0;34m)\u001b[0m\u001b[0;34m\u001b[0m\u001b[0;34m\u001b[0m\u001b[0m\n\u001b[0;32m----> 3\u001b[0;31m     \u001b[0mlwa_f\u001b[0m\u001b[0;34m.\u001b[0m\u001b[0mcold_start_from_config\u001b[0m\u001b[0;34m(\u001b[0m\u001b[0mfeng_config\u001b[0m\u001b[0;34m)\u001b[0m\u001b[0;34m\u001b[0m\u001b[0;34m\u001b[0m\u001b[0m\n\u001b[0m",
      "\u001b[0;32m~/anaconda3/envs/casa/lib/python3.6/site-packages/lwa_f/snap2_fengine.py\u001b[0m in \u001b[0;36mcold_start_from_config\u001b[0;34m(self, config_file, program, initialize, test_vectors, sync, sw_sync, enable_eth)\u001b[0m\n\u001b[1;32m    497\u001b[0m             \u001b[0msource_ip\u001b[0m \u001b[0;34m=\u001b[0m \u001b[0msource_ip\u001b[0m\u001b[0;34m,\u001b[0m\u001b[0;34m\u001b[0m\u001b[0;34m\u001b[0m\u001b[0m\n\u001b[1;32m    498\u001b[0m             \u001b[0msource_port\u001b[0m \u001b[0;34m=\u001b[0m \u001b[0msource_port\u001b[0m\u001b[0;34m,\u001b[0m\u001b[0;34m\u001b[0m\u001b[0;34m\u001b[0m\u001b[0m\n\u001b[0;32m--> 499\u001b[0;31m             \u001b[0mdests\u001b[0m \u001b[0;34m=\u001b[0m \u001b[0mdests\u001b[0m\u001b[0;34m,\u001b[0m\u001b[0;34m\u001b[0m\u001b[0;34m\u001b[0m\u001b[0m\n\u001b[0m\u001b[1;32m    500\u001b[0m             )\n\u001b[1;32m    501\u001b[0m \u001b[0;34m\u001b[0m\u001b[0m\n",
      "\u001b[0;32m~/anaconda3/envs/casa/lib/python3.6/site-packages/lwa_f/snap2_fengine.py\u001b[0m in \u001b[0;36mcold_start\u001b[0;34m(self, program, initialize, test_vectors, sync, sw_sync, enable_eth, chans_per_packet, first_stand_index, nstand, macs, source_ip, source_port, dests)\u001b[0m\n\u001b[1;32m    586\u001b[0m                 \u001b[0;32mif\u001b[0m \u001b[0mblockname\u001b[0m \u001b[0;34m==\u001b[0m \u001b[0;34m'adc'\u001b[0m\u001b[0;34m:\u001b[0m\u001b[0;34m\u001b[0m\u001b[0;34m\u001b[0m\u001b[0m\n\u001b[1;32m    587\u001b[0m                     \u001b[0;32mcontinue\u001b[0m\u001b[0;34m\u001b[0m\u001b[0;34m\u001b[0m\u001b[0m\n\u001b[0;32m--> 588\u001b[0;31m                 \u001b[0mblock\u001b[0m\u001b[0;34m.\u001b[0m\u001b[0minitialize\u001b[0m\u001b[0;34m(\u001b[0m\u001b[0mread_only\u001b[0m\u001b[0;34m=\u001b[0m\u001b[0;32mFalse\u001b[0m\u001b[0;34m)\u001b[0m\u001b[0;34m\u001b[0m\u001b[0;34m\u001b[0m\u001b[0m\n\u001b[0m\u001b[1;32m    589\u001b[0m             \u001b[0mself\u001b[0m\u001b[0;34m.\u001b[0m\u001b[0mlogger\u001b[0m\u001b[0;34m.\u001b[0m\u001b[0mwarning\u001b[0m\u001b[0;34m(\u001b[0m\u001b[0;34m'Updating telescope time'\u001b[0m\u001b[0;34m)\u001b[0m\u001b[0;34m\u001b[0m\u001b[0;34m\u001b[0m\u001b[0m\n\u001b[1;32m    590\u001b[0m             \u001b[0mself\u001b[0m\u001b[0;34m.\u001b[0m\u001b[0msync\u001b[0m\u001b[0;34m.\u001b[0m\u001b[0mupdate_telescope_time\u001b[0m\u001b[0;34m(\u001b[0m\u001b[0;34m)\u001b[0m\u001b[0;34m\u001b[0m\u001b[0;34m\u001b[0m\u001b[0m\n",
      "\u001b[0;32m~/anaconda3/envs/casa/lib/python3.6/site-packages/lwa_f/blocks/sync.py\u001b[0m in \u001b[0;36minitialize\u001b[0;34m(self, read_only)\u001b[0m\n\u001b[1;32m    350\u001b[0m             \u001b[0;31m# Set output pulse rate to 1 per 2**29 clocks (every ~2.7 seconds)\u001b[0m\u001b[0;34m\u001b[0m\u001b[0;34m\u001b[0m\u001b[0;34m\u001b[0m\u001b[0m\n\u001b[1;32m    351\u001b[0m             \u001b[0mself\u001b[0m\u001b[0;34m.\u001b[0m\u001b[0mset_output_sync_rate\u001b[0m\u001b[0;34m(\u001b[0m\u001b[0;36m0xe0000000\u001b[0m\u001b[0;34m)\u001b[0m\u001b[0;34m\u001b[0m\u001b[0;34m\u001b[0m\u001b[0m\n\u001b[0;32m--> 352\u001b[0;31m             \u001b[0mself\u001b[0m\u001b[0;34m.\u001b[0m\u001b[0mreset_error_count\u001b[0m\u001b[0;34m(\u001b[0m\u001b[0;34m)\u001b[0m\u001b[0;34m\u001b[0m\u001b[0;34m\u001b[0m\u001b[0m\n\u001b[0m",
      "\u001b[0;32m~/anaconda3/envs/casa/lib/python3.6/site-packages/lwa_f/blocks/sync.py\u001b[0m in \u001b[0;36mreset_error_count\u001b[0;34m(self)\u001b[0m\n\u001b[1;32m     75\u001b[0m         \u001b[0mReset\u001b[0m \u001b[0minternal\u001b[0m \u001b[0merror\u001b[0m \u001b[0mcounter\u001b[0m \u001b[0mto\u001b[0m \u001b[0;36m0.\u001b[0m\u001b[0;34m\u001b[0m\u001b[0;34m\u001b[0m\u001b[0m\n\u001b[1;32m     76\u001b[0m         \"\"\"\n\u001b[0;32m---> 77\u001b[0;31m         \u001b[0mself\u001b[0m\u001b[0;34m.\u001b[0m\u001b[0mchange_reg_bits\u001b[0m\u001b[0;34m(\u001b[0m\u001b[0;34m'ctrl'\u001b[0m\u001b[0;34m,\u001b[0m \u001b[0;36m0\u001b[0m\u001b[0;34m,\u001b[0m \u001b[0mself\u001b[0m\u001b[0;34m.\u001b[0m\u001b[0mOFFSET_RST_ERR\u001b[0m\u001b[0;34m)\u001b[0m\u001b[0;34m\u001b[0m\u001b[0;34m\u001b[0m\u001b[0m\n\u001b[0m\u001b[1;32m     78\u001b[0m         \u001b[0mself\u001b[0m\u001b[0;34m.\u001b[0m\u001b[0mchange_reg_bits\u001b[0m\u001b[0;34m(\u001b[0m\u001b[0;34m'ctrl'\u001b[0m\u001b[0;34m,\u001b[0m \u001b[0;36m1\u001b[0m\u001b[0;34m,\u001b[0m \u001b[0mself\u001b[0m\u001b[0;34m.\u001b[0m\u001b[0mOFFSET_RST_ERR\u001b[0m\u001b[0;34m)\u001b[0m\u001b[0;34m\u001b[0m\u001b[0;34m\u001b[0m\u001b[0m\n\u001b[1;32m     79\u001b[0m         \u001b[0mself\u001b[0m\u001b[0;34m.\u001b[0m\u001b[0mchange_reg_bits\u001b[0m\u001b[0;34m(\u001b[0m\u001b[0;34m'ctrl'\u001b[0m\u001b[0;34m,\u001b[0m \u001b[0;36m0\u001b[0m\u001b[0;34m,\u001b[0m \u001b[0mself\u001b[0m\u001b[0;34m.\u001b[0m\u001b[0mOFFSET_RST_ERR\u001b[0m\u001b[0;34m)\u001b[0m\u001b[0;34m\u001b[0m\u001b[0;34m\u001b[0m\u001b[0m\n",
      "\u001b[0;32m~/anaconda3/envs/casa/lib/python3.6/site-packages/lwa_f/blocks/block.py\u001b[0m in \u001b[0;36mchange_reg_bits\u001b[0;34m(self, reg, val, start, width)\u001b[0m\n\u001b[1;32m    276\u001b[0m         \u001b[0;32mif\u001b[0m \u001b[0mval\u001b[0m \u001b[0;34m>=\u001b[0m \u001b[0;34m(\u001b[0m\u001b[0;36m2\u001b[0m\u001b[0;34m**\u001b[0m\u001b[0mwidth\u001b[0m\u001b[0;34m)\u001b[0m\u001b[0;34m:\u001b[0m\u001b[0;34m\u001b[0m\u001b[0;34m\u001b[0m\u001b[0m\n\u001b[1;32m    277\u001b[0m             \u001b[0;32mraise\u001b[0m \u001b[0mValueError\u001b[0m\u001b[0;34m(\u001b[0m\u001b[0;34m\"Value %d will not fit in %d bit container\"\u001b[0m \u001b[0;34m%\u001b[0m \u001b[0;34m(\u001b[0m\u001b[0mval\u001b[0m\u001b[0;34m,\u001b[0m \u001b[0mwidth\u001b[0m\u001b[0;34m)\u001b[0m\u001b[0;34m)\u001b[0m\u001b[0;34m\u001b[0m\u001b[0;34m\u001b[0m\u001b[0m\n\u001b[0;32m--> 278\u001b[0;31m         \u001b[0morig_val\u001b[0m \u001b[0;34m=\u001b[0m \u001b[0mself\u001b[0m\u001b[0;34m.\u001b[0m\u001b[0mread_uint\u001b[0m\u001b[0;34m(\u001b[0m\u001b[0mreg\u001b[0m\u001b[0;34m)\u001b[0m\u001b[0;34m\u001b[0m\u001b[0;34m\u001b[0m\u001b[0m\n\u001b[0m\u001b[1;32m    279\u001b[0m         \u001b[0mmasked\u001b[0m   \u001b[0;34m=\u001b[0m \u001b[0morig_val\u001b[0m \u001b[0;34m&\u001b[0m \u001b[0;34m(\u001b[0m\u001b[0;36m0xffffffff\u001b[0m \u001b[0;34m-\u001b[0m \u001b[0;34m(\u001b[0m\u001b[0;34m(\u001b[0m\u001b[0;36m2\u001b[0m\u001b[0;34m**\u001b[0m\u001b[0mwidth\u001b[0m \u001b[0;34m-\u001b[0m \u001b[0;36m1\u001b[0m\u001b[0;34m)\u001b[0m \u001b[0;34m<<\u001b[0m \u001b[0mstart\u001b[0m\u001b[0;34m)\u001b[0m\u001b[0;34m)\u001b[0m\u001b[0;34m\u001b[0m\u001b[0;34m\u001b[0m\u001b[0m\n\u001b[1;32m    280\u001b[0m         \u001b[0mnew_val\u001b[0m  \u001b[0;34m=\u001b[0m \u001b[0mmasked\u001b[0m \u001b[0;34m+\u001b[0m \u001b[0;34m(\u001b[0m\u001b[0mval\u001b[0m \u001b[0;34m<<\u001b[0m \u001b[0mstart\u001b[0m\u001b[0;34m)\u001b[0m\u001b[0;34m\u001b[0m\u001b[0;34m\u001b[0m\u001b[0m\n",
      "\u001b[0;32m~/anaconda3/envs/casa/lib/python3.6/site-packages/lwa_f/blocks/block.py\u001b[0m in \u001b[0;36mread_uint\u001b[0;34m(self, reg, word_offset, **kwargs)\u001b[0m\n\u001b[1;32m    197\u001b[0m         \"\"\"\n\u001b[1;32m    198\u001b[0m         \u001b[0;32mtry\u001b[0m\u001b[0;34m:\u001b[0m\u001b[0;34m\u001b[0m\u001b[0;34m\u001b[0m\u001b[0m\n\u001b[0;32m--> 199\u001b[0;31m             \u001b[0;32mreturn\u001b[0m \u001b[0mself\u001b[0m\u001b[0;34m.\u001b[0m\u001b[0mhost\u001b[0m\u001b[0;34m.\u001b[0m\u001b[0mread_uint\u001b[0m\u001b[0;34m(\u001b[0m\u001b[0mself\u001b[0m\u001b[0;34m.\u001b[0m\u001b[0mprefix\u001b[0m \u001b[0;34m+\u001b[0m \u001b[0mreg\u001b[0m\u001b[0;34m,\u001b[0m \u001b[0mword_offset\u001b[0m\u001b[0;34m=\u001b[0m\u001b[0mword_offset\u001b[0m\u001b[0;34m,\u001b[0m \u001b[0;34m**\u001b[0m\u001b[0mkwargs\u001b[0m\u001b[0;34m)\u001b[0m\u001b[0;34m\u001b[0m\u001b[0;34m\u001b[0m\u001b[0m\n\u001b[0m\u001b[1;32m    200\u001b[0m         \u001b[0;32mexcept\u001b[0m\u001b[0;34m:\u001b[0m\u001b[0;34m\u001b[0m\u001b[0;34m\u001b[0m\u001b[0m\n\u001b[1;32m    201\u001b[0m             \u001b[0;32mif\u001b[0m \u001b[0mreg\u001b[0m \u001b[0;32mnot\u001b[0m \u001b[0;32min\u001b[0m \u001b[0mself\u001b[0m\u001b[0;34m.\u001b[0m\u001b[0mlistdev\u001b[0m\u001b[0;34m(\u001b[0m\u001b[0;34m)\u001b[0m\u001b[0;34m:\u001b[0m\u001b[0;34m\u001b[0m\u001b[0;34m\u001b[0m\u001b[0m\n",
      "\u001b[0;32m~/anaconda3/envs/casa/lib/python3.6/site-packages/casperfpga-0.4.4.dev1077+head.e76da15-py3.6-linux-x86_64.egg/casperfpga/casperfpga.py\u001b[0m in \u001b[0;36mread_uint\u001b[0;34m(self, device_name, word_offset)\u001b[0m\n\u001b[1;32m    560\u001b[0m         \u001b[0;34m:\u001b[0m\u001b[0;32mreturn\u001b[0m\u001b[0;34m:\u001b[0m \u001b[0munsigned\u001b[0m \u001b[0;36m32\u001b[0m\u001b[0;34m-\u001b[0m\u001b[0mbit\u001b[0m \u001b[0minteger\u001b[0m\u001b[0;34m\u001b[0m\u001b[0;34m\u001b[0m\u001b[0m\n\u001b[1;32m    561\u001b[0m         \"\"\"\n\u001b[0;32m--> 562\u001b[0;31m         \u001b[0mdata\u001b[0m \u001b[0;34m=\u001b[0m \u001b[0mself\u001b[0m\u001b[0;34m.\u001b[0m\u001b[0mread\u001b[0m\u001b[0;34m(\u001b[0m\u001b[0mdevice_name\u001b[0m\u001b[0;34m,\u001b[0m \u001b[0;36m4\u001b[0m\u001b[0;34m,\u001b[0m \u001b[0mword_offset\u001b[0m \u001b[0;34m*\u001b[0m \u001b[0;36m4\u001b[0m\u001b[0;34m)\u001b[0m\u001b[0;34m\u001b[0m\u001b[0;34m\u001b[0m\u001b[0m\n\u001b[0m\u001b[1;32m    563\u001b[0m         \u001b[0;32mreturn\u001b[0m \u001b[0mstruct\u001b[0m\u001b[0;34m.\u001b[0m\u001b[0munpack\u001b[0m\u001b[0;34m(\u001b[0m\u001b[0;34m'>I'\u001b[0m\u001b[0;34m,\u001b[0m \u001b[0mdata\u001b[0m\u001b[0;34m)\u001b[0m\u001b[0;34m[\u001b[0m\u001b[0;36m0\u001b[0m\u001b[0;34m]\u001b[0m\u001b[0;34m\u001b[0m\u001b[0;34m\u001b[0m\u001b[0m\n\u001b[1;32m    564\u001b[0m \u001b[0;34m\u001b[0m\u001b[0m\n",
      "\u001b[0;32m~/anaconda3/envs/casa/lib/python3.6/site-packages/casperfpga-0.4.4.dev1077+head.e76da15-py3.6-linux-x86_64.egg/casperfpga/casperfpga.py\u001b[0m in \u001b[0;36mread\u001b[0;34m(self, device_name, size, offset, **kwargs)\u001b[0m\n\u001b[1;32m    256\u001b[0m         \u001b[0;34m:\u001b[0m\u001b[0mparam\u001b[0m \u001b[0mkwargs\u001b[0m\u001b[0;34m:\u001b[0m\u001b[0;34m\u001b[0m\u001b[0;34m\u001b[0m\u001b[0m\n\u001b[1;32m    257\u001b[0m         \"\"\"\n\u001b[0;32m--> 258\u001b[0;31m         \u001b[0mdata\u001b[0m \u001b[0;34m=\u001b[0m \u001b[0mself\u001b[0m\u001b[0;34m.\u001b[0m\u001b[0mtransport\u001b[0m\u001b[0;34m.\u001b[0m\u001b[0mread\u001b[0m\u001b[0;34m(\u001b[0m\u001b[0mdevice_name\u001b[0m\u001b[0;34m,\u001b[0m \u001b[0msize\u001b[0m\u001b[0;34m,\u001b[0m \u001b[0moffset\u001b[0m\u001b[0;34m,\u001b[0m \u001b[0;34m**\u001b[0m\u001b[0mkwargs\u001b[0m\u001b[0;34m)\u001b[0m\u001b[0;34m\u001b[0m\u001b[0;34m\u001b[0m\u001b[0m\n\u001b[0m\u001b[1;32m    259\u001b[0m         \u001b[0;32mif\u001b[0m \u001b[0mself\u001b[0m\u001b[0;34m.\u001b[0m\u001b[0mis_little_endian\u001b[0m\u001b[0;34m:\u001b[0m\u001b[0;34m\u001b[0m\u001b[0;34m\u001b[0m\u001b[0m\n\u001b[1;32m    260\u001b[0m             \u001b[0;32massert\u001b[0m \u001b[0;34m(\u001b[0m\u001b[0;34m(\u001b[0m\u001b[0mlen\u001b[0m\u001b[0;34m(\u001b[0m\u001b[0mdata\u001b[0m\u001b[0;34m)\u001b[0m \u001b[0;34m%\u001b[0m \u001b[0;36m4\u001b[0m\u001b[0;34m)\u001b[0m \u001b[0;34m==\u001b[0m \u001b[0;36m0\u001b[0m\u001b[0;34m)\u001b[0m\u001b[0;34m,\u001b[0m\u001b[0;31m \u001b[0m\u001b[0;31m\\\u001b[0m\u001b[0;34m\u001b[0m\u001b[0;34m\u001b[0m\u001b[0m\n",
      "\u001b[0;32m~/anaconda3/envs/casa/lib/python3.6/site-packages/casperfpga-0.4.4.dev1077+head.e76da15-py3.6-linux-x86_64.egg/casperfpga/transport_tapcp.py\u001b[0m in \u001b[0;36mread\u001b[0;34m(self, device_name, size, offset, use_bulk)\u001b[0m\n\u001b[1;32m    556\u001b[0m             \u001b[0;32mexcept\u001b[0m\u001b[0;34m:\u001b[0m\u001b[0;34m\u001b[0m\u001b[0;34m\u001b[0m\u001b[0m\n\u001b[1;32m    557\u001b[0m                 \u001b[0;32mpass\u001b[0m\u001b[0;34m\u001b[0m\u001b[0;34m\u001b[0m\u001b[0m\n\u001b[0;32m--> 558\u001b[0;31m         \u001b[0;32mraise\u001b[0m \u001b[0mRuntimeError\u001b[0m\u001b[0;34m(\u001b[0m\u001b[0;34m\"Failed to read size %d from register %s at offset %d\"\u001b[0m \u001b[0;34m%\u001b[0m \u001b[0;34m(\u001b[0m\u001b[0msize\u001b[0m\u001b[0;34m,\u001b[0m \u001b[0mdevice_name\u001b[0m\u001b[0;34m,\u001b[0m \u001b[0moffset\u001b[0m\u001b[0;34m)\u001b[0m\u001b[0;34m)\u001b[0m\u001b[0;34m\u001b[0m\u001b[0;34m\u001b[0m\u001b[0m\n\u001b[0m\u001b[1;32m    559\u001b[0m \u001b[0;34m\u001b[0m\u001b[0m\n\u001b[1;32m    560\u001b[0m     \u001b[0;32mdef\u001b[0m \u001b[0mblindwrite\u001b[0m\u001b[0;34m(\u001b[0m\u001b[0mself\u001b[0m\u001b[0;34m,\u001b[0m \u001b[0mdevice_name\u001b[0m\u001b[0;34m,\u001b[0m \u001b[0mdata\u001b[0m\u001b[0;34m,\u001b[0m \u001b[0moffset\u001b[0m\u001b[0;34m=\u001b[0m\u001b[0;36m0\u001b[0m\u001b[0;34m,\u001b[0m \u001b[0muse_bulk\u001b[0m\u001b[0;34m=\u001b[0m\u001b[0;32mTrue\u001b[0m\u001b[0;34m)\u001b[0m\u001b[0;34m:\u001b[0m\u001b[0;34m\u001b[0m\u001b[0;34m\u001b[0m\u001b[0m\n",
      "\u001b[0;31mRuntimeError\u001b[0m: Failed to read size 1 from register sync_ctrl at offset 0"
     ]
    }
   ],
   "source": [
    "for snap2name in snap2names:\n",
    "    lwa_f = snap2_fengine.Snap2Fengine(snap2name)\n",
    "    lwa_f.cold_start_from_config(feng_config)"
   ]
  },
  {
   "cell_type": "code",
   "execution_count": 5,
   "metadata": {},
   "outputs": [
    {
     "name": "stdout",
     "output_type": "stream",
     "text": [
      "2021-09-29 23:11:26 [WARNING ] Timeout waiting for pipelines to come up after 60.0 seconds\n",
      "2021-09-29 23:11:26 [INFO    ] Setting max data output rate per pipeline to 5000.0 Mbit/s\n",
      "2021-09-29 23:11:26 [INFO    ] Setting pipeline lxdlwagpu02:0 data destination to 10.41.0.25:10001\n",
      "2021-09-29 23:11:46 [INFO    ] Setting pipeline lxdlwagpu02:1 data destination to 10.41.0.25:10001\n",
      "2021-09-29 23:11:56 [INFO    ] Setting pipeline lxdlwagpu02:2 data destination to 10.41.0.41:10001\n",
      "2021-09-29 23:11:56 [INFO    ] Setting pipeline lxdlwagpu02:3 data destination to 10.41.0.41:10001\n",
      "2021-09-29 23:11:56 [INFO    ] Arming correlator core\n",
      "2021-09-29 23:11:57 [INFO    ] All pipelines in 'waiting' state as expected\n",
      "2021-09-29 23:11:57 [INFO    ] Waiting 10 seconds for trigger\n",
      "2021-09-29 23:12:07 [INFO    ] All pipelines in 'running' state as expected\n",
      "2021-09-29 23:12:07 [INFO    ] Arming correlator accumulator core\n",
      "2021-09-29 23:12:08 [INFO    ] All pipelines in 'waiting' state as expected\n",
      "2021-09-29 23:12:08 [INFO    ] Waiting 10 seconds for trigger\n",
      "2021-09-29 23:12:19 [INFO    ] All pipelines in 'running' state as expected\n"
     ]
    }
   ],
   "source": [
    "lwa_corr = Lwa352CorrelatorControl(xhosts, npipeline_per_host=npipeline)\n",
    "lwa_corr.stop_pipelines()   # maybe not needed?\n",
    "lwa_corr.start_pipelines() \n",
    "lwa_corr.configure_corr(dest_ip=dest_ip, dest_port=dest_port)"
   ]
  },
  {
   "cell_type": "code",
   "execution_count": 6,
   "metadata": {},
   "outputs": [
    {
     "name": "stdout",
     "output_type": "stream",
     "text": [
      "Found 0 slow recorders: \n"
     ]
    },
    {
     "data": {
      "text/plain": [
       "[]"
      ]
     },
     "execution_count": 6,
     "metadata": {},
     "output_type": "execute_result"
    }
   ],
   "source": [
    "rs = ezdr.Lwa352RecorderControl('slow')\n",
    "rs.start()"
   ]
  },
  {
   "cell_type": "markdown",
   "metadata": {},
   "source": [
    "### Read data and visualize/test"
   ]
  },
  {
   "cell_type": "code",
   "execution_count": null,
   "metadata": {},
   "outputs": [],
   "source": []
  },
  {
   "cell_type": "markdown",
   "metadata": {},
   "source": [
    "## Stop"
   ]
  },
  {
   "cell_type": "code",
   "execution_count": 9,
   "metadata": {},
   "outputs": [],
   "source": [
    "rs.stop()\n",
    "lwa_corr.stop_pipelines()"
   ]
  },
  {
   "cell_type": "code",
   "execution_count": null,
   "metadata": {},
   "outputs": [],
   "source": []
  }
 ],
 "metadata": {
  "kernelspec": {
   "display_name": "casa",
   "language": "python",
   "name": "myenv"
  },
  "language_info": {
   "codemirror_mode": {
    "name": "ipython",
    "version": 3
   },
   "file_extension": ".py",
   "mimetype": "text/x-python",
   "name": "python",
   "nbconvert_exporter": "python",
   "pygments_lexer": "ipython3",
   "version": "3.6.10"
  }
 },
 "nbformat": 4,
 "nbformat_minor": 4
}
