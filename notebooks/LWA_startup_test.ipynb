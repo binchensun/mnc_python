{
 "cells": [
  {
   "cell_type": "markdown",
   "metadata": {},
   "source": [
    "# Starting and testing OVRO-LWA"
   ]
  },
  {
   "cell_type": "markdown",
   "metadata": {},
   "source": [
    "### Setup\n",
    "\n",
    "1. Use dashboard to confirm that services are up for etcd, bifrost pipelines, and data capture.\n",
    "2. Identify server names for snap2, gpu, and data capture.\n",
    "3. Set list of server names in notebook.\n",
    "4. Execute cells\n",
    "\n",
    "\n",
    "### F-eng\n",
    "* Repo https://github.com/realtimeradio/caltech-lwa\n",
    "* python install \"control_sw\"\n",
    "\n",
    "### X-eng\n",
    "* Repo https://github.com/realtimeradio/caltech-bifrost-dsp\n",
    "* python install \"pipeline-control\"\n",
    "\n",
    "### mnc\n",
    "* Repo https://github.com/ovro-lwa/mnc_python\n",
    "* python install \"mnc_python\""
   ]
  },
  {
   "cell_type": "code",
   "execution_count": 1,
   "metadata": {},
   "outputs": [],
   "source": [
    "snap2names = [f'snap{i:02}' for i in range(1, 12)]  # f-eng\n",
    "feng_config = '/home/ubuntu/proj/lwa-shell/caltech-lwa/control_sw/config/lwa_corr_config.yaml'  # f-eng and x-eng\n",
    "xhosts = ['lxdlwagpu02']  # x-eng\n",
    "npipeline = 4  # x-eng\n",
    "drips = ['10.41.0.25', '10.41.0.41']  # data recorder (two ips for lxdlwagpu09)\n",
    "dest_ip = list(sorted(drips*2))  # correlator -> data recorder (destination IPs)\n",
    "dest_port = [10001+i//npipeline for i in range(npipeline*len(xhosts))]  # correlator -> data recorder (destination ports)\n",
    "drroot = [f'drvs{ip.split(\".\")[-1]}' for ip in drips]  # data recorder root names\n",
    "drids = [f'{drr}{dp-10000:02}' for dp in set(dest_port) for drr in drroot]  # data recorder ids"
   ]
  },
  {
   "cell_type": "code",
   "execution_count": 2,
   "metadata": {},
   "outputs": [
    {
     "name": "stdout",
     "output_type": "stream",
     "text": [
      "['snap01'] ['lxdlwagpu02'] ['10.41.0.25', '10.41.0.41'] ['10.41.0.25', '10.41.0.25', '10.41.0.41', '10.41.0.41'] [10001, 10001, 10001, 10001] ['drvs2501', 'drvs4101']\n"
     ]
    }
   ],
   "source": [
    "print(snap2names, xhosts, drips, dest_ip, dest_port, drids)"
   ]
  },
  {
   "cell_type": "code",
   "execution_count": 3,
   "metadata": {},
   "outputs": [],
   "source": [
    "from lwa_f import snap2_fengine\n",
    "from lwa352_pipeline_control import Lwa352CorrelatorControl\n",
    "from mnc import mcs, common, ezdr"
   ]
  },
  {
   "cell_type": "code",
   "execution_count": 4,
   "metadata": {
    "scrolled": true
   },
   "outputs": [
    {
     "name": "stdout",
     "output_type": "stream",
     "text": [
      "2021-09-29 23:08:47,425 - lwa_f.blocks.block:snap01 - WARNING -  - hostname (10.40.0.157) couldn't be turned into integer serial\n",
      "2021-09-29 23:08:47,704 - lwa_f.blocks.block:snap01 - INFO - adc - Detected FMC ADC board on port 0\n",
      "2021-09-29 23:08:48,004 - lwa_f.blocks.block:snap01 - INFO - adc - Detected FMC ADC board on port 1\n",
      "2021-09-29 23:08:48,020 - lwa_f.snap2_fengine:snap01 - INFO - Trying to configure output with config file /home/ubuntu/proj/caltech-lwa/control_sw/config/lwa_corr_config.yaml\n",
      "2021-09-29 23:08:48,025 - lwa_f.snap2_fengine:snap01 - INFO - Loading existing firmware to snap01\n",
      "File in flash is:  snap2_f_200msps_64i_4096c_2021-09-23_1421.fpg\n",
      "2021-09-29 23:09:13,064 - lwa_f.snap2_fengine:snap01 - INFO - Loaded snap2_f_200msps_64i_4096c_2021-09-23_1421.fpg\n",
      "2021-09-29 23:09:13,424 - lwa_f.blocks.block:snap01 - WARNING -  - hostname (10.40.0.157) couldn't be turned into integer serial\n",
      "2021-09-29 23:09:13,759 - lwa_f.blocks.block:snap01 - INFO - adc - Detected FMC ADC board on port 0\n",
      "2021-09-29 23:09:14,080 - lwa_f.blocks.block:snap01 - INFO - adc - Detected FMC ADC board on port 1\n",
      "2021-09-29 23:09:14,098 - lwa_f.blocks.block:snap01 - INFO - adc - FMC 0 board 0: Setting clock source to 1\n",
      "2021-09-29 23:09:14,106 - lwa_f.blocks.block:snap01 - INFO - adc - FMC 0 board 1: Setting clock source to 1\n",
      "2021-09-29 23:09:14,112 - lwa_f.blocks.block:snap01 - INFO - adc - FMC 1 board 0: Setting clock source to 1\n",
      "2021-09-29 23:09:14,119 - lwa_f.blocks.block:snap01 - INFO - adc - FMC 1 board 1: Setting clock source to 1\n",
      "2021-09-29 23:09:26,312 - lwa_f.blocks.block:snap01 - INFO - adc - FMC 0 board 0 clock rates: [490795616, 98203009, 98236037, 0, 0]\n",
      "2021-09-29 23:09:26,313 - lwa_f.blocks.block:snap01 - INFO - adc - FMC 0 board 0: MMCM locked\n",
      "2021-09-29 23:09:27,324 - lwa_f.blocks.block:snap01 - INFO - adc - FMC 0 board 1 clock rates: [490765534, 98197482, 98240898, 98272038, 0]\n",
      "2021-09-29 23:09:28,335 - lwa_f.blocks.block:snap01 - INFO - adc - FMC 1 board 0 clock rates: [490758799, 98212160, 98245191, 0, 0]\n",
      "2021-09-29 23:09:28,336 - lwa_f.blocks.block:snap01 - INFO - adc - FMC 1 board 0: MMCM locked\n",
      "2021-09-29 23:09:29,347 - lwa_f.blocks.block:snap01 - INFO - adc - FMC 1 board 1 clock rates: [490568362, 98146707, 98153310, 98167940, 0]\n",
      "2021-09-29 23:09:30,847 - lwa_f.blocks.block:snap01 - INFO - adc - FMC 0 Scanning data delays\n"
     ]
    },
    {
     "name": "stderr",
     "output_type": "stream",
     "text": [
      "100% (64 of 64) |########################| Elapsed Time: 0:00:08 Time:  0:00:08\n"
     ]
    },
    {
     "name": "stdout",
     "output_type": "stream",
     "text": [
      "2021-09-29 23:09:39,231 - lwa_f.blocks.block:snap01 - INFO - adc - FMC 0 data lane delays:\n",
      "[[336, 328, 336, 312, 320, 312, 312, 312], [320, 312, 304, 304, 304, 304, 304, 304], [296, 296, 296, 296, 296, 288, 296, 304], [312, 320, 304, 304, 304, 304, 304, 304], [296, 296, 296, 304, 304, 296, 296, 296], [296, 304, 304, 296, 288, 296, 288, 288], [328, 304, 312, 312, 312, 320, 312, 312], [368, 360, 360, 360, 360, 376, 376, 360]]\n",
      "2021-09-29 23:09:39,231 - lwa_f.blocks.block:snap01 - INFO - adc - FMC 0 data lane slacks:\n",
      "[[40, 40, 40, 40, 40, 40, 40, 40], [32, 40, 40, 40, 40, 40, 40, 40], [40, 40, 40, 40, 40, 32, 40, 32], [40, 40, 32, 32, 32, 32, 32, 32], [40, 40, 40, 40, 40, 40, 40, 40], [40, 40, 40, 40, 40, 40, 40, 40], [40, 40, 40, 40, 40, 32, 40, 40], [32, 32, 32, 32, 32, 40, 32, 40]]\n",
      "2021-09-29 23:09:39,232 - lwa_f.blocks.block:snap01 - INFO - adc - Chip 0, Lane 0:    XXXXXXXXXXXXXXXXXXXXXXXXXXXXXXXXXXXXXX----|----XXXXXXXXXXXXXXXXX\n",
      "2021-09-29 23:09:39,232 - lwa_f.blocks.block:snap01 - INFO - adc - Chip 0, Lane 1:    XXXXXXXXXXXXXXXXXXXXXXXXXXXXXXXXXXXXX----|----XXXXXXXXXXXXXXXXXX\n",
      "2021-09-29 23:09:39,232 - lwa_f.blocks.block:snap01 - INFO - adc - Chip 0, Lane 2:    XXXXXXXXXXXXXXXXXXXXXXXXXXXXXXXXXXXXXX----|----XXXXXXXXXXXXXXXXX\n",
      "2021-09-29 23:09:39,233 - lwa_f.blocks.block:snap01 - INFO - adc - Chip 0, Lane 3:    XXXXXXXXXXXXXXXXXXXXXXXXXXXXXXXXXXX----|-----XXXXXXXXXXXXXXXXXXX\n",
      "2021-09-29 23:09:39,233 - lwa_f.blocks.block:snap01 - INFO - adc - Chip 0, Lane 4:    XXXXXXXXXXXXXXXXXXXXXXXXXXXXXXXXXXXX----|-----XXXXXXXXXXXXXXXXXX\n",
      "2021-09-29 23:09:39,234 - lwa_f.blocks.block:snap01 - INFO - adc - Chip 0, Lane 5:    XXXXXXXXXXXXXXXXXXXXXXXXXXXXXXXXXXX----|----XXXXXXXXXXXXXXXXXXXX\n",
      "2021-09-29 23:09:39,234 - lwa_f.blocks.block:snap01 - INFO - adc - Chip 0, Lane 6:    XXXXXXXXXXXXXXXXXXXXXXXXXXXXXXXXXXX----|-----XXXXXXXXXXXXXXXXXXX\n",
      "2021-09-29 23:09:39,235 - lwa_f.blocks.block:snap01 - INFO - adc - Chip 0, Lane 7:    XXXXXXXXXXXXXXXXXXXXXXXXXXXXXXXXXXX----|----XXXXXXXXXXXXXXXXXXXX\n",
      "2021-09-29 23:09:39,235 - lwa_f.blocks.block:snap01 - INFO - adc - Chip 1, Lane 0:    XXXXXXXXXXXXXXXXXXXXXXXXXXXXXXXXXXXXX---|----XXXXXXXXXXXXXXXXXXX\n",
      "2021-09-29 23:09:39,235 - lwa_f.blocks.block:snap01 - INFO - adc - Chip 1, Lane 1:    XXXXXXXXXXXXXXXXXXXXXXXXXXXXXXXXXXX----|----XXXXXXXXXXXXXXXXXXXX\n",
      "2021-09-29 23:09:39,236 - lwa_f.blocks.block:snap01 - INFO - adc - Chip 1, Lane 2:    XXXXXXXXXXXXXXXXXXXXXXXXXXXXXXXXXX----|-----XXXXXXXXXXXXXXXXXXXX\n",
      "2021-09-29 23:09:39,236 - lwa_f.blocks.block:snap01 - INFO - adc - Chip 1, Lane 3:    XXXXXXXXXXXXXXXXXXXXXXXXXXXXXXXXXX----|----XXXXXXXXXXXXXXXXXXXXX\n",
      "2021-09-29 23:09:39,236 - lwa_f.blocks.block:snap01 - INFO - adc - Chip 1, Lane 4:    XXXXXXXXXXXXXXXXXXXXXXXXXXXXXXXXXX----|-----XXXXXXXXXXXXXXXXXXXX\n",
      "2021-09-29 23:09:39,237 - lwa_f.blocks.block:snap01 - INFO - adc - Chip 1, Lane 5:    XXXXXXXXXXXXXXXXXXXXXXXXXXXXXXXXXX----|----XXXXXXXXXXXXXXXXXXXXX\n",
      "2021-09-29 23:09:39,237 - lwa_f.blocks.block:snap01 - INFO - adc - Chip 1, Lane 6:    XXXXXXXXXXXXXXXXXXXXXXXXXXXXXXXXXX----|-----XXXXXXXXXXXXXXXXXXXX\n",
      "2021-09-29 23:09:39,237 - lwa_f.blocks.block:snap01 - INFO - adc - Chip 1, Lane 7:    XXXXXXXXXXXXXXXXXXXXXXXXXXXXXXXXXX----|-----XXXXXXXXXXXXXXXXXXXX\n",
      "2021-09-29 23:09:39,238 - lwa_f.blocks.block:snap01 - INFO - adc - Chip 2, Lane 0:    XXXXXXXXXXXXXXXXXXXXXXXXXXXXXXXXX----|-----XXXXXXXXXXXXXXXXXXXXX\n",
      "2021-09-29 23:09:39,238 - lwa_f.blocks.block:snap01 - INFO - adc - Chip 2, Lane 1:    XXXXXXXXXXXXXXXXXXXXXXXXXXXXXXXXX----|-----XXXXXXXXXXXXXXXXXXXXX\n",
      "2021-09-29 23:09:39,238 - lwa_f.blocks.block:snap01 - INFO - adc - Chip 2, Lane 2:    XXXXXXXXXXXXXXXXXXXXXXXXXXXXXXXXX----|----XXXXXXXXXXXXXXXXXXXXXX\n",
      "2021-09-29 23:09:39,240 - lwa_f.blocks.block:snap01 - INFO - adc - Chip 2, Lane 3:    XXXXXXXXXXXXXXXXXXXXXXXXXXXXXXXXX----|-----XXXXXXXXXXXXXXXXXXXXX\n",
      "2021-09-29 23:09:39,240 - lwa_f.blocks.block:snap01 - INFO - adc - Chip 2, Lane 4:    XXXXXXXXXXXXXXXXXXXXXXXXXXXXXXXXX----|-----XXXXXXXXXXXXXXXXXXXXX\n",
      "2021-09-29 23:09:39,240 - lwa_f.blocks.block:snap01 - INFO - adc - Chip 2, Lane 5:    XXXXXXXXXXXXXXXXXXXXXXXXXXXXXXXXX---|----XXXXXXXXXXXXXXXXXXXXXXX\n",
      "2021-09-29 23:09:39,241 - lwa_f.blocks.block:snap01 - INFO - adc - Chip 2, Lane 6:    XXXXXXXXXXXXXXXXXXXXXXXXXXXXXXXXX----|-----XXXXXXXXXXXXXXXXXXXXX\n",
      "2021-09-29 23:09:39,241 - lwa_f.blocks.block:snap01 - INFO - adc - Chip 2, Lane 7:    XXXXXXXXXXXXXXXXXXXXXXXXXXXXXXXXXXX---|----XXXXXXXXXXXXXXXXXXXXX\n",
      "2021-09-29 23:09:39,241 - lwa_f.blocks.block:snap01 - INFO - adc - Chip 3, Lane 0:    XXXXXXXXXXXXXXXXXXXXXXXXXXXXXXXXXXX----|----XXXXXXXXXXXXXXXXXXXX\n",
      "2021-09-29 23:09:39,242 - lwa_f.blocks.block:snap01 - INFO - adc - Chip 3, Lane 1:    XXXXXXXXXXXXXXXXXXXXXXXXXXXXXXXXXXXX----|----XXXXXXXXXXXXXXXXXXX\n",
      "2021-09-29 23:09:39,242 - lwa_f.blocks.block:snap01 - INFO - adc - Chip 3, Lane 2:    XXXXXXXXXXXXXXXXXXXXXXXXXXXXXXXXXXX---|----XXXXXXXXXXXXXXXXXXXXX\n",
      "2021-09-29 23:09:39,242 - lwa_f.blocks.block:snap01 - INFO - adc - Chip 3, Lane 3:    XXXXXXXXXXXXXXXXXXXXXXXXXXXXXXXXXXX---|----XXXXXXXXXXXXXXXXXXXXX\n",
      "2021-09-29 23:09:39,243 - lwa_f.blocks.block:snap01 - INFO - adc - Chip 3, Lane 4:    XXXXXXXXXXXXXXXXXXXXXXXXXXXXXXXXXXX---|----XXXXXXXXXXXXXXXXXXXXX\n",
      "2021-09-29 23:09:39,243 - lwa_f.blocks.block:snap01 - INFO - adc - Chip 3, Lane 5:    XXXXXXXXXXXXXXXXXXXXXXXXXXXXXXXXXXX---|----XXXXXXXXXXXXXXXXXXXXX\n",
      "2021-09-29 23:09:39,243 - lwa_f.blocks.block:snap01 - INFO - adc - Chip 3, Lane 6:    XXXXXXXXXXXXXXXXXXXXXXXXXXXXXXXXXXX---|----XXXXXXXXXXXXXXXXXXXXX\n",
      "2021-09-29 23:09:39,244 - lwa_f.blocks.block:snap01 - INFO - adc - Chip 3, Lane 7:    XXXXXXXXXXXXXXXXXXXXXXXXXXXXXXXXXXX---|----XXXXXXXXXXXXXXXXXXXXX\n",
      "2021-09-29 23:09:39,244 - lwa_f.blocks.block:snap01 - INFO - adc - Chip 4, Lane 0:    XXXXXXXXXXXXXXXXXXXXXXXXXXXXXXXXX----|-----XXXXXXXXXXXXXXXXXXXXX\n",
      "2021-09-29 23:09:39,244 - lwa_f.blocks.block:snap01 - INFO - adc - Chip 4, Lane 1:    XXXXXXXXXXXXXXXXXXXXXXXXXXXXXXXXX----|----XXXXXXXXXXXXXXXXXXXXXX\n",
      "2021-09-29 23:09:39,245 - lwa_f.blocks.block:snap01 - INFO - adc - Chip 4, Lane 2:    XXXXXXXXXXXXXXXXXXXXXXXXXXXXXXXXX----|----XXXXXXXXXXXXXXXXXXXXXX\n",
      "2021-09-29 23:09:39,245 - lwa_f.blocks.block:snap01 - INFO - adc - Chip 4, Lane 3:    XXXXXXXXXXXXXXXXXXXXXXXXXXXXXXXXXX----|----XXXXXXXXXXXXXXXXXXXXX\n",
      "2021-09-29 23:09:39,246 - lwa_f.blocks.block:snap01 - INFO - adc - Chip 4, Lane 4:    XXXXXXXXXXXXXXXXXXXXXXXXXXXXXXXXXX----|----XXXXXXXXXXXXXXXXXXXXX\n",
      "2021-09-29 23:09:39,246 - lwa_f.blocks.block:snap01 - INFO - adc - Chip 4, Lane 5:    XXXXXXXXXXXXXXXXXXXXXXXXXXXXXXXXX----|----XXXXXXXXXXXXXXXXXXXXXX\n",
      "2021-09-29 23:09:39,247 - lwa_f.blocks.block:snap01 - INFO - adc - Chip 4, Lane 6:    XXXXXXXXXXXXXXXXXXXXXXXXXXXXXXXXX----|----XXXXXXXXXXXXXXXXXXXXXX\n",
      "2021-09-29 23:09:39,247 - lwa_f.blocks.block:snap01 - INFO - adc - Chip 4, Lane 7:    XXXXXXXXXXXXXXXXXXXXXXXXXXXXXXXXX----|-----XXXXXXXXXXXXXXXXXXXXX\n",
      "2021-09-29 23:09:39,248 - lwa_f.blocks.block:snap01 - INFO - adc - Chip 5, Lane 0:    XXXXXXXXXXXXXXXXXXXXXXXXXXXXXXXXX----|-----XXXXXXXXXXXXXXXXXXXXX\n",
      "2021-09-29 23:09:39,250 - lwa_f.blocks.block:snap01 - INFO - adc - Chip 5, Lane 1:    XXXXXXXXXXXXXXXXXXXXXXXXXXXXXXXXXX----|----XXXXXXXXXXXXXXXXXXXXX\n",
      "2021-09-29 23:09:39,251 - lwa_f.blocks.block:snap01 - INFO - adc - Chip 5, Lane 2:    XXXXXXXXXXXXXXXXXXXXXXXXXXXXXXXXXX----|-----XXXXXXXXXXXXXXXXXXXX\n",
      "2021-09-29 23:09:39,251 - lwa_f.blocks.block:snap01 - INFO - adc - Chip 5, Lane 3:    XXXXXXXXXXXXXXXXXXXXXXXXXXXXXXXXX----|-----XXXXXXXXXXXXXXXXXXXXX\n",
      "2021-09-29 23:09:39,252 - lwa_f.blocks.block:snap01 - INFO - adc - Chip 5, Lane 4:    XXXXXXXXXXXXXXXXXXXXXXXXXXXXXXXX----|-----XXXXXXXXXXXXXXXXXXXXXX\n",
      "2021-09-29 23:09:39,252 - lwa_f.blocks.block:snap01 - INFO - adc - Chip 5, Lane 5:    XXXXXXXXXXXXXXXXXXXXXXXXXXXXXXXXX----|----XXXXXXXXXXXXXXXXXXXXXX\n",
      "2021-09-29 23:09:39,253 - lwa_f.blocks.block:snap01 - INFO - adc - Chip 5, Lane 6:    XXXXXXXXXXXXXXXXXXXXXXXXXXXXXXXX----|-----XXXXXXXXXXXXXXXXXXXXXX\n",
      "2021-09-29 23:09:39,253 - lwa_f.blocks.block:snap01 - INFO - adc - Chip 5, Lane 7:    XXXXXXXXXXXXXXXXXXXXXXXXXXXXXXXX----|-----XXXXXXXXXXXXXXXXXXXXXX\n",
      "2021-09-29 23:09:39,254 - lwa_f.blocks.block:snap01 - INFO - adc - Chip 6, Lane 0:    XXXXXXXXXXXXXXXXXXXXXXXXXXXXXXXXXXXXX----|-----XXXXXXXXXXXXXXXXX\n",
      "2021-09-29 23:09:39,254 - lwa_f.blocks.block:snap01 - INFO - adc - Chip 6, Lane 1:    XXXXXXXXXXXXXXXXXXXXXXXXXXXXXXXXXX----|-----XXXXXXXXXXXXXXXXXXXX\n"
     ]
    },
    {
     "name": "stdout",
     "output_type": "stream",
     "text": [
      "2021-09-29 23:09:39,255 - lwa_f.blocks.block:snap01 - INFO - adc - Chip 6, Lane 2:    XXXXXXXXXXXXXXXXXXXXXXXXXXXXXXXXXXX----|----XXXXXXXXXXXXXXXXXXXX\n",
      "2021-09-29 23:09:39,255 - lwa_f.blocks.block:snap01 - INFO - adc - Chip 6, Lane 3:    XXXXXXXXXXXXXXXXXXXXXXXXXXXXXXXXXXX----|-----XXXXXXXXXXXXXXXXXXX\n",
      "2021-09-29 23:09:39,256 - lwa_f.blocks.block:snap01 - INFO - adc - Chip 6, Lane 4:    XXXXXXXXXXXXXXXXXXXXXXXXXXXXXXXXXXX----|----XXXXXXXXXXXXXXXXXXXX\n",
      "2021-09-29 23:09:39,256 - lwa_f.blocks.block:snap01 - INFO - adc - Chip 6, Lane 5:    XXXXXXXXXXXXXXXXXXXXXXXXXXXXXXXXXXXXX---|----XXXXXXXXXXXXXXXXXXX\n",
      "2021-09-29 23:09:39,257 - lwa_f.blocks.block:snap01 - INFO - adc - Chip 6, Lane 6:    XXXXXXXXXXXXXXXXXXXXXXXXXXXXXXXXXXX----|----XXXXXXXXXXXXXXXXXXXX\n",
      "2021-09-29 23:09:39,257 - lwa_f.blocks.block:snap01 - INFO - adc - Chip 6, Lane 7:    XXXXXXXXXXXXXXXXXXXXXXXXXXXXXXXXXXX----|----XXXXXXXXXXXXXXXXXXXX\n",
      "2021-09-29 23:09:39,258 - lwa_f.blocks.block:snap01 - INFO - adc - Chip 7, Lane 0:    XXXXXXXXXXXXXXXXXXXXXXXXXXXXXXXXXXXXXXXXXXX---|----XXXXXXXXXXXXX\n",
      "2021-09-29 23:09:39,258 - lwa_f.blocks.block:snap01 - INFO - adc - Chip 7, Lane 1:    XXXXXXXXXXXXXXXXXXXXXXXXXXXXXXXXXXXXXXXXXX---|----XXXXXXXXXXXXXX\n",
      "2021-09-29 23:09:39,259 - lwa_f.blocks.block:snap01 - INFO - adc - Chip 7, Lane 2:    XXXXXXXXXXXXXXXXXXXXXXXXXXXXXXXXXXXXXXXXXX---|----XXXXXXXXXXXXXX\n",
      "2021-09-29 23:09:39,259 - lwa_f.blocks.block:snap01 - INFO - adc - Chip 7, Lane 3:    XXXXXXXXXXXXXXXXXXXXXXXXXXXXXXXXXXXXXXXXXX---|----XXXXXXXXXXXXXX\n",
      "2021-09-29 23:09:39,260 - lwa_f.blocks.block:snap01 - INFO - adc - Chip 7, Lane 4:    XXXXXXXXXXXXXXXXXXXXXXXXXXXXXXXXXXXXXXXXXX---|----XXXXXXXXXXXXXX\n",
      "2021-09-29 23:09:39,262 - lwa_f.blocks.block:snap01 - INFO - adc - Chip 7, Lane 5:    XXXXXXXXXXXXXXXXXXXXXXXXXXXXXXXXXXXXXXXXXXX----|----XXXXXXXXXXXX\n",
      "2021-09-29 23:09:39,262 - lwa_f.blocks.block:snap01 - INFO - adc - Chip 7, Lane 6:    XXXXXXXXXXXXXXXXXXXXXXXXXXXXXXXXXXXXXXXXXXXX---|----XXXXXXXXXXXX\n",
      "2021-09-29 23:09:39,263 - lwa_f.blocks.block:snap01 - INFO - adc - Chip 7, Lane 7:    XXXXXXXXXXXXXXXXXXXXXXXXXXXXXXXXXXXXXXXXX----|----XXXXXXXXXXXXXX\n",
      "2021-09-29 23:09:42,209 - lwa_f.blocks.block:snap01 - INFO - adc - FMC 1 Scanning data delays\n"
     ]
    },
    {
     "name": "stderr",
     "output_type": "stream",
     "text": [
      "100% (64 of 64) |########################| Elapsed Time: 0:00:08 Time:  0:00:08\n"
     ]
    },
    {
     "name": "stdout",
     "output_type": "stream",
     "text": [
      "2021-09-29 23:09:50,680 - lwa_f.blocks.block:snap01 - INFO - adc - FMC 1 data lane delays:\n",
      "[[304, 312, 304, 312, 304, 304, 296, 312], [296, 296, 288, 296, 288, 304, 296, 288], [296, 288, 296, 304, 296, 304, 296, 288], [328, 352, 336, 336, 336, 344, 336, 336], [280, 288, 288, 296, 288, 288, 288, 288], [328, 328, 328, 328, 328, 328, 336, 328], [288, 280, 288, 296, 288, 280, 280, 288], [280, 280, 280, 272, 280, 280, 280, 280]]\n",
      "2021-09-29 23:09:50,681 - lwa_f.blocks.block:snap01 - INFO - adc - FMC 1 data lane slacks:\n",
      "[[40, 40, 40, 40, 40, 40, 40, 40], [40, 40, 40, 40, 32, 32, 40, 32], [40, 40, 40, 32, 40, 32, 40, 40], [40, 40, 40, 40, 40, 40, 40, 40], [40, 40, 40, 40, 40, 40, 40, 40], [32, 32, 32, 32, 32, 32, 32, 32], [32, 32, 40, 40, 40, 32, 32, 40], [40, 40, 32, 40, 40, 40, 40, 40]]\n",
      "2021-09-29 23:09:50,682 - lwa_f.blocks.block:snap01 - INFO - adc - Chip 0, Lane 0:    XXXXXXXXXXXXXXXXXXXXXXXXXXXXXXXXXX----|----XXXXXXXXXXXXXXXXXXXXX\n",
      "2021-09-29 23:09:50,682 - lwa_f.blocks.block:snap01 - INFO - adc - Chip 0, Lane 1:    XXXXXXXXXXXXXXXXXXXXXXXXXXXXXXXXXXX----|----XXXXXXXXXXXXXXXXXXXX\n",
      "2021-09-29 23:09:50,683 - lwa_f.blocks.block:snap01 - INFO - adc - Chip 0, Lane 2:    XXXXXXXXXXXXXXXXXXXXXXXXXXXXXXXXXX----|----XXXXXXXXXXXXXXXXXXXXX\n",
      "2021-09-29 23:09:50,684 - lwa_f.blocks.block:snap01 - INFO - adc - Chip 0, Lane 3:    XXXXXXXXXXXXXXXXXXXXXXXXXXXXXXXXXXX----|-----XXXXXXXXXXXXXXXXXXX\n",
      "2021-09-29 23:09:50,685 - lwa_f.blocks.block:snap01 - INFO - adc - Chip 0, Lane 4:    XXXXXXXXXXXXXXXXXXXXXXXXXXXXXXXXXX----|----XXXXXXXXXXXXXXXXXXXXX\n",
      "2021-09-29 23:09:50,686 - lwa_f.blocks.block:snap01 - INFO - adc - Chip 0, Lane 5:    XXXXXXXXXXXXXXXXXXXXXXXXXXXXXXXXXX----|----XXXXXXXXXXXXXXXXXXXXX\n",
      "2021-09-29 23:09:50,686 - lwa_f.blocks.block:snap01 - INFO - adc - Chip 0, Lane 6:    XXXXXXXXXXXXXXXXXXXXXXXXXXXXXXXXX----|----XXXXXXXXXXXXXXXXXXXXXX\n",
      "2021-09-29 23:09:50,689 - lwa_f.blocks.block:snap01 - INFO - adc - Chip 0, Lane 7:    XXXXXXXXXXXXXXXXXXXXXXXXXXXXXXXXXXX----|----XXXXXXXXXXXXXXXXXXXX\n",
      "2021-09-29 23:09:50,689 - lwa_f.blocks.block:snap01 - INFO - adc - Chip 1, Lane 0:    XXXXXXXXXXXXXXXXXXXXXXXXXXXXXXXXX----|----XXXXXXXXXXXXXXXXXXXXXX\n",
      "2021-09-29 23:09:50,690 - lwa_f.blocks.block:snap01 - INFO - adc - Chip 1, Lane 1:    XXXXXXXXXXXXXXXXXXXXXXXXXXXXXXXXX----|----XXXXXXXXXXXXXXXXXXXXXX\n",
      "2021-09-29 23:09:50,691 - lwa_f.blocks.block:snap01 - INFO - adc - Chip 1, Lane 2:    XXXXXXXXXXXXXXXXXXXXXXXXXXXXXXXX----|----XXXXXXXXXXXXXXXXXXXXXXX\n",
      "2021-09-29 23:09:50,691 - lwa_f.blocks.block:snap01 - INFO - adc - Chip 1, Lane 3:    XXXXXXXXXXXXXXXXXXXXXXXXXXXXXXXXX----|----XXXXXXXXXXXXXXXXXXXXXX\n",
      "2021-09-29 23:09:50,692 - lwa_f.blocks.block:snap01 - INFO - adc - Chip 1, Lane 4:    XXXXXXXXXXXXXXXXXXXXXXXXXXXXXXXXX---|----XXXXXXXXXXXXXXXXXXXXXXX\n",
      "2021-09-29 23:09:50,692 - lwa_f.blocks.block:snap01 - INFO - adc - Chip 1, Lane 5:    XXXXXXXXXXXXXXXXXXXXXXXXXXXXXXXXXXX---|----XXXXXXXXXXXXXXXXXXXXX\n",
      "2021-09-29 23:09:50,693 - lwa_f.blocks.block:snap01 - INFO - adc - Chip 1, Lane 6:    XXXXXXXXXXXXXXXXXXXXXXXXXXXXXXXXX----|----XXXXXXXXXXXXXXXXXXXXXX\n",
      "2021-09-29 23:09:50,693 - lwa_f.blocks.block:snap01 - INFO - adc - Chip 1, Lane 7:    XXXXXXXXXXXXXXXXXXXXXXXXXXXXXXXXX---|----XXXXXXXXXXXXXXXXXXXXXXX\n",
      "2021-09-29 23:09:50,694 - lwa_f.blocks.block:snap01 - INFO - adc - Chip 2, Lane 0:    XXXXXXXXXXXXXXXXXXXXXXXXXXXXXXXXX----|----XXXXXXXXXXXXXXXXXXXXXX\n",
      "2021-09-29 23:09:50,694 - lwa_f.blocks.block:snap01 - INFO - adc - Chip 2, Lane 1:    XXXXXXXXXXXXXXXXXXXXXXXXXXXXXXXX----|-----XXXXXXXXXXXXXXXXXXXXXX\n",
      "2021-09-29 23:09:50,695 - lwa_f.blocks.block:snap01 - INFO - adc - Chip 2, Lane 2:    XXXXXXXXXXXXXXXXXXXXXXXXXXXXXXXXX----|----XXXXXXXXXXXXXXXXXXXXXX\n",
      "2021-09-29 23:09:50,696 - lwa_f.blocks.block:snap01 - INFO - adc - Chip 2, Lane 3:    XXXXXXXXXXXXXXXXXXXXXXXXXXXXXXXXXXX---|----XXXXXXXXXXXXXXXXXXXXX\n",
      "2021-09-29 23:09:50,696 - lwa_f.blocks.block:snap01 - INFO - adc - Chip 2, Lane 4:    XXXXXXXXXXXXXXXXXXXXXXXXXXXXXXXXX----|----XXXXXXXXXXXXXXXXXXXXXX\n",
      "2021-09-29 23:09:50,697 - lwa_f.blocks.block:snap01 - INFO - adc - Chip 2, Lane 5:    XXXXXXXXXXXXXXXXXXXXXXXXXXXXXXXXXXX---|---XXXXXXXXXXXXXXXXXXXXXX\n",
      "2021-09-29 23:09:50,697 - lwa_f.blocks.block:snap01 - INFO - adc - Chip 2, Lane 6:    XXXXXXXXXXXXXXXXXXXXXXXXXXXXXXXXX----|----XXXXXXXXXXXXXXXXXXXXXX\n",
      "2021-09-29 23:09:50,698 - lwa_f.blocks.block:snap01 - INFO - adc - Chip 2, Lane 7:    XXXXXXXXXXXXXXXXXXXXXXXXXXXXXXXX----|----XXXXXXXXXXXXXXXXXXXXXXX\n",
      "2021-09-29 23:09:50,699 - lwa_f.blocks.block:snap01 - INFO - adc - Chip 3, Lane 0:    XXXXXXXXXXXXXXXXXXXXXXXXXXXXXXXXXXXXX----|-----XXXXXXXXXXXXXXXXX\n",
      "2021-09-29 23:09:50,699 - lwa_f.blocks.block:snap01 - INFO - adc - Chip 3, Lane 1:    XXXXXXXXXXXXXXXXXXXXXXXXXXXXXXXXXXXXXXXX----|----XXXXXXXXXXXXXXX\n",
      "2021-09-29 23:09:50,700 - lwa_f.blocks.block:snap01 - INFO - adc - Chip 3, Lane 2:    XXXXXXXXXXXXXXXXXXXXXXXXXXXXXXXXXXXXXX----|----XXXXXXXXXXXXXXXXX\n",
      "2021-09-29 23:09:50,700 - lwa_f.blocks.block:snap01 - INFO - adc - Chip 3, Lane 3:    XXXXXXXXXXXXXXXXXXXXXXXXXXXXXXXXXXXXXX----|-----XXXXXXXXXXXXXXXX\n",
      "2021-09-29 23:09:50,701 - lwa_f.blocks.block:snap01 - INFO - adc - Chip 3, Lane 4:    XXXXXXXXXXXXXXXXXXXXXXXXXXXXXXXXXXXXXX----|-----XXXXXXXXXXXXXXXX\n",
      "2021-09-29 23:09:50,702 - lwa_f.blocks.block:snap01 - INFO - adc - Chip 3, Lane 5:    XXXXXXXXXXXXXXXXXXXXXXXXXXXXXXXXXXXXXXX----|----XXXXXXXXXXXXXXXX\n",
      "2021-09-29 23:09:50,702 - lwa_f.blocks.block:snap01 - INFO - adc - Chip 3, Lane 6:    XXXXXXXXXXXXXXXXXXXXXXXXXXXXXXXXXXXXXX----|----XXXXXXXXXXXXXXXXX\n",
      "2021-09-29 23:09:50,703 - lwa_f.blocks.block:snap01 - INFO - adc - Chip 3, Lane 7:    XXXXXXXXXXXXXXXXXXXXXXXXXXXXXXXXXXXXXX----|-----XXXXXXXXXXXXXXXX\n",
      "2021-09-29 23:09:50,703 - lwa_f.blocks.block:snap01 - INFO - adc - Chip 4, Lane 0:    XXXXXXXXXXXXXXXXXXXXXXXXXXXXXXX----|-----XXXXXXXXXXXXXXXXXXXXXXX\n",
      "2021-09-29 23:09:50,704 - lwa_f.blocks.block:snap01 - INFO - adc - Chip 4, Lane 1:    XXXXXXXXXXXXXXXXXXXXXXXXXXXXXXXX----|----XXXXXXXXXXXXXXXXXXXXXXX\n",
      "2021-09-29 23:09:50,704 - lwa_f.blocks.block:snap01 - INFO - adc - Chip 4, Lane 2:    XXXXXXXXXXXXXXXXXXXXXXXXXXXXXXXX----|----XXXXXXXXXXXXXXXXXXXXXXX\n",
      "2021-09-29 23:09:50,705 - lwa_f.blocks.block:snap01 - INFO - adc - Chip 4, Lane 3:    XXXXXXXXXXXXXXXXXXXXXXXXXXXXXXXXX----|----XXXXXXXXXXXXXXXXXXXXXX\n",
      "2021-09-29 23:09:50,705 - lwa_f.blocks.block:snap01 - INFO - adc - Chip 4, Lane 4:    XXXXXXXXXXXXXXXXXXXXXXXXXXXXXXXX----|----XXXXXXXXXXXXXXXXXXXXXXX\n",
      "2021-09-29 23:09:50,706 - lwa_f.blocks.block:snap01 - INFO - adc - Chip 4, Lane 5:    XXXXXXXXXXXXXXXXXXXXXXXXXXXXXXXX----|----XXXXXXXXXXXXXXXXXXXXXXX\n",
      "2021-09-29 23:09:50,706 - lwa_f.blocks.block:snap01 - INFO - adc - Chip 4, Lane 6:    XXXXXXXXXXXXXXXXXXXXXXXXXXXXXXXX----|----XXXXXXXXXXXXXXXXXXXXXXX\n",
      "2021-09-29 23:09:50,707 - lwa_f.blocks.block:snap01 - INFO - adc - Chip 4, Lane 7:    XXXXXXXXXXXXXXXXXXXXXXXXXXXXXXXX----|----XXXXXXXXXXXXXXXXXXXXXXX\n",
      "2021-09-29 23:09:50,707 - lwa_f.blocks.block:snap01 - INFO - adc - Chip 5, Lane 0:    XXXXXXXXXXXXXXXXXXXXXXXXXXXXXXXXXXXXXX---|----XXXXXXXXXXXXXXXXXX\n",
      "2021-09-29 23:09:50,708 - lwa_f.blocks.block:snap01 - INFO - adc - Chip 5, Lane 1:    XXXXXXXXXXXXXXXXXXXXXXXXXXXXXXXXXXXXXX---|----XXXXXXXXXXXXXXXXXX\n",
      "2021-09-29 23:09:50,708 - lwa_f.blocks.block:snap01 - INFO - adc - Chip 5, Lane 2:    XXXXXXXXXXXXXXXXXXXXXXXXXXXXXXXXXXXXXX---|----XXXXXXXXXXXXXXXXXX\n",
      "2021-09-29 23:09:50,709 - lwa_f.blocks.block:snap01 - INFO - adc - Chip 5, Lane 3:    XXXXXXXXXXXXXXXXXXXXXXXXXXXXXXXXXXXXXX---|---XXXXXXXXXXXXXXXXXXX\n",
      "2021-09-29 23:09:50,709 - lwa_f.blocks.block:snap01 - INFO - adc - Chip 5, Lane 4:    XXXXXXXXXXXXXXXXXXXXXXXXXXXXXXXXXXXXXX---|----XXXXXXXXXXXXXXXXXX\n",
      "2021-09-29 23:09:50,710 - lwa_f.blocks.block:snap01 - INFO - adc - Chip 5, Lane 5:    XXXXXXXXXXXXXXXXXXXXXXXXXXXXXXXXXXXXXX---|---XXXXXXXXXXXXXXXXXXX\n",
      "2021-09-29 23:09:50,710 - lwa_f.blocks.block:snap01 - INFO - adc - Chip 5, Lane 6:    XXXXXXXXXXXXXXXXXXXXXXXXXXXXXXXXXXXXXXX---|----XXXXXXXXXXXXXXXXX\n",
      "2021-09-29 23:09:50,711 - lwa_f.blocks.block:snap01 - INFO - adc - Chip 5, Lane 7:    XXXXXXXXXXXXXXXXXXXXXXXXXXXXXXXXXXXXXX---|----XXXXXXXXXXXXXXXXXX\n",
      "2021-09-29 23:09:50,711 - lwa_f.blocks.block:snap01 - INFO - adc - Chip 6, Lane 0:    XXXXXXXXXXXXXXXXXXXXXXXXXXXXXXXXX---|----XXXXXXXXXXXXXXXXXXXXXXX\n",
      "2021-09-29 23:09:50,712 - lwa_f.blocks.block:snap01 - INFO - adc - Chip 6, Lane 1:    XXXXXXXXXXXXXXXXXXXXXXXXXXXXXXXX---|----XXXXXXXXXXXXXXXXXXXXXXXX\n"
     ]
    },
    {
     "name": "stdout",
     "output_type": "stream",
     "text": [
      "2021-09-29 23:09:50,712 - lwa_f.blocks.block:snap01 - INFO - adc - Chip 6, Lane 2:    XXXXXXXXXXXXXXXXXXXXXXXXXXXXXXXX----|----XXXXXXXXXXXXXXXXXXXXXXX\n",
      "2021-09-29 23:09:50,713 - lwa_f.blocks.block:snap01 - INFO - adc - Chip 6, Lane 3:    XXXXXXXXXXXXXXXXXXXXXXXXXXXXXXXXX----|----XXXXXXXXXXXXXXXXXXXXXX\n",
      "2021-09-29 23:09:50,713 - lwa_f.blocks.block:snap01 - INFO - adc - Chip 6, Lane 4:    XXXXXXXXXXXXXXXXXXXXXXXXXXXXXXXX----|----XXXXXXXXXXXXXXXXXXXXXXX\n",
      "2021-09-29 23:09:50,714 - lwa_f.blocks.block:snap01 - INFO - adc - Chip 6, Lane 5:    XXXXXXXXXXXXXXXXXXXXXXXXXXXXXXXX---|----XXXXXXXXXXXXXXXXXXXXXXXX\n",
      "2021-09-29 23:09:50,714 - lwa_f.blocks.block:snap01 - INFO - adc - Chip 6, Lane 6:    XXXXXXXXXXXXXXXXXXXXXXXXXXXXXXXX---|----XXXXXXXXXXXXXXXXXXXXXXXX\n",
      "2021-09-29 23:09:50,715 - lwa_f.blocks.block:snap01 - INFO - adc - Chip 6, Lane 7:    XXXXXXXXXXXXXXXXXXXXXXXXXXXXXXXX----|----XXXXXXXXXXXXXXXXXXXXXXX\n",
      "2021-09-29 23:09:50,715 - lwa_f.blocks.block:snap01 - INFO - adc - Chip 7, Lane 0:    XXXXXXXXXXXXXXXXXXXXXXXXXXXXXXX----|-----XXXXXXXXXXXXXXXXXXXXXXX\n",
      "2021-09-29 23:09:50,716 - lwa_f.blocks.block:snap01 - INFO - adc - Chip 7, Lane 1:    XXXXXXXXXXXXXXXXXXXXXXXXXXXXXXX----|----XXXXXXXXXXXXXXXXXXXXXXXX\n",
      "2021-09-29 23:09:50,717 - lwa_f.blocks.block:snap01 - INFO - adc - Chip 7, Lane 2:    XXXXXXXXXXXXXXXXXXXXXXXXXXXXXXXX---|----XXXXXXXXXXXXXXXXXXXXXXXX\n",
      "2021-09-29 23:09:50,717 - lwa_f.blocks.block:snap01 - INFO - adc - Chip 7, Lane 3:    XXXXXXXXXXXXXXXXXXXXXXXXXXXXXX----|-----XXXXXXXXXXXXXXXXXXXXXXXX\n",
      "2021-09-29 23:09:50,718 - lwa_f.blocks.block:snap01 - INFO - adc - Chip 7, Lane 4:    XXXXXXXXXXXXXXXXXXXXXXXXXXXXXXX----|----XXXXXXXXXXXXXXXXXXXXXXXX\n",
      "2021-09-29 23:09:50,718 - lwa_f.blocks.block:snap01 - INFO - adc - Chip 7, Lane 5:    XXXXXXXXXXXXXXXXXXXXXXXXXXXXXXX----|----XXXXXXXXXXXXXXXXXXXXXXXX\n",
      "2021-09-29 23:09:50,719 - lwa_f.blocks.block:snap01 - INFO - adc - Chip 7, Lane 6:    XXXXXXXXXXXXXXXXXXXXXXXXXXXXXXX----|----XXXXXXXXXXXXXXXXXXXXXXXX\n",
      "2021-09-29 23:09:50,719 - lwa_f.blocks.block:snap01 - INFO - adc - Chip 7, Lane 7:    XXXXXXXXXXXXXXXXXXXXXXXXXXXXXXX----|----XXXXXXXXXXXXXXXXXXXXXXXX\n",
      "2021-09-29 23:09:57,237 - lwa_f.snap2_fengine:snap01 - WARNING - Updating telescope time\n",
      "2021-09-29 23:09:58,073 - lwa_f.blocks.block:snap01 - INFO - sync - Loading new telescope time at Wed Sep 29 23:09:59 2021\n",
      "2021-09-29 23:10:02,061 - lwa_f.blocks.block:snap01 - INFO - sync - Detected sync period 536870912.0 (2^29.0) clocks\n",
      "2021-09-29 23:10:04,819 - lwa_f.blocks.block:snap01 - INFO - sync - Loading new telescope time at Wed Sep 29 23:10:07 2021\n",
      "2021-09-29 23:10:07,540 - lwa_f.snap2_fengine:snap01 - INFO - Disabling EQ TVGs...\n",
      "2021-09-29 23:10:07,544 - lwa_f.snap2_fengine:snap01 - INFO - Arming sync generators\n",
      "2021-09-29 23:10:07,616 - lwa_f.blocks.block:snap01 - INFO - packetizer - Full data rate is 50.33 Gbps\n",
      "2021-09-29 23:10:07,616 - lwa_f.blocks.block:snap01 - INFO - packetizer - 0.95 link occupation => Max 0.75 bandwidth sent\n",
      "2021-09-29 23:10:07,617 - lwa_f.blocks.block:snap01 - INFO - packetizer - 0.95 link occupation => Max 3092 channels sent\n",
      "2021-09-29 23:10:07,617 - lwa_f.blocks.block:snap01 - INFO - packetizer - Will allocate 3072 channels in 32 packets\n",
      "2021-09-29 23:10:07,618 - lwa_f.blocks.block:snap01 - INFO - packetizer - Number of words used: 6208\n",
      "2021-09-29 23:10:07,619 - lwa_f.blocks.block:snap01 - INFO - packetizer - Number of words spare: 1984\n",
      "2021-09-29 23:10:07,619 - lwa_f.blocks.block:snap01 - INFO - packetizer - Number of spare chans per packet: 32\n",
      "2021-09-29 23:10:07,620 - lwa_f.blocks.block:snap01 - INFO - packetizer - Using 24 spare chans per packet\n",
      "2021-09-29 23:10:08,768 - lwa_f.snap2_fengine:snap01 - INFO - Enabling Ethernet output\n",
      "2021-09-29 23:10:08,772 - lwa_f.snap2_fengine:snap01 - INFO - Startup of snap01 complete\n"
     ]
    }
   ],
   "source": [
    "for snap2name in snap2names:\n",
    "    lwa_f = snap2_fengine.Snap2Fengine(snap2name)\n",
    "#    lwa_f.program()\n",
    "    lwa_f.cold_start_from_config(feng_config)"
   ]
  },
  {
   "cell_type": "code",
   "execution_count": 5,
   "metadata": {},
   "outputs": [
    {
     "name": "stdout",
     "output_type": "stream",
     "text": [
      "2021-09-29 23:11:26 [WARNING ] Timeout waiting for pipelines to come up after 60.0 seconds\n",
      "2021-09-29 23:11:26 [INFO    ] Setting max data output rate per pipeline to 5000.0 Mbit/s\n",
      "2021-09-29 23:11:26 [INFO    ] Setting pipeline lxdlwagpu02:0 data destination to 10.41.0.25:10001\n",
      "2021-09-29 23:11:46 [INFO    ] Setting pipeline lxdlwagpu02:1 data destination to 10.41.0.25:10001\n",
      "2021-09-29 23:11:56 [INFO    ] Setting pipeline lxdlwagpu02:2 data destination to 10.41.0.41:10001\n",
      "2021-09-29 23:11:56 [INFO    ] Setting pipeline lxdlwagpu02:3 data destination to 10.41.0.41:10001\n",
      "2021-09-29 23:11:56 [INFO    ] Arming correlator core\n",
      "2021-09-29 23:11:57 [INFO    ] All pipelines in 'waiting' state as expected\n",
      "2021-09-29 23:11:57 [INFO    ] Waiting 10 seconds for trigger\n",
      "2021-09-29 23:12:07 [INFO    ] All pipelines in 'running' state as expected\n",
      "2021-09-29 23:12:07 [INFO    ] Arming correlator accumulator core\n",
      "2021-09-29 23:12:08 [INFO    ] All pipelines in 'waiting' state as expected\n",
      "2021-09-29 23:12:08 [INFO    ] Waiting 10 seconds for trigger\n",
      "2021-09-29 23:12:19 [INFO    ] All pipelines in 'running' state as expected\n"
     ]
    }
   ],
   "source": [
    "lwa_corr = Lwa352CorrelatorControl(xhosts, npipeline_per_host=npipeline)\n",
    "lwa_corr.stop_pipelines()   # maybe not needed?\n",
    "lwa_corr.start_pipelines() \n",
    "lwa_corr.configure_corr(dest_ip=dest_ip, dest_port=dest_port)"
   ]
  },
  {
   "cell_type": "code",
   "execution_count": 6,
   "metadata": {},
   "outputs": [
    {
     "name": "stdout",
     "output_type": "stream",
     "text": [
      "Found 0 slow recorders: \n"
     ]
    },
    {
     "data": {
      "text/plain": [
       "[]"
      ]
     },
     "execution_count": 6,
     "metadata": {},
     "output_type": "execute_result"
    }
   ],
   "source": [
    "rs = ezdr.Lwa352RecorderControl('slow')\n",
    "rs.start()"
   ]
  },
  {
   "cell_type": "markdown",
   "metadata": {},
   "source": [
    "### Read data and visualize/test"
   ]
  },
  {
   "cell_type": "code",
   "execution_count": null,
   "metadata": {},
   "outputs": [],
   "source": []
  },
  {
   "cell_type": "markdown",
   "metadata": {},
   "source": [
    "## Stop"
   ]
  },
  {
   "cell_type": "code",
   "execution_count": 9,
   "metadata": {},
   "outputs": [],
   "source": [
    "rs.stop()\n",
    "lwa_corr.stop_pipelines()"
   ]
  },
  {
   "cell_type": "code",
   "execution_count": null,
   "metadata": {},
   "outputs": [],
   "source": []
  }
 ],
 "metadata": {
  "kernelspec": {
   "display_name": "casa",
   "language": "python",
   "name": "myenv"
  },
  "language_info": {
   "codemirror_mode": {
    "name": "ipython",
    "version": 3
   },
   "file_extension": ".py",
   "mimetype": "text/x-python",
   "name": "python",
   "nbconvert_exporter": "python",
   "pygments_lexer": "ipython3",
   "version": "3.6.10"
  }
 },
 "nbformat": 4,
 "nbformat_minor": 4
}
