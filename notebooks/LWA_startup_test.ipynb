{
 "cells": [
  {
   "cell_type": "markdown",
   "metadata": {},
   "source": [
    "# Starting and testing OVRO-LWA"
   ]
  },
  {
   "cell_type": "markdown",
   "metadata": {},
   "source": [
    "### Setup\n",
    "\n",
    "1. Use dashboard to confirm that services are up for etcd, bifrost pipelines, and data capture.\n",
    "2. Identify server names for snap2, gpu, and data capture.\n",
    "3. Set list of server names in notebook.\n",
    "4. Execute cells\n",
    "\n",
    "\n",
    "### F-eng\n",
    "* Repo https://github.com/realtimeradio/caltech-lwa\n",
    "* python install \"control_sw\"\n",
    "\n",
    "### X-eng\n",
    "* Repo https://github.com/realtimeradio/caltech-bifrost-dsp\n",
    "* python install \"pipeline-control\"\n",
    "\n",
    "### mnc\n",
    "* Repo https://github.com/ovro-lwa/mnc_python\n",
    "* python install \"mnc_python\""
   ]
  },
  {
   "cell_type": "code",
   "execution_count": 4,
   "metadata": {},
   "outputs": [],
   "source": [
    "snap2names = ['snap01']  # f-eng\n",
    "feng_config = '/home/ubuntu/proj/lwa-shell/caltech-lwa/control_sw/config/lwa_corr_config.yaml'  # f-eng and x-eng\n",
    "xhosts = ['lxdlwagpu02']  # x-eng\n",
    "npipeline = 4  # x-eng\n",
    "drips = ['10.41.0.25', '10.41.0.41']  # data recorder (two ips for lxdlwagpu09)\n",
    "dest_ip = list(sorted(drips*2))  # correlator -> data recorder (destination IPs)\n",
    "dest_port = [10001+i//npipeline for i in range(npipeline*len(xhosts))]  # correlator -> data recorder (destination ports)\n",
    "drroot = [f'drvs{ip.split(\".\")[-1]}' for ip in drips]  # data recorder root names\n",
    "drids = [f'{drr}{dp-10000:02}' for dp in set(dest_port) for drr in drroot]  # data recorder ids"
   ]
  },
  {
   "cell_type": "code",
   "execution_count": 5,
   "metadata": {},
   "outputs": [
    {
     "name": "stdout",
     "output_type": "stream",
     "text": [
      "['snap01'] ['lxdlwagpu02'] ['10.41.0.25', '10.41.0.41'] ['10.41.0.25', '10.41.0.25', '10.41.0.41', '10.41.0.41'] [10001, 10001, 10001, 10001] ['drvs2501', 'drvs4101']\n"
     ]
    }
   ],
   "source": [
    "print(snap2names, xhosts, drips, dest_ip, dest_port, drids)"
   ]
  },
  {
   "cell_type": "code",
   "execution_count": 6,
   "metadata": {},
   "outputs": [],
   "source": [
    "from lwa_f import snap2_fengine\n",
    "from lwa352_pipeline_control import Lwa352CorrelatorControl\n",
    "from mnc import mcs, common, ezdr"
   ]
  },
  {
   "cell_type": "code",
   "execution_count": 14,
   "metadata": {
    "scrolled": false
   },
   "outputs": [
    {
     "name": "stdout",
     "output_type": "stream",
     "text": [
      "2022-03-30 11:57:56,651 - lwa_f.blocks.block:snap01 - WARNING -  - hostname (10.40.0.157) couldn't be turned into integer serial\n",
      "2022-03-30 11:57:56,929 - lwa_f.blocks.block:snap01 - INFO - adc - Detected FMC ADC board on port 0\n",
      "2022-03-30 11:57:57,206 - lwa_f.blocks.block:snap01 - INFO - adc - Detected FMC ADC board on port 1\n",
      "2022-03-30 11:57:57,220 - lwa_f.snap2_fengine:snap01 - INFO - Trying to configure output with config file /home/ubuntu/proj/lwa-shell/caltech-lwa/control_sw/config/lwa_corr_config.yaml\n",
      "2022-03-30 11:57:57,223 - lwa_f.snap2_fengine:snap01 - INFO - Loading existing firmware to snap01\n",
      "File in flash is:  snap2_f_200msps_64i_4096c_2022-01-10_2153.fpg\n",
      "2022-03-30 11:58:17,380 - lwa_f.snap2_fengine:snap01 - INFO - Loaded snap2_f_200msps_64i_4096c_2022-01-10_2153.fpg\n",
      "2022-03-30 11:58:17,697 - lwa_f.blocks.block:snap01 - WARNING -  - hostname (10.40.0.157) couldn't be turned into integer serial\n",
      "2022-03-30 11:58:17,913 - lwa_f.blocks.block:snap01 - INFO - adc - Detected FMC ADC board on port 0\n",
      "2022-03-30 11:58:18,126 - lwa_f.blocks.block:snap01 - INFO - adc - Detected FMC ADC board on port 1\n",
      "2022-03-30 11:58:18,138 - lwa_f.blocks.block:snap01 - INFO - adc - FMC 0 board 0: Setting clock source to 1\n",
      "2022-03-30 11:58:18,143 - lwa_f.blocks.block:snap01 - INFO - adc - FMC 0 board 1: Setting clock source to 1\n",
      "2022-03-30 11:58:18,148 - lwa_f.blocks.block:snap01 - INFO - adc - FMC 1 board 0: Setting clock source to 1\n",
      "2022-03-30 11:58:18,154 - lwa_f.blocks.block:snap01 - INFO - adc - FMC 1 board 1: Setting clock source to 1\n"
     ]
    },
    {
     "name": "stderr",
     "output_type": "stream",
     "text": [
      "WARNING >>>> SPI readback error (FMC 1, chip 0, addr 0xf)\n",
      "WARNING >>>> SPI readback error (FMC 1, chip 0, addr 0x7)\n",
      "WARNING >>>> SPI readback error (FMC 1, chip 0, addr 0x24)\n",
      "WARNING >>>> SPI readback error (FMC 1, chip 0, addr 0x46)\n",
      "WARNING >>>> SPI readback error (FMC 1, chip 0, addr 0x40)\n",
      "WARNING >>>> SPI readback error (FMC 1, chip 0, addr 0x25)\n",
      "WARNING >>>> SPI readback error (FMC 1, chip 1, addr 0xf)\n",
      "WARNING >>>> SPI readback error (FMC 1, chip 1, addr 0x7)\n",
      "WARNING >>>> SPI readback error (FMC 1, chip 1, addr 0x24)\n",
      "WARNING >>>> SPI readback error (FMC 1, chip 1, addr 0x46)\n",
      "WARNING >>>> SPI readback error (FMC 1, chip 1, addr 0x40)\n",
      "WARNING >>>> SPI readback error (FMC 1, chip 1, addr 0x25)\n",
      "WARNING >>>> SPI readback error (FMC 1, chip 2, addr 0xf)\n",
      "WARNING >>>> SPI readback error (FMC 1, chip 2, addr 0x7)\n",
      "WARNING >>>> SPI readback error (FMC 1, chip 2, addr 0x24)\n",
      "WARNING >>>> SPI readback error (FMC 1, chip 2, addr 0x46)\n",
      "WARNING >>>> SPI readback error (FMC 1, chip 2, addr 0x40)\n",
      "WARNING >>>> SPI readback error (FMC 1, chip 2, addr 0x25)\n",
      "WARNING >>>> SPI readback error (FMC 1, chip 3, addr 0xf)\n",
      "WARNING >>>> SPI readback error (FMC 1, chip 3, addr 0x7)\n",
      "WARNING >>>> SPI readback error (FMC 1, chip 3, addr 0x24)\n",
      "WARNING >>>> SPI readback error (FMC 1, chip 3, addr 0x46)\n",
      "WARNING >>>> SPI readback error (FMC 1, chip 3, addr 0x40)\n",
      "WARNING >>>> SPI readback error (FMC 1, chip 3, addr 0x25)\n",
      "WARNING >>>> SPI readback error (FMC 1, chip 4, addr 0xf)\n",
      "WARNING >>>> SPI readback error (FMC 1, chip 4, addr 0x7)\n",
      "WARNING >>>> SPI readback error (FMC 1, chip 4, addr 0x24)\n",
      "WARNING >>>> SPI readback error (FMC 1, chip 4, addr 0x46)\n",
      "WARNING >>>> SPI readback error (FMC 1, chip 4, addr 0x40)\n",
      "WARNING >>>> SPI readback error (FMC 1, chip 4, addr 0x25)\n"
     ]
    },
    {
     "name": "stdout",
     "output_type": "stream",
     "text": [
      "2022-03-30 11:58:26,252 - lwa_f.blocks.block:snap01 - INFO - adc - FMC 0 board 0 clock rates: [490705694, 98121320, 98122738, 0, 0]\n",
      "2022-03-30 11:58:26,253 - lwa_f.blocks.block:snap01 - INFO - adc - FMC 0 board 0: MMCM locked\n",
      "2022-03-30 11:58:27,261 - lwa_f.blocks.block:snap01 - INFO - adc - FMC 0 board 1 clock rates: [491076821, 98214891, 98213947, 98240897, 0]\n",
      "2022-03-30 11:58:28,267 - lwa_f.blocks.block:snap01 - INFO - adc - FMC 1 board 0 clock rates: [7446, 745, 695, 0, 0]\n",
      "2022-03-30 11:58:28,268 - lwa_f.blocks.block:snap01 - INFO - adc - FMC 1 board 0: MMCM locked\n",
      "2022-03-30 11:58:29,274 - lwa_f.blocks.block:snap01 - INFO - adc - FMC 1 board 1 clock rates: [490636569, 98157513, 98155153, 98157040, 0]\n",
      "2022-03-30 11:58:30,242 - lwa_f.blocks.block:snap01 - INFO - adc - FMC 0 Scanning data delays\n"
     ]
    },
    {
     "name": "stderr",
     "output_type": "stream",
     "text": [
      "100% (64 of 64) |########################| Elapsed Time: 0:00:06 Time:  0:00:06\n"
     ]
    },
    {
     "name": "stdout",
     "output_type": "stream",
     "text": [
      "2022-03-30 11:58:37,184 - lwa_f.blocks.block:snap01 - INFO - adc - FMC 0 data lane delays:\n",
      "[[312, 304, 312, 296, 304, 296, 296, 296], [272, 264, 256, 256, 256, 264, 248, 256], [248, 248, 248, 248, 248, 248, 248, 256], [280, 288, 272, 280, 280, 280, 280, 272], [256, 256, 256, 264, 264, 256, 256, 256], [232, 240, 240, 240, 232, 232, 232, 232], [248, 232, 232, 240, 232, 248, 232, 232], [272, 272, 272, 272, 272, 288, 288, 264]]\n",
      "2022-03-30 11:58:37,184 - lwa_f.blocks.block:snap01 - INFO - adc - FMC 0 data lane slacks:\n",
      "[[40, 40, 40, 40, 40, 32, 40, 40], [40, 40, 40, 40, 40, 40, 40, 40], [40, 40, 40, 40, 40, 40, 40, 32], [40, 40, 40, 40, 40, 40, 40, 40], [40, 40, 40, 40, 40, 40, 40, 32], [40, 40, 32, 40, 40, 40, 40, 40], [40, 40, 40, 32, 40, 32, 40, 40], [32, 40, 32, 32, 40, 40, 40, 32]]\n",
      "2022-03-30 11:58:37,185 - lwa_f.blocks.block:snap01 - INFO - adc - Chip 0, Lane 0:    XXXXXXXXXXXXXXXXXXXXXXXXXXXXXXXXXXX----|----XXXXXXXXXXXXXXXXXXXX\n",
      "2022-03-30 11:58:37,185 - lwa_f.blocks.block:snap01 - INFO - adc - Chip 0, Lane 1:    XXXXXXXXXXXXXXXXXXXXXXXXXXXXXXXXXX----|----XXXXXXXXXXXXXXXXXXXXX\n",
      "2022-03-30 11:58:37,186 - lwa_f.blocks.block:snap01 - INFO - adc - Chip 0, Lane 2:    XXXXXXXXXXXXXXXXXXXXXXXXXXXXXXXXXXX----|----XXXXXXXXXXXXXXXXXXXX\n",
      "2022-03-30 11:58:37,186 - lwa_f.blocks.block:snap01 - INFO - adc - Chip 0, Lane 3:    XXXXXXXXXXXXXXXXXXXXXXXXXXXXXXXXX----|----XXXXXXXXXXXXXXXXXXXXXX\n",
      "2022-03-30 11:58:37,186 - lwa_f.blocks.block:snap01 - INFO - adc - Chip 0, Lane 4:    XXXXXXXXXXXXXXXXXXXXXXXXXXXXXXXXXX----|----XXXXXXXXXXXXXXXXXXXXX\n",
      "2022-03-30 11:58:37,187 - lwa_f.blocks.block:snap01 - INFO - adc - Chip 0, Lane 5:    XXXXXXXXXXXXXXXXXXXXXXXXXXXXXXXXXX---|----XXXXXXXXXXXXXXXXXXXXXX\n",
      "2022-03-30 11:58:37,187 - lwa_f.blocks.block:snap01 - INFO - adc - Chip 0, Lane 6:    XXXXXXXXXXXXXXXXXXXXXXXXXXXXXXXXX----|----XXXXXXXXXXXXXXXXXXXXXX\n",
      "2022-03-30 11:58:37,188 - lwa_f.blocks.block:snap01 - INFO - adc - Chip 0, Lane 7:    XXXXXXXXXXXXXXXXXXXXXXXXXXXXXXXXX----|----XXXXXXXXXXXXXXXXXXXXXX\n",
      "2022-03-30 11:58:37,188 - lwa_f.blocks.block:snap01 - INFO - adc - Chip 1, Lane 0:    XXXXXXXXXXXXXXXXXXXXXXXXXXXXXX----|-----XXXXXXXXXXXXXXXXXXXXXXXX\n",
      "2022-03-30 11:58:37,189 - lwa_f.blocks.block:snap01 - INFO - adc - Chip 1, Lane 1:    XXXXXXXXXXXXXXXXXXXXXXXXXXXXX----|----XXXXXXXXXXXXXXXXXXXXXXXXXX\n",
      "2022-03-30 11:58:37,189 - lwa_f.blocks.block:snap01 - INFO - adc - Chip 1, Lane 2:    XXXXXXXXXXXXXXXXXXXXXXXXXXXX----|-----XXXXXXXXXXXXXXXXXXXXXXXXXX\n",
      "2022-03-30 11:58:37,189 - lwa_f.blocks.block:snap01 - INFO - adc - Chip 1, Lane 3:    XXXXXXXXXXXXXXXXXXXXXXXXXXXX----|----XXXXXXXXXXXXXXXXXXXXXXXXXXX\n",
      "2022-03-30 11:58:37,190 - lwa_f.blocks.block:snap01 - INFO - adc - Chip 1, Lane 4:    XXXXXXXXXXXXXXXXXXXXXXXXXXXX----|-----XXXXXXXXXXXXXXXXXXXXXXXXXX\n",
      "2022-03-30 11:58:37,190 - lwa_f.blocks.block:snap01 - INFO - adc - Chip 1, Lane 5:    XXXXXXXXXXXXXXXXXXXXXXXXXXXXX----|----XXXXXXXXXXXXXXXXXXXXXXXXXX\n",
      "2022-03-30 11:58:37,191 - lwa_f.blocks.block:snap01 - INFO - adc - Chip 1, Lane 6:    XXXXXXXXXXXXXXXXXXXXXXXXXXX----|-----XXXXXXXXXXXXXXXXXXXXXXXXXXX\n",
      "2022-03-30 11:58:37,191 - lwa_f.blocks.block:snap01 - INFO - adc - Chip 1, Lane 7:    XXXXXXXXXXXXXXXXXXXXXXXXXXXX----|-----XXXXXXXXXXXXXXXXXXXXXXXXXX\n",
      "2022-03-30 11:58:37,192 - lwa_f.blocks.block:snap01 - INFO - adc - Chip 2, Lane 0:    XXXXXXXXXXXXXXXXXXXXXXXXXXX----|----XXXXXXXXXXXXXXXXXXXXXXXXXXXX\n",
      "2022-03-30 11:58:37,192 - lwa_f.blocks.block:snap01 - INFO - adc - Chip 2, Lane 1:    XXXXXXXXXXXXXXXXXXXXXXXXXXX----|----XXXXXXXXXXXXXXXXXXXXXXXXXXXX\n",
      "2022-03-30 11:58:37,192 - lwa_f.blocks.block:snap01 - INFO - adc - Chip 2, Lane 2:    XXXXXXXXXXXXXXXXXXXXXXXXXXX----|----XXXXXXXXXXXXXXXXXXXXXXXXXXXX\n",
      "2022-03-30 11:58:37,193 - lwa_f.blocks.block:snap01 - INFO - adc - Chip 2, Lane 3:    XXXXXXXXXXXXXXXXXXXXXXXXXXX----|----XXXXXXXXXXXXXXXXXXXXXXXXXXXX\n",
      "2022-03-30 11:58:37,193 - lwa_f.blocks.block:snap01 - INFO - adc - Chip 2, Lane 4:    XXXXXXXXXXXXXXXXXXXXXXXXXXX----|----XXXXXXXXXXXXXXXXXXXXXXXXXXXX\n",
      "2022-03-30 11:58:37,194 - lwa_f.blocks.block:snap01 - INFO - adc - Chip 2, Lane 5:    XXXXXXXXXXXXXXXXXXXXXXXXXXX----|----XXXXXXXXXXXXXXXXXXXXXXXXXXXX\n",
      "2022-03-30 11:58:37,194 - lwa_f.blocks.block:snap01 - INFO - adc - Chip 2, Lane 6:    XXXXXXXXXXXXXXXXXXXXXXXXXXX----|----XXXXXXXXXXXXXXXXXXXXXXXXXXXX\n",
      "2022-03-30 11:58:37,195 - lwa_f.blocks.block:snap01 - INFO - adc - Chip 2, Lane 7:    XXXXXXXXXXXXXXXXXXXXXXXXXXXXX---|----XXXXXXXXXXXXXXXXXXXXXXXXXXX\n",
      "2022-03-30 11:58:37,195 - lwa_f.blocks.block:snap01 - INFO - adc - Chip 3, Lane 0:    XXXXXXXXXXXXXXXXXXXXXXXXXXXXXXX----|----XXXXXXXXXXXXXXXXXXXXXXXX\n",
      "2022-03-30 11:58:37,195 - lwa_f.blocks.block:snap01 - INFO - adc - Chip 3, Lane 1:    XXXXXXXXXXXXXXXXXXXXXXXXXXXXXXXX----|-----XXXXXXXXXXXXXXXXXXXXXX\n",
      "2022-03-30 11:58:37,196 - lwa_f.blocks.block:snap01 - INFO - adc - Chip 3, Lane 2:    XXXXXXXXXXXXXXXXXXXXXXXXXXXXXX----|----XXXXXXXXXXXXXXXXXXXXXXXXX\n",
      "2022-03-30 11:58:37,196 - lwa_f.blocks.block:snap01 - INFO - adc - Chip 3, Lane 3:    XXXXXXXXXXXXXXXXXXXXXXXXXXXXXXX----|----XXXXXXXXXXXXXXXXXXXXXXXX\n",
      "2022-03-30 11:58:37,197 - lwa_f.blocks.block:snap01 - INFO - adc - Chip 3, Lane 4:    XXXXXXXXXXXXXXXXXXXXXXXXXXXXXXX----|----XXXXXXXXXXXXXXXXXXXXXXXX\n",
      "2022-03-30 11:58:37,197 - lwa_f.blocks.block:snap01 - INFO - adc - Chip 3, Lane 5:    XXXXXXXXXXXXXXXXXXXXXXXXXXXXXXX----|----XXXXXXXXXXXXXXXXXXXXXXXX\n",
      "2022-03-30 11:58:37,198 - lwa_f.blocks.block:snap01 - INFO - adc - Chip 3, Lane 6:    XXXXXXXXXXXXXXXXXXXXXXXXXXXXXXX----|-----XXXXXXXXXXXXXXXXXXXXXXX\n",
      "2022-03-30 11:58:37,198 - lwa_f.blocks.block:snap01 - INFO - adc - Chip 3, Lane 7:    XXXXXXXXXXXXXXXXXXXXXXXXXXXXXX----|-----XXXXXXXXXXXXXXXXXXXXXXXX\n",
      "2022-03-30 11:58:37,198 - lwa_f.blocks.block:snap01 - INFO - adc - Chip 4, Lane 0:    XXXXXXXXXXXXXXXXXXXXXXXXXXXX----|-----XXXXXXXXXXXXXXXXXXXXXXXXXX\n",
      "2022-03-30 11:58:37,199 - lwa_f.blocks.block:snap01 - INFO - adc - Chip 4, Lane 1:    XXXXXXXXXXXXXXXXXXXXXXXXXXXX----|----XXXXXXXXXXXXXXXXXXXXXXXXXXX\n",
      "2022-03-30 11:58:37,199 - lwa_f.blocks.block:snap01 - INFO - adc - Chip 4, Lane 2:    XXXXXXXXXXXXXXXXXXXXXXXXXXXX----|-----XXXXXXXXXXXXXXXXXXXXXXXXXX\n",
      "2022-03-30 11:58:37,200 - lwa_f.blocks.block:snap01 - INFO - adc - Chip 4, Lane 3:    XXXXXXXXXXXXXXXXXXXXXXXXXXXXX----|----XXXXXXXXXXXXXXXXXXXXXXXXXX\n",
      "2022-03-30 11:58:37,200 - lwa_f.blocks.block:snap01 - INFO - adc - Chip 4, Lane 4:    XXXXXXXXXXXXXXXXXXXXXXXXXXXXX----|----XXXXXXXXXXXXXXXXXXXXXXXXXX\n",
      "2022-03-30 11:58:37,200 - lwa_f.blocks.block:snap01 - INFO - adc - Chip 4, Lane 5:    XXXXXXXXXXXXXXXXXXXXXXXXXXXX----|----XXXXXXXXXXXXXXXXXXXXXXXXXXX\n",
      "2022-03-30 11:58:37,201 - lwa_f.blocks.block:snap01 - INFO - adc - Chip 4, Lane 6:    XXXXXXXXXXXXXXXXXXXXXXXXXXXX----|-----XXXXXXXXXXXXXXXXXXXXXXXXXX\n",
      "2022-03-30 11:58:37,201 - lwa_f.blocks.block:snap01 - INFO - adc - Chip 4, Lane 7:    XXXXXXXXXXXXXXXXXXXXXXXXXXXXX---|----XXXXXXXXXXXXXXXXXXXXXXXXXXX\n",
      "2022-03-30 11:58:37,202 - lwa_f.blocks.block:snap01 - INFO - adc - Chip 5, Lane 0:    XXXXXXXXXXXXXXXXXXXXXXXXX----|----XXXXXXXXXXXXXXXXXXXXXXXXXXXXXX\n",
      "2022-03-30 11:58:37,202 - lwa_f.blocks.block:snap01 - INFO - adc - Chip 5, Lane 1:    XXXXXXXXXXXXXXXXXXXXXXXXXX----|----XXXXXXXXXXXXXXXXXXXXXXXXXXXXX\n",
      "2022-03-30 11:58:37,203 - lwa_f.blocks.block:snap01 - INFO - adc - Chip 5, Lane 2:    XXXXXXXXXXXXXXXXXXXXXXXXXXX---|----XXXXXXXXXXXXXXXXXXXXXXXXXXXXX\n",
      "2022-03-30 11:58:37,203 - lwa_f.blocks.block:snap01 - INFO - adc - Chip 5, Lane 3:    XXXXXXXXXXXXXXXXXXXXXXXXXX----|----XXXXXXXXXXXXXXXXXXXXXXXXXXXXX\n",
      "2022-03-30 11:58:37,203 - lwa_f.blocks.block:snap01 - INFO - adc - Chip 5, Lane 4:    XXXXXXXXXXXXXXXXXXXXXXXXX----|----XXXXXXXXXXXXXXXXXXXXXXXXXXXXXX\n",
      "2022-03-30 11:58:37,204 - lwa_f.blocks.block:snap01 - INFO - adc - Chip 5, Lane 5:    XXXXXXXXXXXXXXXXXXXXXXXXX----|----XXXXXXXXXXXXXXXXXXXXXXXXXXXXXX\n",
      "2022-03-30 11:58:37,204 - lwa_f.blocks.block:snap01 - INFO - adc - Chip 5, Lane 6:    XXXXXXXXXXXXXXXXXXXXXXXXX----|----XXXXXXXXXXXXXXXXXXXXXXXXXXXXXX\n",
      "2022-03-30 11:58:37,205 - lwa_f.blocks.block:snap01 - INFO - adc - Chip 5, Lane 7:    XXXXXXXXXXXXXXXXXXXXXXXXX----|----XXXXXXXXXXXXXXXXXXXXXXXXXXXXXX\n",
      "2022-03-30 11:58:37,205 - lwa_f.blocks.block:snap01 - INFO - adc - Chip 6, Lane 0:    XXXXXXXXXXXXXXXXXXXXXXXXXXX----|-----XXXXXXXXXXXXXXXXXXXXXXXXXXX\n",
      "2022-03-30 11:58:37,206 - lwa_f.blocks.block:snap01 - INFO - adc - Chip 6, Lane 1:    XXXXXXXXXXXXXXXXXXXXXXXXX----|----XXXXXXXXXXXXXXXXXXXXXXXXXXXXXX\n"
     ]
    },
    {
     "name": "stdout",
     "output_type": "stream",
     "text": [
      "2022-03-30 11:58:37,206 - lwa_f.blocks.block:snap01 - INFO - adc - Chip 6, Lane 2:    XXXXXXXXXXXXXXXXXXXXXXXXX----|----XXXXXXXXXXXXXXXXXXXXXXXXXXXXXX\n",
      "2022-03-30 11:58:37,206 - lwa_f.blocks.block:snap01 - INFO - adc - Chip 6, Lane 3:    XXXXXXXXXXXXXXXXXXXXXXXXXXX---|----XXXXXXXXXXXXXXXXXXXXXXXXXXXXX\n",
      "2022-03-30 11:58:37,207 - lwa_f.blocks.block:snap01 - INFO - adc - Chip 6, Lane 4:    XXXXXXXXXXXXXXXXXXXXXXXXX----|-----XXXXXXXXXXXXXXXXXXXXXXXXXXXXX\n",
      "2022-03-30 11:58:37,207 - lwa_f.blocks.block:snap01 - INFO - adc - Chip 6, Lane 5:    XXXXXXXXXXXXXXXXXXXXXXXXXXXX---|----XXXXXXXXXXXXXXXXXXXXXXXXXXXX\n",
      "2022-03-30 11:58:37,208 - lwa_f.blocks.block:snap01 - INFO - adc - Chip 6, Lane 6:    XXXXXXXXXXXXXXXXXXXXXXXXX----|----XXXXXXXXXXXXXXXXXXXXXXXXXXXXXX\n",
      "2022-03-30 11:58:37,208 - lwa_f.blocks.block:snap01 - INFO - adc - Chip 6, Lane 7:    XXXXXXXXXXXXXXXXXXXXXXXXX----|----XXXXXXXXXXXXXXXXXXXXXXXXXXXXXX\n",
      "2022-03-30 11:58:37,209 - lwa_f.blocks.block:snap01 - INFO - adc - Chip 7, Lane 0:    XXXXXXXXXXXXXXXXXXXXXXXXXXXXXXX---|----XXXXXXXXXXXXXXXXXXXXXXXXX\n",
      "2022-03-30 11:58:37,209 - lwa_f.blocks.block:snap01 - INFO - adc - Chip 7, Lane 1:    XXXXXXXXXXXXXXXXXXXXXXXXXXXXXX----|----XXXXXXXXXXXXXXXXXXXXXXXXX\n",
      "2022-03-30 11:58:37,209 - lwa_f.blocks.block:snap01 - INFO - adc - Chip 7, Lane 2:    XXXXXXXXXXXXXXXXXXXXXXXXXXXXXXX---|----XXXXXXXXXXXXXXXXXXXXXXXXX\n",
      "2022-03-30 11:58:37,210 - lwa_f.blocks.block:snap01 - INFO - adc - Chip 7, Lane 3:    XXXXXXXXXXXXXXXXXXXXXXXXXXXXXXX---|----XXXXXXXXXXXXXXXXXXXXXXXXX\n",
      "2022-03-30 11:58:37,210 - lwa_f.blocks.block:snap01 - INFO - adc - Chip 7, Lane 4:    XXXXXXXXXXXXXXXXXXXXXXXXXXXXXX----|----XXXXXXXXXXXXXXXXXXXXXXXXX\n",
      "2022-03-30 11:58:37,211 - lwa_f.blocks.block:snap01 - INFO - adc - Chip 7, Lane 5:    XXXXXXXXXXXXXXXXXXXXXXXXXXXXXXXX----|----XXXXXXXXXXXXXXXXXXXXXXX\n",
      "2022-03-30 11:58:37,211 - lwa_f.blocks.block:snap01 - INFO - adc - Chip 7, Lane 6:    XXXXXXXXXXXXXXXXXXXXXXXXXXXXXXXX----|----XXXXXXXXXXXXXXXXXXXXXXX\n",
      "2022-03-30 11:58:37,211 - lwa_f.blocks.block:snap01 - INFO - adc - Chip 7, Lane 7:    XXXXXXXXXXXXXXXXXXXXXXXXXXXXXX---|----XXXXXXXXXXXXXXXXXXXXXXXXXX\n",
      "2022-03-30 11:58:39,428 - lwa_f.blocks.block:snap01 - INFO - adc - FMC 1 Scanning data delays\n"
     ]
    },
    {
     "name": "stderr",
     "output_type": "stream",
     "text": [
      "100% (64 of 64) |########################| Elapsed Time: 0:00:07 Time:  0:00:07\n"
     ]
    },
    {
     "name": "stdout",
     "output_type": "stream",
     "text": [
      "2022-03-30 11:58:46,499 - lwa_f.blocks.block:snap01 - INFO - adc - Bitslipping board 0 because everywhere was bad\n",
      "2022-03-30 11:58:47,443 - lwa_f.blocks.block:snap01 - INFO - adc - FMC 1 Scanning data delays\n"
     ]
    },
    {
     "name": "stderr",
     "output_type": "stream",
     "text": [
      "100% (64 of 64) |########################| Elapsed Time: 0:00:06 Time:  0:00:06\n"
     ]
    },
    {
     "name": "stdout",
     "output_type": "stream",
     "text": [
      "2022-03-30 11:58:54,447 - lwa_f.blocks.block:snap01 - INFO - adc - Bitslipping board 0 because everywhere was bad\n",
      "2022-03-30 11:58:55,319 - lwa_f.blocks.block:snap01 - INFO - adc - FMC 1 Scanning data delays\n"
     ]
    },
    {
     "name": "stderr",
     "output_type": "stream",
     "text": [
      "100% (64 of 64) |########################| Elapsed Time: 0:00:07 Time:  0:00:07\n"
     ]
    },
    {
     "name": "stdout",
     "output_type": "stream",
     "text": [
      "2022-03-30 11:59:02,476 - lwa_f.blocks.block:snap01 - INFO - adc - Bitslipping board 0 chip 0 because nowhere was good\n",
      "2022-03-30 11:59:02,488 - lwa_f.blocks.block:snap01 - INFO - adc - Bitslipping board 0 chip 1 because nowhere was good\n",
      "2022-03-30 11:59:02,498 - lwa_f.blocks.block:snap01 - INFO - adc - Bitslipping board 0 chip 2 because nowhere was good\n",
      "2022-03-30 11:59:02,509 - lwa_f.blocks.block:snap01 - INFO - adc - Bitslipping board 0 chip 3 because nowhere was good\n",
      "2022-03-30 11:59:03,471 - lwa_f.blocks.block:snap01 - INFO - adc - FMC 1 Scanning data delays\n"
     ]
    },
    {
     "name": "stderr",
     "output_type": "stream",
     "text": [
      "100% (64 of 64) |########################| Elapsed Time: 0:00:06 Time:  0:00:06\n"
     ]
    },
    {
     "name": "stdout",
     "output_type": "stream",
     "text": [
      "2022-03-30 11:59:10,327 - lwa_f.blocks.block:snap01 - INFO - adc - Bitslipping board 0 chip 0 because nowhere was good\n",
      "2022-03-30 11:59:10,338 - lwa_f.blocks.block:snap01 - INFO - adc - Bitslipping board 0 chip 1 because nowhere was good\n",
      "2022-03-30 11:59:10,348 - lwa_f.blocks.block:snap01 - INFO - adc - Bitslipping board 0 chip 2 because nowhere was good\n",
      "2022-03-30 11:59:10,360 - lwa_f.blocks.block:snap01 - INFO - adc - Bitslipping board 0 chip 3 because nowhere was good\n",
      "2022-03-30 11:59:11,328 - lwa_f.blocks.block:snap01 - INFO - adc - FMC 1 Scanning data delays\n"
     ]
    },
    {
     "name": "stderr",
     "output_type": "stream",
     "text": [
      "100% (64 of 64) |########################| Elapsed Time: 0:00:06 Time:  0:00:06\n"
     ]
    },
    {
     "name": "stdout",
     "output_type": "stream",
     "text": [
      "2022-03-30 11:59:18,233 - lwa_f.blocks.block:snap01 - INFO - adc - Bitslipping board 0 chip 0 because nowhere was good\n",
      "2022-03-30 11:59:18,243 - lwa_f.blocks.block:snap01 - INFO - adc - Bitslipping board 0 chip 1 because nowhere was good\n",
      "2022-03-30 11:59:18,253 - lwa_f.blocks.block:snap01 - INFO - adc - Bitslipping board 0 chip 2 because nowhere was good\n",
      "2022-03-30 11:59:18,263 - lwa_f.blocks.block:snap01 - INFO - adc - Bitslipping board 0 chip 3 because nowhere was good\n",
      "2022-03-30 11:59:19,232 - lwa_f.blocks.block:snap01 - INFO - adc - FMC 1 Scanning data delays\n"
     ]
    },
    {
     "name": "stderr",
     "output_type": "stream",
     "text": [
      "100% (64 of 64) |########################| Elapsed Time: 0:00:07 Time:  0:00:07\n"
     ]
    },
    {
     "name": "stdout",
     "output_type": "stream",
     "text": [
      "2022-03-30 11:59:26,311 - lwa_f.blocks.block:snap01 - INFO - adc - Bitslipping board 0 chip 0 because nowhere was good\n",
      "2022-03-30 11:59:26,322 - lwa_f.blocks.block:snap01 - INFO - adc - Bitslipping board 0 chip 1 because nowhere was good\n",
      "2022-03-30 11:59:26,333 - lwa_f.blocks.block:snap01 - INFO - adc - Bitslipping board 0 chip 2 because nowhere was good\n",
      "2022-03-30 11:59:26,344 - lwa_f.blocks.block:snap01 - INFO - adc - Bitslipping board 0 chip 3 because nowhere was good\n",
      "2022-03-30 11:59:27,306 - lwa_f.blocks.block:snap01 - INFO - adc - FMC 1 Scanning data delays\n"
     ]
    },
    {
     "name": "stderr",
     "output_type": "stream",
     "text": [
      "100% (64 of 64) |########################| Elapsed Time: 0:00:06 Time:  0:00:06\n"
     ]
    },
    {
     "name": "stdout",
     "output_type": "stream",
     "text": [
      "2022-03-30 11:59:34,073 - lwa_f.blocks.block:snap01 - INFO - adc - Bitslipping board 0 chip 0 because nowhere was good\n",
      "2022-03-30 11:59:34,084 - lwa_f.blocks.block:snap01 - INFO - adc - Bitslipping board 0 chip 1 because nowhere was good\n",
      "2022-03-30 11:59:34,093 - lwa_f.blocks.block:snap01 - INFO - adc - Bitslipping board 0 chip 2 because nowhere was good\n",
      "2022-03-30 11:59:34,103 - lwa_f.blocks.block:snap01 - INFO - adc - Bitslipping board 0 chip 3 because nowhere was good\n",
      "2022-03-30 11:59:35,031 - lwa_f.blocks.block:snap01 - INFO - adc - FMC 1 Scanning data delays\n"
     ]
    },
    {
     "name": "stderr",
     "output_type": "stream",
     "text": [
      "100% (64 of 64) |########################| Elapsed Time: 0:00:06 Time:  0:00:06\n"
     ]
    },
    {
     "name": "stdout",
     "output_type": "stream",
     "text": [
      "2022-03-30 11:59:41,899 - lwa_f.blocks.block:snap01 - INFO - adc - FMC 1 data lane delays:\n",
      "[[0, 0, 0, 0, 0, 0, 0, 0], [0, 0, 0, 0, 0, 0, 0, 0], [0, 0, 0, 0, 0, 0, 0, 0], [0, 0, 0, 0, 0, 0, 0, 0], [280, 288, 280, 296, 288, 288, 280, 288], [224, 224, 216, 216, 224, 216, 232, 216], [272, 264, 264, 280, 264, 264, 264, 264], [304, 304, 304, 296, 296, 296, 304, 296]]\n",
      "2022-03-30 11:59:41,899 - lwa_f.blocks.block:snap01 - INFO - adc - FMC 1 data lane slacks:\n",
      "[[0, 0, 0, 0, 0, 0, 0, 0], [0, 0, 0, 0, 0, 0, 0, 0], [0, 0, 0, 0, 0, 0, 0, 0], [0, 0, 0, 0, 0, 0, 0, 0], [40, 40, 40, 40, 40, 40, 32, 40], [40, 40, 32, 32, 40, 32, 40, 32], [40, 32, 32, 40, 32, 32, 32, 32], [40, 40, 40, 32, 32, 32, 40, 32]]\n",
      "2022-03-30 11:59:41,900 - lwa_f.blocks.block:snap01 - WARNING - adc - Delay solutions have small slack\n",
      "2022-03-30 11:59:41,901 - lwa_f.blocks.block:snap01 - INFO - adc - Chip 0, Lane 0:    |XXXXXXXXXXXXXXXXXXXXXXXXXXXXXXXXXXXXXXXXXXXXXXXXXXXXXXXXXXXXXXX\n",
      "2022-03-30 11:59:41,901 - lwa_f.blocks.block:snap01 - INFO - adc - Chip 0, Lane 1:    |XXXXXXXXXXXXXXXXXXXXXXXXXXXXXXXXXXXXXXXXXXXXXXXXXXXXXXXXXXXXXXX\n",
      "2022-03-30 11:59:41,901 - lwa_f.blocks.block:snap01 - INFO - adc - Chip 0, Lane 2:    |XXXXXXXXXXXXXXXXXXXXXXXXXXXXXXXXXXXXXXXXXXXXXXXXXXXXXXXXXXXXXXX\n",
      "2022-03-30 11:59:41,902 - lwa_f.blocks.block:snap01 - INFO - adc - Chip 0, Lane 3:    |XXXXXXXXXXXXXXXXXXXXXXXXXXXXXXXXXXXXXXXXXXXXXXXXXXXXXXXXXXXXXXX\n",
      "2022-03-30 11:59:41,902 - lwa_f.blocks.block:snap01 - INFO - adc - Chip 0, Lane 4:    |XXXXXXXXXXXXXXXXXXXXXXXXXXXXXXXXXXXXXXXXXXXXXXXXXXXXXXXXXXXXXXX\n",
      "2022-03-30 11:59:41,903 - lwa_f.blocks.block:snap01 - INFO - adc - Chip 0, Lane 5:    |XXXXXXXXXXXXXXXXXXXXXXXXXXXXXXXXXXXXXXXXXXXXXXXXXXXXXXXXXXXXXXX\n",
      "2022-03-30 11:59:41,903 - lwa_f.blocks.block:snap01 - INFO - adc - Chip 0, Lane 6:    |XXXXXXXXXXXXXXXXXXXXXXXXXXXXXXXXXXXXXXXXXXXXXXXXXXXXXXXXXXXXXXX\n",
      "2022-03-30 11:59:41,904 - lwa_f.blocks.block:snap01 - INFO - adc - Chip 0, Lane 7:    |XXXXXXXXXXXXXXXXXXXXXXXXXXXXXXXXXXXXXXXXXXXXXXXXXXXXXXXXXXXXXXX\n",
      "2022-03-30 11:59:41,904 - lwa_f.blocks.block:snap01 - INFO - adc - Chip 1, Lane 0:    |XXXXXXXXXXXXXXXXXXXXXXXXXXXXXXXXXXXXXXXXXXXXXXXXXXXXXXXXXXXXXXX\n",
      "2022-03-30 11:59:41,904 - lwa_f.blocks.block:snap01 - INFO - adc - Chip 1, Lane 1:    |XXXXXXXXXXXXXXXXXXXXXXXXXXXXXXXXXXXXXXXXXXXXXXXXXXXXXXXXXXXXXXX\n",
      "2022-03-30 11:59:41,905 - lwa_f.blocks.block:snap01 - INFO - adc - Chip 1, Lane 2:    |XXXXXXXXXXXXXXXXXXXXXXXXXXXXXXXXXXXXXXXXXXXXXXXXXXXXXXXXXXXXXXX\n",
      "2022-03-30 11:59:41,905 - lwa_f.blocks.block:snap01 - INFO - adc - Chip 1, Lane 3:    |XXXXXXXXXXXXXXXXXXXXXXXXXXXXXXXXXXXXXXXXXXXXXXXXXXXXXXXXXXXXXXX\n",
      "2022-03-30 11:59:41,906 - lwa_f.blocks.block:snap01 - INFO - adc - Chip 1, Lane 4:    |XXXXXXXXXXXXXXXXXXXXXXXXXXXXXXXXXXXXXXXXXXXXXXXXXXXXXXXXXXXXXXX\n",
      "2022-03-30 11:59:41,906 - lwa_f.blocks.block:snap01 - INFO - adc - Chip 1, Lane 5:    |XXXXXXXXXXXXXXXXXXXXXXXXXXXXXXXXXXXXXXXXXXXXXXXXXXXXXXXXXXXXXXX\n",
      "2022-03-30 11:59:41,907 - lwa_f.blocks.block:snap01 - INFO - adc - Chip 1, Lane 6:    |XXXXXXXXXXXXXXXXXXXXXXXXXXXXXXXXXXXXXXXXXXXXXXXXXXXXXXXXXXXXXXX\n",
      "2022-03-30 11:59:41,907 - lwa_f.blocks.block:snap01 - INFO - adc - Chip 1, Lane 7:    |XXXXXXXXXXXXXXXXXXXXXXXXXXXXXXXXXXXXXXXXXXXXXXXXXXXXXXXXXXXXXXX\n",
      "2022-03-30 11:59:41,907 - lwa_f.blocks.block:snap01 - INFO - adc - Chip 2, Lane 0:    |XXXXXXXXXXXXXXXXXXXXXXXXXXXXXXXXXXXXXXXXXXXXXXXXXXXXXXXXXXXXXXX\n",
      "2022-03-30 11:59:41,908 - lwa_f.blocks.block:snap01 - INFO - adc - Chip 2, Lane 1:    |XXXXXXXXXXXXXXXXXXXXXXXXXXXXXXXXXXXXXXXXXXXXXXXXXXXXXXXXXXXXXXX\n",
      "2022-03-30 11:59:41,908 - lwa_f.blocks.block:snap01 - INFO - adc - Chip 2, Lane 2:    |XXXXXXXXXXXXXXXXXXXXXXXXXXXXXXXXXXXXXXXXXXXXXXXXXXXXXXXXXXXXXXX\n",
      "2022-03-30 11:59:41,909 - lwa_f.blocks.block:snap01 - INFO - adc - Chip 2, Lane 3:    |XXXXXXXXXXXXXXXXXXXXXXXXXXXXXXXXXXXXXXXXXXXXXXXXXXXXXXXXXXXXXXX\n",
      "2022-03-30 11:59:41,909 - lwa_f.blocks.block:snap01 - INFO - adc - Chip 2, Lane 4:    |XXXXXXXXXXXXXXXXXXXXXXXXXXXXXXXXXXXXXXXXXXXXXXXXXXXXXXXXXXXXXXX\n",
      "2022-03-30 11:59:41,910 - lwa_f.blocks.block:snap01 - INFO - adc - Chip 2, Lane 5:    |XXXXXXXXXXXXXXXXXXXXXXXXXXXXXXXXXXXXXXXXXXXXXXXXXXXXXXXXXXXXXXX\n",
      "2022-03-30 11:59:41,910 - lwa_f.blocks.block:snap01 - INFO - adc - Chip 2, Lane 6:    |XXXXXXXXXXXXXXXXXXXXXXXXXXXXXXXXXXXXXXXXXXXXXXXXXXXXXXXXXXXXXXX\n",
      "2022-03-30 11:59:41,910 - lwa_f.blocks.block:snap01 - INFO - adc - Chip 2, Lane 7:    |XXXXXXXXXXXXXXXXXXXXXXXXXXXXXXXXXXXXXXXXXXXXXXXXXXXXXXXXXXXXXXX\n",
      "2022-03-30 11:59:41,911 - lwa_f.blocks.block:snap01 - INFO - adc - Chip 3, Lane 0:    |XXXXXXXXXXXXXXXXXXXXXXXXXXXXXXXXXXXXXXXXXXXXXXXXXXXXXXXXXXXXXXX\n",
      "2022-03-30 11:59:41,911 - lwa_f.blocks.block:snap01 - INFO - adc - Chip 3, Lane 1:    |XXXXXXXXXXXXXXXXXXXXXXXXXXXXXXXXXXXXXXXXXXXXXXXXXXXXXXXXXXXXXXX\n",
      "2022-03-30 11:59:41,912 - lwa_f.blocks.block:snap01 - INFO - adc - Chip 3, Lane 2:    |XXXXXXXXXXXXXXXXXXXXXXXXXXXXXXXXXXXXXXXXXXXXXXXXXXXXXXXXXXXXXXX\n",
      "2022-03-30 11:59:41,912 - lwa_f.blocks.block:snap01 - INFO - adc - Chip 3, Lane 3:    |XXXXXXXXXXXXXXXXXXXXXXXXXXXXXXXXXXXXXXXXXXXXXXXXXXXXXXXXXXXXXXX\n",
      "2022-03-30 11:59:41,913 - lwa_f.blocks.block:snap01 - INFO - adc - Chip 3, Lane 4:    |XXXXXXXXXXXXXXXXXXXXXXXXXXXXXXXXXXXXXXXXXXXXXXXXXXXXXXXXXXXXXXX\n",
      "2022-03-30 11:59:41,913 - lwa_f.blocks.block:snap01 - INFO - adc - Chip 3, Lane 5:    |XXXXXXXXXXXXXXXXXXXXXXXXXXXXXXXXXXXXXXXXXXXXXXXXXXXXXXXXXXXXXXX\n",
      "2022-03-30 11:59:41,913 - lwa_f.blocks.block:snap01 - INFO - adc - Chip 3, Lane 6:    |XXXXXXXXXXXXXXXXXXXXXXXXXXXXXXXXXXXXXXXXXXXXXXXXXXXXXXXXXXXXXXX\n",
      "2022-03-30 11:59:41,914 - lwa_f.blocks.block:snap01 - INFO - adc - Chip 3, Lane 7:    |XXXXXXXXXXXXXXXXXXXXXXXXXXXXXXXXXXXXXXXXXXXXXXXXXXXXXXXXXXXXXXX\n",
      "2022-03-30 11:59:41,914 - lwa_f.blocks.block:snap01 - INFO - adc - Chip 4, Lane 0:    XXXXXXXXXXXXXXXXXXXXXXXXXXXXXXX----|-----XXXXXXXXXXXXXXXXXXXXXXX\n",
      "2022-03-30 11:59:41,915 - lwa_f.blocks.block:snap01 - INFO - adc - Chip 4, Lane 1:    XXXXXXXXXXXXXXXXXXXXXXXXXXXXXXXX----|----XXXXXXXXXXXXXXXXXXXXXXX\n",
      "2022-03-30 11:59:41,915 - lwa_f.blocks.block:snap01 - INFO - adc - Chip 4, Lane 2:    XXXXXXXXXXXXXXXXXXXXXXXXXXXXXXX----|-----XXXXXXXXXXXXXXXXXXXXXXX\n",
      "2022-03-30 11:59:41,916 - lwa_f.blocks.block:snap01 - INFO - adc - Chip 4, Lane 3:    XXXXXXXXXXXXXXXXXXXXXXXXXXXXXXXXX----|----XXXXXXXXXXXXXXXXXXXXXX\n",
      "2022-03-30 11:59:41,916 - lwa_f.blocks.block:snap01 - INFO - adc - Chip 4, Lane 4:    XXXXXXXXXXXXXXXXXXXXXXXXXXXXXXXX----|----XXXXXXXXXXXXXXXXXXXXXXX\n",
      "2022-03-30 11:59:41,916 - lwa_f.blocks.block:snap01 - INFO - adc - Chip 4, Lane 5:    XXXXXXXXXXXXXXXXXXXXXXXXXXXXXXXX----|----XXXXXXXXXXXXXXXXXXXXXXX\n",
      "2022-03-30 11:59:41,917 - lwa_f.blocks.block:snap01 - INFO - adc - Chip 4, Lane 6:    XXXXXXXXXXXXXXXXXXXXXXXXXXXXXXXX---|----XXXXXXXXXXXXXXXXXXXXXXXX\n",
      "2022-03-30 11:59:41,917 - lwa_f.blocks.block:snap01 - INFO - adc - Chip 4, Lane 7:    XXXXXXXXXXXXXXXXXXXXXXXXXXXXXXXX----|----XXXXXXXXXXXXXXXXXXXXXXX\n",
      "2022-03-30 11:59:41,918 - lwa_f.blocks.block:snap01 - INFO - adc - Chip 5, Lane 0:    XXXXXXXXXXXXXXXXXXXXXXXX----|----XXXXXXXXXXXXXXXXXXXXXXXXXXXXXXX\n",
      "2022-03-30 11:59:41,918 - lwa_f.blocks.block:snap01 - INFO - adc - Chip 5, Lane 1:    XXXXXXXXXXXXXXXXXXXXXXXX----|----XXXXXXXXXXXXXXXXXXXXXXXXXXXXXXX\n",
      "2022-03-30 11:59:41,919 - lwa_f.blocks.block:snap01 - INFO - adc - Chip 5, Lane 2:    XXXXXXXXXXXXXXXXXXXXXXXX---|----XXXXXXXXXXXXXXXXXXXXXXXXXXXXXXXX\n",
      "2022-03-30 11:59:41,919 - lwa_f.blocks.block:snap01 - INFO - adc - Chip 5, Lane 3:    XXXXXXXXXXXXXXXXXXXXXXXX---|----XXXXXXXXXXXXXXXXXXXXXXXXXXXXXXXX\n",
      "2022-03-30 11:59:41,919 - lwa_f.blocks.block:snap01 - INFO - adc - Chip 5, Lane 4:    XXXXXXXXXXXXXXXXXXXXXXXX----|----XXXXXXXXXXXXXXXXXXXXXXXXXXXXXXX\n",
      "2022-03-30 11:59:41,920 - lwa_f.blocks.block:snap01 - INFO - adc - Chip 5, Lane 5:    XXXXXXXXXXXXXXXXXXXXXXXX---|----XXXXXXXXXXXXXXXXXXXXXXXXXXXXXXXX\n",
      "2022-03-30 11:59:41,920 - lwa_f.blocks.block:snap01 - INFO - adc - Chip 5, Lane 6:    XXXXXXXXXXXXXXXXXXXXXXXXX----|----XXXXXXXXXXXXXXXXXXXXXXXXXXXXXX\n",
      "2022-03-30 11:59:41,921 - lwa_f.blocks.block:snap01 - INFO - adc - Chip 5, Lane 7:    XXXXXXXXXXXXXXXXXXXXXXXX---|----XXXXXXXXXXXXXXXXXXXXXXXXXXXXXXXX\n",
      "2022-03-30 11:59:41,921 - lwa_f.blocks.block:snap01 - INFO - adc - Chip 6, Lane 0:    XXXXXXXXXXXXXXXXXXXXXXXXXXXXXX----|----XXXXXXXXXXXXXXXXXXXXXXXXX\n"
     ]
    },
    {
     "name": "stdout",
     "output_type": "stream",
     "text": [
      "2022-03-30 11:59:41,922 - lwa_f.blocks.block:snap01 - INFO - adc - Chip 6, Lane 1:    XXXXXXXXXXXXXXXXXXXXXXXXXXXXXX---|---XXXXXXXXXXXXXXXXXXXXXXXXXXX\n",
      "2022-03-30 11:59:41,922 - lwa_f.blocks.block:snap01 - INFO - adc - Chip 6, Lane 2:    XXXXXXXXXXXXXXXXXXXXXXXXXXXXXX---|----XXXXXXXXXXXXXXXXXXXXXXXXXX\n",
      "2022-03-30 11:59:41,923 - lwa_f.blocks.block:snap01 - INFO - adc - Chip 6, Lane 3:    XXXXXXXXXXXXXXXXXXXXXXXXXXXXXXX----|----XXXXXXXXXXXXXXXXXXXXXXXX\n",
      "2022-03-30 11:59:41,923 - lwa_f.blocks.block:snap01 - INFO - adc - Chip 6, Lane 4:    XXXXXXXXXXXXXXXXXXXXXXXXXXXXXX---|----XXXXXXXXXXXXXXXXXXXXXXXXXX\n",
      "2022-03-30 11:59:41,923 - lwa_f.blocks.block:snap01 - INFO - adc - Chip 6, Lane 5:    XXXXXXXXXXXXXXXXXXXXXXXXXXXXXX---|---XXXXXXXXXXXXXXXXXXXXXXXXXXX\n",
      "2022-03-30 11:59:41,924 - lwa_f.blocks.block:snap01 - INFO - adc - Chip 6, Lane 6:    XXXXXXXXXXXXXXXXXXXXXXXXXXXXXX---|---XXXXXXXXXXXXXXXXXXXXXXXXXXX\n",
      "2022-03-30 11:59:41,924 - lwa_f.blocks.block:snap01 - INFO - adc - Chip 6, Lane 7:    XXXXXXXXXXXXXXXXXXXXXXXXXXXXXX---|----XXXXXXXXXXXXXXXXXXXXXXXXXX\n",
      "2022-03-30 11:59:41,925 - lwa_f.blocks.block:snap01 - INFO - adc - Chip 7, Lane 0:    XXXXXXXXXXXXXXXXXXXXXXXXXXXXXXXXXX----|----XXXXXXXXXXXXXXXXXXXXX\n",
      "2022-03-30 11:59:41,925 - lwa_f.blocks.block:snap01 - INFO - adc - Chip 7, Lane 1:    XXXXXXXXXXXXXXXXXXXXXXXXXXXXXXXXXX----|----XXXXXXXXXXXXXXXXXXXXX\n",
      "2022-03-30 11:59:41,926 - lwa_f.blocks.block:snap01 - INFO - adc - Chip 7, Lane 2:    XXXXXXXXXXXXXXXXXXXXXXXXXXXXXXXXXX----|----XXXXXXXXXXXXXXXXXXXXX\n",
      "2022-03-30 11:59:41,926 - lwa_f.blocks.block:snap01 - INFO - adc - Chip 7, Lane 3:    XXXXXXXXXXXXXXXXXXXXXXXXXXXXXXXXXX---|----XXXXXXXXXXXXXXXXXXXXXX\n",
      "2022-03-30 11:59:41,926 - lwa_f.blocks.block:snap01 - INFO - adc - Chip 7, Lane 4:    XXXXXXXXXXXXXXXXXXXXXXXXXXXXXXXXXX---|----XXXXXXXXXXXXXXXXXXXXXX\n",
      "2022-03-30 11:59:41,927 - lwa_f.blocks.block:snap01 - INFO - adc - Chip 7, Lane 5:    XXXXXXXXXXXXXXXXXXXXXXXXXXXXXXXXXX---|----XXXXXXXXXXXXXXXXXXXXXX\n",
      "2022-03-30 11:59:41,927 - lwa_f.blocks.block:snap01 - INFO - adc - Chip 7, Lane 6:    XXXXXXXXXXXXXXXXXXXXXXXXXXXXXXXXXX----|----XXXXXXXXXXXXXXXXXXXXX\n",
      "2022-03-30 11:59:41,928 - lwa_f.blocks.block:snap01 - INFO - adc - Chip 7, Lane 7:    XXXXXXXXXXXXXXXXXXXXXXXXXXXXXXXXXX---|----XXXXXXXXXXXXXXXXXXXXXX\n",
      "2022-03-30 11:59:43,199 - lwa_f.blocks.block:snap01 - ERROR - adc - FMC 1: Data calibration Failure!\n",
      "2022-03-30 11:59:47,001 - lwa_f.snap2_fengine:snap01 - WARNING - Updating telescope time\n",
      "2022-03-30 11:59:48,078 - lwa_f.blocks.block:snap01 - INFO - sync - Loading new telescope time at Wed Mar 30 11:59:49 2022\n",
      "2022-03-30 11:59:52,710 - lwa_f.blocks.block:snap01 - INFO - sync - Detected sync period 536870912.0 (2^29.0) clocks\n",
      "2022-03-30 11:59:55,426 - lwa_f.blocks.block:snap01 - INFO - sync - Loading new telescope time at Wed Mar 30 11:59:58 2022\n",
      "2022-03-30 11:59:58,159 - lwa_f.snap2_fengine:snap01 - INFO - Disabling EQ TVGs...\n",
      "2022-03-30 11:59:58,162 - lwa_f.snap2_fengine:snap01 - INFO - Arming sync generators\n",
      "2022-03-30 11:59:58,227 - lwa_f.blocks.block:snap01 - INFO - packetizer - Full data rate is 50.33 Gbps\n",
      "2022-03-30 11:59:58,228 - lwa_f.blocks.block:snap01 - INFO - packetizer - 0.95 link occupation => Max 0.75 bandwidth sent\n",
      "2022-03-30 11:59:58,228 - lwa_f.blocks.block:snap01 - INFO - packetizer - 0.95 link occupation => Max 3092 channels sent\n",
      "2022-03-30 11:59:58,229 - lwa_f.blocks.block:snap01 - INFO - packetizer - Will allocate 3072 channels in 32 packets\n",
      "2022-03-30 11:59:58,229 - lwa_f.blocks.block:snap01 - INFO - packetizer - Number of words used: 6208\n",
      "2022-03-30 11:59:58,230 - lwa_f.blocks.block:snap01 - INFO - packetizer - Number of words spare: 1984\n",
      "2022-03-30 11:59:58,230 - lwa_f.blocks.block:snap01 - INFO - packetizer - Number of spare chans per packet: 32\n",
      "2022-03-30 11:59:58,230 - lwa_f.blocks.block:snap01 - INFO - packetizer - Using 24 spare chans per packet\n",
      "2022-03-30 11:59:59,423 - lwa_f.snap2_fengine:snap01 - INFO - Enabling Ethernet output\n",
      "2022-03-30 11:59:59,427 - lwa_f.snap2_fengine:snap01 - INFO - Startup of snap01 complete\n"
     ]
    }
   ],
   "source": [
    "for snap2name in snap2names:\n",
    "    lwa_f = snap2_fengine.Snap2Fengine(snap2name)\n",
    "# if there are weird errors, probably need to program. fpgfile is optional argument.\n",
    "#    lwa_f.program(fpgfile=\"/home/ubuntu/proj/lwa-shell/caltech-lwa/snap2_f_200msps_64i_4096c/outputs/snap2_f_200msps_64i_4096c_2022-01-10_2153.fpg\")\n",
    "\n",
    "    lwa_f.cold_start_from_config(feng_config)"
   ]
  },
  {
   "cell_type": "code",
   "execution_count": 5,
   "metadata": {},
   "outputs": [
    {
     "name": "stdout",
     "output_type": "stream",
     "text": [
      "2021-09-29 23:11:26 [WARNING ] Timeout waiting for pipelines to come up after 60.0 seconds\n",
      "2021-09-29 23:11:26 [INFO    ] Setting max data output rate per pipeline to 5000.0 Mbit/s\n",
      "2021-09-29 23:11:26 [INFO    ] Setting pipeline lxdlwagpu02:0 data destination to 10.41.0.25:10001\n",
      "2021-09-29 23:11:46 [INFO    ] Setting pipeline lxdlwagpu02:1 data destination to 10.41.0.25:10001\n",
      "2021-09-29 23:11:56 [INFO    ] Setting pipeline lxdlwagpu02:2 data destination to 10.41.0.41:10001\n",
      "2021-09-29 23:11:56 [INFO    ] Setting pipeline lxdlwagpu02:3 data destination to 10.41.0.41:10001\n",
      "2021-09-29 23:11:56 [INFO    ] Arming correlator core\n",
      "2021-09-29 23:11:57 [INFO    ] All pipelines in 'waiting' state as expected\n",
      "2021-09-29 23:11:57 [INFO    ] Waiting 10 seconds for trigger\n",
      "2021-09-29 23:12:07 [INFO    ] All pipelines in 'running' state as expected\n",
      "2021-09-29 23:12:07 [INFO    ] Arming correlator accumulator core\n",
      "2021-09-29 23:12:08 [INFO    ] All pipelines in 'waiting' state as expected\n",
      "2021-09-29 23:12:08 [INFO    ] Waiting 10 seconds for trigger\n",
      "2021-09-29 23:12:19 [INFO    ] All pipelines in 'running' state as expected\n"
     ]
    }
   ],
   "source": [
    "lwa_corr = Lwa352CorrelatorControl(xhosts, npipeline_per_host=npipeline)\n",
    "lwa_corr.stop_pipelines()   # maybe not needed?\n",
    "lwa_corr.start_pipelines() \n",
    "lwa_corr.configure_corr(dest_ip=dest_ip, dest_port=dest_port)"
   ]
  },
  {
   "cell_type": "code",
   "execution_count": 6,
   "metadata": {},
   "outputs": [
    {
     "name": "stdout",
     "output_type": "stream",
     "text": [
      "Found 0 slow recorders: \n"
     ]
    },
    {
     "data": {
      "text/plain": [
       "[]"
      ]
     },
     "execution_count": 6,
     "metadata": {},
     "output_type": "execute_result"
    }
   ],
   "source": [
    "rs = ezdr.Lwa352RecorderControl('slow')\n",
    "rs.start()"
   ]
  },
  {
   "cell_type": "markdown",
   "metadata": {},
   "source": [
    "### Read data and visualize/test"
   ]
  },
  {
   "cell_type": "code",
   "execution_count": null,
   "metadata": {},
   "outputs": [],
   "source": []
  },
  {
   "cell_type": "markdown",
   "metadata": {},
   "source": [
    "## Stop"
   ]
  },
  {
   "cell_type": "code",
   "execution_count": 9,
   "metadata": {},
   "outputs": [],
   "source": [
    "rs.stop()\n",
    "lwa_corr.stop_pipelines()"
   ]
  },
  {
   "cell_type": "code",
   "execution_count": null,
   "metadata": {},
   "outputs": [],
   "source": []
  }
 ],
 "metadata": {
  "kernelspec": {
   "display_name": "Python 3",
   "language": "python",
   "name": "python3"
  },
  "language_info": {
   "codemirror_mode": {
    "name": "ipython",
    "version": 3
   },
   "file_extension": ".py",
   "mimetype": "text/x-python",
   "name": "python",
   "nbconvert_exporter": "python",
   "pygments_lexer": "ipython3",
   "version": "3.6.10"
  }
 },
 "nbformat": 4,
 "nbformat_minor": 4
}
