{
 "cells": [
  {
   "cell_type": "code",
   "execution_count": 55,
   "metadata": {},
   "outputs": [],
   "source": [
    "%matplotlib inline"
   ]
  },
  {
   "cell_type": "markdown",
   "metadata": {},
   "source": [
    "# Demonstration of OVRO-LWA Stage 3 M&C\n",
    "\n",
    "## Python APIs\n",
    "1. ARX (Larry, Rick)\n",
    "2. F-engine (Jack)\n",
    "3. X-engine (Jack)\n",
    "4. Data capture (Jayce)"
   ]
  },
  {
   "cell_type": "markdown",
   "metadata": {},
   "source": [
    "## Setup\n",
    "\n",
    "Set up scripts often run on lxdlwacr. lxdlwagpu03 is also ok.\n",
    "\n",
    "Jack recommends:\n",
    "1. Program and initialize SNAPs with lwa_snap_feng_init.py\n",
    "2. Fire up the GPU pipelines with lwa352-start-pipeline.sh (possibly killing existing pipelines first)\n",
    "3. Watch X-engine log files until things are running with names `<hostname>.<pipeline_id>.log`\n",
    "4. Trigger correlator output with lwa352_arm_correlator.py\n",
    "5. Currently, success means 10s integrations sent to lxdlwagpu03 for capture by Jayce's bifrost pipeline. Good logging:\n",
    "\n",
    "`2021-07-08 20:33:17 [INFO    ] CORR OUTPUT >> Sending complete for time_tag 318652171392122880 in 2.12 seconds (381714432 Bytes; 1.44 Gb/s)`\n",
    "\n",
    "Note: \n",
    "* F-engine \"-t\" flag injects test vector. \n",
    "* See also video recording of demo.\n",
    "\n",
    "\n",
    "## Breakdown\n",
    "1. lwa352-stop-pipeline.sh # essentially just a `killall lwa352-pipeline.py`"
   ]
  },
  {
   "cell_type": "code",
   "execution_count": 66,
   "metadata": {},
   "outputs": [
    {
     "name": "stdout",
     "output_type": "stream",
     "text": [
      "/home/ubuntu/ovro_data_recorder\n"
     ]
    }
   ],
   "source": [
    "cd ~/ovro_data_recorder/\n"
   ]
  },
  {
   "cell_type": "code",
   "execution_count": 67,
   "metadata": {},
   "outputs": [],
   "source": [
    "import matplotlib.pyplot as plt\n",
    "import numpy as np\n",
    "\n",
    "from common import ETCD_HOST, ETCD_PORT  #  works in ovro_data_recorder directory"
   ]
  },
  {
   "cell_type": "markdown",
   "metadata": {},
   "source": [
    "## etcd level M&C"
   ]
  },
  {
   "cell_type": "code",
   "execution_count": 68,
   "metadata": {},
   "outputs": [],
   "source": [
    "import etcd3\n",
    "le = etcd3.client(ETCD_HOST, ETCD_PORT)\n",
    "\n",
    "# e.g., print a key:\n",
    "# -- \"le.get('/cmd/arx/2')\"\n",
    "# -- \"le.get('/mon/snap/1')\""
   ]
  },
  {
   "cell_type": "markdown",
   "metadata": {},
   "source": [
    "## ARX M&C\n",
    "\n",
    "* Repo forthcoming \"lwa-pyutils\""
   ]
  },
  {
   "cell_type": "code",
   "execution_count": 69,
   "metadata": {},
   "outputs": [
    {
     "name": "stdout",
     "output_type": "stream",
     "text": [
      "/home/ubuntu/anaconda3/envs/casa/lib/python3.6/site-packages/lwautils/conf/etcdConfig.yml\n"
     ]
    }
   ],
   "source": [
    "import lwautils.lwa_arx as arx\n",
    "\n",
    "ma = arx.ARX()"
   ]
  },
  {
   "cell_type": "code",
   "execution_count": 70,
   "metadata": {},
   "outputs": [
    {
     "data": {
      "text/plain": [
       "{'sig_on': False,\n",
       " 'narrow_lpf': False,\n",
       " 'narrow_hpf': True,\n",
       " 'first_atten': 31.5,\n",
       " 'second_atten': 31.5,\n",
       " 'dc_on': False}"
      ]
     },
     "execution_count": 70,
     "metadata": {},
     "output_type": "execute_result"
    }
   ],
   "source": [
    "ma.get_chan_cfg(21, 0)"
   ]
  },
  {
   "cell_type": "markdown",
   "metadata": {},
   "source": [
    "## F-engine M&C\n",
    "\n",
    "* Repo https://github.com/realtimeradio/caltech-lwa\n",
    "* python install \"control_sw\""
   ]
  },
  {
   "cell_type": "code",
   "execution_count": 71,
   "metadata": {},
   "outputs": [
    {
     "name": "stdout",
     "output_type": "stream",
     "text": [
      "2021-07-13 21:51:57,360 - lwa_f.blocks.block:snap01 - INFO - adc - Detected FMC ADC board on port 0\n",
      "2021-07-13 21:51:57,743 - lwa_f.blocks.block:snap01 - INFO - adc - Detected FMC ADC board on port 1\n"
     ]
    }
   ],
   "source": [
    "from lwa_f import snap2_fengine\n",
    "lwa_f = snap2_fengine.Snap2Fengine('snap01')"
   ]
  },
  {
   "cell_type": "code",
   "execution_count": 72,
   "metadata": {},
   "outputs": [
    {
     "name": "stdout",
     "output_type": "stream",
     "text": [
      "adc\n",
      "autocorr\n",
      "corr\n",
      "delay\n",
      "eq\n",
      "eqtvg\n",
      "eth\n",
      "fpga\n",
      "input\n",
      "noise\n",
      "packetizer\n",
      "pfb\n",
      "powermon\n",
      "reorder\n",
      "sync\n"
     ]
    }
   ],
   "source": [
    "for block in sorted(lwa_f.blocks.keys()):\n",
    "    print(block)"
   ]
  },
  {
   "cell_type": "code",
   "execution_count": 73,
   "metadata": {},
   "outputs": [
    {
     "name": "stdout",
     "output_type": "stream",
     "text": [
      "\u001b[32mtvg_enabled: False\u001b[0m\n"
     ]
    }
   ],
   "source": [
    "lwa_f.eqtvg.print_status()"
   ]
  },
  {
   "cell_type": "code",
   "execution_count": 96,
   "metadata": {
    "scrolled": false
   },
   "outputs": [
    {
     "name": "stdout",
     "output_type": "stream",
     "text": [
      "\u001b[33mmean00: -4.0044403076171875\u001b[0m\n",
      "\u001b[32mmean01: 1.0017242431640625\u001b[0m\n",
      "\u001b[32mmean02: -1.9198760986328125\u001b[0m\n",
      "\u001b[32mmean03: 0.0\u001b[0m\n",
      "\u001b[33mmean04: 2.0027618408203125\u001b[0m\n",
      "\u001b[32mmean05: 1.9979400634765625\u001b[0m\n",
      "\u001b[32mmean06: -0.0007476806640625\u001b[0m\n",
      "\u001b[32mmean07: 0.817108154296875\u001b[0m\n",
      "\u001b[33mmean08: -2.000030517578125\u001b[0m\n",
      "\u001b[32mmean09: -1.0\u001b[0m\n",
      "\u001b[32mmean10: 0.4691009521484375\u001b[0m\n",
      "\u001b[32mmean11: 0.815643310546875\u001b[0m\n",
      "\u001b[32mmean12: -1.9993438720703125\u001b[0m\n",
      "\u001b[32mmean13: 0.3193359375\u001b[0m\n",
      "\u001b[32mmean14: -0.999542236328125\u001b[0m\n",
      "\u001b[33mmean15: -2.0081634521484375\u001b[0m\n",
      "\u001b[33mmean16: -3.1215667724609375\u001b[0m\n",
      "\u001b[32mmean17: -1.3577880859375\u001b[0m\n",
      "\u001b[32mmean18: 0.499664306640625\u001b[0m\n",
      "\u001b[32mmean19: 1.0000457763671875\u001b[0m\n",
      "\u001b[32mmean20: 0.775665283203125\u001b[0m\n",
      "\u001b[32mmean21: -1.0000152587890625\u001b[0m\n",
      "\u001b[32mmean22: -0.032470703125\u001b[0m\n",
      "\u001b[32mmean23: -0.08148193359375\u001b[0m\n",
      "\u001b[33mmean24: -3.0\u001b[0m\n",
      "\u001b[32mmean25: 1.498565673828125\u001b[0m\n",
      "\u001b[32mmean26: 0.658111572265625\u001b[0m\n",
      "\u001b[32mmean27: 0.0002899169921875\u001b[0m\n",
      "\u001b[32mmean28: -0.9962921142578125\u001b[0m\n",
      "\u001b[32mmean29: -1.3021240234375\u001b[0m\n",
      "\u001b[32mmean30: 1.7685699462890625\u001b[0m\n",
      "\u001b[32mmean31: 0.1537322998046875\u001b[0m\n",
      "\u001b[32mmean32: -0.0001068115234375\u001b[0m\n",
      "\u001b[32mmean33: 1.0\u001b[0m\n",
      "\u001b[32mmean34: -1.0\u001b[0m\n",
      "\u001b[32mmean35: -1.889007568359375\u001b[0m\n",
      "\u001b[32mmean36: -0.519866943359375\u001b[0m\n",
      "\u001b[33mmean37: -2.0364532470703125\u001b[0m\n",
      "\u001b[32mmean38: -1.9996795654296875\u001b[0m\n",
      "\u001b[32mmean39: 1.0\u001b[0m\n",
      "\u001b[32mmean40: -0.64105224609375\u001b[0m\n",
      "\u001b[32mmean41: -1.0\u001b[0m\n",
      "\u001b[33mmean42: -2.3031005859375\u001b[0m\n",
      "\u001b[32mmean43: 1.0\u001b[0m\n",
      "\u001b[32mmean44: 0.017120361328125\u001b[0m\n",
      "\u001b[33mmean45: -2.987945556640625\u001b[0m\n",
      "\u001b[32mmean46: -1.5105438232421875\u001b[0m\n",
      "\u001b[33mmean47: 2.999969482421875\u001b[0m\n",
      "\u001b[32mmean48: -1.0\u001b[0m\n",
      "\u001b[32mmean49: 0.9999847412109375\u001b[0m\n",
      "\u001b[33mmean50: 2.0003204345703125\u001b[0m\n",
      "\u001b[33mmean51: 4.0\u001b[0m\n",
      "\u001b[32mmean52: -0.887298583984375\u001b[0m\n",
      "\u001b[32mmean53: 0.6728668212890625\u001b[0m\n",
      "\u001b[32mmean54: -0.4937896728515625\u001b[0m\n",
      "\u001b[32mmean55: -1.7433929443359375\u001b[0m\n",
      "\u001b[32mmean56: -1.0681915283203125\u001b[0m\n",
      "\u001b[33mmean57: -2.082611083984375\u001b[0m\n",
      "\u001b[32mmean58: -0.924285888671875\u001b[0m\n",
      "\u001b[33mmean59: 3.0932464599609375\u001b[0m\n",
      "\u001b[33mmean60: -3.0\u001b[0m\n",
      "\u001b[32mmean61: 1.000091552734375\u001b[0m\n",
      "\u001b[33mmean62: 2.1447906494140625\u001b[0m\n",
      "\u001b[32mmean63: 1.001007080078125\u001b[0m\n",
      "\u001b[32mpower00: 16.039962768554688\u001b[0m\n",
      "\u001b[32mpower01: 1.0051727294921875\u001b[0m\n",
      "\u001b[32mpower02: 3.7596282958984375\u001b[0m\n",
      "\u001b[32mpower03: 0.0\u001b[0m\n",
      "\u001b[32mpower04: 327.3041534423828\u001b[0m\n",
      "\u001b[32mpower05: 3.9938201904296875\u001b[0m\n",
      "\u001b[32mpower06: 0.0007781982421875\u001b[0m\n",
      "\u001b[32mpower07: 8.2635498046875\u001b[0m\n",
      "\u001b[32mpower08: 4.000152587890625\u001b[0m\n",
      "\u001b[32mpower09: 1.0\u001b[0m\n",
      "\u001b[32mpower10: 0.4691009521484375\u001b[0m\n",
      "\u001b[32mpower11: 0.815643310546875\u001b[0m\n",
      "\u001b[32mpower12: 3.9980316162109375\u001b[0m\n",
      "\u001b[32mpower13: 0.3193359375\u001b[0m\n",
      "\u001b[32mpower14: 0.999542236328125\u001b[0m\n",
      "\u001b[32mpower15: 4.0408172607421875\u001b[0m\n",
      "\u001b[32mpower16: 16.420578002929688\u001b[0m\n",
      "\u001b[32mpower17: 8.104278564453125\u001b[0m\n",
      "\u001b[32mpower18: 0.499664306640625\u001b[0m\n",
      "\u001b[32mpower19: 1.0001373291015625\u001b[0m\n",
      "\u001b[32mpower20: 0.775665283203125\u001b[0m\n",
      "\u001b[32mpower21: 1.0000457763671875\u001b[0m\n",
      "\u001b[32mpower22: 0.032470703125\u001b[0m\n",
      "\u001b[32mpower23: 0.08148193359375\u001b[0m\n",
      "\u001b[32mpower24: 9.0\u001b[0m\n",
      "\u001b[32mpower25: 2.495697021484375\u001b[0m\n",
      "\u001b[32mpower26: 0.658111572265625\u001b[0m\n",
      "\u001b[32mpower27: 0.0002899169921875\u001b[0m\n",
      "\u001b[32mpower28: 0.9962921142578125\u001b[0m\n",
      "\u001b[32mpower29: 1.9063720703125\u001b[0m\n",
      "\u001b[32mpower30: 11.019882202148438\u001b[0m\n",
      "\u001b[32mpower31: 7.9260101318359375\u001b[0m\n",
      "\u001b[32mpower32: 0.0001068115234375\u001b[0m\n",
      "\u001b[32mpower33: 1.0\u001b[0m\n",
      "\u001b[32mpower34: 1.0\u001b[0m\n",
      "\u001b[32mpower35: 3.667022705078125\u001b[0m\n",
      "\u001b[32mpower36: 7.320953369140625\u001b[0m\n",
      "\u001b[32mpower37: 12.706802368164062\u001b[0m\n",
      "\u001b[32mpower38: 3.9990386962890625\u001b[0m\n",
      "\u001b[32mpower39: 1.0\u001b[0m\n",
      "\u001b[32mpower40: 0.64105224609375\u001b[0m\n",
      "\u001b[32mpower41: 1.0\u001b[0m\n",
      "\u001b[32mpower42: 5.5155029296875\u001b[0m\n",
      "\u001b[32mpower43: 1.0\u001b[0m\n",
      "\u001b[32mpower44: 0.0181884765625\u001b[0m\n",
      "\u001b[32mpower45: 8.939727783203125\u001b[0m\n",
      "\u001b[32mpower46: 2.5316314697265625\u001b[0m\n",
      "\u001b[32mpower47: 8.999847412109375\u001b[0m\n",
      "\u001b[32mpower48: 1.0\u001b[0m\n",
      "\u001b[32mpower49: 0.9999847412109375\u001b[0m\n",
      "\u001b[32mpower50: 4.0016021728515625\u001b[0m\n",
      "\u001b[32mpower51: 16.0\u001b[0m\n",
      "\u001b[32mpower52: 7.144805908203125\u001b[0m\n",
      "\u001b[32mpower53: 6.8474273681640625\u001b[0m\n",
      "\u001b[32mpower54: 8.575790405273438\u001b[0m\n",
      "\u001b[32mpower55: 11.028945922851562\u001b[0m\n",
      "\u001b[32mpower56: 9.307693481445312\u001b[0m\n",
      "\u001b[32mpower57: 11.361175537109375\u001b[0m\n",
      "\u001b[32mpower58: 8.696197509765625\u001b[0m\n",
      "\u001b[32mpower59: 16.110641479492188\u001b[0m\n",
      "\u001b[32mpower60: 9.0\u001b[0m\n",
      "\u001b[32mpower61: 1.000274658203125\u001b[0m\n",
      "\u001b[32mpower62: 4.7239532470703125\u001b[0m\n",
      "\u001b[32mpower63: 1.003021240234375\u001b[0m\n",
      "\u001b[33mrms00: 4.004992230773325\u001b[0m\n",
      "\u001b[33mrms01: 1.0025830287273905\u001b[0m\n",
      "\u001b[33mrms02: 1.938976094720726\u001b[0m\n",
      "\u001b[33mrms03: 0.0\u001b[0m\n",
      "\u001b[32mrms04: 18.091549227260302\u001b[0m\n",
      "\u001b[33mrms05: 1.998454450426551\u001b[0m\n",
      "\u001b[33mrms06: 0.02789620479899551\u001b[0m\n",
      "\u001b[33mrms07: 2.874639073812137\u001b[0m\n",
      "\u001b[33mrms08: 2.0000381466088655\u001b[0m\n",
      "\u001b[33mrms09: 1.0\u001b[0m\n",
      "\u001b[33mrms10: 0.6849094481378086\u001b[0m\n",
      "\u001b[33mrms11: 0.9031297307402049\u001b[0m\n",
      "\u001b[33mrms12: 1.9995078434982287\u001b[0m\n",
      "\u001b[33mrms13: 0.5650981662507851\u001b[0m\n",
      "\u001b[33mrms14: 0.9997710919646182\u001b[0m\n",
      "\u001b[33mrms15: 2.0101784151517963\u001b[0m\n",
      "\u001b[33mrms16: 4.052231237593641\u001b[0m\n",
      "\u001b[33mrms17: 2.846801462071622\u001b[0m\n",
      "\u001b[33mrms18: 0.7068693702804112\u001b[0m\n",
      "\u001b[33mrms19: 1.0000686621935329\u001b[0m\n",
      "\u001b[33mrms20: 0.880718617495466\u001b[0m\n",
      "\u001b[33mrms21: 1.0000228879216653\u001b[0m\n",
      "\u001b[33mrms22: 0.1801962905417312\u001b[0m\n",
      "\u001b[33mrms23: 0.2854504047882048\u001b[0m\n",
      "\u001b[33mrms24: 3.0\u001b[0m\n",
      "\u001b[33mrms25: 1.5797775227810955\u001b[0m\n",
      "\u001b[33mrms26: 0.8112407609739695\u001b[0m\n",
      "\u001b[33mrms27: 0.017026948998205758\u001b[0m\n",
      "\u001b[33mrms28: 0.9981443353833215\u001b[0m\n",
      "\u001b[33mrms29: 1.3807143333479595\u001b[0m\n",
      "\u001b[33mrms30: 3.319620791920131\u001b[0m\n",
      "\u001b[33mrms31: 2.8153170570711814\u001b[0m\n",
      "\u001b[33mrms32: 0.010334966058846057\u001b[0m\n",
      "\u001b[33mrms33: 1.0\u001b[0m\n",
      "\u001b[33mrms34: 1.0\u001b[0m\n",
      "\u001b[33mrms35: 1.914947180754113\u001b[0m\n",
      "\u001b[33mrms36: 2.70572603364432\u001b[0m\n",
      "\u001b[33mrms37: 3.5646602037451007\u001b[0m\n",
      "\u001b[33mrms38: 1.9997596596313925\u001b[0m\n",
      "\u001b[33mrms39: 1.0\u001b[0m\n",
      "\u001b[33mrms40: 0.8006573837127526\u001b[0m\n",
      "\u001b[33mrms41: 1.0\u001b[0m\n",
      "\u001b[33mrms42: 2.3485107897745543\u001b[0m\n",
      "\u001b[33mrms43: 1.0\u001b[0m\n",
      "\u001b[33mrms44: 0.13486466016900053\u001b[0m\n",
      "\u001b[33mrms45: 2.9899377557405984\u001b[0m\n",
      "\u001b[33mrms46: 1.5911101375224037\u001b[0m\n",
      "\u001b[33mrms47: 2.999974568577103\u001b[0m\n",
      "\u001b[33mrms48: 1.0\u001b[0m\n",
      "\u001b[33mrms49: 0.9999923705763647\u001b[0m\n",
      "\u001b[33mrms50: 2.0004005031122047\u001b[0m\n",
      "\u001b[33mrms51: 4.0\u001b[0m\n",
      "\u001b[33mrms52: 2.6729769748733574\u001b[0m\n",
      "\u001b[33mrms53: 2.616758943457357\u001b[0m\n",
      "\u001b[33mrms54: 2.928445049044533\u001b[0m\n",
      "\u001b[33mrms55: 3.320985685433101\u001b[0m\n",
      "\u001b[33mrms56: 3.0508512716036016\u001b[0m\n",
      "\u001b[33mrms57: 3.3706342929943283\u001b[0m\n",
      "\u001b[33mrms58: 2.9489315878408617\u001b[0m\n",
      "\u001b[33mrms59: 4.0138063579963825\u001b[0m\n",
      "\u001b[33mrms60: 3.0\u001b[0m\n",
      "\u001b[33mrms61: 1.0001373196732162\u001b[0m\n",
      "\u001b[33mrms62: 2.173465722543218\u001b[0m\n",
      "\u001b[33mrms63: 1.0015094808509677\u001b[0m\n",
      "\u001b[32mswitch_position00: adc\u001b[0m\n",
      "\u001b[32mswitch_position01: adc\u001b[0m\n",
      "\u001b[32mswitch_position02: adc\u001b[0m\n",
      "\u001b[32mswitch_position03: adc\u001b[0m\n",
      "\u001b[32mswitch_position04: adc\u001b[0m\n",
      "\u001b[32mswitch_position05: adc\u001b[0m\n",
      "\u001b[32mswitch_position06: adc\u001b[0m\n",
      "\u001b[32mswitch_position07: adc\u001b[0m\n",
      "\u001b[32mswitch_position08: adc\u001b[0m\n",
      "\u001b[32mswitch_position09: adc\u001b[0m\n",
      "\u001b[32mswitch_position10: adc\u001b[0m\n",
      "\u001b[32mswitch_position11: adc\u001b[0m\n",
      "\u001b[32mswitch_position12: adc\u001b[0m\n",
      "\u001b[32mswitch_position13: adc\u001b[0m\n",
      "\u001b[32mswitch_position14: adc\u001b[0m\n",
      "\u001b[32mswitch_position15: adc\u001b[0m\n",
      "\u001b[32mswitch_position16: adc\u001b[0m\n",
      "\u001b[32mswitch_position17: adc\u001b[0m\n",
      "\u001b[32mswitch_position18: adc\u001b[0m\n",
      "\u001b[32mswitch_position19: adc\u001b[0m\n",
      "\u001b[32mswitch_position20: adc\u001b[0m\n",
      "\u001b[32mswitch_position21: adc\u001b[0m\n",
      "\u001b[32mswitch_position22: adc\u001b[0m\n",
      "\u001b[32mswitch_position23: adc\u001b[0m\n",
      "\u001b[32mswitch_position24: adc\u001b[0m\n",
      "\u001b[32mswitch_position25: adc\u001b[0m\n",
      "\u001b[32mswitch_position26: adc\u001b[0m\n",
      "\u001b[32mswitch_position27: adc\u001b[0m\n",
      "\u001b[32mswitch_position28: adc\u001b[0m\n",
      "\u001b[32mswitch_position29: adc\u001b[0m\n",
      "\u001b[32mswitch_position30: adc\u001b[0m\n",
      "\u001b[32mswitch_position31: adc\u001b[0m\n",
      "\u001b[32mswitch_position32: adc\u001b[0m\n",
      "\u001b[32mswitch_position33: adc\u001b[0m\n",
      "\u001b[32mswitch_position34: adc\u001b[0m\n",
      "\u001b[32mswitch_position35: adc\u001b[0m\n",
      "\u001b[32mswitch_position36: adc\u001b[0m\n",
      "\u001b[32mswitch_position37: adc\u001b[0m\n",
      "\u001b[32mswitch_position38: adc\u001b[0m\n",
      "\u001b[32mswitch_position39: adc\u001b[0m\n",
      "\u001b[32mswitch_position40: adc\u001b[0m\n",
      "\u001b[32mswitch_position41: adc\u001b[0m\n",
      "\u001b[32mswitch_position42: adc\u001b[0m\n",
      "\u001b[32mswitch_position43: adc\u001b[0m\n",
      "\u001b[32mswitch_position44: adc\u001b[0m\n",
      "\u001b[32mswitch_position45: adc\u001b[0m\n",
      "\u001b[32mswitch_position46: adc\u001b[0m\n",
      "\u001b[32mswitch_position47: adc\u001b[0m\n",
      "\u001b[32mswitch_position48: adc\u001b[0m\n",
      "\u001b[32mswitch_position49: adc\u001b[0m\n",
      "\u001b[32mswitch_position50: adc\u001b[0m\n",
      "\u001b[32mswitch_position51: adc\u001b[0m\n",
      "\u001b[32mswitch_position52: adc\u001b[0m\n",
      "\u001b[32mswitch_position53: adc\u001b[0m\n",
      "\u001b[32mswitch_position54: adc\u001b[0m\n",
      "\u001b[32mswitch_position55: adc\u001b[0m\n",
      "\u001b[32mswitch_position56: adc\u001b[0m\n",
      "\u001b[32mswitch_position57: adc\u001b[0m\n",
      "\u001b[32mswitch_position58: adc\u001b[0m\n",
      "\u001b[32mswitch_position59: adc\u001b[0m\n",
      "\u001b[32mswitch_position60: adc\u001b[0m\n",
      "\u001b[32mswitch_position61: adc\u001b[0m\n",
      "\u001b[32mswitch_position62: adc\u001b[0m\n",
      "\u001b[32mswitch_position63: adc\u001b[0m\n"
     ]
    }
   ],
   "source": [
    "lwa_f.input.print_status()"
   ]
  },
  {
   "cell_type": "code",
   "execution_count": 116,
   "metadata": {},
   "outputs": [
    {
     "name": "stdout",
     "output_type": "stream",
     "text": [
      "2021-07-13 21:59:44,055 - lwa_f.blocks.block:snap01 - INFO - input - Getting histogram for stream 4\n"
     ]
    },
    {
     "data": {
      "image/png": "[encoded data removed]",
      "text/plain": [
       "<Figure size 432x288 with 1 Axes>"
      ]
     },
     "metadata": {
      "needs_background": "light"
     },
     "output_type": "display_data"
    }
   ],
   "source": [
    "lwa_f.input.plot_histogram(4)"
   ]
  },
  {
   "cell_type": "code",
   "execution_count": 117,
   "metadata": {},
   "outputs": [],
   "source": [
    "specs = lwa_f.autocorr.get_new_spectra()   # before 4-bit scaling/quantization"
   ]
  },
  {
   "cell_type": "code",
   "execution_count": 118,
   "metadata": {},
   "outputs": [
    {
     "data": {
      "text/plain": [
       "(16, 4096)"
      ]
     },
     "execution_count": 118,
     "metadata": {},
     "output_type": "execute_result"
    }
   ],
   "source": [
    "len(specs), len(specs[0])"
   ]
  },
  {
   "cell_type": "code",
   "execution_count": 120,
   "metadata": {},
   "outputs": [],
   "source": [
    "autospec = lwa_f.corr.get_new_corr(4, 4)  # 8-channel average, normalized by accumulated time/chans"
   ]
  },
  {
   "cell_type": "code",
   "execution_count": 121,
   "metadata": {},
   "outputs": [
    {
     "name": "stderr",
     "output_type": "stream",
     "text": [
      "/home/ubuntu/anaconda3/envs/casa/lib/python3.6/site-packages/numpy/core/_asarray.py:83: ComplexWarning: Casting complex values to real discards the imaginary part\n",
      "  return array(a, dtype, copy=False, order=order)\n"
     ]
    },
    {
     "data": {
      "text/plain": [
       "[<matplotlib.lines.Line2D at 0x7f1b155d2358>]"
      ]
     },
     "execution_count": 121,
     "metadata": {},
     "output_type": "execute_result"
    },
    {
     "data": {
      "image/png": "[encoded data removed]",
      "text/plain": [
       "<Figure size 864x360 with 2 Axes>"
      ]
     },
     "metadata": {
      "needs_background": "light"
     },
     "output_type": "display_data"
    }
   ],
   "source": [
    "fig, (ax0, ax1) = plt.subplots(1,2, figsize=(12,5))\n",
    "ax0.plot(autospec, '.')\n",
    "ax1.plot(np.concatenate(specs), '.')"
   ]
  },
  {
   "cell_type": "code",
   "execution_count": 124,
   "metadata": {},
   "outputs": [],
   "source": [
    "np.savez('spec_auto_4.npz', autospec)"
   ]
  },
  {
   "cell_type": "markdown",
   "metadata": {},
   "source": [
    "## X-engine M&C\n",
    "\n",
    "* Repo https://github.com/realtimeradio/caltech-lwa\n",
    "* python install \"control_sw\"\n",
    "\n",
    "\"/mon/corr/xeng/<hostname>/pipeline/<pid>/corr\" or \"beamform\""
   ]
  },
  {
   "cell_type": "code",
   "execution_count": 86,
   "metadata": {},
   "outputs": [],
   "source": [
    "from lwa352_pipeline_control import Lwa352PipelineControl\n",
    "lwa_x = Lwa352PipelineControl(pipeline_id=0, etcdhost='10.42.0.64', host='lxdlwagpu02')"
   ]
  },
  {
   "cell_type": "code",
   "execution_count": 87,
   "metadata": {},
   "outputs": [
    {
     "data": {
      "text/plain": [
       "{'pid': 31378,\n",
       " 'name': 'Corr',\n",
       " 'cmd': '/home/ubuntu/anaconda3/bin/python /home/ubuntu/anaconda3/bin/lwa352-pipeline.py --nobeamform --ibverbs --gpu 0 --pipelineid 0 --useetcd --etcdhost etcdv3service.sas.pvt --ip 10.41.0.33 --bufgbytes 4 --cores 1,2,3,4,5,6,7,7,7,7,7,7,7 --logfile /home/ubuntu/lxdlwagpu02.0.log ',\n",
       " 'core': 5,\n",
       " 'acquire': 6.818771362304688e-05,\n",
       " 'process': 0.011490821838378906,\n",
       " 'reserve': 1.2636184692382812e-05,\n",
       " 'total': 0.011571645736694336,\n",
       " 'gbps': 225.85204404893352,\n",
       " 'time': 1626213225.1944742,\n",
       " 'time_tag': 1,\n",
       " 'sync_time': 0,\n",
       " 'seq0': 38908387367040,\n",
       " 'chan0': 576,\n",
       " 'nchan': 192,\n",
       " 'system_nchan': 3072,\n",
       " 'fs_hz': 196000000,\n",
       " 'sfreq': 13781250.0,\n",
       " 'bw_hz': 4593750.0,\n",
       " 'nstand': 352,\n",
       " 'npol': 2,\n",
       " 'complex': 'True',\n",
       " 'nbit': 4,\n",
       " 'acc_len': 2400,\n",
       " 'stats': {'xgpu_acc_len': 480,\n",
       "  'state': 'running',\n",
       "  'update_pending': False,\n",
       "  'last_cmd_proc_time': 1626211772.2429035,\n",
       "  'start_time': 38908387367040,\n",
       "  'acc_len': 2400,\n",
       "  'curr_sample': 38908421890080,\n",
       "  'new_start_time': 38908387367040,\n",
       "  'last_cmd_time': 1626211772.2134435,\n",
       "  'last_cmd_response': 0,\n",
       "  'last_end_sample': 38908421888160,\n",
       "  'throughput': 225.85204404893352}}"
      ]
     },
     "execution_count": 87,
     "metadata": {},
     "output_type": "execute_result"
    }
   ],
   "source": [
    "lwa_x.corr.get_bifrost_status()"
   ]
  },
  {
   "cell_type": "code",
   "execution_count": 88,
   "metadata": {},
   "outputs": [
    {
     "data": {
      "text/plain": [
       "{'pid': 31378,\n",
       " 'name': 'CorrAcc',\n",
       " 'cmd': '/home/ubuntu/anaconda3/bin/python /home/ubuntu/anaconda3/bin/lwa352-pipeline.py --nobeamform --ibverbs --gpu 0 --pipelineid 0 --useetcd --etcdhost etcdv3service.sas.pvt --ip 10.41.0.33 --bufgbytes 4 --cores 1,2,3,4,5,6,7,7,7,7,7,7,7 --logfile /home/ubuntu/lxdlwagpu02.0.log ',\n",
       " 'core': 6,\n",
       " 'acquire': 0.08531641960144043,\n",
       " 'process': 0.08074450492858887,\n",
       " 'reserve': 0.00023055076599121094,\n",
       " 'total': 0.1662914752960205,\n",
       " 'gbps': 0.0,\n",
       " 'time': 1626213228.203517,\n",
       " 'time_tag': 1,\n",
       " 'sync_time': 0,\n",
       " 'seq0': 38908387703040,\n",
       " 'chan0': 576,\n",
       " 'nchan': 192,\n",
       " 'system_nchan': 3072,\n",
       " 'fs_hz': 196000000,\n",
       " 'sfreq': 13781250.0,\n",
       " 'bw_hz': 4593750.0,\n",
       " 'nstand': 352,\n",
       " 'npol': 2,\n",
       " 'complex': 'True',\n",
       " 'nbit': 4,\n",
       " 'acc_len': 240000,\n",
       " 'upstream_acc_len': 2400,\n",
       " 'stats': {'state': 'running',\n",
       "  'update_pending': False,\n",
       "  'last_cmd_proc_time': 1626211786.2582088,\n",
       "  'start_time': 38908387703040,\n",
       "  'acc_len': 240000,\n",
       "  'curr_sample': 38908421958240,\n",
       "  'new_start_time': 38908387703040,\n",
       "  'last_cmd_time': 1626211786.2372637,\n",
       "  'last_cmd_response': 0,\n",
       "  'last_end_sample': 38908421780640}}"
      ]
     },
     "execution_count": 88,
     "metadata": {},
     "output_type": "execute_result"
    }
   ],
   "source": [
    "lwa_x.corr_acc.get_bifrost_status()"
   ]
  },
  {
   "cell_type": "code",
   "execution_count": 89,
   "metadata": {},
   "outputs": [
    {
     "data": {
      "text/plain": [
       "1626213231.258558"
      ]
     },
     "execution_count": 89,
     "metadata": {},
     "output_type": "execute_result"
    }
   ],
   "source": [
    "from astropy import time\n",
    "time.Time.now().unix"
   ]
  },
  {
   "cell_type": "markdown",
   "metadata": {},
   "source": [
    "## Data capture M&C"
   ]
  },
  {
   "cell_type": "code",
   "execution_count": 91,
   "metadata": {},
   "outputs": [],
   "source": [
    "import mcs #  works in ovro_data_recorder directory\n",
    "from common import LWATime #  works in ovro_data_recorder directory\n",
    "\n",
    "from datetime import timedelta, datetime\n",
    "\n",
    "c = mcs.Client()\n",
    "mcs_id = 'drvs19'   # data recorder visibilities slow server 19 (end of x-engine IP address)"
   ]
  },
  {
   "cell_type": "code",
   "execution_count": 92,
   "metadata": {},
   "outputs": [],
   "source": [
    "# start\n",
    "t_now = LWATime(datetime.utcnow() + timedelta(seconds=15), format='datetime', scale='utc')\n",
    "mjd_now = int(t_now.mjd)\n",
    "mpm_now = int((t_now.mjd - mjd_now)*86400.0*1000.0)\n",
    "r = c.send_command(mcs_id, 'start', start_mjd=mjd_now, start_mpm=mpm_now)"
   ]
  },
  {
   "cell_type": "code",
   "execution_count": 93,
   "metadata": {},
   "outputs": [],
   "source": [
    "# stop\n",
    "r = c.send_command(mcs_id, 'stop', stop_mjd='now', stop_mpm=0)"
   ]
  },
  {
   "cell_type": "code",
   "execution_count": 94,
   "metadata": {},
   "outputs": [
    {
     "data": {
      "text/plain": [
       "(True,\n",
       " {'sequence_id': 'e0463440e42411ebbabd3cecef0c4411',\n",
       "  'timestamp': 1626213259.7620645,\n",
       "  'status': 'success',\n",
       "  'response': {'filename': '/home/ubuntu/data'}})"
      ]
     },
     "execution_count": 94,
     "metadata": {},
     "output_type": "execute_result"
    }
   ],
   "source": [
    "r\n"
   ]
  },
  {
   "cell_type": "code",
   "execution_count": null,
   "metadata": {},
   "outputs": [],
   "source": []
  }
 ],
 "metadata": {
  "kernelspec": {
   "display_name": "Python 3",
   "language": "python",
   "name": "python3"
  },
  "language_info": {
   "codemirror_mode": {
    "name": "ipython",
    "version": 3
   },
   "file_extension": ".py",
   "mimetype": "text/x-python",
   "name": "python",
   "nbconvert_exporter": "python",
   "pygments_lexer": "ipython3",
   "version": "3.6.10"
  }
 },
 "nbformat": 4,
 "nbformat_minor": 4
}
